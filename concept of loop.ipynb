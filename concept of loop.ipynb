{
 "cells": [
  {
   "cell_type": "markdown",
   "id": "1107b2dc-e46d-478c-8c92-1d748647a91b",
   "metadata": {},
   "source": [
    "#While loop"
   ]
  },
  {
   "cell_type": "markdown",
   "id": "4eaec847-6a9c-421f-9054-7676decc953a",
   "metadata": {},
   "source": [
    "## write a program to print number 1 to 5."
   ]
  },
  {
   "cell_type": "code",
   "execution_count": 13,
   "id": "0060bc39-6bc9-4464-923a-7fce4118bf60",
   "metadata": {},
   "outputs": [
    {
     "name": "stdout",
     "output_type": "stream",
     "text": [
      "1\n",
      "2\n",
      "3\n",
      "4\n",
      "5\n"
     ]
    }
   ],
   "source": [
    "i=1\n",
    "n=5\n",
    "while i<=n:\n",
    "    print(i)\n",
    "    i=i+1"
   ]
  },
  {
   "cell_type": "code",
   "execution_count": null,
   "id": "1c1a2067-13dd-47cb-8c94-6679b6e7b867",
   "metadata": {},
   "outputs": [],
   "source": []
  },
  {
   "cell_type": "markdown",
   "id": "b3c04e09-8f9d-4713-bad4-7f9ac64c1448",
   "metadata": {},
   "source": [
    "## Enter the vlue from the user and make a multiplication table till 10."
   ]
  },
  {
   "cell_type": "code",
   "execution_count": 3,
   "id": "595ffe0a-1083-4c9b-ac2d-421cf0ae325a",
   "metadata": {},
   "outputs": [
    {
     "name": "stdin",
     "output_type": "stream",
     "text": [
      "Enter the value 7\n"
     ]
    },
    {
     "name": "stdout",
     "output_type": "stream",
     "text": [
      "This is the Multiplication Table of 7\n",
      "7\n",
      "14\n",
      "21\n",
      "28\n",
      "35\n",
      "42\n",
      "49\n",
      "56\n",
      "63\n",
      "70\n"
     ]
    }
   ],
   "source": [
    "x=int(input(\"Enter the value\"))\n",
    "print(\"This is the Multiplication Table of\",x)\n",
    "i=1\n",
    "while i<=10:\n",
    "    print(i*x)\n",
    "    i=i+1"
   ]
  },
  {
   "cell_type": "code",
   "execution_count": null,
   "id": "2ab2a3b0-4f68-4551-bc54-80ea5b2f69a8",
   "metadata": {},
   "outputs": [],
   "source": []
  },
  {
   "cell_type": "markdown",
   "id": "c185c4ca-ce39-4fd1-8b20-cd9df83c154f",
   "metadata": {},
   "source": [
    "## Infinite Loop"
   ]
  },
  {
   "cell_type": "code",
   "execution_count": null,
   "id": "fcf155a8-3728-4aa1-9dbb-7f3c561e8bbe",
   "metadata": {},
   "outputs": [],
   "source": [
    "age=32\n",
    "while age>18:\n",
    "    print(\"You can vote\")\n"
   ]
  },
  {
   "cell_type": "markdown",
   "id": "7f60e232-fe14-4365-b330-09a7cdc7b6f8",
   "metadata": {},
   "source": [
    "## write a program to print Hello World 20 times."
   ]
  },
  {
   "cell_type": "code",
   "execution_count": 20,
   "id": "a74b84b7-5022-4961-bb00-2eb6ae24a7da",
   "metadata": {},
   "outputs": [
    {
     "name": "stdout",
     "output_type": "stream",
     "text": [
      "Hello World\n",
      "Hello World\n",
      "Hello World\n",
      "Hello World\n",
      "Hello World\n",
      "Hello World\n",
      "Hello World\n",
      "Hello World\n",
      "Hello World\n",
      "Hello World\n",
      "Hello World\n",
      "Hello World\n",
      "Hello World\n",
      "Hello World\n",
      "Hello World\n",
      "Hello World\n",
      "Hello World\n",
      "Hello World\n",
      "Hello World\n",
      "Hello World\n",
      "Hello World\n",
      "Hello World\n",
      "Hello World\n",
      "Hello World\n",
      "Hello World\n"
     ]
    }
   ],
   "source": [
    "count=0\n",
    "while count<25:\n",
    "    print(\"Hello World\")\n",
    "    count=count+1\n"
   ]
  },
  {
   "cell_type": "markdown",
   "id": "e114c175-d8fd-458c-b75f-81acf2358c95",
   "metadata": {},
   "source": [
    "## using else statement in the while loop"
   ]
  },
  {
   "cell_type": "code",
   "execution_count": 2,
   "id": "618fcae7-90d9-46bf-83f5-836d7fddb99f",
   "metadata": {},
   "outputs": [
    {
     "name": "stdout",
     "output_type": "stream",
     "text": [
      "Hello World\n",
      "Hello World\n",
      "Hello World\n",
      "Hello World\n",
      "Hello World\n",
      "Hello World\n",
      "Hello World\n",
      "Hello World\n",
      "Hello World\n",
      "Hello World\n",
      "Hello World\n",
      "Hello World\n",
      "Hello World\n",
      "Hello World\n",
      "Hello World\n",
      "this is the else block\n"
     ]
    }
   ],
   "source": [
    "count=0\n",
    "while count<15:\n",
    "    print(\"Hello World\")\n",
    "    count=count+1\n",
    "else:\n",
    "    print(\"this is the else block\")"
   ]
  },
  {
   "cell_type": "markdown",
   "id": "d586e54d-980c-4fd3-b904-802cb0e76a3c",
   "metadata": {},
   "source": [
    "## write a program to find the exponent of the number"
   ]
  },
  {
   "cell_type": "code",
   "execution_count": 15,
   "id": "8dadef02-60e3-4eed-a25e-e5fbcba13a75",
   "metadata": {},
   "outputs": [
    {
     "name": "stdin",
     "output_type": "stream",
     "text": [
      "Enter the Number 5\n"
     ]
    },
    {
     "name": "stdout",
     "output_type": "stream",
     "text": [
      "0\n",
      "1\n",
      "4\n",
      "9\n",
      "16\n",
      "25\n"
     ]
    }
   ],
   "source": [
    "n=int(input(\"Enter the Number\"))\n",
    "i=0\n",
    "while i<=n:\n",
    "    print(i**2)\n",
    "    i=i+1"
   ]
  },
  {
   "cell_type": "code",
   "execution_count": null,
   "id": "df8d5141-6ba1-44bc-9519-e1a9dcf1ed74",
   "metadata": {},
   "outputs": [],
   "source": []
  },
  {
   "cell_type": "code",
   "execution_count": null,
   "id": "87d39a88-f9ed-4737-a83a-b7c52f94b49b",
   "metadata": {},
   "outputs": [],
   "source": []
  },
  {
   "cell_type": "markdown",
   "id": "decaaaa4-1a24-41e4-8edb-03d45f7870d5",
   "metadata": {},
   "source": [
    "## for Loop"
   ]
  },
  {
   "cell_type": "code",
   "execution_count": 4,
   "id": "01f1947e-52f4-42c5-899a-0a9ad8b2d9d3",
   "metadata": {},
   "outputs": [
    {
     "name": "stdout",
     "output_type": "stream",
     "text": [
      "Apple\n",
      "Banana\n",
      "Strawberry\n"
     ]
    }
   ],
   "source": [
    "fruit = [\"Apple\",\"Banana\", \"Strawberry\"]\n",
    "for x in fruit:\n",
    "    print(x)"
   ]
  },
  {
   "cell_type": "markdown",
   "id": "3d280d5f-6034-491b-85cd-c846345740a1",
   "metadata": {},
   "source": [
    "## Looping Through String"
   ]
  },
  {
   "cell_type": "code",
   "execution_count": 7,
   "id": "9bc5d8a0-be77-49cf-bec5-b498a011fe26",
   "metadata": {},
   "outputs": [
    {
     "name": "stdout",
     "output_type": "stream",
     "text": [
      "A\n",
      "p\n",
      "p\n",
      "l\n",
      "e\n"
     ]
    }
   ],
   "source": [
    "for x in \"Apple\":\n",
    "    print(x)"
   ]
  },
  {
   "cell_type": "markdown",
   "id": "7c530c27-63fd-4a50-95a1-62c6f92023e9",
   "metadata": {},
   "source": [
    "## Looping Through Integer & Range"
   ]
  },
  {
   "cell_type": "markdown",
   "id": "349ea446-7fa6-4d47-9556-bd61d679aaf3",
   "metadata": {},
   "source": [
    "The Range() function to loop through a set of code specified number of times, we can use the range() function, the range() function return a sequence of number, starting from 0 by default, and increments by 1(by default), and ends at a specified number.  "
   ]
  },
  {
   "cell_type": "code",
   "execution_count": 8,
   "id": "8aa0e43b-9227-4b79-9477-171cae4ff73b",
   "metadata": {},
   "outputs": [
    {
     "name": "stdout",
     "output_type": "stream",
     "text": [
      "0\n",
      "1\n",
      "2\n",
      "3\n",
      "4\n",
      "5\n",
      "6\n",
      "7\n",
      "8\n",
      "9\n",
      "10\n",
      "11\n",
      "12\n",
      "13\n",
      "14\n",
      "15\n",
      "16\n",
      "17\n",
      "18\n",
      "19\n",
      "20\n",
      "21\n",
      "22\n",
      "23\n",
      "24\n"
     ]
    }
   ],
   "source": [
    "#print number from 0-25\n",
    "for x in range(25):\n",
    "    print(x)"
   ]
  },
  {
   "cell_type": "code",
   "execution_count": 11,
   "id": "821ee9b1-2803-4956-9c37-5237022cc402",
   "metadata": {},
   "outputs": [
    {
     "name": "stdout",
     "output_type": "stream",
     "text": [
      "2\n",
      "3\n",
      "4\n",
      "5\n",
      "6\n",
      "7\n",
      "8\n",
      "9\n",
      "10\n",
      "11\n",
      "12\n",
      "13\n",
      "14\n"
     ]
    }
   ],
   "source": [
    "#print number from 2 to 15 in range.\n",
    "for x in range(2,15):\n",
    "    print(x)"
   ]
  },
  {
   "cell_type": "markdown",
   "id": "679b75e8-a4fd-4327-acaa-809cfc5c01a5",
   "metadata": {},
   "source": [
    "## Else in for Loop"
   ]
  },
  {
   "cell_type": "code",
   "execution_count": 17,
   "id": "27f2aaf3-09ca-4e06-9e9c-653770a8a10b",
   "metadata": {},
   "outputs": [
    {
     "name": "stdout",
     "output_type": "stream",
     "text": [
      "0\n",
      "1\n",
      "2\n",
      "3\n",
      "4\n",
      "5\n",
      "6\n",
      "7\n",
      "8\n",
      "9\n",
      "10\n",
      "11\n",
      "12\n",
      "13\n",
      "14\n",
      "15\n",
      "16\n",
      "17\n",
      "18\n",
      "19\n",
      "20\n",
      "21\n",
      "22\n",
      "23\n",
      "24\n",
      "Finished\n"
     ]
    }
   ],
   "source": [
    "for x in range(25):\n",
    "    print(x)\n",
    "else:\n",
    "    print(\"Finished\")"
   ]
  },
  {
   "cell_type": "markdown",
   "id": "1bfbfeff-1d71-4464-a5f4-2f23708e6b7a",
   "metadata": {},
   "source": [
    "Q. Write a program to print the square number till 10."
   ]
  },
  {
   "cell_type": "code",
   "execution_count": 30,
   "id": "e76d5345-5bfa-4c69-98b8-29ff04ba84f4",
   "metadata": {},
   "outputs": [
    {
     "name": "stdout",
     "output_type": "stream",
     "text": [
      "1\n",
      "2\n",
      "3\n",
      "4\n",
      "5\n",
      "6\n",
      "7\n",
      "8\n",
      "9\n",
      "10\n",
      "[0, 1, 4, 9, 16, 25, 36, 49, 64, 81]\n"
     ]
    }
   ],
   "source": [
    "l =[]\n",
    "for i in range(10):\n",
    "    print(i+1)\n",
    "    l.append(i**2)\n",
    "print(l)\n"
   ]
  },
  {
   "cell_type": "markdown",
   "id": "7a7e29f6-dc17-47c7-b212-5d34607024b9",
   "metadata": {},
   "source": [
    "   "
   ]
  },
  {
   "cell_type": "markdown",
   "id": "a1c4e1f9-5e85-4c99-8ed4-e5561d3f5e7a",
   "metadata": {},
   "source": [
    "Q. Write a program to seprate negative and positve number from the list\n",
    "\n",
    "L=[24,-15,17,6,-18,19,-25,45,-97,26,10]\n"
   ]
  },
  {
   "cell_type": "code",
   "execution_count": 38,
   "id": "ec38d4cc-e2eb-4f54-bf9e-852a09343223",
   "metadata": {},
   "outputs": [
    {
     "name": "stdout",
     "output_type": "stream",
     "text": [
      "Positive Number: [24, 17, 6, 19, 45, 26, 10]\n",
      "Negative Number: [-15, -18, -25, -97]\n"
     ]
    }
   ],
   "source": [
    "L=[24,-15,17,6,-18,19,-25,45,-97,26,10]\n",
    "L1=[]\n",
    "L2=[]\n",
    "for i in range(11):\n",
    "    if L[i]>=0:\n",
    "        L1.append(L[i])\n",
    "    else:\n",
    "        L2.append(L[i])\n",
    "   \n",
    "print(\"Positive Number:\",L1)\n",
    "print(\"Negative Number:\",L2)"
   ]
  },
  {
   "cell_type": "code",
   "execution_count": null,
   "id": "9fbb0233-0230-46ab-b9c5-a6ab90f8d3ac",
   "metadata": {},
   "outputs": [],
   "source": []
  },
  {
   "cell_type": "markdown",
   "id": "9a2229a0-5412-4810-950c-9338ac64353a",
   "metadata": {},
   "source": [
    "Q. write a program to seprate the number below 50 and above 50 from the given list.\n",
    "\n",
    "List=[24,15,17,76,18,19,65,45,97,26,10, 54, 67, 63,90]\n"
   ]
  },
  {
   "cell_type": "code",
   "execution_count": 42,
   "id": "d4c739ef-b00e-4fd8-bdf4-0307722c3cc4",
   "metadata": {},
   "outputs": [
    {
     "name": "stdout",
     "output_type": "stream",
     "text": [
      "Below 50: [24, 15, 17, 18, 19, 45, 26, 10]\n",
      "Above 50: [76, 65, 97, 54, 67, 63, 90]\n"
     ]
    }
   ],
   "source": [
    "L=[24,15,17,76,18,19,65,45,97,26,10, 54, 67, 63,90]\n",
    "L1=[]\n",
    "L2=[]\n",
    "for i in range(15):\n",
    "    if L[i]<=50:\n",
    "        L1.append(L[i])\n",
    "    else:\n",
    "        L2.append(L[i])\n",
    "   \n",
    "print(\"Below 50:\",L1)\n",
    "print(\"Above 50:\",L2)"
   ]
  },
  {
   "cell_type": "markdown",
   "id": "02742ebf-402c-4425-88c1-0a1e366241a2",
   "metadata": {},
   "source": [
    "    "
   ]
  },
  {
   "cell_type": "code",
   "execution_count": null,
   "id": "2a247000-4472-4bfe-a985-09c6795f8c6a",
   "metadata": {},
   "outputs": [],
   "source": []
  },
  {
   "cell_type": "markdown",
   "id": "992984ab-5368-41d4-9493-dd6339595bb4",
   "metadata": {},
   "source": [
    "## Break Statement"
   ]
  },
  {
   "cell_type": "markdown",
   "id": "436e26eb-02b0-45d3-b53d-7f96180017e8",
   "metadata": {},
   "source": [
    "We can use the break statement with the for loop to terminate the loop when a certain conditoin."
   ]
  },
  {
   "cell_type": "code",
   "execution_count": 47,
   "id": "c571e032-3b24-4a61-804b-5a37bb4220fa",
   "metadata": {},
   "outputs": [
    {
     "name": "stdout",
     "output_type": "stream",
     "text": [
      "0\n",
      "1\n"
     ]
    }
   ],
   "source": [
    "for i in range(5):\n",
    "    if i == 2:\n",
    "        break\n",
    "    print(i)"
   ]
  },
  {
   "cell_type": "code",
   "execution_count": null,
   "id": "b21c65d3-c7b8-424e-bdcc-648125c06f5e",
   "metadata": {},
   "outputs": [],
   "source": []
  },
  {
   "cell_type": "markdown",
   "id": "635b7322-27ab-4d1d-84d9-ecf54ad3b86d",
   "metadata": {},
   "source": [
    "## Continue Statement"
   ]
  },
  {
   "cell_type": "markdown",
   "id": "3b9a63dd-5de7-44af-9f77-99a9c3c37952",
   "metadata": {},
   "source": [
    "The continue statement used to skip the current iteration of the loop and the control flow of the program goes to next iteration."
   ]
  },
  {
   "cell_type": "code",
   "execution_count": 51,
   "id": "e72a6c12-1960-4317-a4c5-65bd9d7b46e6",
   "metadata": {},
   "outputs": [
    {
     "name": "stdout",
     "output_type": "stream",
     "text": [
      "0\n",
      "1\n",
      "2\n",
      "4\n",
      "Hello I'm Nishant\n"
     ]
    }
   ],
   "source": [
    "for i in range(5):\n",
    "    if i == 3:\n",
    "        continue\n",
    "    print(i)\n",
    "print(\"Hello I'm Nishant\")"
   ]
  },
  {
   "cell_type": "code",
   "execution_count": null,
   "id": "307e75f5-4226-4676-bf6d-13017531aa25",
   "metadata": {},
   "outputs": [],
   "source": []
  }
 ],
 "metadata": {
  "kernelspec": {
   "display_name": "Python 3 (ipykernel)",
   "language": "python",
   "name": "python3"
  },
  "language_info": {
   "codemirror_mode": {
    "name": "ipython",
    "version": 3
   },
   "file_extension": ".py",
   "mimetype": "text/x-python",
   "name": "python",
   "nbconvert_exporter": "python",
   "pygments_lexer": "ipython3",
   "version": "3.11.7"
  },
  "widgets": {
   "application/vnd.jupyter.widget-state+json": {
    "state": {},
    "version_major": 2,
    "version_minor": 0
   }
  }
 },
 "nbformat": 4,
 "nbformat_minor": 5
}
