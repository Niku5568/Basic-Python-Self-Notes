{
 "cells": [
  {
   "cell_type": "markdown",
   "id": "1101908b-d66a-4c05-8098-86c2558d1afc",
   "metadata": {},
   "source": [
    "# Functions: "
   ]
  },
  {
   "cell_type": "markdown",
   "id": "2ade102c-f419-41f0-ad64-4a8086aaa4c6",
   "metadata": {},
   "source": [
    "# Create user defined function:"
   ]
  },
  {
   "cell_type": "code",
   "execution_count": 3,
   "id": "1499d0a7-e9e3-4fd9-95cb-0d8c60c6edbe",
   "metadata": {},
   "outputs": [],
   "source": [
    "def hello():\n",
    "    print(\"i am hello\")\n",
    "    x=10\n",
    "    print(x)"
   ]
  },
  {
   "cell_type": "markdown",
   "id": "f4d60b95-453c-41ee-88e2-56702bca21b2",
   "metadata": {},
   "source": [
    "# calling function"
   ]
  },
  {
   "cell_type": "code",
   "execution_count": 4,
   "id": "f72ff8bd-f47c-476d-99eb-c617cec5a902",
   "metadata": {},
   "outputs": [
    {
     "name": "stdout",
     "output_type": "stream",
     "text": [
      "i am hello\n",
      "10\n"
     ]
    }
   ],
   "source": [
    "hello()"
   ]
  },
  {
   "cell_type": "code",
   "execution_count": 7,
   "id": "576c93e0-e95d-47da-a1d2-4d0a228867b5",
   "metadata": {},
   "outputs": [],
   "source": [
    "def add(a,b):\n",
    "    add=a+b\n",
    "    print(add)"
   ]
  },
  {
   "cell_type": "code",
   "execution_count": 8,
   "id": "065526eb-d536-44d7-93dc-63badebbc6b4",
   "metadata": {},
   "outputs": [
    {
     "name": "stdout",
     "output_type": "stream",
     "text": [
      "30\n"
     ]
    }
   ],
   "source": [
    "add(10,20)"
   ]
  },
  {
   "cell_type": "code",
   "execution_count": 12,
   "id": "3ba542e2-d9f2-4e79-9152-6c2bf0417a9e",
   "metadata": {},
   "outputs": [],
   "source": [
    "def multiply(a,b=2): # b=2 are default value if value not assign to \"b\" it will become 2.\n",
    "    mul=a*b\n",
    "    print(mul)"
   ]
  },
  {
   "cell_type": "code",
   "execution_count": 13,
   "id": "d0a5801d-b9c6-416e-83f8-5cab4fcd3982",
   "metadata": {},
   "outputs": [
    {
     "name": "stdout",
     "output_type": "stream",
     "text": [
      "20\n",
      "300\n"
     ]
    }
   ],
   "source": [
    "multiply(10)\n",
    "multiply(10,30)\n"
   ]
  },
  {
   "cell_type": "code",
   "execution_count": null,
   "id": "5bfe5062-9ead-45ab-b384-cd32bdd69739",
   "metadata": {},
   "outputs": [],
   "source": [
    "WAF to check given number is odd or even."
   ]
  },
  {
   "cell_type": "code",
   "execution_count": 14,
   "id": "256c9243-0bc8-4c17-b7d9-afe2987c3312",
   "metadata": {},
   "outputs": [],
   "source": [
    "def is_even(number): # number will help to assign value from outside the function. \n",
    "    if number%2==0:\n",
    "        return \"Even\"\n",
    "    else:\n",
    "        return \"Odd\""
   ]
  },
  {
   "cell_type": "code",
   "execution_count": 15,
   "id": "e97b60b3-3ea6-49ab-97d9-ec7c397e1cac",
   "metadata": {},
   "outputs": [
    {
     "name": "stdin",
     "output_type": "stream",
     "text": [
      "enter number  17\n"
     ]
    },
    {
     "data": {
      "text/plain": [
       "'Odd'"
      ]
     },
     "execution_count": 15,
     "metadata": {},
     "output_type": "execute_result"
    }
   ],
   "source": [
    "#taking input from the user.\n",
    "number=int(input(\"enter number \"))\n",
    "is_even(number)"
   ]
  },
  {
   "cell_type": "code",
   "execution_count": 13,
   "id": "0e41a33a-aa75-4d8f-8592-5cd84eabbbcd",
   "metadata": {},
   "outputs": [
    {
     "data": {
      "text/plain": [
       "'Odd'"
      ]
     },
     "execution_count": 13,
     "metadata": {},
     "output_type": "execute_result"
    }
   ],
   "source": [
    "# direct number input\n",
    "is_even(5)"
   ]
  },
  {
   "cell_type": "code",
   "execution_count": 19,
   "id": "cfaad8cb-b42b-4d12-8d63-738009f32239",
   "metadata": {},
   "outputs": [
    {
     "name": "stdout",
     "output_type": "stream",
     "text": [
      "1  =  Odd\n",
      "2  =  Even\n",
      "3  =  Odd\n",
      "4  =  Even\n",
      "5  =  Odd\n",
      "6  =  Even\n",
      "7  =  Odd\n",
      "8  =  Even\n",
      "9  =  Odd\n",
      "10  =  Even\n"
     ]
    }
   ],
   "source": [
    "# check even odd by using loop\n",
    "for i in range(1,11):\n",
    "    print(i,\" = \",is_even(i))"
   ]
  },
  {
   "cell_type": "code",
   "execution_count": 2,
   "id": "8708a630-e734-4fa7-85d4-5a850bf0099f",
   "metadata": {},
   "outputs": [
    {
     "name": "stdout",
     "output_type": "stream",
     "text": [
      "1  =  Odd\n",
      "2  =  Even\n",
      "3  =  Odd\n",
      "4  =  Even\n",
      "5  =  Odd\n",
      "6  =  Even\n",
      "7  =  Odd\n",
      "8  =  Even\n",
      "9  =  Odd\n",
      "10  =  Even\n"
     ]
    }
   ],
   "source": [
    "# function combine\n",
    "\n",
    "def is_even(number): # number will help to assign value from outside the function.\n",
    "\n",
    "    \"\"\"this functin tell us given number is odd or even.\n",
    "input - valid integer number.\n",
    "output- odd/even\n",
    "    \"\"\"\n",
    "\n",
    "    \n",
    "    if number%2==0:\n",
    "        return \"Even\"\n",
    "    else:\n",
    "        return \"Odd\"\n",
    "for i in range(1,11):\n",
    "    print(i,\" = \",is_even(i)) # is_even(i) - calling function \n"
   ]
  },
  {
   "cell_type": "code",
   "execution_count": 3,
   "id": "269eae5f-d2ab-47ae-89d4-322dfdf27a06",
   "metadata": {},
   "outputs": [
    {
     "name": "stdout",
     "output_type": "stream",
     "text": [
      "this functin tell us given number is odd or even.\n",
      "input - valid integer number.\n",
      "output- odd/even\n",
      "    \n"
     ]
    }
   ],
   "source": [
    "#print comment / document under function or any class : print.__doc__ (print |function name | dot | double underscore | doc | double underscore )\n",
    "print(is_even.__doc__)"
   ]
  },
  {
   "cell_type": "code",
   "execution_count": 31,
   "id": "a5227fb6-1979-4ae5-8d6b-e8fc677ab19e",
   "metadata": {},
   "outputs": [],
   "source": [
    "# how to prevent code from crashing if user given invalid output.\n",
    "\n",
    "def is_ev(number):\n",
    "    if type(number)==int:    \n",
    "        if number%2==0:\n",
    "            return \"Even\"\n",
    "        else:\n",
    "            return \"Odd\"\n",
    "    else:\n",
    "        print(\"invalid input\")"
   ]
  },
  {
   "cell_type": "code",
   "execution_count": 39,
   "id": "dff2c1f4-84d4-439a-9bc8-89821e343456",
   "metadata": {},
   "outputs": [
    {
     "name": "stdout",
     "output_type": "stream",
     "text": [
      "invalid input\n",
      "\n"
     ]
    },
    {
     "data": {
      "text/plain": [
       "'Odd'"
      ]
     },
     "execution_count": 39,
     "metadata": {},
     "output_type": "execute_result"
    }
   ],
   "source": [
    "# invalid input:\n",
    "is_ev(\"hello\")\n",
    "print()\n",
    "# valid input\n",
    "is_ev(89)"
   ]
  },
  {
   "cell_type": "markdown",
   "id": "e73bb8d4-d614-4ba7-9a6b-312a06ff3df4",
   "metadata": {},
   "source": [
    "# Perameter VS Argument\n",
    "\n",
    "1. Default Arguments (1,2)\n",
    "2. Positional Arguments  (a=1,b=1)\n",
    "3. keywords Arguments (b=2,a=3)\n",
    "4. Arbitrary Argument\n",
    "\n",
    "\n",
    "def search (database=\"fb-main\", table=\"user\", order=\"ASC\", limit=\"100\", type=\"array\", algorithm=\"binary\".....)\n"
   ]
  },
  {
   "cell_type": "code",
   "execution_count": 40,
   "id": "d86a0e0b-8ab6-46da-8f48-372b3d77b35e",
   "metadata": {},
   "outputs": [],
   "source": [
    "# Arbitrary Argument : \n",
    "\n",
    "def flexi(*number):\n",
    "    product=1\n",
    "    print(number)\n",
    "    print(type(number))\n",
    "    for i in number:\n",
    "        product=product*i\n",
    "    print(product)\n",
    "    "
   ]
  },
  {
   "cell_type": "code",
   "execution_count": 41,
   "id": "14e4f89b-1283-4cfb-af01-3d89ba75a845",
   "metadata": {},
   "outputs": [
    {
     "name": "stdout",
     "output_type": "stream",
     "text": [
      "(1, 2, 3, 4, 5)\n",
      "<class 'tuple'>\n",
      "120\n"
     ]
    }
   ],
   "source": [
    "flexi(1,2,3,4,5)"
   ]
  },
  {
   "cell_type": "markdown",
   "id": "d74a8f04-9700-4218-bd51-6fbf4c7177d0",
   "metadata": {},
   "source": [
    "# student result: \n",
    "\n",
    "1. take input how many student are thier in the class.\n",
    "2. display school contact details\n",
    "3. take input from student as name, 5 subject scored marks, and calculat percentage.\n",
    "4. on behalf of percentage give grade A, B, C, D and fail.\n"
   ]
  },
  {
   "cell_type": "code",
   "execution_count": 14,
   "id": "13f75025-f998-4f33-8900-3f16cc554cbb",
   "metadata": {},
   "outputs": [],
   "source": [
    "def School_Contact():\n",
    "    print(\"School Name: Nishant Public School\")\n",
    "    print(\"School Email ID: NishantPS@gmail.com\")\n",
    "    print(\"Address: New Delhi\")\n",
    "    print(\"Contact Number: 9654546020\")"
   ]
  },
  {
   "cell_type": "code",
   "execution_count": 15,
   "id": "f0320bc3-fbca-45db-b0ac-2a5923cbe5cb",
   "metadata": {},
   "outputs": [
    {
     "name": "stdout",
     "output_type": "stream",
     "text": [
      "School Name: Nishant Public School\n",
      "School Email ID: NishantPS@gmail.com\n",
      "Address: New Delhi\n",
      "Contact Number: 9654546020\n"
     ]
    }
   ],
   "source": [
    "School_Contact()"
   ]
  },
  {
   "cell_type": "code",
   "execution_count": 47,
   "id": "21ffbd9c-64f0-4c3d-9b7f-953278981562",
   "metadata": {},
   "outputs": [],
   "source": [
    "def Percentage(p):\n",
    "    percentage=p\n",
    "    if percentage>=90:\n",
    "        print(\"Grade A\")\n",
    "    elif percentage>=80 and percentage<90:\n",
    "        print(\"Grade B\")\n",
    "    elif percentage>=65 and percentage<80:\n",
    "        print(\"Grade C\")\n",
    "    elif percentage>=45 and percentage<65:\n",
    "        print(\"Grade D\")\n",
    "    else:\n",
    "        print(\"Fail\")\n"
   ]
  },
  {
   "cell_type": "code",
   "execution_count": 46,
   "id": "d33f88b8-14ab-40e9-9cf8-f72347b12a26",
   "metadata": {},
   "outputs": [
    {
     "name": "stdout",
     "output_type": "stream",
     "text": [
      "Fail\n"
     ]
    }
   ],
   "source": [
    "Percentage(39)"
   ]
  },
  {
   "cell_type": "code",
   "execution_count": 54,
   "id": "4c3147cc-543b-49c8-bcbf-41ca2aa76706",
   "metadata": {},
   "outputs": [],
   "source": [
    "def Student_Result():\n",
    "    sn=int(input(\"enter number of student\"))\n",
    "    for i in range(sn):\n",
    "        School_Contact()\n",
    "        print()\n",
    "        n=input(\"Enter Student Name: \")\n",
    "        s=int(input(\"enter total 5 subject scored marks\"))\n",
    "        percentage=s/5\n",
    "        print(\"Percentage: \",percentage)\n",
    "        Percentage(percentage)\n",
    "        print()    "
   ]
  },
  {
   "cell_type": "code",
   "execution_count": 62,
   "id": "bed84e33-5242-486a-8e38-b3759d0e37c4",
   "metadata": {},
   "outputs": [
    {
     "name": "stdin",
     "output_type": "stream",
     "text": [
      "enter number of student 1\n"
     ]
    },
    {
     "name": "stdout",
     "output_type": "stream",
     "text": [
      "School Name: Nishant Public School\n",
      "School Email ID: NishantPS@gmail.com\n",
      "Address: New Delhi\n",
      "Contact Number: 9654546020\n",
      "\n"
     ]
    },
    {
     "name": "stdin",
     "output_type": "stream",
     "text": [
      "Enter Student Name:  nishant\n",
      "enter total 5 subject scored marks 380\n"
     ]
    },
    {
     "name": "stdout",
     "output_type": "stream",
     "text": [
      "Percentage:  76.0\n",
      "Grade C\n",
      "\n",
      "None\n"
     ]
    }
   ],
   "source": [
    "k =Student_Result()\n",
    "print(k)\n"
   ]
  },
  {
   "cell_type": "code",
   "execution_count": 63,
   "id": "ff20ff26-1403-42fe-af8d-b46f05b9ea00",
   "metadata": {},
   "outputs": [],
   "source": [
    "# WAP to loging details and display student details. \n",
    "def verfication(e,p):\n",
    "    email=\"Nishant@gmail.com\"\n",
    "    password=\"1234\"\n",
    "    if e==email and p==password:\n",
    "        print(\"Student Name: \", \"nishant\")\n",
    "        print(\"Scored Marks: \", 380 )\n",
    "        print(\"Percentage: \",78)\n",
    "        print(\"Grade: \",\"Grade A\")\n",
    "        print(k)\n",
    "    else:\n",
    "        print(\"Wrong User Login\")"
   ]
  },
  {
   "cell_type": "code",
   "execution_count": 64,
   "id": "1696231c-1b44-493d-aa5a-727ebaece7b8",
   "metadata": {},
   "outputs": [
    {
     "name": "stdin",
     "output_type": "stream",
     "text": [
      "enter Email id:  Nishant@gmail.com\n",
      "enter password:  1234\n"
     ]
    },
    {
     "name": "stdout",
     "output_type": "stream",
     "text": [
      "Student Name:  nishant\n",
      "Scored Marks:  380\n",
      "Percentage:  78\n",
      "Grade:  Grade A\n",
      "None\n"
     ]
    }
   ],
   "source": [
    "e=input(\"enter Email id: \")\n",
    "p=input(\"enter password: \")\n",
    "verfication(e,p)"
   ]
  },
  {
   "cell_type": "code",
   "execution_count": 5,
   "id": "c5d923e9-297e-4eb2-8fd6-29e546b4cbe9",
   "metadata": {},
   "outputs": [
    {
     "name": "stdin",
     "output_type": "stream",
     "text": [
      "enter a number 15\n"
     ]
    },
    {
     "name": "stdout",
     "output_type": "stream",
     "text": [
      "divisior of 15 is :1,3,5,\n",
      "\n",
      "15 is not perfect number\n"
     ]
    }
   ],
   "source": [
    "# WAP to check perfect number\n",
    "num=int(input(\"enter a number\"))\n",
    "sum=0\n",
    "print(f\"divisior of {num} is :\",end=\"\")\n",
    "for i in range(1,num):\n",
    "    if num%i==0:\n",
    "        print(i,end=\",\")\n",
    "        sum+=1\n",
    "print(\"\\n\")\n",
    "\n",
    "if sum==num:\n",
    "    print(f\"{num} is perfect number\")\n",
    "else:\n",
    "    print(f\"{num} is not perfect number\")\n"
   ]
  },
  {
   "cell_type": "markdown",
   "id": "95a35ee0-f0d1-499d-b4bf-961f30485299",
   "metadata": {},
   "source": [
    "# new ask it loud:"
   ]
  },
  {
   "cell_type": "code",
   "execution_count": 11,
   "id": "46e35ecc-9de7-438d-a2fb-a6fdea862b40",
   "metadata": {},
   "outputs": [
    {
     "name": "stdout",
     "output_type": "stream",
     "text": [
      "this function is with argument\n",
      "\n",
      "Hello <------- nishant <----this is argument from calling method\n",
      "Hello <------- 1234 <----this is argument from calling method\n",
      "Hello <------- nishant@gmail.com <----this is argument from calling method\n",
      "Hello <------- niku1234 <----this is argument from calling method\n"
     ]
    }
   ],
   "source": [
    "# argument function:\n",
    "def nishant(perameter):\n",
    "    print(\"Hello <-------\",perameter,\"<----this is argument from calling method\")\n",
    "\n",
    "print(\"this function is with argument\")\n",
    "print()\n",
    "nishant(\"nishant\")\n",
    "nishant(1234)\n",
    "nishant(\"nishant@gmail.com\")\n",
    "nishant(\"niku1234\")"
   ]
  },
  {
   "cell_type": "code",
   "execution_count": 13,
   "id": "990e90ca-0593-4cdf-939a-8113399e8786",
   "metadata": {},
   "outputs": [
    {
     "name": "stdout",
     "output_type": "stream",
     "text": [
      "return method\n",
      "\n"
     ]
    },
    {
     "name": "stdin",
     "output_type": "stream",
     "text": [
      "enter value a 10\n",
      "enter value b 10\n",
      "enter value a 20\n",
      "enter value b 10\n"
     ]
    },
    {
     "name": "stdout",
     "output_type": "stream",
     "text": [
      "sum ============= 30\n"
     ]
    }
   ],
   "source": [
    "# no argument function:\n",
    "\n",
    "def nishantk():\n",
    "    a=int(input(\"enter value a\"))\n",
    "    b=int(input(\"enter value b\"))\n",
    "    print(\"sum =============\",a+b)\n",
    "\n",
    "print(\"return method\")\n",
    "print()\n",
    "def nis():\n",
    "    a=int(input(\"enter value a\"))\n",
    "    b=int(input(\"enter value b\"))\n",
    "    return a+b\n",
    "\n",
    "nis()\n",
    "nishantk()"
   ]
  },
  {
   "cell_type": "code",
   "execution_count": 22,
   "id": "0162a0ff-d152-49d1-b733-a598c15493d6",
   "metadata": {},
   "outputs": [
    {
     "name": "stdout",
     "output_type": "stream",
     "text": [
      "hello nishant ! your age is: 25 and your roll number is: 119\n",
      "hello nikita ! your age is: 24 and your roll number is: 120\n"
     ]
    }
   ],
   "source": [
    "# keyword argument:\n",
    "\n",
    "def student(name,age,roll):\n",
    "    print(\"hello\", name, \"! your age is:\", age, \"and your roll number is:\",roll)\n",
    "\n",
    "\n",
    "student(\"nishant\",25,119)\n",
    "student(\"nikita\",24,120)"
   ]
  },
  {
   "cell_type": "code",
   "execution_count": 26,
   "id": "8afb57de-78d3-41f7-97b3-63cc9f217d88",
   "metadata": {},
   "outputs": [
    {
     "name": "stdout",
     "output_type": "stream",
     "text": [
      "(1, 2, 3, 4, 5, 6, 7)\n",
      "<class 'tuple'>\n"
     ]
    }
   ],
   "source": [
    "# here variable length function also consider as (*args :---> convert value into tuple ) \n",
    "# keyword length variable function \n",
    "#or \n",
    "#creating tuple list by using * or keyword length argument\n",
    "\n",
    "def my(*n): # will convert multiple value into tuple and store it in perameter. (*args function)\n",
    "    print(n)\n",
    "    print(type(n))\n",
    "\n",
    "my(1,2,3,4,5,6,7)"
   ]
  },
  {
   "cell_type": "code",
   "execution_count": 37,
   "id": "a7148192-6729-4b3d-87f1-b928998efc54",
   "metadata": {},
   "outputs": [
    {
     "name": "stdout",
     "output_type": "stream",
     "text": [
      "value of list is ==== > (12, 17, 99, 54, 53, 78, 52, 72, 24, 23) <class 'tuple'>\n",
      "even ====:>  [12, 54, 78, 52, 72, 24] \n",
      "odd ===== :> [17, 99, 53, 23]\n"
     ]
    }
   ],
   "source": [
    "# check given number is even or odd:\n",
    "\n",
    "# list= 12,17,99,54,53,78,52,72,24\n",
    "\n",
    "def test(*s):\n",
    "    e=[]\n",
    "    o=[]\n",
    "    print(\"value of list is ==== >\",s, type(s))\n",
    "    for i in s:\n",
    "        if i%2==0:\n",
    "            e.append(i)\n",
    "        else:\n",
    "            o.append(i)\n",
    "    print(\"even ====:> \",e, \"\\nodd ===== :>\", o)\n",
    "\n",
    "test(12,17,99,54,53,78,52,72,24,23)"
   ]
  },
  {
   "cell_type": "markdown",
   "id": "1cd5f811-9015-4fb7-98a4-b39b5b59d563",
   "metadata": {},
   "source": [
    "# creating dictionary using def function ---->\n",
    "\n",
    "(**perameter)      \n",
    "(name=\"nishant\",age=25,Mobile_number=9654546020)      "
   ]
  },
  {
   "cell_type": "code",
   "execution_count": 46,
   "id": "20b68a8e-52e4-4bc9-84b9-ca6cf6b95387",
   "metadata": {},
   "outputs": [
    {
     "name": "stdout",
     "output_type": "stream",
     "text": [
      "{'a': 1, 'b': 2, 'c': 3}\n",
      "<class 'dict'>\n"
     ]
    }
   ],
   "source": [
    "# Keyword variable length function as (**Kwargs :----> convert value into dictionary) \n",
    "# creating dictionary by using keyword length variable function\n",
    "\n",
    "def new(**d):\n",
    "    print(d)\n",
    "    print(type(d))\n",
    "\n",
    "new(a=1,b=2,c=3)"
   ]
  },
  {
   "cell_type": "code",
   "execution_count": 47,
   "id": "11f82852-098b-4d53-9db7-76075d3bafde",
   "metadata": {},
   "outputs": [
    {
     "name": "stdout",
     "output_type": "stream",
     "text": [
      "value of k is =====>\n",
      " {'name': 'nishant', 'age': 25, 'email_id': 'nishant@gmail.com'} \n",
      " <class 'dict'>\n",
      "\n",
      "Dictionary Keys -----> dict_keys(['name', 'age', 'email_id'])\n",
      "Dictionary Values -----> dict_values(['nishant', 25, 'nishant@gmail.com'])\n"
     ]
    }
   ],
   "source": [
    "def hello(**k):\n",
    "    print(\"value of k is =====>\\n\",k,\"\\n\", type(k))\n",
    "    print()\n",
    "    print(\"Dictionary Keys ----->\",k.keys())\n",
    "    print(\"Dictionary Values ----->\",k.values())\n",
    "\n",
    "hello(name=\"nishant\",age=25,email_id=\"nishant@gmail.com\")"
   ]
  },
  {
   "cell_type": "markdown",
   "id": "c38d42d3-159a-4f10-a899-f126bbd85159",
   "metadata": {},
   "source": [
    "# Return Statement"
   ]
  },
  {
   "cell_type": "code",
   "execution_count": 48,
   "id": "bfe29ad0-ac7d-4cab-9008-531bef8e5117",
   "metadata": {},
   "outputs": [
    {
     "data": {
      "text/plain": [
       "26"
      ]
     },
     "execution_count": 48,
     "metadata": {},
     "output_type": "execute_result"
    }
   ],
   "source": [
    "def hello(a,b):\n",
    "    return a+b\n",
    "\n",
    "hello(12,14)"
   ]
  },
  {
   "cell_type": "code",
   "execution_count": 49,
   "id": "1d0c4690-8d13-4712-bf36-f17198524060",
   "metadata": {},
   "outputs": [
    {
     "data": {
      "text/plain": [
       "26"
      ]
     },
     "execution_count": 49,
     "metadata": {},
     "output_type": "execute_result"
    }
   ],
   "source": [
    "def hello(a,b):\n",
    "    c=a+b\n",
    "    return c\n",
    "\n",
    "hello(12,14)"
   ]
  },
  {
   "cell_type": "code",
   "execution_count": 59,
   "id": "40f5760c-5a8e-4183-8ecd-044536540ad5",
   "metadata": {},
   "outputs": [
    {
     "name": "stdout",
     "output_type": "stream",
     "text": [
      "Addition : 32\n",
      "Ninus : -8\n",
      "Divide : 0.6\n",
      "Multiple : 240\n",
      "Power : 3833759992447475122176\n"
     ]
    }
   ],
   "source": [
    "# passing multiple value to return statement:\n",
    "\n",
    "def oprn(a,b):\n",
    "    return a+b,a-b,a/b,a*b,a**b\n",
    "\n",
    "#unpacking of tuple:\n",
    "\n",
    "a,b,c,d,e=oprn(12,20)\n",
    "print(f\"Addition : {a}\\nNinus : {b}\\nDivide : {c}\\nMultiple : {d}\\nPower : {e}\")"
   ]
  },
  {
   "cell_type": "code",
   "execution_count": 60,
   "id": "2cdd21f4-ecab-4b5e-af59-fc506d665766",
   "metadata": {},
   "outputs": [],
   "source": [
    "# recussion or recussive calling.\n",
    "# a function calling itself. and end at any specific condition \n",
    "# recussion use to handle large and complex/logical problem.\n",
    "\n"
   ]
  },
  {
   "cell_type": "code",
   "execution_count": 65,
   "id": "8b992444-d6f7-4fa8-a7f4-67d0cef16886",
   "metadata": {},
   "outputs": [
    {
     "name": "stdout",
     "output_type": "stream",
     "text": [
      "recusive calling :::::::::::::>>>>>>> 120\n"
     ]
    }
   ],
   "source": [
    "def fact(n):\n",
    "    if n==0:\n",
    "        r=1\n",
    "    else:\n",
    "        r=n*fact(n-1)  # calling function under fuction like:  fact(n-1)\n",
    "    return r\n",
    "print(\"recusive calling :::::::::::::>>>>>>>\",fact(5))"
   ]
  },
  {
   "cell_type": "markdown",
   "id": "9f8343df-ae6f-4fcb-97d5-c2ecd341e90f",
   "metadata": {},
   "source": [
    "# local & global variable & global keyword"
   ]
  },
  {
   "cell_type": "markdown",
   "id": "3fa925a2-436a-4a58-aa3c-47c5c5a4b877",
   "metadata": {},
   "source": [
    "> # **global variable** ====>>>> \n",
    "1. the variable which are declared outside the function are called global variable.\n",
    "2. These type of variable access in all function."
   ]
  },
  {
   "cell_type": "code",
   "execution_count": 77,
   "id": "44e815f1-6e35-4e82-bea4-dc52da600680",
   "metadata": {},
   "outputs": [],
   "source": [
    "a=10   # Global variable out side the function\n",
    "b= \"Nishant\" # Global variable out side the function\n",
    "c=\"Data analytics\"\n",
    "d=9654546020\n",
    "e=\"Ducat:::::::::::: outside the function global variable\"\n",
    "def f1():\n",
    "    print(\"A ==== will access in any function..\",a)\n",
    "    print(\"B ==== \",b)\n",
    "def f2():\n",
    "    print(\"C ==== will access in any function..\",c)\n",
    "    print(\"D ==== \",d)\n",
    "def f3():\n",
    "    print(\"A ==== will access in any function..\",a)\n",
    "    print(\"B ==== \",b)\n",
    "    print(\"C ==== \",c)\n",
    "    print(\"D ==== \",d)\n",
    "\n",
    "def f4():\n",
    "    print(\"A ==== will access in any function..\",a)\n",
    "    print(\"B ==== \",b)\n",
    "def f5():\n",
    "    print(\"A ==== will access in any function..\",a)\n",
    "    print(\"B ==== \",b)\n",
    "    print(\"E ====\", e)\n"
   ]
  },
  {
   "cell_type": "code",
   "execution_count": 78,
   "id": "77f84d1b-e969-46f9-8f3d-adbc6e17e642",
   "metadata": {},
   "outputs": [
    {
     "name": "stdout",
     "output_type": "stream",
     "text": [
      "A ==== will access in any function.. 10\n",
      "B ====  Nishant\n",
      "\n",
      "C ==== will access in any function.. Data analytics\n",
      "D ====  9654546020\n",
      "\n",
      "A ==== will access in any function.. 10\n",
      "B ====  Nishant\n",
      "C ====  Data analytics\n",
      "D ====  9654546020\n",
      "\n",
      "A ==== will access in any function.. 10\n",
      "B ====  Nishant\n",
      "\n",
      "A ==== will access in any function.. 10\n",
      "B ====  Nishant\n",
      "E ==== Ducat:::::::::::: outside the function global variable\n"
     ]
    }
   ],
   "source": [
    "f1()\n",
    "print()\n",
    "f2()\n",
    "print()\n",
    "f3()\n",
    "print()\n",
    "f4()\n",
    "print()\n",
    "f5()"
   ]
  },
  {
   "cell_type": "markdown",
   "id": "31e5fd7a-f856-4dae-ac62-e9afe18810c0",
   "metadata": {},
   "source": [
    "># ***local variable***:\n",
    "1. the variable which are declared inside the function are called local variable.\n",
    "2. these variable only limited access and will not access outside the function."
   ]
  },
  {
   "cell_type": "code",
   "execution_count": 1,
   "id": "0ecf8e59-079a-4cb0-aaf8-272d2c495a63",
   "metadata": {},
   "outputs": [
    {
     "ename": "SyntaxError",
     "evalue": "name 'a' is parameter and global (548405106.py, line 3)",
     "output_type": "error",
     "traceback": [
      "\u001b[1;36m  Cell \u001b[1;32mIn[1], line 3\u001b[1;36m\u001b[0m\n\u001b[1;33m    global a\u001b[0m\n\u001b[1;37m    ^\u001b[0m\n\u001b[1;31mSyntaxError\u001b[0m\u001b[1;31m:\u001b[0m name 'a' is parameter and global\n"
     ]
    }
   ],
   "source": [
    "def v1(a):\n",
    "    global a\n",
    "    a=25  # local variable\n",
    "    print(\"value -------> \",a)\n",
    "def v2(a):\n",
    "    print(\"value -------> \",a)\n",
    "def v3(a):\n",
    "    print(\"value -------> \",a)\n",
    "def v4(a):\n",
    "    print(\"value -------> \",a)"
   ]
  },
  {
   "cell_type": "code",
   "execution_count": 80,
   "id": "668ba6bb-c06b-442e-9ed0-03e449a38c8d",
   "metadata": {},
   "outputs": [
    {
     "name": "stdout",
     "output_type": "stream",
     "text": [
      "value ------->  25\n",
      "value ------->  27\n",
      "value ------->  89\n",
      "value ------->  3\n"
     ]
    }
   ],
   "source": [
    "v1(256)\n",
    "v2(27)\n",
    "v3(89)\n",
    "v4(3)"
   ]
  },
  {
   "cell_type": "markdown",
   "id": "5530e1c7-c5ab-4124-8f27-4c8f312e84e8",
   "metadata": {},
   "source": [
    "# *Golbal keyword*\n",
    "\n",
    "1. if we want to make local variable as a global than we used global keyword"
   ]
  },
  {
   "cell_type": "code",
   "execution_count": 1,
   "id": "8e3d516a-c406-4659-a2f5-c45198e00ac4",
   "metadata": {},
   "outputs": [
    {
     "name": "stdout",
     "output_type": "stream",
     "text": [
      "this function using local variable =====  78\n",
      "this function using global variable =====  10\n"
     ]
    }
   ],
   "source": [
    "# case 1: \n",
    "a=10\n",
    "def loc():\n",
    "    a=78\n",
    "    print(\"this function using local variable ===== \",a)\n",
    "def loc2():\n",
    "    print(\"this function using global variable ===== \",a)\n",
    "\n",
    "loc()\n",
    "loc2()"
   ]
  },
  {
   "cell_type": "code",
   "execution_count": 2,
   "id": "63de19d6-ff80-480d-97e9-a6133444ef92",
   "metadata": {},
   "outputs": [
    {
     "name": "stdout",
     "output_type": "stream",
     "text": [
      "this function using local variable =====  78\n",
      "this function using global variable =====  78\n"
     ]
    }
   ],
   "source": [
    "# create local variable to global variable.\n",
    "\n",
    "a=10\n",
    "def loc():\n",
    "    global a # now a is global variable and value of a = 10 is replaced by new global variable a = 78\n",
    "    a=78\n",
    "    print(\"this function using local variable ===== \",a)\n",
    "def loc2():\n",
    "    print(\"this function using global variable ===== \",a)\n",
    "\n",
    "loc()\n",
    "loc2()\n"
   ]
  },
  {
   "cell_type": "code",
   "execution_count": 3,
   "id": "030ff613-a443-4a38-909b-244c868af33e",
   "metadata": {},
   "outputs": [
    {
     "name": "stdout",
     "output_type": "stream",
     "text": [
      "this function using local variable =====  777\n",
      "this is global variable 10\n",
      "this function using global variable =====  10\n"
     ]
    }
   ],
   "source": [
    "# access gloabl & local variable in function\n",
    "a=10\n",
    "def loc3():\n",
    "   # global a # now a is global variable and value of a = 10 is replaced by new global variable a = 78\n",
    "    a=777\n",
    "    print(\"this function using local variable ===== \",a)\n",
    "    print(\"this is global variable\",globals()[\"a\"])\n",
    "def loc4():\n",
    "    print(\"this function using global variable ===== \",a)\n",
    "\n",
    "loc3()\n",
    "loc4()\n",
    "\n",
    "\n",
    "\n"
   ]
  },
  {
   "cell_type": "code",
   "execution_count": null,
   "id": "b05ec0ec-40cf-453c-b335-9576ae0b1c42",
   "metadata": {},
   "outputs": [],
   "source": []
  },
  {
   "cell_type": "markdown",
   "id": "1747da32-cafc-44ba-ad60-33756de67e20",
   "metadata": {},
   "source": [
    "# **nested function**"
   ]
  },
  {
   "cell_type": "code",
   "execution_count": 86,
   "id": "d525be72-e74e-4f07-80bf-ed387cded0b1",
   "metadata": {},
   "outputs": [],
   "source": [
    "def outer1():\n",
    "    print(\"i am outer function---------------->\")\n",
    "    def inner1():\n",
    "        print(\"i am inner function ========>>\")"
   ]
  },
  {
   "cell_type": "code",
   "execution_count": 87,
   "id": "1af97fc9-9e4a-46f3-bfe5-24c009dfa5d4",
   "metadata": {},
   "outputs": [
    {
     "name": "stdout",
     "output_type": "stream",
     "text": [
      "i am outer function---------------->\n"
     ]
    }
   ],
   "source": [
    "outer1()"
   ]
  },
  {
   "cell_type": "code",
   "execution_count": 91,
   "id": "1d1a48ff-f159-4040-9b1a-c17b3f0cd122",
   "metadata": {},
   "outputs": [],
   "source": [
    "def outer():\n",
    "    print(\"i am outer function---------------->\")\n",
    "    def inner():\n",
    "        print()\n",
    "        print(\"i am inner function ========>>\")\n",
    "        print(\"kya bolti h public ======>\")\n",
    "    inner() \n",
    "# without calling inner fuction under ther outer function inner function not work \n",
    "# and outer will skip inner function like above.\n",
    "# also we can't access inner fuction witout calling it."
   ]
  },
  {
   "cell_type": "code",
   "execution_count": 92,
   "id": "cffb1fb1-e1b0-4547-9d24-86b86f5587f9",
   "metadata": {},
   "outputs": [
    {
     "name": "stdout",
     "output_type": "stream",
     "text": [
      "i am outer function---------------->\n",
      "\n",
      "i am inner function ========>>\n",
      "kya bolti h public ======>\n"
     ]
    }
   ],
   "source": [
    "outer()"
   ]
  },
  {
   "cell_type": "code",
   "execution_count": 101,
   "id": "33239eef-d949-4301-9c0c-388d4acadd2e",
   "metadata": {},
   "outputs": [],
   "source": [
    "def out(a):\n",
    "    print(\"Welcome back bidu log...........\")\n",
    "    def inside():\n",
    "        print(\"a ki value 1 h -----> \",a)\n",
    "        print(\"m chala bidu log >>>>>>>>>> \")\n",
    "    if a==1:\n",
    "        inside()\n",
    "    else:\n",
    "        print(\"bidu log a ki value 1 ni h m ni chalega *********** \",a)"
   ]
  },
  {
   "cell_type": "code",
   "execution_count": 102,
   "id": "73757065-40eb-4098-a621-295aeb55104d",
   "metadata": {},
   "outputs": [
    {
     "name": "stdout",
     "output_type": "stream",
     "text": [
      "Welcome back bidu log...........\n",
      "a ki value 1 h ----->  1\n",
      "m chala bidu log >>>>>>>>>> \n",
      "\n",
      "Welcome back bidu log...........\n",
      "bidu log a ki value 1 ni h m ni chalega ***********  2\n"
     ]
    }
   ],
   "source": [
    "out(1)\n",
    "print()\n",
    "out(2)"
   ]
  },
  {
   "cell_type": "code",
   "execution_count": 117,
   "id": "418d47b6-d099-4438-8720-315a078be4ee",
   "metadata": {},
   "outputs": [
    {
     "name": "stdout",
     "output_type": "stream",
     "text": [
      "Welcome\n",
      "Name       :   nishant\n",
      "password   :   1234\n",
      "\n",
      "Welcome\n",
      "Name       :   niku\n",
      "password   :   None\n",
      "\n",
      "Welcome\n",
      "Name       :   None\n",
      "password   :   None\n"
     ]
    }
   ],
   "source": [
    "def user(name=None,passw=None):\n",
    "    def naam(n):\n",
    "        print(\"Welcome\\nName       :  \", name)\n",
    "    naam(name)\n",
    "    def info(p):\n",
    "        print(\"password   :  \",p)\n",
    "    info(passw)\n",
    "\n",
    "user(\"nishant\",1234)\n",
    "print()\n",
    "user(\"niku\") # one argument\n",
    "print()\n",
    "user() # default perameter"
   ]
  },
  {
   "cell_type": "markdown",
   "id": "8bb78c74-4334-4b85-bb59-f1682b5b336b",
   "metadata": {},
   "source": [
    "# clouser function:\n",
    "\n",
    "1. when inner function return something to the outer function then consider as a clouser function."
   ]
  },
  {
   "cell_type": "code",
   "execution_count": 118,
   "id": "d2ed44d5-0c90-4701-bfc2-1e11c88441fc",
   "metadata": {},
   "outputs": [],
   "source": [
    "def hello(a,b):\n",
    "    print(\"welcome\")\n",
    "    def add(c,d):\n",
    "        return c+d\n",
    "    print(add(a,b)) # print will help to get the return value "
   ]
  },
  {
   "cell_type": "code",
   "execution_count": 126,
   "id": "eb22304b-ca70-4280-b405-40c0245575e2",
   "metadata": {},
   "outputs": [
    {
     "name": "stdout",
     "output_type": "stream",
     "text": [
      "welcome\n",
      "25\n",
      "welcome\n",
      "35\n",
      "None\n"
     ]
    }
   ],
   "source": [
    "hello(12,13)\n",
    "print(hello(12,23))\n"
   ]
  },
  {
   "cell_type": "code",
   "execution_count": 127,
   "id": "e78da74f-a1b4-4ae9-a37f-735fab25c6c4",
   "metadata": {},
   "outputs": [],
   "source": [
    "def xyz(a):\n",
    "    print(\"value of a: =====\", a)\n",
    "    def abc(b):\n",
    "        print(\"value of b: ------\",b)\n",
    "    return abc # return the value to the xyz.\n",
    "        "
   ]
  },
  {
   "cell_type": "code",
   "execution_count": 130,
   "id": "6ac34515-a510-4af3-8384-68914977d5be",
   "metadata": {},
   "outputs": [
    {
     "name": "stdout",
     "output_type": "stream",
     "text": [
      "value of a: ===== Nishant\n",
      "value of b: ------ 123\n",
      "\n",
      "value of a: ===== Niku\n",
      "value of b: ------ niku kashyup\n"
     ]
    }
   ],
   "source": [
    "z=xyz(\"Nishant\") # assign variable to function\n",
    "z(123) # calling inner function and getting return value\n",
    "\n",
    "print()\n",
    "x=xyz(\"Niku\")\n",
    "x(\"niku kashyup\")"
   ]
  },
  {
   "cell_type": "markdown",
   "id": "6131802d-cfe4-4c2c-99a1-b13e16d8b09b",
   "metadata": {},
   "source": [
    "# decorators:\n",
    "is used to connect normal function with decorator function\n",
    "\n",
    "\"\"\"\n",
    "syntax:    \n",
    "\n",
    "decorator function -> decorator function name -> (perameter):   \n",
    "    nested function -> nested function name -> (house function name):   \n",
    "            condition:   \n",
    "                print()    \n",
    "            else:     \n",
    "                print()     \n",
    "    return nested function name      \n",
    "@ decorator function name     \n",
    "\n",
    "house function( house perameter):      \n",
    "    condition or execustion:  print(\"hello \")\n",
    "\"\"\""
   ]
  },
  {
   "cell_type": "code",
   "execution_count": 4,
   "id": "d29cc3e3-119f-495f-9b6f-59302a633387",
   "metadata": {},
   "outputs": [
    {
     "name": "stdout",
     "output_type": "stream",
     "text": [
      "Padharo nishant es ghar k malik\n",
      "Hello chandan aao diwali party m\n",
      "Hello vishal aao diwali party m\n",
      "Hello jagdish aao diwali party m\n",
      "Padharo aaradhya es ghar k malik\n"
     ]
    }
   ],
   "source": [
    "# decorating house: \n",
    "def decorator(a):\n",
    "    def design(name):\n",
    "        if name==\"nishant\" or name==\"aaradhya\":\n",
    "            print(\"Padharo\",name,\"es ghar k malik\")\n",
    "        else:\n",
    "            a(name)\n",
    "    return design\n",
    "\n",
    "@decorator # used to connect house and decorate\n",
    "\n",
    "# house :::::::::::::\n",
    "def house(name):\n",
    "    print(\"Hello\",name,\"aao diwali party m\")\n",
    "\n",
    "\n",
    "house(\"nishant\")\n",
    "house(\"chandan\")\n",
    "house(\"vishal\")\n",
    "house(\"jagdish\")\n",
    "house(\"aaradhya\")"
   ]
  },
  {
   "cell_type": "code",
   "execution_count": 6,
   "id": "6a8d86fd-f806-4b1f-8a1a-9afa48a0374b",
   "metadata": {},
   "outputs": [
    {
     "name": "stdin",
     "output_type": "stream",
     "text": [
      "enter your email id nishant@gmail.com\n"
     ]
    },
    {
     "name": "stdout",
     "output_type": "stream",
     "text": [
      "bilkul shi pakde h nishant@gmail.com\n"
     ]
    }
   ],
   "source": [
    "# match email id\n",
    "def match(m_email):\n",
    "    def details(login):\n",
    "        if email==\"nishant@gmail.com\":\n",
    "            print(\"bilkul shi pakde h\",email)\n",
    "        else:\n",
    "            m_email(details)\n",
    "    return details\n",
    "@match\n",
    "\n",
    "\n",
    "def login(email):\n",
    "    print(\"dummy login successfully.............\")\n",
    "\n",
    "email=input(\"enter your email id\")\n",
    "#passw=input(\"enter your password\")\n",
    "login(email)\n"
   ]
  },
  {
   "cell_type": "code",
   "execution_count": 16,
   "id": "a989d028-6958-46c6-9ff0-1a49a4ed71d4",
   "metadata": {},
   "outputs": [
    {
     "name": "stdout",
     "output_type": "stream",
     "text": [
      "you are the boss: ============== nishant\n",
      "you are empolyee of the company.. rahul\n",
      "you are empolyee of the company.. jayshah\n",
      "you are empolyee of the company.. virat kohli\n",
      "you are empolyee of the company.. 12345\n"
     ]
    }
   ],
   "source": [
    "\n",
    "def who_boss(b_name):\n",
    "    def details(name):\n",
    "        if name==\"nishant\":\n",
    "            print(\"you are the boss: ==============\",name)\n",
    "        else:\n",
    "            b_name(name)\n",
    "    return details\n",
    "@who_boss\n",
    "\n",
    "def name(n):\n",
    "    print(\"you are empolyee of the company..\",n)\n",
    "\n",
    "name(\"nishant\")\n",
    "name(\"rahul\")\n",
    "name(\"jayshah\")\n",
    "name(\"virat kohli\")\n",
    "name(12345)"
   ]
  },
  {
   "cell_type": "code",
   "execution_count": 22,
   "id": "9ccd4ad0-e2de-4ebe-9ad8-e222de3b1ecf",
   "metadata": {},
   "outputs": [
    {
     "name": "stdout",
     "output_type": "stream",
     "text": [
      "you are the boss: ============== nishant\n",
      "you are empolyee of the company.. niku\n",
      "you are empolyee of the company.. chandan\n",
      "you are empolyee of the company.. rahul\n",
      "you are empolyee of the company.. rohit sharma\n",
      "you are the boss: ============== nishant\n"
     ]
    }
   ],
   "source": [
    "# creating alias to directly access the decorators\n",
    "x=who_boss(name)\n",
    "x(\"nishant\")\n",
    "x(\"niku\")\n",
    "x(\"chandan\")\n",
    "x(\"rahul\")\n",
    "x(\"rohit sharma\")\n",
    "x(\"nishant\")\n"
   ]
  },
  {
   "cell_type": "code",
   "execution_count": 17,
   "id": "0fa24d5a-457d-45bf-96ce-caaf0bd1e141",
   "metadata": {},
   "outputs": [
    {
     "name": "stdout",
     "output_type": "stream",
     "text": [
      "hdfc balance : 1000\n",
      "sbi balance : 500\n"
     ]
    }
   ],
   "source": [
    "def banks():\n",
    "    hdfc=1000\n",
    "    sbi=500\n",
    "    return hdfc,sbi\n",
    "\n",
    "h,s=banks()\n",
    "print(\"hdfc balance :\",h)\n",
    "print(\"sbi balance :\",s)"
   ]
  },
  {
   "cell_type": "markdown",
   "id": "409ae1a6-b696-434d-b604-345b749294c5",
   "metadata": {},
   "source": [
    "# questions: "
   ]
  },
  {
   "cell_type": "code",
   "execution_count": 19,
   "id": "e3d3a013-d413-409e-8f49-1015633f9604",
   "metadata": {},
   "outputs": [
    {
     "name": "stdout",
     "output_type": "stream",
     "text": [
      "Bank\n"
     ]
    },
    {
     "data": {
      "text/plain": [
       "4"
      ]
     },
     "execution_count": 19,
     "metadata": {},
     "output_type": "execute_result"
    }
   ],
   "source": [
    "def bank(x):\n",
    "    print(\"Bank\")\n",
    "    y=x*2\n",
    "    return y\n",
    "\n",
    "bank(2)"
   ]
  },
  {
   "cell_type": "code",
   "execution_count": 23,
   "id": "27380a35-492e-47ed-8e52-7987318e0078",
   "metadata": {},
   "outputs": [
    {
     "name": "stdout",
     "output_type": "stream",
     "text": [
      "1000\n"
     ]
    },
    {
     "name": "stdin",
     "output_type": "stream",
     "text": [
      "enter amount 50\n"
     ]
    },
    {
     "name": "stdout",
     "output_type": "stream",
     "text": [
      "950\n",
      "my amount is : 1025.0\n"
     ]
    }
   ],
   "source": [
    "def HDFC(b):\n",
    "    c=b*1.5\n",
    "    return c\n",
    "\n",
    "amount=1000\n",
    "print(amount)\n",
    "\n",
    "bal=int(input(\"enter amount\"))\n",
    "amount-=bal\n",
    "print(amount)\n",
    "\n",
    "rb=HDFC(bal)\n",
    "amount+=rb\n",
    "print(\"my amount is :\", amount)"
   ]
  },
  {
   "cell_type": "code",
   "execution_count": 36,
   "id": "c5d846cd-32c0-4fad-97aa-06a50346e0df",
   "metadata": {},
   "outputs": [
    {
     "name": "stdout",
     "output_type": "stream",
     "text": [
      "your current amount is :  1000\n"
     ]
    },
    {
     "name": "stdin",
     "output_type": "stream",
     "text": [
      "enter investment amount 200\n",
      "enter bank name HDFC or ICI ici\n"
     ]
    },
    {
     "name": "stdout",
     "output_type": "stream",
     "text": [
      "Your return amount is :  600\n",
      "after investment amount is :  1400\n"
     ]
    },
    {
     "name": "stdin",
     "output_type": "stream",
     "text": [
      "do you want to run again y/n y\n",
      "enter investment amount 500\n",
      "enter bank name HDFC or ICI hdfc\n"
     ]
    },
    {
     "name": "stdout",
     "output_type": "stream",
     "text": [
      "Your return amount is :  1000\n",
      "after investment amount is :  1900\n"
     ]
    },
    {
     "name": "stdin",
     "output_type": "stream",
     "text": [
      "do you want to run again y/n n\n"
     ]
    },
    {
     "name": "stdout",
     "output_type": "stream",
     "text": [
      "\n",
      "Your Final Amount is :  1900\n",
      "Thanks\n"
     ]
    }
   ],
   "source": [
    "def HDFC(b):\n",
    "    c=b*2\n",
    "    print(\"Your return amount is : \",c)\n",
    "    return c\n",
    "\n",
    "def ICI(a):\n",
    "    d=a*3\n",
    "    print(\"Your return amount is : \",d)\n",
    "    return d\n",
    "\n",
    "amount=1000\n",
    "print(\"your current amount is : \",amount)\n",
    "\n",
    "while True:\n",
    "    bal=int(input(\"enter investment amount\"))\n",
    "    amount-=bal\n",
    "    bank_name=input(\"enter bank name HDFC or ICI\")\n",
    "    if bank_name == \"hdfc\":\n",
    "        rb=HDFC(bal)\n",
    "    elif bank_name == \"ici\":\n",
    "        rb=ICI(bal)\n",
    "    amount+=rb\n",
    "    print(\"after investment amount is : \",amount)\n",
    "    choice=input(\"do you want to run again y/n\")\n",
    "    if choice==\"n\":\n",
    "        print(\"\\nYour Final Amount is : \", amount)\n",
    "        break\n",
    "print(\"Thanks\")"
   ]
  },
  {
   "cell_type": "code",
   "execution_count": null,
   "id": "ece0c952-513a-49ea-8522-531721ff44c8",
   "metadata": {},
   "outputs": [],
   "source": []
  },
  {
   "cell_type": "code",
   "execution_count": 39,
   "id": "4383cb3d-fcec-481d-9a6b-1db085dcc1fb",
   "metadata": {},
   "outputs": [
    {
     "name": "stdout",
     "output_type": "stream",
     "text": [
      "your current amount is :  1000\n"
     ]
    },
    {
     "name": "stdin",
     "output_type": "stream",
     "text": [
      "enter investment amount 1100\n"
     ]
    },
    {
     "name": "stdout",
     "output_type": "stream",
     "text": [
      "enter valid amount\n"
     ]
    },
    {
     "name": "stdin",
     "output_type": "stream",
     "text": [
      "enter investment amount 0\n"
     ]
    },
    {
     "name": "stdout",
     "output_type": "stream",
     "text": [
      "enter valid amount\n"
     ]
    },
    {
     "name": "stdin",
     "output_type": "stream",
     "text": [
      "enter investment amount 100\n",
      "enter bank name HDFC or ICI hdfc\n"
     ]
    },
    {
     "name": "stdout",
     "output_type": "stream",
     "text": [
      "Your return amount is :  200\n",
      "after investment amount is :  1100\n"
     ]
    },
    {
     "name": "stdin",
     "output_type": "stream",
     "text": [
      "do you want to run again y/n n\n"
     ]
    },
    {
     "name": "stdout",
     "output_type": "stream",
     "text": [
      "\n",
      "Your Final Amount is :  1100\n",
      "Thanks\n"
     ]
    }
   ],
   "source": [
    "def HDFC(b):\n",
    "    c=b*2\n",
    "    print(\"Your return amount is : \",c)\n",
    "    return c\n",
    "\n",
    "def ICI(a):\n",
    "    d=a*3\n",
    "    print(\"Your return amount is : \",d)\n",
    "    return d\n",
    "\n",
    "amount=1000\n",
    "print(\"your current amount is : \",amount)\n",
    "\n",
    "while True:\n",
    "\n",
    "    while True:\n",
    "        bal=int(input(\"enter investment amount\"))\n",
    "        if bal >= 1 and bal <= amount:\n",
    "            break\n",
    "        else:\n",
    "            print(\"enter valid amount\")\n",
    "    amount-=bal\n",
    "    bank_name=input(\"enter bank name HDFC or ICI\")\n",
    "    if bank_name == \"hdfc\":\n",
    "        rb=HDFC(bal)\n",
    "    elif bank_name == \"ici\":\n",
    "        rb=ICI(bal)\n",
    "    amount+=rb\n",
    "    print(\"after investment amount is : \",amount)\n",
    "    choice=input(\"do you want to run again y/n\")\n",
    "    if choice==\"n\":\n",
    "        print(\"\\nYour Final Amount is : \", amount)\n",
    "        break\n",
    "print(\"Thanks\")\n",
    "    "
   ]
  },
  {
   "cell_type": "code",
   "execution_count": null,
   "id": "e2f14bf2-c545-4738-8b16-bc70af145b78",
   "metadata": {},
   "outputs": [],
   "source": []
  },
  {
   "cell_type": "code",
   "execution_count": 49,
   "id": "44169c47-d465-47c0-8765-20f30950ef2d",
   "metadata": {},
   "outputs": [],
   "source": [
    "def sums(*x):\n",
    "    return [sum(x) for i in x ]"
   ]
  },
  {
   "cell_type": "code",
   "execution_count": 59,
   "id": "d15df9bf-834b-4339-be4c-2d4f0b6556ec",
   "metadata": {},
   "outputs": [
    {
     "name": "stdout",
     "output_type": "stream",
     "text": [
      "10\n",
      "30\n"
     ]
    }
   ],
   "source": [
    "a=(10,20)\n",
    "\n",
    "sum=0\n",
    "for i in a:\n",
    "    sum+=i\n",
    "  print(sum)"
   ]
  },
  {
   "cell_type": "code",
   "execution_count": 65,
   "id": "2c04a3df-2a34-45b0-84eb-2fdafe9ee193",
   "metadata": {},
   "outputs": [
    {
     "ename": "SyntaxError",
     "evalue": "invalid syntax (3197667101.py, line 3)",
     "output_type": "error",
     "traceback": [
      "\u001b[1;36m  Cell \u001b[1;32mIn[65], line 3\u001b[1;36m\u001b[0m\n\u001b[1;33m    [for i in a]\u001b[0m\n\u001b[1;37m     ^\u001b[0m\n\u001b[1;31mSyntaxError\u001b[0m\u001b[1;31m:\u001b[0m invalid syntax\n"
     ]
    }
   ],
   "source": [
    "a=(10,20)\n",
    "sum=0\n",
    "[sum+=i for i in a]"
   ]
  },
  {
   "cell_type": "code",
   "execution_count": null,
   "id": "aa00e809-1ad7-4ef5-a64f-eda29dd26c47",
   "metadata": {},
   "outputs": [],
   "source": []
  }
 ],
 "metadata": {
  "kernelspec": {
   "display_name": "Python 3 (ipykernel)",
   "language": "python",
   "name": "python3"
  },
  "language_info": {
   "codemirror_mode": {
    "name": "ipython",
    "version": 3
   },
   "file_extension": ".py",
   "mimetype": "text/x-python",
   "name": "python",
   "nbconvert_exporter": "python",
   "pygments_lexer": "ipython3",
   "version": "3.11.7"
  },
  "widgets": {
   "application/vnd.jupyter.widget-state+json": {
    "state": {},
    "version_major": 2,
    "version_minor": 0
   }
  }
 },
 "nbformat": 4,
 "nbformat_minor": 5
}
