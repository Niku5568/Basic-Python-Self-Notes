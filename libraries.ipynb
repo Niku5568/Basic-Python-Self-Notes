{
 "cells": [
  {
   "cell_type": "code",
   "execution_count": 2,
   "id": "afdf68d3-53ef-4d11-873a-8f6664829af1",
   "metadata": {},
   "outputs": [
    {
     "name": "stdout",
     "output_type": "stream",
     "text": [
      "['C:\\\\ProgramData\\\\anaconda3\\\\Lib\\\\site-packages\\\\ipykernel_launcher.py', '-f', 'C:\\\\Users\\\\DELL\\\\AppData\\\\Roaming\\\\jupyter\\\\runtime\\\\kernel-e8728530-06ed-4ed1-9304-ea63e3b2cea2.json']\n",
      "\n",
      "C:\\ProgramData\\anaconda3\\Lib\\site-packages\\ipykernel_launcher.py\n",
      "\n",
      "-f\n"
     ]
    }
   ],
   "source": [
    "import sys\n",
    "\n",
    "print(sys.argv)\n",
    "print()\n",
    "print(sys.argv[0]) # program name\n",
    "print()\n",
    "print(sys.argv[1]) # first arg"
   ]
  },
  {
   "cell_type": "code",
   "execution_count": 3,
   "id": "0577e8d3-989c-4b10-b3d5-ff448aeb8a31",
   "metadata": {},
   "outputs": [
    {
     "ename": "SyntaxError",
     "evalue": "invalid syntax (2816551070.py, line 1)",
     "output_type": "error",
     "traceback": [
      "\u001b[1;36m  Cell \u001b[1;32mIn[3], line 1\u001b[1;36m\u001b[0m\n\u001b[1;33m    python3 input.py\u001b[0m\n\u001b[1;37m            ^\u001b[0m\n\u001b[1;31mSyntaxError\u001b[0m\u001b[1;31m:\u001b[0m invalid syntax\n"
     ]
    }
   ],
   "source": [
    "python3 input.py"
   ]
  },
  {
   "cell_type": "code",
   "execution_count": 4,
   "id": "23c1ffb1-fd20-4b12-a81d-97f8bc126fa3",
   "metadata": {},
   "outputs": [
    {
     "name": "stdout",
     "output_type": "stream",
     "text": [
      "We need to keep an eye on this object\n"
     ]
    }
   ],
   "source": [
    "object_size = 10\n",
    "if object_size > 5:\n",
    "    print('We need to keep an eye on this object')\n",
    "else:\n",
    "    print('Object poses no threat.')"
   ]
  },
  {
   "cell_type": "raw",
   "id": "7a1fe1e1-d53b-47ef-a5fd-3d70a7986ad5",
   "metadata": {},
   "source": [
    "mars_temperature = \"The highest temperature on Mars is about 30 C\"\n",
    "for item in mars_temperature.split():\n",
    "    print(item)\n",
    "    if item.isnumeric():\n",
    "        print()\n",
    "        print(item)"
   ]
  },
  {
   "cell_type": "code",
   "execution_count": 12,
   "id": "f987e7ce-b80a-4128-8f3b-9108d8d6c854",
   "metadata": {},
   "outputs": [
    {
     "name": "stdout",
     "output_type": "stream",
     "text": [
      "The\n",
      "highest\n",
      "temperature\n",
      "on\n",
      "Mars\n",
      "is\n",
      "about\n",
      "30\n",
      "\n",
      "30\n",
      "C\n"
     ]
    }
   ],
   "source": [
    "mars_temperature = \"The highest temperature on Mars is about 30 C\"\n",
    "for item in mars_temperature.split():\n",
    "    print(item)\n",
    "    if item.isdecimal():\n",
    "        print()\n",
    "        print(item)"
   ]
  },
  {
   "cell_type": "code",
   "execution_count": 13,
   "id": "91df495f-b6dc-4262-b89c-2479e72c9e57",
   "metadata": {},
   "outputs": [
    {
     "name": "stdout",
     "output_type": "stream",
     "text": [
      "['Interesting facts about the Moon', \" The Moon is Earth's only satellite\", ' There are several \\ninteresting facts about the Moon and how it affects life here on Earth', ' \\nOn average, the Moon moves 4cm away from the Earth every year', ' \\nThis yearly drift is not significant enough to cause immediate effects on Earth', ' \\nThe highest daylight temperature of the Moon is 127 C', '']\n"
     ]
    }
   ],
   "source": [
    "text = \"\"\"Interesting facts about the Moon. The Moon is Earth's only satellite. There are several \n",
    "interesting facts about the Moon and how it affects life here on Earth. \n",
    "On average, the Moon moves 4cm away from the Earth every year. \n",
    "This yearly drift is not significant enough to cause immediate effects on Earth. \n",
    "The highest daylight temperature of the Moon is 127 C.\"\"\"\n",
    "sentences = text.split('.')\n",
    "print(sentences)\n",
    "\n",
    "\n"
   ]
  },
  {
   "cell_type": "code",
   "execution_count": 14,
   "id": "c210b8eb-c1f0-403d-a5d5-9df5928536e8",
   "metadata": {},
   "outputs": [
    {
     "name": "stdout",
     "output_type": "stream",
     "text": [
      " \n",
      "The highest daylight temperature of the Moon is 127 C\n"
     ]
    }
   ],
   "source": [
    "for sentence in sentences:\n",
    "    if 'temperature' in sentence:\n",
    "        print(sentence)"
   ]
  },
  {
   "cell_type": "markdown",
   "id": "2392e1fe-8de0-42ac-b8d9-c77606582b28",
   "metadata": {},
   "source": [
    "# Percent sign (%) formatting\n"
   ]
  },
  {
   "cell_type": "code",
   "execution_count": 17,
   "id": "3074e0b3-849c-4543-8c04-cc19cbecb88f",
   "metadata": {},
   "outputs": [
    {
     "name": "stdout",
     "output_type": "stream",
     "text": [
      "On the Moon, you would weigh about 1/6 of your weight on Earth.\n"
     ]
    }
   ],
   "source": [
    "mass_percentage = \"1/6\"\n",
    "print(\"On the Moon, you would weigh about %s of your weight on Earth.\" % mass_percentage)"
   ]
  },
  {
   "cell_type": "code",
   "execution_count": 23,
   "id": "4fb1529d-344d-4eb0-aa10-6f34efa0d8ab",
   "metadata": {},
   "outputs": [
    {
     "name": "stdout",
     "output_type": "stream",
     "text": [
      "Both sides of the Moon get the same amount of sunlight, but only one side is seen from Earth because the Moon rotates around its own axis when it orbits Earth.\n"
     ]
    }
   ],
   "source": [
    "print(\"\"\"Both sides of the %s get the same amount of sunlight, but only one side is seen from %s because the %s rotates around its own axis when it orbits %s.\"\"\" % (\"Moon\", \"Earth\", \"Moon\", \"Earth\"))\n",
    "\n"
   ]
  },
  {
   "cell_type": "code",
   "execution_count": 22,
   "id": "310b79d0-3968-4870-9a0b-6438dc1c904e",
   "metadata": {},
   "outputs": [
    {
     "name": "stdout",
     "output_type": "stream",
     "text": [
      "Both sides of the Moon get the same amount of sunlight, but only one side is seen from Earth because the Moon rotates around its own axis when it orbits Earth\n"
     ]
    }
   ],
   "source": [
    "m=\"Moon\"\n",
    "e=\"Earth\" \n",
    "print(\"\"\"Both sides of the %s get the same amount of sunlight, but only one side is seen from %s because the %s rotates around its own axis when it orbits %s\"\"\" % (m,e,m,e))"
   ]
  },
  {
   "cell_type": "code",
   "execution_count": null,
   "id": "1ba5e037-af79-47ae-87b0-dd17692d6a24",
   "metadata": {},
   "outputs": [],
   "source": []
  },
  {
   "cell_type": "code",
   "execution_count": 25,
   "id": "fa11783a-1761-447b-80d6-f9496c464fcd",
   "metadata": {},
   "outputs": [
    {
     "name": "stdout",
     "output_type": "stream",
     "text": [
      "Distance in KM..  628949330\n",
      "\n",
      "Distance in Miles 390810995.0389724\n"
     ]
    }
   ],
   "source": [
    "first_planet = 149597870\n",
    "second_planet = 778547200\n",
    "\n",
    "distance_km = second_planet - first_planet\n",
    "print(\"Distance in KM.. \",distance_km)\n",
    "print()\n",
    "distance_mi = distance_km / 1.609344\n",
    "print(\"Distance in Miles\",distance_mi)"
   ]
  },
  {
   "cell_type": "markdown",
   "id": "58ebacd2-23d7-4d0f-9d6c-57eb82dbc29d",
   "metadata": {},
   "source": [
    "# Math library\n"
   ]
  },
  {
   "cell_type": "code",
   "execution_count": 27,
   "id": "8994ca66-b058-492f-b4ff-4c3dd9f95ed5",
   "metadata": {},
   "outputs": [
    {
     "name": "stdout",
     "output_type": "stream",
     "text": [
      "13\n",
      "12\n"
     ]
    }
   ],
   "source": [
    "from math import ceil, floor\n",
    "\n",
    "round_up = ceil(12.5)\n",
    "print(round_up)\n",
    "\n",
    "round_down = floor(12.5)\n",
    "print(round_down)"
   ]
  },
  {
   "cell_type": "markdown",
   "id": "1497ec7a-fafd-46e6-8e23-161f9d4687c1",
   "metadata": {},
   "source": [
    "# while and for loop\n",
    "\n",
    "1. Identify when to use while and for loops.\n",
    "2. Run a task multiple times by using while loops.\n",
    "3. Loop over list data by using for loops."
   ]
  },
  {
   "cell_type": "code",
   "execution_count": 29,
   "id": "8bd0b95c-44c8-428e-86bb-9b3930fc8586",
   "metadata": {},
   "outputs": [
    {
     "name": "stdin",
     "output_type": "stream",
     "text": [
      "Enter a new value, or done when done nishant\n",
      "Enter a new value, or done when done kumar\n",
      "Enter a new value, or done when done done\n"
     ]
    },
    {
     "name": "stdout",
     "output_type": "stream",
     "text": [
      "done\n"
     ]
    }
   ],
   "source": [
    "user_input = ''\n",
    "\n",
    "while user_input.lower() != 'done':\n",
    "    user_input = input('Enter a new value, or done when done')"
   ]
  },
  {
   "cell_type": "code",
   "execution_count": 32,
   "id": "ccbc8fee-0294-4b52-ace4-9a94fa622fd4",
   "metadata": {},
   "outputs": [
    {
     "name": "stdin",
     "output_type": "stream",
     "text": [
      "Enter a new value, or done when done nishant\n",
      "Enter a new value, or done when done nidhi\n",
      "Enter a new value, or done when done nikita\n",
      "Enter a new value, or done when done chandan\n",
      "Enter a new value, or done when done aaradhya\n",
      "Enter a new value, or done when done done\n"
     ]
    },
    {
     "name": "stdout",
     "output_type": "stream",
     "text": [
      "['nishant', 'nidhi', 'nikita', 'chandan', 'aaradhya']\n"
     ]
    }
   ],
   "source": [
    "# Create the variable for user input\n",
    "user_input = ''\n",
    "# Create the list to store the values\n",
    "inputs = []\n",
    "\n",
    "# The while loop\n",
    "while user_input.lower() != 'done':\n",
    "    # Check if there's a value in user_input\n",
    "    if user_input:\n",
    "        # Store the value in the list\n",
    "        inputs.append(user_input)\n",
    "    # Prompt for a new value\n",
    "    user_input = input('Enter a new value, or done when done')\n",
    "print(inputs)"
   ]
  },
  {
   "cell_type": "code",
   "execution_count": 31,
   "id": "a51cd200-8e09-42d2-8daf-222a8414dde0",
   "metadata": {},
   "outputs": [
    {
     "name": "stdout",
     "output_type": "stream",
     "text": [
      "['nishant', 'nikita', 'chandan', 'nidhi', 'aaradhya']\n"
     ]
    }
   ],
   "source": [
    "print(inputs)"
   ]
  },
  {
   "cell_type": "code",
   "execution_count": 34,
   "id": "9eadbfb3-b0c3-4175-99cf-8980e8938ccf",
   "metadata": {},
   "outputs": [
    {
     "name": "stdin",
     "output_type": "stream",
     "text": [
      "Enter a new planet, or done if done mars\n",
      "Enter a new planet, or done if done earth\n",
      "Enter a new planet, or done if done uranus\n",
      "Enter a new planet, or done if done done\n"
     ]
    },
    {
     "name": "stdout",
     "output_type": "stream",
     "text": [
      "['mars', 'earth', 'uranus']\n"
     ]
    }
   ],
   "source": [
    "new_planet = ''\n",
    "# Create the list to store the values\n",
    "planets = []\n",
    "\n",
    "while new_planet.lower() != 'done':\n",
    "    if new_planet:\n",
    "        planets.append(new_planet)\n",
    "    new_planet = input('Enter a new planet, or done if done')\n",
    "\n",
    "print(planets)"
   ]
  },
  {
   "cell_type": "markdown",
   "id": "4804480c-f778-4632-a3a9-a74c9f055674",
   "metadata": {},
   "source": [
    "# for loop"
   ]
  },
  {
   "cell_type": "code",
   "execution_count": 36,
   "id": "0f76ebce-d2d2-49db-a7dc-2eefcef2dee2",
   "metadata": {},
   "outputs": [
    {
     "name": "stdout",
     "output_type": "stream",
     "text": [
      "The first planet is  Mercury\n",
      "The second planet is  Venus\n",
      "The third planet is  Earth\n"
     ]
    }
   ],
   "source": [
    "planets = [\"Mercury\", \"Venus\", \"Earth\", \"Mars\", \"Jupiter\", \"Saturn\", \"Uranus\", \"Neptune\"]\n",
    "\n",
    "print(\"The first planet is \", planets[0])\n",
    "print(\"The second planet is \", planets[1])\n",
    "print(\"The third planet is \", planets[2])"
   ]
  },
  {
   "cell_type": "code",
   "execution_count": 37,
   "id": "9641bc81-3650-4d60-8e65-365c686b0b2c",
   "metadata": {},
   "outputs": [
    {
     "name": "stdout",
     "output_type": "stream",
     "text": [
      "4\n",
      "3\n",
      "2\n",
      "1\n",
      "0\n",
      "Blast off!! 🚀\n"
     ]
    }
   ],
   "source": [
    "countdown = [4, 3, 2, 1, 0]\n",
    "for number in countdown:\n",
    "    print(number)\n",
    "print(\"Blast off!! 🚀\")"
   ]
  },
  {
   "cell_type": "code",
   "execution_count": 38,
   "id": "d8e18439-4cd3-4eca-979f-fce97ecc7130",
   "metadata": {},
   "outputs": [
    {
     "name": "stdout",
     "output_type": "stream",
     "text": [
      "4\n",
      "3\n",
      "2\n",
      "1\n",
      "0\n",
      "Blast off!! 🚀\n"
     ]
    }
   ],
   "source": [
    "from time import sleep\n",
    "\n",
    "countdown = [4, 3, 2, 1, 0]\n",
    "\n",
    "for number in countdown:\n",
    "    print(number)\n",
    "    sleep(1)  # Wait 1 second\n",
    "print(\"Blast off!! 🚀\")"
   ]
  },
  {
   "cell_type": "markdown",
   "id": "19aa4556-8cd2-4306-b597-1f3daf7f1a8c",
   "metadata": {},
   "source": [
    "# dictionary:"
   ]
  },
  {
   "cell_type": "code",
   "execution_count": 39,
   "id": "02810535-46c7-43bf-a1d6-dbefcd6ae6bf",
   "metadata": {},
   "outputs": [],
   "source": [
    "planet = {\n",
    "    'name': 'Earth',\n",
    "    'moons': 1\n",
    "}"
   ]
  },
  {
   "cell_type": "code",
   "execution_count": 40,
   "id": "48441837-609e-430a-8c5d-5b09bc6d836a",
   "metadata": {},
   "outputs": [
    {
     "name": "stdout",
     "output_type": "stream",
     "text": [
      "Earth\n"
     ]
    }
   ],
   "source": [
    "print(planet.get('name'))"
   ]
  },
  {
   "cell_type": "code",
   "execution_count": 43,
   "id": "c31534a5-2f14-46c3-9e01-80d6f37c9013",
   "metadata": {},
   "outputs": [
    {
     "name": "stdout",
     "output_type": "stream",
     "text": [
      "80\n"
     ]
    }
   ],
   "source": [
    "planet.update({\n",
    "    'name': 'Jupiter',\n",
    "    'moons': 79\n",
    "})\n",
    "\n",
    "planet['name'] = 'Jupiter'\n",
    "planet['moons'] = 80\n",
    "print(planet.get('moons'))"
   ]
  },
  {
   "cell_type": "code",
   "execution_count": 46,
   "id": "9775a13c-e98f-4d5a-94c1-0e4f58cbacd9",
   "metadata": {},
   "outputs": [],
   "source": [
    "planet['orbital period'] = 4333\n",
    "\n",
    "# planet dictionary now contains: {\n",
    "#   name: 'jupiter'\n",
    "#   moons: 79\n",
    "#   orbital period: 4333\n",
    "# }\n"
   ]
  },
  {
   "cell_type": "code",
   "execution_count": 47,
   "id": "0fb3651b-cfa9-43a1-9d85-551fc9e302b0",
   "metadata": {},
   "outputs": [
    {
     "data": {
      "text/plain": [
       "4333"
      ]
     },
     "execution_count": 47,
     "metadata": {},
     "output_type": "execute_result"
    }
   ],
   "source": [
    "planet.pop('orbital period')\n",
    "\n",
    "# planet dictionary now contains: {\n",
    "#   name: 'jupiter'\n",
    "#   moons: 79\n",
    "# }"
   ]
  },
  {
   "cell_type": "code",
   "execution_count": 48,
   "id": "e8177451-37b6-42ab-96ee-77ac0248fd18",
   "metadata": {},
   "outputs": [],
   "source": [
    "# Add address\n",
    "planet['diameter (km)'] = {\n",
    "    'polar': 133709,\n",
    "    'equatorial': 142984\n",
    "}\n",
    "\n",
    "# planet dictionary now contains: {\n",
    "#   name: 'Jupiter'\n",
    "#   moons: 79\n",
    "#   diameter (km): {\n",
    "#      polar: 133709\n",
    "#      equatorial: 142984\n",
    "#   }\n",
    "# }"
   ]
  },
  {
   "cell_type": "code",
   "execution_count": 49,
   "id": "b1e03d8d-fabc-4625-a189-7c2efb466e7e",
   "metadata": {},
   "outputs": [
    {
     "name": "stdout",
     "output_type": "stream",
     "text": [
      "Jupiter polar diameter: 133709\n"
     ]
    }
   ],
   "source": [
    "print(f'{planet[\"name\"]} polar diameter: {planet[\"diameter (km)\"][\"polar\"]}')"
   ]
  },
  {
   "cell_type": "markdown",
   "id": "fd7407a8-57c7-41f1-aa0c-83962e77b8fb",
   "metadata": {},
   "source": [
    "# Retrieve all keys and values\n"
   ]
  },
  {
   "cell_type": "code",
   "execution_count": 50,
   "id": "83ec85b5-39e8-4ba0-90e2-7fe81eb31e7d",
   "metadata": {},
   "outputs": [],
   "source": [
    "rainfall = {\n",
    "    'october': 3.5,\n",
    "    'november': 4.2,\n",
    "    'december': 2.1\n",
    "}"
   ]
  },
  {
   "cell_type": "code",
   "execution_count": 51,
   "id": "b7d67174-1eb0-469f-960b-d0051d12d0b2",
   "metadata": {},
   "outputs": [
    {
     "name": "stdout",
     "output_type": "stream",
     "text": [
      "october: 3.5cm\n",
      "november: 4.2cm\n",
      "december: 2.1cm\n"
     ]
    }
   ],
   "source": [
    "for key in rainfall.keys():\n",
    "    print(f'{key}: {rainfall[key]}cm')"
   ]
  },
  {
   "cell_type": "markdown",
   "id": "629c31d6-768b-44b5-962b-39e69f90a983",
   "metadata": {},
   "source": [
    "# Determine if a key exists in a dictionary\n"
   ]
  },
  {
   "cell_type": "code",
   "execution_count": 52,
   "id": "0d3f5b33-953c-489c-9170-41b1a3d023a9",
   "metadata": {},
   "outputs": [],
   "source": [
    "if 'december' in rainfall:\n",
    "    rainfall['december'] = rainfall['december'] + 1\n",
    "else:\n",
    "    rainfall['december'] = 1\n",
    "\n",
    "# Because december exists, the value will be 3.1"
   ]
  },
  {
   "cell_type": "markdown",
   "id": "917d947e-08ad-4a1a-afed-08495324a5cf",
   "metadata": {},
   "source": [
    "# Retrieve all values\n"
   ]
  },
  {
   "cell_type": "code",
   "execution_count": 53,
   "id": "6963a4a7-6126-4ec2-b58b-8012974cbd85",
   "metadata": {},
   "outputs": [
    {
     "name": "stdout",
     "output_type": "stream",
     "text": [
      "There was 10.8cm in the last quarter.\n"
     ]
    }
   ],
   "source": [
    "total_rainfall = 0\n",
    "for value in rainfall.values():\n",
    "    total_rainfall = total_rainfall + value\n",
    "\n",
    "print(f'There was {total_rainfall}cm in the last quarter.')"
   ]
  },
  {
   "cell_type": "code",
   "execution_count": 57,
   "id": "060af386-2e7e-40f4-b70b-ac5033a7e890",
   "metadata": {},
   "outputs": [],
   "source": [
    "planet_moons = {\n",
    "    'mercury': 0,\n",
    "    'venus': 0,\n",
    "    'earth': 1,\n",
    "    'mars': 2,\n",
    "    'jupiter': 79,\n",
    "    'saturn': 82,\n",
    "    'uranus': 27,\n",
    "    'neptune': 14,\n",
    "    'pluto': 5,\n",
    "    'haumea': 2,\n",
    "    'makemake': 1,\n",
    "    'eris': 1\n",
    "}\n",
    "\n"
   ]
  },
  {
   "cell_type": "code",
   "execution_count": 58,
   "id": "a4a02f31-0d48-40a1-93e2-25278f128b3f",
   "metadata": {},
   "outputs": [],
   "source": [
    "moons = planet_moons.values()\n",
    "total_planets = len(planet_moons.keys())"
   ]
  },
  {
   "cell_type": "markdown",
   "id": "98e10233-d970-4b07-a3d2-686da16fcebd",
   "metadata": {},
   "source": [
    "# Determine the average number of moons\n"
   ]
  },
  {
   "cell_type": "code",
   "execution_count": 59,
   "id": "ad48e3fc-0888-4975-b633-1d5d6a4a7c76",
   "metadata": {},
   "outputs": [
    {
     "name": "stdout",
     "output_type": "stream",
     "text": [
      "Each planet has an average of 17.833333333333332 moons\n"
     ]
    }
   ],
   "source": [
    "total_moons = 0\n",
    "for moon in moons:\n",
    "    total_moons = total_moons + moon\n",
    "\n",
    "average = total_moons / total_planets\n",
    "\n",
    "print(f'Each planet has an average of {average} moons')"
   ]
  },
  {
   "cell_type": "markdown",
   "id": "29f56c46-4482-4534-975d-b14f5ac02824",
   "metadata": {},
   "source": [
    "# function"
   ]
  },
  {
   "cell_type": "code",
   "execution_count": 60,
   "id": "27e66a52-a9bf-4287-80f9-6af11d9b1e25",
   "metadata": {},
   "outputs": [
    {
     "name": "stdout",
     "output_type": "stream",
     "text": [
      "payload, propellant, structure\n"
     ]
    }
   ],
   "source": [
    "def rocket_parts():\n",
    "    print(\"payload, propellant, structure\")\n",
    "\n",
    "rocket_parts()"
   ]
  },
  {
   "cell_type": "code",
   "execution_count": 63,
   "id": "0739e033-06e5-46bf-a61e-3caa4dd747a4",
   "metadata": {},
   "outputs": [
    {
     "data": {
      "text/plain": [
       "'238,855'"
      ]
     },
     "execution_count": 63,
     "metadata": {},
     "output_type": "execute_result"
    }
   ],
   "source": [
    "def distance_from_earth(destination):\n",
    "    if destination == \"Moon\":\n",
    "        return \"238,855\"\n",
    "    else:\n",
    "        return \"Unable to compute to that destination\"\n",
    "\n",
    "distance_from_earth(\"Moon\")"
   ]
  },
  {
   "cell_type": "markdown",
   "id": "4f72b37c-7980-4f8c-b067-da822c7e1dd1",
   "metadata": {},
   "source": [
    "# Multiple required arguments\n"
   ]
  },
  {
   "cell_type": "code",
   "execution_count": 69,
   "id": "5557b9f2-d06e-43b1-a196-659105069e7f",
   "metadata": {},
   "outputs": [
    {
     "data": {
      "text/plain": [
       "132.69722222222222"
      ]
     },
     "execution_count": 69,
     "metadata": {},
     "output_type": "execute_result"
    }
   ],
   "source": [
    "def days_to_complete(distance, speed):\n",
    "    hours = distance/speed\n",
    "    return hours/24\n",
    "\n",
    "days_to_complete(238855, 75)"
   ]
  },
  {
   "cell_type": "code",
   "execution_count": 68,
   "id": "e6d17cc5-3905-4dd3-baa3-54a4aeb7fc93",
   "metadata": {},
   "outputs": [
    {
     "data": {
      "text/plain": [
       "133"
      ]
     },
     "execution_count": 68,
     "metadata": {},
     "output_type": "execute_result"
    }
   ],
   "source": [
    "total_days = days_to_complete(238855, 75)\n",
    "round(total_days)"
   ]
  },
  {
   "cell_type": "code",
   "execution_count": 70,
   "id": "d3f0880e-3910-40a2-b254-425e45ce69cf",
   "metadata": {},
   "outputs": [
    {
     "name": "stdout",
     "output_type": "stream",
     "text": [
      "Fuel Report:\n",
      "    Main tank: 80\n",
      "    External tank: 70\n",
      "    Hydrogen tank: 75 \n",
      "    \n"
     ]
    }
   ],
   "source": [
    "def generate_report(main_tank, external_tank, hydrogen_tank):\n",
    "    output = f\"\"\"Fuel Report:\n",
    "    Main tank: {main_tank}\n",
    "    External tank: {external_tank}\n",
    "    Hydrogen tank: {hydrogen_tank} \n",
    "    \"\"\"\n",
    "    print(output)\n",
    "\n",
    "generate_report(80,70,75)"
   ]
  },
  {
   "cell_type": "markdown",
   "id": "e827e1b5-749b-4479-9cb2-81e6e550d195",
   "metadata": {},
   "source": [
    "# Use keyword arguments in Python"
   ]
  },
  {
   "cell_type": "code",
   "execution_count": 73,
   "id": "3f8640fc-4655-4530-90e3-7693b908f6a3",
   "metadata": {},
   "outputs": [
    {
     "data": {
      "text/plain": [
       "'Arrival: Tuesday 22:47'"
      ]
     },
     "execution_count": 73,
     "metadata": {},
     "output_type": "execute_result"
    }
   ],
   "source": [
    "from datetime import timedelta, datetime\n",
    "\n",
    "def arrival_time(hours=51):\n",
    "    now = datetime.now()\n",
    "    arrival = now + timedelta(hours=hours)\n",
    "    return arrival.strftime(\"Arrival: %A %H:%M\")\n",
    "\n",
    "arrival_time(hours=0)"
   ]
  },
  {
   "cell_type": "code",
   "execution_count": 74,
   "id": "89015c80-ae75-4b35-80b0-27936f9aa1bd",
   "metadata": {},
   "outputs": [
    {
     "data": {
      "text/plain": [
       "'Arrival: Friday 01:47'"
      ]
     },
     "execution_count": 74,
     "metadata": {},
     "output_type": "execute_result"
    }
   ],
   "source": [
    "arrival_time()"
   ]
  },
  {
   "cell_type": "code",
   "execution_count": 76,
   "id": "064557c7-380e-495c-b948-7559322ce7dd",
   "metadata": {},
   "outputs": [
    {
     "data": {
      "text/plain": [
       "'Total time to launch is 36 minutes'"
      ]
     },
     "execution_count": 76,
     "metadata": {},
     "output_type": "execute_result"
    }
   ],
   "source": [
    "def sequence_time(*args):\n",
    "    total_minutes = sum(args)\n",
    "    if total_minutes < 60:\n",
    "        return f\"Total time to launch is {total_minutes} minutes\"\n",
    "    else:\n",
    "        return f\"Total time to launch is {total_minutes/60} hours\"\n",
    "\n",
    "sequence_time(4, 14, 18)"
   ]
  },
  {
   "cell_type": "markdown",
   "id": "a2b68f09-ff6f-4c14-9a1d-6588100f38cb",
   "metadata": {},
   "source": [
    "# Variable keyword arguments\n"
   ]
  },
  {
   "cell_type": "code",
   "execution_count": 77,
   "id": "2fdc624b-4049-4b1c-9a0c-d21c43092fca",
   "metadata": {},
   "outputs": [],
   "source": [
    "def variable_length(**kwargs):\n",
    "    print(kwargs)"
   ]
  },
  {
   "cell_type": "code",
   "execution_count": 78,
   "id": "7576f8ef-a123-40c6-ae95-ad9fd086de37",
   "metadata": {},
   "outputs": [
    {
     "name": "stdout",
     "output_type": "stream",
     "text": [
      "{'tanks': 1, 'day': 'Wednesday', 'pilots': 3}\n"
     ]
    },
    {
     "data": {
      "text/plain": [
       "{'tanks': 1, 'day': 'Wednesday', 'pilots': 3}"
      ]
     },
     "execution_count": 78,
     "metadata": {},
     "output_type": "execute_result"
    }
   ],
   "source": [
    "variable_length(tanks=1, day=\"Wednesday\", pilots=3)\n",
    "{'tanks': 1, 'day': 'Wednesday', 'pilots': 3}"
   ]
  },
  {
   "cell_type": "code",
   "execution_count": 81,
   "id": "0e5fcd77-741f-4281-b370-799662664790",
   "metadata": {},
   "outputs": [],
   "source": [
    "def crew_members(**kwargs):\n",
    "    print(f\"{len(kwargs)} astronauts assigned for this mission:\")\n",
    "    for title, name in kwargs.items():\n",
    "        print(f\"{title}: {name}\")\n",
    "\n"
   ]
  },
  {
   "cell_type": "code",
   "execution_count": 82,
   "id": "8d297283-1b66-4809-9255-312e66586a26",
   "metadata": {},
   "outputs": [
    {
     "data": {
      "text/plain": [
       "'Total water left after 2 days is: -10 liters'"
      ]
     },
     "execution_count": 82,
     "metadata": {},
     "output_type": "execute_result"
    }
   ],
   "source": [
    "def water_left(astronauts, water_left, days_left):\n",
    "    daily_usage = astronauts * 11\n",
    "    total_usage = daily_usage * days_left\n",
    "    total_water_left = water_left - total_usage\n",
    "    return f\"Total water left after {days_left} days is: {total_water_left} liters\"\n",
    "\n",
    "water_left(5, 100, 2)"
   ]
  },
  {
   "cell_type": "markdown",
   "id": "3fc393e7-74a5-4970-a767-baeb27e8dc3d",
   "metadata": {},
   "source": [
    "# 10  july 2024"
   ]
  },
  {
   "cell_type": "code",
   "execution_count": 3,
   "id": "5dfa2618-b238-4975-a4a4-2cf641447f2f",
   "metadata": {},
   "outputs": [
    {
     "ename": "NameError",
     "evalue": "name 'activity' is not defined",
     "output_type": "error",
     "traceback": [
      "\u001b[1;31m---------------------------------------------------------------------------\u001b[0m",
      "\u001b[1;31mNameError\u001b[0m                                 Traceback (most recent call last)",
      "Cell \u001b[1;32mIn[3], line 8\u001b[0m\n\u001b[0;32m      5\u001b[0m indy_like \u001b[38;5;241m=\u001b[39m \u001b[38;5;241m0\u001b[39m\n\u001b[0;32m      7\u001b[0m \u001b[38;5;66;03m# update scoring variables based on the activity choice\u001b[39;00m\n\u001b[1;32m----> 8\u001b[0m \u001b[38;5;28;01mif\u001b[39;00m activity \u001b[38;5;241m==\u001b[39m \u001b[38;5;124m\"\u001b[39m\u001b[38;5;124mA\u001b[39m\u001b[38;5;124m\"\u001b[39m:\n\u001b[0;32m      9\u001b[0m     sam_like \u001b[38;5;241m=\u001b[39m sam_like \u001b[38;5;241m+\u001b[39m \u001b[38;5;241m2\u001b[39m\n\u001b[0;32m     10\u001b[0m     indy_like \u001b[38;5;241m=\u001b[39m indy_like \u001b[38;5;241m+\u001b[39m \u001b[38;5;241m2\u001b[39m\n",
      "\u001b[1;31mNameError\u001b[0m: name 'activity' is not defined"
     ]
    }
   ],
   "source": [
    "# create some variables for scoring\n",
    "sam_like = 0\n",
    "cam_like = 0\n",
    "kai_like = 0\n",
    "indy_like = 0\n",
    "\n",
    "# update scoring variables based on the activity choice\n",
    "if activity == \"A\":\n",
    "    sam_like = sam_like + 2\n",
    "    indy_like = indy_like + 2\n",
    "    kai_like = kai_like + 2\n",
    "else:\n",
    "    cam_like = cam_like + 1\n",
    "    indy_like = indy_like + 1\n",
    "\n",
    "# update scoring variables based on the job choice\n",
    "if job == \"A\":\n",
    "    sam_like = sam_like + 2\n",
    "    indy_like = indy_like + 2\n",
    "    cam_like = cam_like - 1\n",
    "else:\n",
    "    sam_like = sam_like - 1\n",
    "    kai_like = kai_like + 2\n",
    "    indy_like = indy_like + 1\n",
    "\n",
    "# update scoring variables based on the value choice\n",
    "if value == \"A\":\n",
    "    sam_like = sam_like - 1\n",
    "    kai_like = kai_like + 1\n",
    "else:\n",
    "    sam_like = sam_like + 2\n",
    "    cam_like = cam_like + 2\n",
    "    indy_like = indy_like + 1\n",
    "\n",
    "# update scoring variables based on the decade choice\n",
    "if decade == \"A\":\n",
    "    cam_like = cam_like + 2\n",
    "    sam_like = sam_like + 2\n",
    "else:\n",
    "    kai_like = kai_like + 1\n",
    "    indy_like = indy_like + 2\n",
    "\n",
    "# update scoring variables based on the travel choice\n",
    "if travel == \"A\":\n",
    "    sam_like = sam_like - 2\n",
    "    kai_like = kai_like + 1\n",
    "    indy_like = indy_like - 1\n",
    "else:\n",
    "    sam_like = sam_like + 1\n",
    "    cam_like = cam_like + 1\n",
    "    kai_like = kai_like - 1\n",
    "\n",
    "# print the results depending on the score\n",
    "if sam_like >= 3:\n",
    "    print( \"You're most like Sharp-Eyed Sam!\" )\n",
    "elif cam_like >= 3:\n",
    "    print( \"You're most like Curious Cam!\" )\n",
    "elif kai_like >= 3:\n",
    "    print( \"You're most like Keen Kai!\" )\n",
    "else:\n",
    "    print( \"You're most like Inquisitive Indy!\" )"
   ]
  },
  {
   "cell_type": "code",
   "execution_count": null,
   "id": "d04d85c7-114f-480e-9898-f8e18a596fcf",
   "metadata": {},
   "outputs": [],
   "source": []
  }
 ],
 "metadata": {
  "kernelspec": {
   "display_name": "Python 3 (ipykernel)",
   "language": "python",
   "name": "python3"
  },
  "language_info": {
   "codemirror_mode": {
    "name": "ipython",
    "version": 3
   },
   "file_extension": ".py",
   "mimetype": "text/x-python",
   "name": "python",
   "nbconvert_exporter": "python",
   "pygments_lexer": "ipython3",
   "version": "3.11.7"
  },
  "widgets": {
   "application/vnd.jupyter.widget-state+json": {
    "state": {},
    "version_major": 2,
    "version_minor": 0
   }
  }
 },
 "nbformat": 4,
 "nbformat_minor": 5
}
