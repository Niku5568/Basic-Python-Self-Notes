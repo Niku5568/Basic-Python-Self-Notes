{
 "cells": [
  {
   "cell_type": "code",
   "execution_count": 2,
   "id": "fc346161-5b59-4e23-902e-68c0b4c6f9b7",
   "metadata": {},
   "outputs": [],
   "source": [
    "#buit-in function"
   ]
  },
  {
   "cell_type": "code",
   "execution_count": 3,
   "id": "4bbcbf87-2f74-4a70-b524-03c55aaf042b",
   "metadata": {},
   "outputs": [],
   "source": [
    "#abs() function"
   ]
  },
  {
   "cell_type": "code",
   "execution_count": 1,
   "id": "a58ae4b4-7741-418e-88c6-54ae8681195b",
   "metadata": {},
   "outputs": [
    {
     "name": "stdout",
     "output_type": "stream",
     "text": [
      "7.68\n"
     ]
    }
   ],
   "source": [
    "#with float value\n",
    "x= abs(-7.68)\n",
    "print(x)"
   ]
  },
  {
   "cell_type": "code",
   "execution_count": 4,
   "id": "f8c6e342-afa4-411a-922e-38e35460da6d",
   "metadata": {},
   "outputs": [
    {
     "name": "stdout",
     "output_type": "stream",
     "text": [
      "8\n"
     ]
    }
   ],
   "source": [
    "#with int value\n",
    "y= abs(-8)\n",
    "print(y)"
   ]
  },
  {
   "cell_type": "code",
   "execution_count": 5,
   "id": "ead85a73-f0cc-4bac-9046-8370704a00f2",
   "metadata": {},
   "outputs": [
    {
     "name": "stdout",
     "output_type": "stream",
     "text": [
      "5.830951894845301\n"
     ]
    }
   ],
   "source": [
    "#with complex value\n",
    "z= abs(3+5j)\n",
    "print(z)"
   ]
  },
  {
   "cell_type": "code",
   "execution_count": 6,
   "id": "2268c9a7-a3e1-4f24-b321-f7c560081478",
   "metadata": {},
   "outputs": [],
   "source": [
    "#bin() function : Binary Function"
   ]
  },
  {
   "cell_type": "code",
   "execution_count": 7,
   "id": "ce81f778-fdab-40ff-9cd3-d02ff2115e9d",
   "metadata": {},
   "outputs": [
    {
     "name": "stdout",
     "output_type": "stream",
     "text": [
      "0b100100\n"
     ]
    }
   ],
   "source": [
    "x=bin(36)\n",
    "print(x)"
   ]
  },
  {
   "cell_type": "code",
   "execution_count": 8,
   "id": "fd56c5b3-7e0c-4cba-8eed-e484bb4c173c",
   "metadata": {},
   "outputs": [
    {
     "name": "stdout",
     "output_type": "stream",
     "text": [
      "0b110110\n"
     ]
    }
   ],
   "source": [
    "y=bin(54)\n",
    "print(y)"
   ]
  },
  {
   "cell_type": "code",
   "execution_count": 9,
   "id": "1e71bfa1-c6ef-46f3-a9a7-1d307230db14",
   "metadata": {},
   "outputs": [],
   "source": [
    "#Python Byte function:"
   ]
  },
  {
   "cell_type": "code",
   "execution_count": 10,
   "id": "b3fdd43a-6411-4391-9a34-aa281a555581",
   "metadata": {},
   "outputs": [
    {
     "name": "stdout",
     "output_type": "stream",
     "text": [
      "b'\\x00\\x00\\x00\\x00'\n"
     ]
    }
   ],
   "source": [
    "x= bytes(4)\n",
    "print(x)"
   ]
  },
  {
   "cell_type": "code",
   "execution_count": 14,
   "id": "86d6af73-b6da-4f13-86c1-33724e5cc361",
   "metadata": {},
   "outputs": [
    {
     "name": "stdout",
     "output_type": "stream",
     "text": [
      "b'\\x00\\x00\\x00\\x00\\x00\\x00\\x00\\x00\\x00\\x00\\x00\\x00\\x00\\x00\\x00\\x00\\x00\\x00'\n"
     ]
    }
   ],
   "source": [
    "y=bytes(18)\n",
    "print(y)"
   ]
  },
  {
   "cell_type": "code",
   "execution_count": 15,
   "id": "885e4e98-8966-4a94-bc04-8b141ad97991",
   "metadata": {},
   "outputs": [
    {
     "ename": "NameError",
     "evalue": "name 'nishant' is not defined",
     "output_type": "error",
     "traceback": [
      "\u001b[1;31m---------------------------------------------------------------------------\u001b[0m",
      "\u001b[1;31mNameError\u001b[0m                                 Traceback (most recent call last)",
      "Cell \u001b[1;32mIn[15], line 1\u001b[0m\n\u001b[1;32m----> 1\u001b[0m z\u001b[38;5;241m=\u001b[39m\u001b[38;5;28mbytes\u001b[39m(nishant) \u001b[38;5;66;03m# error as bytes function only work in integer value like: 6, 17, 20, etc.\u001b[39;00m\n\u001b[0;32m      2\u001b[0m \u001b[38;5;28mprint\u001b[39m(z)\n",
      "\u001b[1;31mNameError\u001b[0m: name 'nishant' is not defined"
     ]
    }
   ],
   "source": [
    "z=bytes(nishant) # error as bytes function only work in integer value like: 6, 17, 20, etc.\n",
    "print(z)"
   ]
  },
  {
   "cell_type": "code",
   "execution_count": 16,
   "id": "635cb82d-3755-4bd8-aa0e-6a801f0e9f43",
   "metadata": {},
   "outputs": [],
   "source": [
    "#python char() function: character function - return the character that reprsent the specified unique code like : 99 = c"
   ]
  },
  {
   "cell_type": "code",
   "execution_count": 18,
   "id": "7710cf12-c0e1-4cc9-a67b-b483ba4f71e6",
   "metadata": {},
   "outputs": [
    {
     "name": "stdout",
     "output_type": "stream",
     "text": [
      "c\n"
     ]
    }
   ],
   "source": [
    "x = chr(99)\n",
    "print(x)"
   ]
  },
  {
   "cell_type": "code",
   "execution_count": 19,
   "id": "2de7e8e4-9bab-49a9-94bd-91c403f22ff6",
   "metadata": {},
   "outputs": [
    {
     "name": "stdout",
     "output_type": "stream",
     "text": [
      "a\n"
     ]
    }
   ],
   "source": [
    "y = chr(97)\n",
    "print(y)"
   ]
  },
  {
   "cell_type": "code",
   "execution_count": 20,
   "id": "2ff28bf2-b925-47ae-919f-39b387190135",
   "metadata": {},
   "outputs": [],
   "source": [
    "#complex() function: will convert normal value into complex number"
   ]
  },
  {
   "cell_type": "code",
   "execution_count": 21,
   "id": "1cbd1cae-c97a-423e-bc7d-cf39b47b0689",
   "metadata": {},
   "outputs": [
    {
     "name": "stdout",
     "output_type": "stream",
     "text": [
      "(3+6j)\n"
     ]
    }
   ],
   "source": [
    "x= complex(3,6)\n",
    "print(x)"
   ]
  },
  {
   "cell_type": "code",
   "execution_count": 22,
   "id": "4df3baa0-ccfd-47fd-acb3-16e1e517fccb",
   "metadata": {},
   "outputs": [
    {
     "name": "stdout",
     "output_type": "stream",
     "text": [
      "(2.5+3.96j)\n"
     ]
    }
   ],
   "source": [
    "y = complex(2.5,3.96)\n",
    "print(y)"
   ]
  },
  {
   "cell_type": "code",
   "execution_count": 23,
   "id": "7d8a632f-ac15-4412-8666-1d4e3cfaff20",
   "metadata": {},
   "outputs": [],
   "source": [
    " #float() function: will convert integer value into decimal value/float number"
   ]
  },
  {
   "cell_type": "code",
   "execution_count": 24,
   "id": "115bbaad-59b3-4d97-bd37-3ce42dc91fd1",
   "metadata": {},
   "outputs": [
    {
     "name": "stdout",
     "output_type": "stream",
     "text": [
      "4.0\n"
     ]
    }
   ],
   "source": [
    "x=float(4)\n",
    "print(x)"
   ]
  },
  {
   "cell_type": "code",
   "execution_count": 25,
   "id": "771f24f5-c187-4b31-af90-8d6ca6d22e7b",
   "metadata": {},
   "outputs": [],
   "source": [
    "#int() functoin: will convert float value into int. \n",
    "#note: complex number never convert into integer."
   ]
  },
  {
   "cell_type": "code",
   "execution_count": 26,
   "id": "620db278-80ff-443a-9891-ff9cb4acae42",
   "metadata": {},
   "outputs": [
    {
     "name": "stdout",
     "output_type": "stream",
     "text": [
      "4\n"
     ]
    }
   ],
   "source": [
    "x = int(4.56)\n",
    "print(x)"
   ]
  },
  {
   "cell_type": "code",
   "execution_count": 27,
   "id": "2a98d639-e568-43ec-a493-9ae240c2f5d0",
   "metadata": {},
   "outputs": [],
   "source": [
    "#str() function: will convert any integer value into str. "
   ]
  },
  {
   "cell_type": "code",
   "execution_count": 28,
   "id": "4c387357-19c9-422f-8e16-9b9282e1d5ee",
   "metadata": {},
   "outputs": [
    {
     "name": "stdout",
     "output_type": "stream",
     "text": [
      "2568\n",
      "<class 'str'>\n"
     ]
    }
   ],
   "source": [
    "a=str(\"2568\")\n",
    "print(a)\n",
    "print(type(a))"
   ]
  },
  {
   "cell_type": "code",
   "execution_count": 29,
   "id": "776b08a1-1c4b-4e24-aa79-dd9b777b60dc",
   "metadata": {},
   "outputs": [],
   "source": [
    "#help() function:"
   ]
  },
  {
   "cell_type": "code",
   "execution_count": 30,
   "id": "4ee9560c-54eb-43ea-aed7-1548744298b7",
   "metadata": {},
   "outputs": [
    {
     "name": "stdout",
     "output_type": "stream",
     "text": [
      "Help on built-in function print in module builtins:\n",
      "\n",
      "print(*args, sep=' ', end='\\n', file=None, flush=False)\n",
      "    Prints the values to a stream, or to sys.stdout by default.\n",
      "    \n",
      "    sep\n",
      "      string inserted between values, default a space.\n",
      "    end\n",
      "      string appended after the last value, default a newline.\n",
      "    file\n",
      "      a file-like object (stream); defaults to the current sys.stdout.\n",
      "    flush\n",
      "      whether to forcibly flush the stream.\n",
      "\n"
     ]
    }
   ],
   "source": [
    "help(print)"
   ]
  },
  {
   "cell_type": "code",
   "execution_count": null,
   "id": "53d78627-4209-47f1-ab89-0d04ef24a5f0",
   "metadata": {},
   "outputs": [],
   "source": [
    "\n",
    "\n"
   ]
  },
  {
   "cell_type": "code",
   "execution_count": 31,
   "id": "abbd5062-11d0-4832-a485-8f151c74dbea",
   "metadata": {},
   "outputs": [],
   "source": [
    "#input() function:"
   ]
  },
  {
   "cell_type": "code",
   "execution_count": 33,
   "id": "f01a6966-4835-40b5-9ba5-3c8a2fc57581",
   "metadata": {},
   "outputs": [
    {
     "name": "stdin",
     "output_type": "stream",
     "text": [
      "Enter your Name:  Nishant\n"
     ]
    },
    {
     "name": "stdout",
     "output_type": "stream",
     "text": [
      "Hello  Nishant\n"
     ]
    }
   ],
   "source": [
    "x = input(\"Enter your Name: \")\n",
    "print(\"Hello \",x)"
   ]
  },
  {
   "cell_type": "code",
   "execution_count": 34,
   "id": "8c87f743-33eb-4fa1-b2c3-d0e8b71c46a9",
   "metadata": {},
   "outputs": [
    {
     "name": "stdin",
     "output_type": "stream",
     "text": [
      "Enter your Age:  25\n"
     ]
    },
    {
     "name": "stdout",
     "output_type": "stream",
     "text": [
      "Your Age is  25\n"
     ]
    }
   ],
   "source": [
    "x = input(\"Enter your Age: \")\n",
    "print(\"Your Age is \",x)"
   ]
  },
  {
   "cell_type": "code",
   "execution_count": 35,
   "id": "152aea4c-62b0-4afa-ba15-204f6c9926da",
   "metadata": {},
   "outputs": [
    {
     "name": "stdin",
     "output_type": "stream",
     "text": [
      "Enter your Name:  Nishant\n"
     ]
    },
    {
     "name": "stdout",
     "output_type": "stream",
     "text": [
      "Hello  Nishant\n"
     ]
    },
    {
     "name": "stdin",
     "output_type": "stream",
     "text": [
      "Enter your Age:  25\n"
     ]
    },
    {
     "name": "stdout",
     "output_type": "stream",
     "text": [
      "Your Age is :  25\n"
     ]
    }
   ],
   "source": [
    "x = input(\"Enter your Name: \")\n",
    "print(\"Hello \",x)\n",
    "y = input(\"Enter your Age: \")\n",
    "print(\"Your Age is : \",y)"
   ]
  },
  {
   "cell_type": "code",
   "execution_count": 36,
   "id": "485cb71c-52bc-4628-a14a-715353481a7c",
   "metadata": {},
   "outputs": [
    {
     "name": "stdin",
     "output_type": "stream",
     "text": [
      "Enter your Name:  Nishant\n",
      "Enter your Age:  25\n"
     ]
    },
    {
     "name": "stdout",
     "output_type": "stream",
     "text": [
      "Hello  Nishant\n",
      "Your Age is :  25\n"
     ]
    }
   ],
   "source": [
    "x = input(\"Enter your Name: \")\n",
    "y = input(\"Enter your Age: \")\n",
    "print(\"Hello \",x)\n",
    "print(\"Your Age is : \",y)"
   ]
  },
  {
   "cell_type": "code",
   "execution_count": null,
   "id": "ba55f0b9-2c6e-4185-9cc1-8b76eb414189",
   "metadata": {},
   "outputs": [],
   "source": []
  }
 ],
 "metadata": {
  "kernelspec": {
   "display_name": "Python 3 (ipykernel)",
   "language": "python",
   "name": "python3"
  },
  "language_info": {
   "codemirror_mode": {
    "name": "ipython",
    "version": 3
   },
   "file_extension": ".py",
   "mimetype": "text/x-python",
   "name": "python",
   "nbconvert_exporter": "python",
   "pygments_lexer": "ipython3",
   "version": "3.11.7"
  }
 },
 "nbformat": 4,
 "nbformat_minor": 5
}
