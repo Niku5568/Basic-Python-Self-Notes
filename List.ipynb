{
 "cells": [
  {
   "cell_type": "markdown",
   "id": "e14787fc-803e-4510-aab6-042356cbe55e",
   "metadata": {},
   "source": [
    "# List\n",
    "\n",
    "# Creating List: -"
   ]
  },
  {
   "cell_type": "code",
   "execution_count": 2,
   "id": "9e2bc6ff-260d-476c-8dcf-055e31cdd2f4",
   "metadata": {},
   "outputs": [
    {
     "name": "stdout",
     "output_type": "stream",
     "text": [
      "['Apple', 'Mango', 'Orange', 'Papaya']\n",
      "<class 'list'>\n"
     ]
    }
   ],
   "source": [
    "a=[\"Apple\", \"Mango\", \"Orange\", \"Papaya\"]\n",
    "print(a)\n",
    "print(type(a))"
   ]
  },
  {
   "cell_type": "markdown",
   "id": "a412e7b9-a4bd-41be-ad2a-fb1391dc6871",
   "metadata": {},
   "source": [
    "# Allow duplicates"
   ]
  },
  {
   "cell_type": "code",
   "execution_count": 3,
   "id": "3726cd6e-9129-4a98-aecb-2369ca845fc3",
   "metadata": {},
   "outputs": [
    {
     "name": "stdout",
     "output_type": "stream",
     "text": [
      "['Apple', 'Mango', 'Orange', 'Papaya', 'Orange', 'Apple', 'Banana', 'Kiwi']\n"
     ]
    }
   ],
   "source": [
    "a=[\"Apple\", \"Mango\", \"Orange\", \"Papaya\", \"Orange\", \"Apple\", \"Banana\", \"Kiwi\"]\n",
    "print(a)"
   ]
  },
  {
   "cell_type": "markdown",
   "id": "a162bdb2-cece-4d33-b3bb-2ff0034e32ee",
   "metadata": {},
   "source": [
    "# list items - Data types (which type of data can list cantain)"
   ]
  },
  {
   "cell_type": "code",
   "execution_count": 12,
   "id": "08dc9cd4-3b30-4ed2-8e68-919303b496e8",
   "metadata": {},
   "outputs": [
    {
     "name": "stdout",
     "output_type": "stream",
     "text": [
      "String:-  ['Apple', 'Mango', 'Orange', 'Papaya', 'Kiwi', 'Banana'] \n",
      " Integer:-  [1, 2, 3, 4, 5, 6, 7, 8, 9] \n",
      " Float:-  [1.2, 2.0, 3.4] \n",
      " Boolean:-  [True, False, False, True]\n"
     ]
    }
   ],
   "source": [
    "a=[\"Apple\", \"Mango\", \"Orange\", \"Papaya\", \"Kiwi\", \"Banana\"] # String\n",
    "b=[1,2,3,4,5,6,7,8,9] # Integer\n",
    "c=[1.2,2.0,3.4] #Float\n",
    "d=[True, False, False, True] # Boolean Type\n",
    "\n",
    "print(\"String:- \",a,\"\\n\",\"Integer:- \",b,\"\\n\",\"Float:- \",c,\"\\n\",\"Boolean:- \",d)"
   ]
  },
  {
   "cell_type": "code",
   "execution_count": 13,
   "id": "39b59a7e-f376-450d-ba00-12354698be29",
   "metadata": {},
   "outputs": [
    {
     "name": "stdout",
     "output_type": "stream",
     "text": [
      "['Apple', 'Mango', 'Orange', 'Papaya', 'Kiwi', 'Banana', 1, 2, 3, 4, 5, 6, 7, 8, 9, True, False, False, True, 1.2, 2.0, 3.4]\n"
     ]
    }
   ],
   "source": [
    "a=[\"Apple\", \"Mango\", \"Orange\", \"Papaya\", \"Kiwi\", \"Banana\", 1,2,3,4,5,6,7,8,9,True, False, False, True,1.2,2.0,3.4]\n",
    "print(a)"
   ]
  },
  {
   "cell_type": "markdown",
   "id": "3423be5d-1cdf-4a1f-8d7b-d905ebe312d3",
   "metadata": {},
   "source": [
    "# List Length"
   ]
  },
  {
   "cell_type": "code",
   "execution_count": 15,
   "id": "796cdd5c-4502-4b8a-91b2-7260ff829b5f",
   "metadata": {},
   "outputs": [
    {
     "name": "stdout",
     "output_type": "stream",
     "text": [
      "22\n"
     ]
    }
   ],
   "source": [
    "a=[\"Apple\", \"Mango\", \"Orange\", \"Papaya\", \"Kiwi\", \"Banana\", 1,2,3,4,5,6,7,8,9,True, False, False, True,1.2,2.0,3.4]\n",
    "print(len(a))"
   ]
  },
  {
   "cell_type": "markdown",
   "id": "f81df31e-47ed-4e13-b9c2-5faea0f12cd3",
   "metadata": {},
   "source": [
    "# Access Items: "
   ]
  },
  {
   "cell_type": "code",
   "execution_count": 17,
   "id": "9741f7d9-608f-49d3-9163-31f1a601d647",
   "metadata": {},
   "outputs": [
    {
     "name": "stdout",
     "output_type": "stream",
     "text": [
      "3\n"
     ]
    }
   ],
   "source": [
    "b=[1,2,3,4,5,6,7,8,9]\n",
    "print(b[2])\n"
   ]
  },
  {
   "cell_type": "code",
   "execution_count": 22,
   "id": "c7a08649-b104-4dcb-85f1-bcf55c1fe674",
   "metadata": {},
   "outputs": [
    {
     "name": "stdout",
     "output_type": "stream",
     "text": [
      "Orange\n"
     ]
    }
   ],
   "source": [
    "# index No.: \n",
    "#      0       1        2         3          4         5        6    \n",
    "a=[\"Apple\", \"Mango\", \"Orange\", \"Papaya\", \"Orange\", \"Banana\", \"Kiwi\"]\n",
    "print(a[2])"
   ]
  },
  {
   "cell_type": "code",
   "execution_count": 23,
   "id": "d3bddb69-10b8-4541-9af8-ea2b01887079",
   "metadata": {},
   "outputs": [
    {
     "name": "stdout",
     "output_type": "stream",
     "text": [
      "50\n"
     ]
    }
   ],
   "source": [
    "# index No.: \n",
    "#  0   1  2  3  4  5  6  7  8  9 10 11 12 13 14 15 16 17 18\n",
    "a=[10,15,20,25,30,35,40,45,50,55,60,65,70,75,80,85,90,95,100]\n",
    "print(a[8])"
   ]
  },
  {
   "cell_type": "code",
   "execution_count": 31,
   "id": "4a0d8351-e8cd-480b-a596-94cdb56b0968",
   "metadata": {},
   "outputs": [
    {
     "name": "stdout",
     "output_type": "stream",
     "text": [
      "15\n"
     ]
    }
   ],
   "source": [
    "# index No.: \n",
    "#  0   1  2  3  4  5  6  7  8  9 10 11 12 13 14 15 16 17 18       (Index Number/ item Position number)\n",
    "# -19-18-17-16-15-14-13-12-11-10 -9 -8 -7 -6 -5 -4 -3 -2 -1       (Reverse Index Number/ item Position number)\n",
    "a=[10,15,20,25,30,35,40,45,50,55,60,65,70,75,80,85,90,95,100]\n",
    "print(a[-18])"
   ]
  },
  {
   "cell_type": "code",
   "execution_count": 32,
   "id": "53f15300-e3d8-4f31-b8af-2bfe5be92634",
   "metadata": {},
   "outputs": [
    {
     "name": "stdout",
     "output_type": "stream",
     "text": [
      "80\n"
     ]
    }
   ],
   "source": [
    "# index No.: \n",
    "#  0   1  2  3  4  5  6  7  8  9 10 11 12 13 14 15 16 17 18       (Index Number/ item Position number)\n",
    "# -19-18-17-16-15-14-13-12-11-10 -9 -8 -7 -6 -5 -4 -3 -2 -1       (Reverse Index Number/ item Position number)\n",
    "a=[10,15,20,25,30,35,40,45,50,55,60,65,70,75,80,85,90,95,100]\n",
    "print(a[-5])"
   ]
  },
  {
   "cell_type": "markdown",
   "id": "a876d913-514e-4bda-820f-e36fca94435a",
   "metadata": {},
   "source": [
    "# Slicing of items:\n",
    "\n",
    "slicing will help to select the particular range from the item/list which are required. slicing work has three fase (start, end and steps/gape)"
   ]
  },
  {
   "cell_type": "code",
   "execution_count": 33,
   "id": "98e0e0ce-864e-46ff-ab79-5ae71bd4e034",
   "metadata": {},
   "outputs": [
    {
     "name": "stdout",
     "output_type": "stream",
     "text": [
      "[10, 15, 20, 25, 30]\n"
     ]
    }
   ],
   "source": [
    "# index No.: \n",
    "#  0   1  2  3  4  5  6  7  8  9 10 11 12 13 14 15 16 17 18       (Index Number/ item Position number)\n",
    "# -19-18-17-16-15-14-13-12-11-10 -9 -8 -7 -6 -5 -4 -3 -2 -1       (Reverse Index Number/ item Position number)\n",
    "a=[10,15,20,25,30,35,40,45,50,55,60,65,70,75,80,85,90,95,100]\n",
    "print(a[0:5])"
   ]
  },
  {
   "cell_type": "code",
   "execution_count": 38,
   "id": "fa296f36-06ee-470f-909f-3ef1a5e36254",
   "metadata": {},
   "outputs": [
    {
     "name": "stdout",
     "output_type": "stream",
     "text": [
      "[35, 40, 45, 50, 55, 60, 65, 70, 75, 80, 85, 90, 95, 100]\n"
     ]
    }
   ],
   "source": [
    "#Start with\n",
    "# index No.: \n",
    "#  0   1  2  3  4  5  6  7  8  9 10 11 12 13 14 15 16 17 18       (Index Number/ item Position number)\n",
    "# -19-18-17-16-15-14-13-12-11-10 -9 -8 -7 -6 -5 -4 -3 -2 -1       (Reverse Index Number/ item Position number)\n",
    "a=[10,15,20,25,30,35,40,45,50,55,60,65,70,75,80,85,90,95,100]\n",
    "print(a[5:])"
   ]
  },
  {
   "cell_type": "code",
   "execution_count": 39,
   "id": "3da2c6cc-4aeb-4f0a-b529-986f8df63b25",
   "metadata": {},
   "outputs": [
    {
     "name": "stdout",
     "output_type": "stream",
     "text": [
      "[10, 15, 20, 25, 30, 35, 40, 45, 50, 55]\n"
     ]
    }
   ],
   "source": [
    "#end with\n",
    "# index No.: \n",
    "#  0   1  2  3  4  5  6  7  8  9 10 11 12 13 14 15 16 17 18       (Index Number/ item Position number)\n",
    "# -19-18-17-16-15-14-13-12-11-10 -9 -8 -7 -6 -5 -4 -3 -2 -1       (Reverse Index Number/ item Position number)\n",
    "a=[10,15,20,25,30,35,40,45,50,55,60,65,70,75,80,85,90,95,100]\n",
    "print(a[:10])"
   ]
  },
  {
   "cell_type": "code",
   "execution_count": 37,
   "id": "ff581411-9924-487a-bac7-93eab9897874",
   "metadata": {},
   "outputs": [
    {
     "name": "stdout",
     "output_type": "stream",
     "text": [
      "[35, 40, 45, 50, 55]\n"
     ]
    }
   ],
   "source": [
    "# Between range\n",
    "# index No.: \n",
    "#  0   1  2  3  4  5  6  7  8  9 10 11 12 13 14 15 16 17 18       (Index Number/ item Position number)\n",
    "# -19-18-17-16-15-14-13-12-11-10 -9 -8 -7 -6 -5 -4 -3 -2 -1       (Reverse Index Number/ item Position number)\n",
    "a=[10,15,20,25,30,35,40,45,50,55,60,65,70,75,80,85,90,95,100]\n",
    "print(a[5:10])"
   ]
  },
  {
   "cell_type": "code",
   "execution_count": 43,
   "id": "01d52f0b-8700-46be-a714-81170ccade71",
   "metadata": {},
   "outputs": [
    {
     "name": "stdout",
     "output_type": "stream",
     "text": [
      "[10, 20, 30, 40, 50, 60, 70, 80, 90, 100]\n"
     ]
    }
   ],
   "source": [
    "#using steps/skip the values:- \n",
    "# index No.: \n",
    "#  0   1  2  3  4  5  6  7  8  9 10 11 12 13 14 15 16 17 18       (Index Number/ item Position number)\n",
    "# -19-18-17-16-15-14-13-12-11-10 -9 -8 -7 -6 -5 -4 -3 -2 -1       (Reverse Index Number/ item Position number)\n",
    "a=[10,15,20,25,30,35,40,45,50,55,60,65,70,75,80,85,90,95,100]\n",
    "print(a[0:18+1:2])"
   ]
  },
  {
   "cell_type": "markdown",
   "id": "f4e20c18-0151-4588-be01-8044275723d8",
   "metadata": {},
   "source": [
    "# Change List items"
   ]
  },
  {
   "cell_type": "code",
   "execution_count": 44,
   "id": "2a7fbfd4-e55b-4312-8a76-f1ed46d46b12",
   "metadata": {},
   "outputs": [
    {
     "name": "stdout",
     "output_type": "stream",
     "text": [
      "[10, 15, 20, 25, 30, 'Niku', 40, 45, 50, 55, 60, 65, 70, 75, 80, 85, 90, 95, 100]\n"
     ]
    }
   ],
   "source": [
    "# index No.: \n",
    "#  0   1  2  3  4  5  6  7  8  9 10 11 12 13 14 15 16 17 18       (Index Number/ item Position number)\n",
    "# -19-18-17-16-15-14-13-12-11-10 -9 -8 -7 -6 -5 -4 -3 -2 -1       (Reverse Index Number/ item Position number)\n",
    "\n",
    "a=[10,15,20,25,30,35,40,45,50,55,60,65,70,75,80,85,90,95,100]\n",
    "a[5]=\"Niku\"\n",
    "print(a)"
   ]
  },
  {
   "cell_type": "markdown",
   "id": "630ad742-daf3-4bfc-b324-707b81d4c77f",
   "metadata": {},
   "source": [
    "# change list in between the range"
   ]
  },
  {
   "cell_type": "code",
   "execution_count": 46,
   "id": "cecbc4d4-87eb-4d1e-9099-096ec2713f6e",
   "metadata": {},
   "outputs": [
    {
     "name": "stdout",
     "output_type": "stream",
     "text": [
      "[10, 15, 20, 25, 30, 'Niku', 'Apple', 'watermelon', 45, 50, 55, 60, 65, 70, 75, 80, 85, 90, 95, 100]\n"
     ]
    }
   ],
   "source": [
    "# index No.: \n",
    "#  0   1  2  3  4  5  6  7  8  9 10 11 12 13 14 15 16 17 18       (Index Number/ item Position number)\n",
    "# -19-18-17-16-15-14-13-12-11-10 -9 -8 -7 -6 -5 -4 -3 -2 -1       (Reverse Index Number/ item Position number)\n",
    "\n",
    "a=[10,15,20,25,30,35,40,45,50,55,60,65,70,75,80,85,90,95,100]\n",
    "a[5:7]=\"Niku\",\"Apple\",\"watermelon\"\n",
    "print(a)"
   ]
  },
  {
   "cell_type": "code",
   "execution_count": null,
   "id": "b8ae13a5-97b8-44cd-a926-6f3a2f832c7e",
   "metadata": {},
   "outputs": [],
   "source": []
  },
  {
   "cell_type": "markdown",
   "id": "91c674e8-356e-4e20-b745-686fada35118",
   "metadata": {},
   "source": [
    "# Add items into List /add value into empty list a[]:"
   ]
  },
  {
   "cell_type": "code",
   "execution_count": 51,
   "id": "aec369dd-35d5-4b0f-9bd5-2f1d36f4d667",
   "metadata": {},
   "outputs": [
    {
     "name": "stdout",
     "output_type": "stream",
     "text": [
      "['Nishant', 'Niku', 'BA', 9654546020, 'Delhi', '26 Year']\n"
     ]
    }
   ],
   "source": [
    "a=[]\n",
    "a.append(\"Nishant\")\n",
    "a.append(\"Niku\")\n",
    "a.append(\"BA\")\n",
    "a.append(9654546020)\n",
    "a.append(\"Delhi\")\n",
    "a.append(\"26 Year\")\n",
    "print(a)"
   ]
  },
  {
   "cell_type": "code",
   "execution_count": 52,
   "id": "934fd7db-1bfb-471d-93bc-6f9c989556df",
   "metadata": {},
   "outputs": [
    {
     "name": "stdout",
     "output_type": "stream",
     "text": [
      "['Nishant', 'Niku', 'BA', 9654546020, 'Delhi', '26 Year']\n",
      "['Nishant', 'Niku', 'BA', 9654546020, 'Bihar', '26 Year']\n"
     ]
    }
   ],
   "source": [
    "# Change List Value:\n",
    "a=[]\n",
    "a.append(\"Nishant\")\n",
    "a.append(\"Niku\")\n",
    "a.append(\"BA\")\n",
    "a.append(9654546020)\n",
    "a.append(\"Delhi\")\n",
    "a.append(\"26 Year\")\n",
    "print(a)\n",
    "\n",
    "a[4]=\"Bihar\"\n",
    "print(a)\n",
    "\n"
   ]
  },
  {
   "cell_type": "markdown",
   "id": "cbb93ee3-efce-42cd-bc8b-e4b6fd13735c",
   "metadata": {},
   "source": [
    "# add new items into list. \n"
   ]
  },
  {
   "cell_type": "code",
   "execution_count": 54,
   "id": "4603f341-dd89-4627-951f-d273bb82bbe0",
   "metadata": {},
   "outputs": [
    {
     "name": "stdout",
     "output_type": "stream",
     "text": [
      "Before update: \t [10, 15, 20, 25, 30, 35, 40, 45, 50, 55, 60, 65, 70, 75, 80, 85, 90, 95, 100]\n",
      "After Update: \t [10, 15, 20, 25, 30, 35, 40, 45, 50, 55, 60, 65, 70, 75, 80, 85, 90, 95, 100, 105, 110, 'End']\n"
     ]
    }
   ],
   "source": [
    "# index No.: \n",
    "#  0   1  2  3  4  5  6  7  8  9 10 11 12 13 14 15 16 17 18       (Index Number/ item Position number)\n",
    "# -19-18-17-16-15-14-13-12-11-10 -9 -8 -7 -6 -5 -4 -3 -2 -1       (Reverse Index Number/ item Position number)\n",
    "\n",
    "a=[10,15,20,25,30,35,40,45,50,55,60,65,70,75,80,85,90,95,100]\n",
    "print(\"Before update: \\t\",a)\n",
    "\n",
    "a.append(105)\n",
    "a.append(110)\n",
    "a.append(\"End\")\n",
    "print(\"After Update: \\t\",a)\n",
    "\n"
   ]
  },
  {
   "cell_type": "markdown",
   "id": "4825e335-586c-4fed-aba0-1a29e0265be8",
   "metadata": {},
   "source": [
    "# Remove items from the list"
   ]
  },
  {
   "cell_type": "code",
   "execution_count": 57,
   "id": "fb0c77f2-a645-4cf2-a52b-bb28ae5ffc9c",
   "metadata": {},
   "outputs": [
    {
     "name": "stdout",
     "output_type": "stream",
     "text": [
      "Before update: \t [10, 15, 20, 25, 30, 35, 40, 45, 50, 55, 60, 65, 70, 75, 80, 85, 90, 95, 100]\n",
      "After Update: \t [10, 15, 20, 30, 35, 40, 45, 50, 55, 60, 65, 70, 75, 80, 85, 90, 95, 100]\n"
     ]
    }
   ],
   "source": [
    "# index No.: \n",
    "#  0   1  2  3  4  5  6  7  8  9 10 11 12 13 14 15 16 17 18       (Index Number/ item Position number)\n",
    "# -19-18-17-16-15-14-13-12-11-10 -9 -8 -7 -6 -5 -4 -3 -2 -1       (Reverse Index Number/ item Position number)\n",
    "\n",
    "a=[10,15,20,25,30,35,40,45,50,55,60,65,70,75,80,85,90,95,100]\n",
    "print(\"Before update: \\t\",a)\n",
    "\n",
    "a.remove(25)\n",
    "print(\"After Update: \\t\",a)"
   ]
  },
  {
   "cell_type": "markdown",
   "id": "cbb759d4-ab92-409a-a28d-74ec62ee54cb",
   "metadata": {},
   "source": [
    "# Delete items from the list"
   ]
  },
  {
   "cell_type": "code",
   "execution_count": 61,
   "id": "379ed2d7-b5ef-4f29-b07c-14a983d5f92b",
   "metadata": {},
   "outputs": [
    {
     "name": "stdout",
     "output_type": "stream",
     "text": [
      "Before update: \t [10, 15, 20, 25, 30, 35, 40, 45, 50, 55, 60, 65, 70, 75, 80, 85, 90, 95, 100]\n",
      "After Update: \t [10, 15, 20, 25, 30, 40, 45, 50, 55, 60, 65, 70, 75, 80, 85, 90, 95, 100]\n"
     ]
    }
   ],
   "source": [
    "#delete item from the list\n",
    "# index No.: \n",
    "#  0   1  2  3  4  5  6  7  8  9 10 11 12 13 14 15 16 17 18       (Index Number/ item Position number)\n",
    "# -19-18-17-16-15-14-13-12-11-10 -9 -8 -7 -6 -5 -4 -3 -2 -1       (Reverse Index Number/ item Position number)\n",
    "\n",
    "a=[10,15,20,25,30,35,40,45,50,55,60,65,70,75,80,85,90,95,100]\n",
    "print(\"Before update: \\t\",a)\n",
    "\n",
    "del a[5]\n",
    "print(\"After Update: \\t\",a)"
   ]
  },
  {
   "cell_type": "code",
   "execution_count": 63,
   "id": "6c8e1e39-617c-45d8-9cac-9b3ac7adc766",
   "metadata": {},
   "outputs": [
    {
     "name": "stdout",
     "output_type": "stream",
     "text": [
      "Before update: \t [10, 15, 20, 25, 30, 35, 40, 45, 50, 55, 60, 65, 70, 75, 80, 85, 90, 95, 100]\n",
      "After Update: \t [10, 15, 20, 25, 30, 50, 55, 60, 65, 70, 75, 80, 85, 90, 95, 100]\n"
     ]
    }
   ],
   "source": [
    "#delete item range from the list\n",
    "# index No.: \n",
    "#  0   1  2  3  4  5  6  7  8  9 10 11 12 13 14 15 16 17 18       (Index Number/ item Position number)\n",
    "# -19-18-17-16-15-14-13-12-11-10 -9 -8 -7 -6 -5 -4 -3 -2 -1       (Reverse Index Number/ item Position number)\n",
    "\n",
    "a=[10,15,20,25,30,35,40,45,50,55,60,65,70,75,80,85,90,95,100]\n",
    "print(\"Before update: \\t\",a)\n",
    "\n",
    "del a[5:8]\n",
    "print(\"After Update: \\t\",a)"
   ]
  },
  {
   "cell_type": "markdown",
   "id": "57bd8568-be1d-4a6c-9844-8b3b1672450d",
   "metadata": {},
   "source": [
    "# Join 2 lists:"
   ]
  },
  {
   "cell_type": "code",
   "execution_count": 72,
   "id": "aeef1ca6-f3c3-4270-bf13-c37e0cba8c38",
   "metadata": {},
   "outputs": [
    {
     "name": "stdout",
     "output_type": "stream",
     "text": [
      "Before Update: a & b \n",
      "\n",
      "[10, 15, 20, 25, 30, 35, 40, 45, 50]\n",
      "[55, 60, 65, 70, 75, 80, 85, 90, 95, 100]\n",
      "\n",
      " After Update:  [10, 15, 20, 25, 30, 35, 40, 45, 50, 55, 60, 65, 70, 75, 80, 85, 90, 95, 100]\n"
     ]
    }
   ],
   "source": [
    "a=[10,15,20,25,30,35,40,45,50]\n",
    "b=[55,60,65,70,75,80,85,90,95,100]\n",
    "print(\"Before Update: a & b \\n\")\n",
    "print(a)\n",
    "print(b)\n",
    "print(\"\\n After Update: \",a+b)\n"
   ]
  },
  {
   "cell_type": "markdown",
   "id": "5b66fcb3-352f-464f-b5c8-1cda8a28831a",
   "metadata": {},
   "source": [
    "# Check items in List (in a list):  "
   ]
  },
  {
   "cell_type": "code",
   "execution_count": 73,
   "id": "70a07c09-60b2-4887-8709-75616e0de9c5",
   "metadata": {},
   "outputs": [
    {
     "name": "stdout",
     "output_type": "stream",
     "text": [
      "True\n"
     ]
    }
   ],
   "source": [
    "a=[10, 15, 20, 25, 30, 'Niku', 'Apple', 'watermelon', 45, 50, 55, 60, 65, 70, 75, 80, 85, 90, 95, 100]\n",
    "print(\"Niku\" in a)"
   ]
  },
  {
   "cell_type": "code",
   "execution_count": 74,
   "id": "db08c73b-aef4-4b0b-900b-9b0f6461d754",
   "metadata": {},
   "outputs": [
    {
     "data": {
      "text/plain": [
       "True"
      ]
     },
     "execution_count": 74,
     "metadata": {},
     "output_type": "execute_result"
    }
   ],
   "source": [
    "a=[10, 15, 20, 25, 30, 'Niku', 'Apple', 'watermelon', 45, 50, 55, 60, 65, 70, 75, 80, 85, 90, 95, 100]\n",
    "45 in a"
   ]
  },
  {
   "cell_type": "code",
   "execution_count": 75,
   "id": "eeb1267c-324d-4607-b7e3-a52b2be80319",
   "metadata": {},
   "outputs": [
    {
     "data": {
      "text/plain": [
       "False"
      ]
     },
     "execution_count": 75,
     "metadata": {},
     "output_type": "execute_result"
    }
   ],
   "source": [
    "a=[10, 15, 20, 25, 30, 'Niku', 'Apple', 'watermelon', 45, 50, 55, 60, 65, 70, 75, 80, 85, 90, 95, 100]\n",
    "\"Nishant\" in a"
   ]
  },
  {
   "cell_type": "markdown",
   "id": "a3273bbe-590d-4ae5-bfaa-267d11e6970b",
   "metadata": {},
   "source": [
    "# Reverse list items: "
   ]
  },
  {
   "cell_type": "code",
   "execution_count": 79,
   "id": "1ea9cc38-eea4-4801-88d7-e676468a5692",
   "metadata": {},
   "outputs": [
    {
     "name": "stdout",
     "output_type": "stream",
     "text": [
      "[100, 95, 90, 85, 80, 75, 70, 65, 60, 55, 50, 45, 'watermelon', 'Apple', 'Niku', 30, 25, 20, 15, 10]\n"
     ]
    }
   ],
   "source": [
    "a=[10, 15, 20, 25, 30, 'Niku', 'Apple', 'watermelon', 45, 50, 55, 60, 65, 70, 75, 80, 85, 90, 95, 100]\n",
    "a.reverse()\n",
    "print(a)"
   ]
  },
  {
   "cell_type": "markdown",
   "id": "6234ce12-5aa2-42b5-82a1-fa17f430ccc5",
   "metadata": {},
   "source": [
    "# Min value in the list"
   ]
  },
  {
   "cell_type": "code",
   "execution_count": 86,
   "id": "1d9903ed-9f56-47a7-bf03-922eb4d58086",
   "metadata": {},
   "outputs": [
    {
     "name": "stdout",
     "output_type": "stream",
     "text": [
      "10\n"
     ]
    }
   ],
   "source": [
    "a=[10,15,20,25,30,35,40,45,50,55,60,65,70,75,80,85,90,95,100]\n",
    "print(min(a))"
   ]
  },
  {
   "cell_type": "markdown",
   "id": "52eef237-cdb1-40e2-813a-20dd4847a4d8",
   "metadata": {},
   "source": [
    "# Max value in the list"
   ]
  },
  {
   "cell_type": "code",
   "execution_count": 87,
   "id": "eceb19fe-7808-4d04-968e-fa57e91aed1b",
   "metadata": {},
   "outputs": [
    {
     "name": "stdout",
     "output_type": "stream",
     "text": [
      "100\n"
     ]
    }
   ],
   "source": [
    "a=[10,15,20,25,30,35,40,45,50,55,60,65,70,75,80,85,90,95,100]\n",
    "print(max(a))"
   ]
  },
  {
   "cell_type": "markdown",
   "id": "e8fba160-be49-404e-b766-7303a2037cd7",
   "metadata": {},
   "source": [
    "# Count() check duplicate number/ repeated number\n"
   ]
  },
  {
   "cell_type": "code",
   "execution_count": 92,
   "id": "fe8376ae-3675-4cf5-b79e-2190b0f3ed2e",
   "metadata": {},
   "outputs": [
    {
     "name": "stdout",
     "output_type": "stream",
     "text": [
      "4\n"
     ]
    }
   ],
   "source": [
    "a=[10,15,20,25,55,30,35,40,55, 45,50,55,60,65,70,75,40, 55, 80, 80,85,90, 90, 90, 90, 70, 70,90,95,100]\n",
    "print(a.count(55))"
   ]
  },
  {
   "cell_type": "code",
   "execution_count": 98,
   "id": "f9e94c72-1029-40f6-a209-632a3c3aacfd",
   "metadata": {},
   "outputs": [
    {
     "name": "stdin",
     "output_type": "stream",
     "text": [
      "enter a number 10\n"
     ]
    },
    {
     "name": "stdout",
     "output_type": "stream",
     "text": [
      "1\n"
     ]
    }
   ],
   "source": [
    "n=int(input(\"enter a number\"))\n",
    "a=[10,15,20,25,55,30,35,40,55, 45,50,55,60,65,70,75,40, 55, 80, 80,85,90, 90, 90, 90, 70, 70,90,95,100]\n",
    "print(a.count(n))"
   ]
  },
  {
   "cell_type": "markdown",
   "id": "61b9199e-b0a8-46b3-ad0f-772c340abb09",
   "metadata": {},
   "source": [
    "# Find Index Number of items:"
   ]
  },
  {
   "cell_type": "code",
   "execution_count": 100,
   "id": "7af21ed2-2405-4efd-abb3-c950f6a0d65c",
   "metadata": {},
   "outputs": [
    {
     "name": "stdout",
     "output_type": "stream",
     "text": [
      "5\n"
     ]
    }
   ],
   "source": [
    "a=[10,15,20,25,30,35,40,45,50,55,60,65,70,75,80,85,90,95,100]\n",
    "print(a.index(35))"
   ]
  },
  {
   "cell_type": "code",
   "execution_count": 106,
   "id": "432857a6-4ae7-4599-90e9-a65cbf3524f3",
   "metadata": {},
   "outputs": [
    {
     "name": "stdout",
     "output_type": "stream",
     "text": [
      "16\n",
      "7\n"
     ]
    }
   ],
   "source": [
    "# index No.: \n",
    "#  0   1  2  3  4  5  6  7  8  9 10 11 12 13 14 15 16 17 18 19 20 21 22 23 24 25 26 27 28 29 30 31 32       (Index Number/ item Position number)\n",
    "# -31-30-29-28-27-26-25-24-23-22-21-20-19-18-17-16-15-14-13-12-11-10 -9 -8 -7 -6-5-4 -3 -2 -1       (Reverse Index Number/ item Position number)\n",
    "a=[10,15,20,25,55,30,35,40,55,45,50,55,60,65,70,75,40,55,80,80,85,90,90,90,90,70,70,90,95,100]\n",
    "print(a.index(40,10)) # check item after index number 10 to n.\n",
    "print(a.index(40))  # check items from 0 to n."
   ]
  },
  {
   "cell_type": "code",
   "execution_count": null,
   "id": "a150cdd9-588b-4dd0-a3c6-c91480735a07",
   "metadata": {},
   "outputs": [],
   "source": []
  },
  {
   "cell_type": "markdown",
   "id": "d7effe47-34d3-4777-a073-b9284172cffd",
   "metadata": {},
   "source": [
    "# Exercise: \n",
    "Write a program to do the sum of all the items/value stroed in the list"
   ]
  },
  {
   "cell_type": "code",
   "execution_count": 107,
   "id": "c7fb4254-2c94-444c-ace4-389d48aec71f",
   "metadata": {},
   "outputs": [
    {
     "name": "stdout",
     "output_type": "stream",
     "text": [
      "1045\n"
     ]
    }
   ],
   "source": [
    "a=[10,15,20,25,30,35,40,45,50,55,60,65,70,75,80,85,90,95,100]\n",
    "print(sum(a))"
   ]
  },
  {
   "cell_type": "markdown",
   "id": "283e6da4-2b08-491b-a445-7a4958ccd989",
   "metadata": {},
   "source": [
    "# Exercise: \n",
    "Write a program to Store items/value in the list entered by user."
   ]
  },
  {
   "cell_type": "code",
   "execution_count": 111,
   "id": "0b022be6-1b73-4af0-be97-ac575e2d11f0",
   "metadata": {},
   "outputs": [
    {
     "name": "stdin",
     "output_type": "stream",
     "text": [
      "enter a number 12\n"
     ]
    },
    {
     "name": "stdout",
     "output_type": "stream",
     "text": [
      "[12]\n"
     ]
    }
   ],
   "source": [
    "a=[]\n",
    "l=int(input(\"enter a number\"))\n",
    "a.append(l)\n",
    "print(a)\n"
   ]
  },
  {
   "cell_type": "code",
   "execution_count": 114,
   "id": "d9af1ca9-01c2-446d-aec1-aeebe6d7b07d",
   "metadata": {},
   "outputs": [
    {
     "name": "stdin",
     "output_type": "stream",
     "text": [
      "enter a length of the list. 3\n",
      "enter a number 12\n"
     ]
    },
    {
     "name": "stdout",
     "output_type": "stream",
     "text": [
      "[12]\n"
     ]
    },
    {
     "name": "stdin",
     "output_type": "stream",
     "text": [
      "enter a number 15\n"
     ]
    },
    {
     "name": "stdout",
     "output_type": "stream",
     "text": [
      "[12, 15]\n"
     ]
    },
    {
     "name": "stdin",
     "output_type": "stream",
     "text": [
      "enter a number 18\n"
     ]
    },
    {
     "name": "stdout",
     "output_type": "stream",
     "text": [
      "[12, 15, 18]\n"
     ]
    }
   ],
   "source": [
    "a=[]\n",
    "l=int(input(\"enter a length of the list.\"))\n",
    "for i in range(l):\n",
    "    v=int(input(\"enter a number\"))\n",
    "    a.append(v)\n",
    "    print(a)\n"
   ]
  },
  {
   "cell_type": "code",
   "execution_count": 117,
   "id": "6a68028f-628b-4520-bc28-8dc239a8e61d",
   "metadata": {},
   "outputs": [
    {
     "name": "stdin",
     "output_type": "stream",
     "text": [
      "enter a length of the list. 2\n",
      "enter a number 12\n",
      "enter a number 12\n"
     ]
    },
    {
     "name": "stdout",
     "output_type": "stream",
     "text": [
      "[12, 12]\n"
     ]
    }
   ],
   "source": [
    "a=[]\n",
    "l=int(input(\"enter a length of the list.\"))\n",
    "for i in range(l):\n",
    "    v=int(input(\"enter a number\"))\n",
    "    a.append(v)\n",
    "print(a)"
   ]
  },
  {
   "cell_type": "markdown",
   "id": "cd03c128-5c5f-477f-afbe-d06428e25751",
   "metadata": {},
   "source": [
    "# Exercise: \n",
    "write a program to Add value in particular index number in the list."
   ]
  },
  {
   "cell_type": "code",
   "execution_count": 119,
   "id": "ed72fc12-39d5-4fd1-b750-c2edb33d969e",
   "metadata": {},
   "outputs": [
    {
     "name": "stdout",
     "output_type": "stream",
     "text": [
      "[10, 20, 25, 40, 50, 60, 70, 80, 90, 100]\n"
     ]
    }
   ],
   "source": [
    "a=[10,20,30,40,50,60,70,80,90,100]\n",
    "a[2]=25\n",
    "print(a)"
   ]
  },
  {
   "cell_type": "code",
   "execution_count": 120,
   "id": "d1f02bd3-a01f-4ec8-8e87-415162b494aa",
   "metadata": {},
   "outputs": [
    {
     "name": "stdin",
     "output_type": "stream",
     "text": [
      "enter index number 3\n",
      "enter number to replace 45\n"
     ]
    },
    {
     "name": "stdout",
     "output_type": "stream",
     "text": [
      "[10, 20, 30, 45, 50, 60, 70, 80, 90, 100]\n"
     ]
    }
   ],
   "source": [
    "a=[10,20,30,40,50,60,70,80,90,100]\n",
    "\n",
    "ind=int(input(\"enter index number\"))\n",
    "it=int(input(\"enter number to replace\"))\n",
    "\n",
    "a[ind]=it\n",
    "print(a)"
   ]
  },
  {
   "cell_type": "code",
   "execution_count": 123,
   "id": "c7e30c8b-0157-4e80-ae96-39e61f7740ab",
   "metadata": {},
   "outputs": [
    {
     "name": "stdin",
     "output_type": "stream",
     "text": [
      "enter a length of the list. 7\n",
      "enter a number 10\n",
      "enter a number 20\n",
      "enter a number 3\n",
      "enter a number 40\n",
      "enter a number 50\n",
      "enter a number 60\n",
      "enter a number 70\n"
     ]
    },
    {
     "name": "stdout",
     "output_type": "stream",
     "text": [
      "[10, 20, 3, 40, 50, 60, 70]\n",
      "\n"
     ]
    },
    {
     "name": "stdin",
     "output_type": "stream",
     "text": [
      "enter index number 2\n",
      "enter number to replace 30\n"
     ]
    },
    {
     "name": "stdout",
     "output_type": "stream",
     "text": [
      "[10, 20, 30, 40, 50, 60, 70]\n"
     ]
    }
   ],
   "source": [
    "a=[]\n",
    "l=int(input(\"enter a length of the list.\"))\n",
    "for i in range(l):\n",
    "    v=int(input(\"enter a number\"))\n",
    "    a.append(v)\n",
    "print(a)\n",
    "print()\n",
    "ind=int(input(\"enter index number\"))\n",
    "it=int(input(\"enter number to replace\"))\n",
    "\n",
    "a[ind]=it\n",
    "print(a)\n",
    "\n"
   ]
  },
  {
   "cell_type": "markdown",
   "id": "af96cfdb-4d56-412b-b3ba-c84375b8395a",
   "metadata": {},
   "source": [
    "# Exercise: \n",
    "write a program to Find the largest & Loweser number in the list and do the sum of all the items in the list.\n",
    "\n",
    "l=[40,15,17,-4,18,28,-2,90,45,234,34,-75,76,45,89]"
   ]
  },
  {
   "cell_type": "code",
   "execution_count": 130,
   "id": "981ab464-6028-4a71-aa49-3b8e965cd1ec",
   "metadata": {},
   "outputs": [
    {
     "name": "stdout",
     "output_type": "stream",
     "text": [
      "Largest number in the list is:  234 \n",
      "Lowest number in the lis is:  -75 \n",
      "Total sum of item in the list is:  650\n"
     ]
    }
   ],
   "source": [
    "l=[40,15,17,-4,18,28,-2,90,45,234,34,-75,76,45,89]\n",
    "print(\"Largest number in the list is: \",max(l),\"\\nLowest number in the lis is: \", min(l) ,\"\\nTotal sum of item in the list is: \",sum(l))"
   ]
  },
  {
   "cell_type": "code",
   "execution_count": 131,
   "id": "dcc6778d-dda5-4918-8449-0eb230f80b11",
   "metadata": {},
   "outputs": [
    {
     "name": "stdout",
     "output_type": "stream",
     "text": [
      "15\n"
     ]
    }
   ],
   "source": [
    "l=[40,15,17,-4,18,28,-2,90,45,234,34,-75,76,45,89]\n",
    "print(len(l))"
   ]
  },
  {
   "cell_type": "code",
   "execution_count": 143,
   "id": "1405d523-a7f9-4d9a-8985-814c648a5f24",
   "metadata": {},
   "outputs": [
    {
     "name": "stdout",
     "output_type": "stream",
     "text": [
      "0\t0\n",
      "1\t1\n",
      "2\t3\n",
      "3\t6\n",
      "4\t10\n",
      "5\t15\n",
      "6\t21\n",
      "7\t28\n",
      "8\t36\n",
      "9\t45\n",
      "10\t55\n"
     ]
    }
   ],
   "source": [
    "a=0\n",
    "for i in range(10+1):\n",
    "    print(i,end=\"\\t\")\n",
    "    a=a+i\n",
    "    print(a)\n",
    "\n"
   ]
  },
  {
   "cell_type": "code",
   "execution_count": 140,
   "id": "cbb31692-60b3-4d28-96d9-2206b8c6abd5",
   "metadata": {},
   "outputs": [
    {
     "name": "stdout",
     "output_type": "stream",
     "text": [
      "Sum of items 40\n",
      "Sum of items 55\n",
      "Sum of items 72\n",
      "Sum of items 68\n",
      "Sum of items 86\n",
      "Sum of items 114\n",
      "Sum of items 112\n",
      "Sum of items 202\n",
      "Sum of items 247\n",
      "Sum of items 481\n",
      "Sum of items 515\n",
      "Sum of items 440\n",
      "Sum of items 516\n",
      "Sum of items 561\n",
      "Sum of items 650\n"
     ]
    }
   ],
   "source": [
    "l=[40,15,17,-4,18,28,-2,90,45,234,34,-75,76,45,89]\n",
    "le=len(l)\n",
    "a=0\n",
    "for i in range(le):\n",
    "    a=a+l[i]\n",
    "    print(\"Sum of items\",a)\n"
   ]
  },
  {
   "cell_type": "code",
   "execution_count": 147,
   "id": "579b6942-26ca-4b2a-9b91-38df07565542",
   "metadata": {},
   "outputs": [
    {
     "name": "stdout",
     "output_type": "stream",
     "text": [
      "Sum of items 475\n"
     ]
    }
   ],
   "source": [
    "#l=[1,2,3,4,5,6,7,8,9,10]\n",
    "l=[14,15,12,78,-9,23,-8,52,74,89,25,102,8]\n",
    "#l=[40,15,17,-4,18,28,-2,90,45,234,34,-75,76,45,89]\n",
    "le=len(l)\n",
    "a=0\n",
    "for i in range(le):\n",
    "    a=a+l[i]\n",
    "print(\"Sum of items\",a)\n"
   ]
  },
  {
   "cell_type": "markdown",
   "id": "6f97891b-b079-4f82-9792-8f5f42cdd989",
   "metadata": {},
   "source": [
    "# Exercise:\n",
    "write a program to take number from the user into the list and do the sum, find min, max."
   ]
  },
  {
   "cell_type": "code",
   "execution_count": 148,
   "id": "0181084a-7122-45b6-a3b0-df3fbe9b6021",
   "metadata": {},
   "outputs": [
    {
     "name": "stdin",
     "output_type": "stream",
     "text": [
      "enter a length of the list. 8\n",
      "enter a number 10\n",
      "enter a number 26\n",
      "enter a number 87\n",
      "enter a number 90\n",
      "enter a number 24\n",
      "enter a number 65\n",
      "enter a number 89\n",
      "enter a number 91\n"
     ]
    },
    {
     "name": "stdout",
     "output_type": "stream",
     "text": [
      "[10, 26, 87, 90, 24, 65, 89, 91] \n",
      "Minimum number of a is: 10 \n",
      "Maximum number  of a is: 91 \n",
      "Sum of a is: 482\n"
     ]
    }
   ],
   "source": [
    "a=[]\n",
    "l=int(input(\"enter a length of the list.\"))\n",
    "for i in range(l):\n",
    "    v=int(input(\"enter a number\"))\n",
    "    a.append(v)\n",
    "print(a,\"\\nMinimum number of a is:\", min(a),\"\\nMaximum number  of a is:\",max(a),\"\\nSum of a is:\",sum(a))"
   ]
  },
  {
   "cell_type": "markdown",
   "id": "6e49873c-d514-4a22-9e50-84d39c830a33",
   "metadata": {},
   "source": [
    "# Exercise:\n",
    "Write a program to do the Multiply of all the items/value stroed in the list."
   ]
  },
  {
   "cell_type": "code",
   "execution_count": 1,
   "id": "0a37d321-740e-4387-ac4f-15bc579d8445",
   "metadata": {},
   "outputs": [
    {
     "name": "stdout",
     "output_type": "stream",
     "text": [
      "1  =  1\n",
      "2  =  2\n",
      "3  =  6\n",
      "4  =  24\n",
      "5  =  120\n",
      "6  =  720\n",
      "7  =  5040\n",
      "8  =  40320\n",
      "9  =  362880\n",
      "10  =  3628800\n",
      "Multiply of a 3628800\n"
     ]
    }
   ],
   "source": [
    "#l=[1,2,3,4]\n",
    "l=[1,2,3,4,5,6,7,8,9,10]\n",
    "#l=[14,15,12,78,-9,23,-8,52,74,89,25,102,8]\n",
    "#l=[40,15,17,-4,18,28,-2,90,45,234,34,-75,76,45,89]\n",
    "le=len(l)\n",
    "a=1\n",
    "for i in range(le):\n",
    "    a=a*l[i]\n",
    "    i=i+1\n",
    "    print(i,end=\" \")\n",
    "    print(\" = \",a)\n",
    "print(\"Multiply of a\",a)\n"
   ]
  },
  {
   "cell_type": "markdown",
   "id": "e71a8155-878a-454d-bff1-ca850af1b832",
   "metadata": {},
   "source": [
    "# append"
   ]
  },
  {
   "cell_type": "code",
   "execution_count": 2,
   "id": "f0ae578b-5184-4b57-8499-8b10643b0608",
   "metadata": {},
   "outputs": [
    {
     "name": "stdout",
     "output_type": "stream",
     "text": [
      "[[10, 20, 30, 40, 50, 60], [9, 8, 7, 6, 5, 4, 3, 2, 1]]\n",
      "2\n"
     ]
    }
   ],
   "source": [
    "a=[]\n",
    "b=[10,20,30,40,50,60]\n",
    "c=[9,8,7,6,5,4,3,2,1]\n",
    "a.append(b)\n",
    "a.append(c)\n",
    "print(a)\n",
    "print(len(a))"
   ]
  },
  {
   "cell_type": "markdown",
   "id": "8d9b4fba-1c95-4c01-9070-706a712d41b2",
   "metadata": {},
   "source": [
    "# Extend \n",
    "\n",
    "will help to combined the 2 list into 1."
   ]
  },
  {
   "cell_type": "code",
   "execution_count": 1,
   "id": "e71250a1-5acb-4e26-a77c-9777c19ae9d8",
   "metadata": {},
   "outputs": [
    {
     "name": "stdout",
     "output_type": "stream",
     "text": [
      "[10, 20, 30, 40, 50, 60, 9, 8, 7, 6, 5, 4, 3, 2, 1]\n",
      "15\n"
     ]
    }
   ],
   "source": [
    "a=[]\n",
    "b=[10,20,30,40,50,60]\n",
    "c=[9,8,7,6,5,4,3,2,1]\n",
    "a.extend(b)\n",
    "a.extend(c)\n",
    "print(a)\n",
    "print(len(a))"
   ]
  },
  {
   "cell_type": "code",
   "execution_count": 8,
   "id": "beba6acc-0ab1-4b19-a789-d60c70af2a98",
   "metadata": {},
   "outputs": [
    {
     "name": "stdout",
     "output_type": "stream",
     "text": [
      "10\n",
      "20\n",
      "30\n",
      "40\n",
      "50\n"
     ]
    }
   ],
   "source": [
    "k=[10,20,30,40,50]\n",
    "for i in k:\n",
    "    print(i)"
   ]
  },
  {
   "cell_type": "code",
   "execution_count": 6,
   "id": "93ff3ea6-e073-432f-8925-29c430517ca6",
   "metadata": {},
   "outputs": [
    {
     "data": {
      "text/plain": [
       "20"
      ]
     },
     "execution_count": 6,
     "metadata": {},
     "output_type": "execute_result"
    }
   ],
   "source": [
    "k[1]"
   ]
  },
  {
   "cell_type": "code",
   "execution_count": 10,
   "id": "1219bbac-5330-4976-9795-511b0f600149",
   "metadata": {},
   "outputs": [
    {
     "name": "stdout",
     "output_type": "stream",
     "text": [
      "10\n",
      "20\n",
      "30\n",
      "40\n",
      "50\n"
     ]
    }
   ],
   "source": [
    "for i in range(len(k)):\n",
    "    print(k[i])"
   ]
  },
  {
   "cell_type": "markdown",
   "id": "d9615dfe-ca57-4406-a7a3-481bc015b027",
   "metadata": {},
   "source": [
    "# Delete"
   ]
  },
  {
   "cell_type": "code",
   "execution_count": 14,
   "id": "805192d9-e374-40a5-b9e3-72564ac1f1b5",
   "metadata": {},
   "outputs": [
    {
     "name": "stdout",
     "output_type": "stream",
     "text": [
      "[10, 20, 40, 50]\n"
     ]
    }
   ],
   "source": [
    "k=[10,20,30,40,50]\n",
    "del(k[2])\n",
    "print(k)"
   ]
  },
  {
   "cell_type": "code",
   "execution_count": 15,
   "id": "98176734-6016-4b31-87a1-cea370464323",
   "metadata": {},
   "outputs": [
    {
     "ename": "NameError",
     "evalue": "name 'k' is not defined",
     "output_type": "error",
     "traceback": [
      "\u001b[1;31m---------------------------------------------------------------------------\u001b[0m",
      "\u001b[1;31mNameError\u001b[0m                                 Traceback (most recent call last)",
      "Cell \u001b[1;32mIn[15], line 3\u001b[0m\n\u001b[0;32m      1\u001b[0m k\u001b[38;5;241m=\u001b[39m[\u001b[38;5;241m10\u001b[39m,\u001b[38;5;241m20\u001b[39m,\u001b[38;5;241m30\u001b[39m,\u001b[38;5;241m40\u001b[39m,\u001b[38;5;241m50\u001b[39m]\n\u001b[0;32m      2\u001b[0m \u001b[38;5;28;01mdel\u001b[39;00m(k)\n\u001b[1;32m----> 3\u001b[0m \u001b[38;5;28mprint\u001b[39m(k)\n",
      "\u001b[1;31mNameError\u001b[0m: name 'k' is not defined"
     ]
    }
   ],
   "source": [
    "k=[10,20,30,40,50]\n",
    "del(k)\n",
    "print(k)"
   ]
  },
  {
   "cell_type": "markdown",
   "id": "e2839593-94a8-4b54-bfa8-6514e1d66626",
   "metadata": {},
   "source": [
    "# Pop\n",
    "\n",
    "used to delete last value from the list."
   ]
  },
  {
   "cell_type": "code",
   "execution_count": 12,
   "id": "23871bd9-f30d-4aa4-8888-1b5477b82019",
   "metadata": {},
   "outputs": [
    {
     "name": "stdout",
     "output_type": "stream",
     "text": [
      "[10, 20, 30, 40, 50]\n",
      "[10, 20, 30, 40]\n"
     ]
    }
   ],
   "source": [
    "k=[10,20,30,40,50]\n",
    "print(k)\n",
    "k.pop()\n",
    "print(k)"
   ]
  },
  {
   "cell_type": "code",
   "execution_count": 16,
   "id": "979967d5-cea5-4450-bee0-380390adb802",
   "metadata": {},
   "outputs": [
    {
     "name": "stdout",
     "output_type": "stream",
     "text": [
      "[10, 20, 30, 40, 50]\n",
      "[10, 20, 40, 50]\n"
     ]
    }
   ],
   "source": [
    "k=[10,20,30,40,50]\n",
    "print(k)\n",
    "k.pop(2)\n",
    "print(k)"
   ]
  },
  {
   "cell_type": "markdown",
   "id": "ccc0ce1d-66e3-4df4-95b6-0bd5c65c6f87",
   "metadata": {},
   "source": [
    "# Reverse \n",
    "used to print value in a reverse method."
   ]
  },
  {
   "cell_type": "code",
   "execution_count": 17,
   "id": "62e1474f-e89a-466f-b9ae-2e619907200a",
   "metadata": {},
   "outputs": [
    {
     "name": "stdout",
     "output_type": "stream",
     "text": [
      "[50, 40, 30, 20, 10]\n"
     ]
    }
   ],
   "source": [
    "k=[10,20,30,40,50]\n",
    "k.reverse()\n",
    "print(k)"
   ]
  },
  {
   "cell_type": "markdown",
   "id": "84ea1a97-e3ea-4350-b7b8-7e0c196525f6",
   "metadata": {},
   "source": [
    "# Sort\n",
    "\n",
    "used to allign value in the accending orders."
   ]
  },
  {
   "cell_type": "code",
   "execution_count": 19,
   "id": "563041db-4dc9-4be1-97b0-d7787a5df457",
   "metadata": {},
   "outputs": [
    {
     "name": "stdout",
     "output_type": "stream",
     "text": [
      "[1, 10, 20, 23, 35, 38, 65, 67, 98, 123]\n"
     ]
    }
   ],
   "source": [
    "a=[123,67,38,98,23,1,20,10,65,35]\n",
    "a.sort()\n",
    "print(a)"
   ]
  },
  {
   "cell_type": "code",
   "execution_count": 20,
   "id": "37ec8051-892b-49bc-acd9-626d54539bf0",
   "metadata": {},
   "outputs": [
    {
     "name": "stdout",
     "output_type": "stream",
     "text": [
      "[123, 98, 67, 65, 38, 35, 23, 20, 10, 1]\n"
     ]
    }
   ],
   "source": [
    "#sort with reverse\n",
    "a=[123,67,38,98,23,1,20,10,65,35]\n",
    "a.sort()\n",
    "a.reverse()\n",
    "print(a)"
   ]
  },
  {
   "cell_type": "code",
   "execution_count": 21,
   "id": "a57970a3-2c04-4de7-97f1-7ee7c0ce0ac9",
   "metadata": {},
   "outputs": [
    {
     "name": "stdout",
     "output_type": "stream",
     "text": [
      "[123, 98, 67, 65, 38, 35, 23, 20, 10, 1]\n"
     ]
    }
   ],
   "source": [
    "#sort with reverse\n",
    "a=[123,67,38,98,23,1,20,10,65,35]\n",
    "a.sort(reverse=True)\n",
    "print(a)"
   ]
  },
  {
   "cell_type": "markdown",
   "id": "0f09dfff-1f60-4b1c-a261-72f11c76618e",
   "metadata": {},
   "source": [
    "# List in list\n",
    "\n",
    "find the value stored in the list under the list."
   ]
  },
  {
   "cell_type": "code",
   "execution_count": 26,
   "id": "80ad3afb-7c50-491b-896e-aea3f49aba23",
   "metadata": {},
   "outputs": [
    {
     "name": "stdout",
     "output_type": "stream",
     "text": [
      "[[11, 12], [13, 14], [15, 16]]\n",
      "3\n",
      "13\n"
     ]
    }
   ],
   "source": [
    "m=[[11,12],[13,14],[15,16]]\n",
    "print(m)\n",
    "print(len(m))\n",
    "print(m[1][0])\n"
   ]
  },
  {
   "cell_type": "markdown",
   "id": "9bfa6932-c33a-45fd-a4e7-92d1263e4259",
   "metadata": {},
   "source": [
    "n=[[11,12,13],[14,15,16]]\n",
    "print(n)\n",
    "print(len(n))\n",
    "print(n[0][2])"
   ]
  },
  {
   "cell_type": "markdown",
   "id": "f0f4d1c3-4d1d-4b38-889a-c7de847c2d31",
   "metadata": {},
   "source": [
    "# .insert()\n",
    "used to add new value into the list"
   ]
  },
  {
   "cell_type": "code",
   "execution_count": 31,
   "id": "e8a3763c-7a30-4fdd-be34-e97847190267",
   "metadata": {},
   "outputs": [
    {
     "name": "stdout",
     "output_type": "stream",
     "text": [
      "['Nishant', 'Kumar', 'From', 'Delhi', 'Badli Delhi']\n"
     ]
    }
   ],
   "source": [
    "a=[\"Nishant\",\"Kumar\",\"From\", \"Delhi\"]\n",
    "a.insert(4,\"Badli Delhi\")\n",
    "print(a)"
   ]
  },
  {
   "cell_type": "markdown",
   "id": "0b4a7ccf-7bbe-4867-96af-c371e2adcb6b",
   "metadata": {},
   "source": [
    "# add value through slicing."
   ]
  },
  {
   "cell_type": "code",
   "execution_count": 3,
   "id": "6421b65a-12d0-4fc1-b9aa-3eb813d3023b",
   "metadata": {},
   "outputs": [
    {
     "name": "stdout",
     "output_type": "stream",
     "text": [
      "[12, 13, 14, 16]\n"
     ]
    }
   ],
   "source": [
    "# add value into the list in ending.\n",
    "l=[12,13,14,15]\n",
    "l[3:]=[16] # here 3 is index number of the list in which value need to add in the list. and value should be iterable like [16].\n",
    "print(l)"
   ]
  },
  {
   "cell_type": "markdown",
   "id": "21a33216-8c0b-425e-b277-2ecb5d199b3e",
   "metadata": {},
   "source": [
    "# add value thorugh slicing between the 2 numbers."
   ]
  },
  {
   "cell_type": "code",
   "execution_count": 5,
   "id": "5b03a023-4a41-45a5-9484-ecffd8bf72d4",
   "metadata": {},
   "outputs": [
    {
     "name": "stdout",
     "output_type": "stream",
     "text": [
      "[12, 13, 16, 14, 15]\n"
     ]
    }
   ],
   "source": [
    "# add value in between\n",
    "l=[12,13,14,15]\n",
    "l[2:2]=[16] # here 2:2 is index number of the list in which value between need to add in the list. and value should be iterable like [16].\n",
    "print(l)"
   ]
  },
  {
   "cell_type": "code",
   "execution_count": 2,
   "id": "87b93ebf-83b5-450a-b7e6-5d78c83963c7",
   "metadata": {},
   "outputs": [
    {
     "name": "stdout",
     "output_type": "stream",
     "text": [
      "[17, 12, 13, 14, 15]\n"
     ]
    }
   ],
   "source": [
    "# add value in the starting\n",
    "l=[12,13,14,15]\n",
    "l[:0]=[17]\n",
    "print(l)"
   ]
  },
  {
   "cell_type": "code",
   "execution_count": 12,
   "id": "1e634a26-e692-4172-9521-0fabb6a6b6ec",
   "metadata": {},
   "outputs": [
    {
     "name": "stdout",
     "output_type": "stream",
     "text": [
      "[11, 12, 13, 10, 14, 15, 16]\n"
     ]
    }
   ],
   "source": [
    "k=[12,13,14,15]\n",
    "# add an element in last\n",
    "k[len(k):]=[16]\n",
    "# add an element inside a list\n",
    "k[2:2]=[10]\n",
    "# add an element in starting\n",
    "k[:0]=[11] \n",
    "print(k)"
   ]
  },
  {
   "cell_type": "code",
   "execution_count": 15,
   "id": "ef24ea93-b3d1-428c-becb-08bccc46c9ec",
   "metadata": {},
   "outputs": [
    {
     "name": "stdout",
     "output_type": "stream",
     "text": [
      "[10, 11, 12, 15, 16, 17, 1, 2, 3, 4, 5, 6, 20, 21, 22]\n"
     ]
    }
   ],
   "source": [
    "# add collection of list\n",
    "l=[1,2,3,4,5,6]\n",
    "# add in starting\n",
    "l[:0]=[10,11,12]\n",
    "\n",
    "#in between the range\n",
    "l[3:3]=[15,16,17]\n",
    "\n",
    "# add in last\n",
    "l[len(l):]=[20,21,22]\n",
    "\n",
    "print(l)"
   ]
  },
  {
   "cell_type": "markdown",
   "id": "99b0d3a8-9b7e-4c95-9759-5a98d27c85bc",
   "metadata": {},
   "source": [
    "# insert()"
   ]
  },
  {
   "cell_type": "code",
   "execution_count": 19,
   "id": "7f4981a6-375b-4163-bc95-058481b94768",
   "metadata": {},
   "outputs": [
    {
     "name": "stdout",
     "output_type": "stream",
     "text": [
      "[1, 2, 3, 4, 5, 6, 10]\n",
      "[1, 12, 2, 3, 4, 5, 6, 10]\n",
      "[15, 1, 12, 2, 3, 4, 5, 6, 10]\n"
     ]
    }
   ],
   "source": [
    "n=[1,2,3,4,5,6]\n",
    "\n",
    "# add in last\n",
    "n.insert(len(n),10)\n",
    "print(n)\n",
    "\n",
    "# add in between\n",
    "n.insert(1,12)\n",
    "print(n)\n",
    "\n",
    "# add in start\n",
    "n.insert(0,15)\n",
    "print(n)\n",
    "\n",
    "\n",
    "\n"
   ]
  },
  {
   "cell_type": "code",
   "execution_count": 1,
   "id": "38224375-0779-4966-8c46-2bb22e9a9c06",
   "metadata": {},
   "outputs": [
    {
     "name": "stdout",
     "output_type": "stream",
     "text": [
      "['Mercury', 'Venus', 'Earth', 'Mars', 'Jupiter', 'Saturn', 'Uranus', 'Neptune']\n"
     ]
    }
   ],
   "source": [
    "planets = [\"Mercury\", \"Venus\", \"Earth\", \"Mars\", \"Jupiter\", \"Saturn\", \"Uranus\", \"Neptune\"]\n",
    "print(planets)"
   ]
  },
  {
   "cell_type": "code",
   "execution_count": 7,
   "id": "631b0032-31c0-4072-9bfe-54108c09115f",
   "metadata": {},
   "outputs": [
    {
     "name": "stdin",
     "output_type": "stream",
     "text": [
      "Please enter the name of the planet. planet name should be start with capital letter. Mars\n"
     ]
    },
    {
     "name": "stdout",
     "output_type": "stream",
     "text": [
      "3\n",
      "Here are the planets further than Mars\n",
      "['Mercury', 'Venus', 'Earth']\n"
     ]
    }
   ],
   "source": [
    "user_planet = input(\"Please enter the name of the planet. planet name should be start with capital letter.\")\n",
    "# check index of user given planet:---------->\n",
    "planets_index=planets.index(user_planet)\n",
    "print(planets_index)\n",
    "\n",
    "# check plant clouser to sun from planet index:-------->\n",
    "print(\"Here are the planets further than \" + user_planet)\n",
    "print(planets[0:planets_index])"
   ]
  },
  {
   "cell_type": "code",
   "execution_count": null,
   "id": "474acc4d-f6fa-4a55-87c6-c1c8f4e93eae",
   "metadata": {},
   "outputs": [],
   "source": []
  },
  {
   "cell_type": "code",
   "execution_count": 8,
   "id": "bb710759-d028-451f-91a9-0cd280408a81",
   "metadata": {},
   "outputs": [
    {
     "name": "stdout",
     "output_type": "stream",
     "text": [
      "Welcome to Python 3.11's help utility! If this is your first time using\n",
      "Python, you should definitely check out the tutorial at\n",
      "https://docs.python.org/3.11/tutorial/.\n",
      "\n",
      "Enter the name of any module, keyword, or topic to get help on writing\n",
      "Python programs and using Python modules.  To get a list of available\n",
      "modules, keywords, symbols, or topics, enter \"modules\", \"keywords\",\n",
      "\"symbols\", or \"topics\".\n",
      "\n",
      "Each module also comes with a one-line summary of what it does; to list\n",
      "the modules whose name or summary contain a given string such as \"spam\",\n",
      "enter \"modules spam\".\n",
      "\n",
      "To quit this help utility and return to the interpreter,\n",
      "enter \"q\" or \"quit\".\n",
      "\n"
     ]
    },
    {
     "name": "stdin",
     "output_type": "stream",
     "text": [
      "help>  string\n"
     ]
    },
    {
     "name": "stdout",
     "output_type": "stream",
     "text": [
      "Help on module string:\n",
      "\n",
      "NAME\n",
      "    string - A collection of string constants.\n",
      "\n",
      "MODULE REFERENCE\n",
      "    https://docs.python.org/3.11/library/string.html\n",
      "    \n",
      "    The following documentation is automatically generated from the Python\n",
      "    source files.  It may be incomplete, incorrect or include features that\n",
      "    are considered implementation detail and may vary between Python\n",
      "    implementations.  When in doubt, consult the module reference at the\n",
      "    location listed above.\n",
      "\n",
      "DESCRIPTION\n",
      "    Public module variables:\n",
      "    \n",
      "    whitespace -- a string containing all ASCII whitespace\n",
      "    ascii_lowercase -- a string containing all ASCII lowercase letters\n",
      "    ascii_uppercase -- a string containing all ASCII uppercase letters\n",
      "    ascii_letters -- a string containing all ASCII letters\n",
      "    digits -- a string containing all ASCII decimal digits\n",
      "    hexdigits -- a string containing all ASCII hexadecimal digits\n",
      "    octdigits -- a string containing all ASCII octal digits\n",
      "    punctuation -- a string containing all ASCII punctuation characters\n",
      "    printable -- a string containing all ASCII characters considered printable\n",
      "\n",
      "CLASSES\n",
      "    builtins.object\n",
      "        Formatter\n",
      "        Template\n",
      "    \n",
      "    class Formatter(builtins.object)\n",
      "     |  Methods defined here:\n",
      "     |  \n",
      "     |  check_unused_args(self, used_args, args, kwargs)\n",
      "     |  \n",
      "     |  convert_field(self, value, conversion)\n",
      "     |  \n",
      "     |  format(self, format_string, /, *args, **kwargs)\n",
      "     |  \n",
      "     |  format_field(self, value, format_spec)\n",
      "     |  \n",
      "     |  get_field(self, field_name, args, kwargs)\n",
      "     |      # given a field_name, find the object it references.\n",
      "     |      #  field_name:   the field being looked up, e.g. \"0.name\"\n",
      "     |      #                 or \"lookup[3]\"\n",
      "     |      #  used_args:    a set of which args have been used\n",
      "     |      #  args, kwargs: as passed in to vformat\n",
      "     |  \n",
      "     |  get_value(self, key, args, kwargs)\n",
      "     |  \n",
      "     |  parse(self, format_string)\n",
      "     |      # returns an iterable that contains tuples of the form:\n",
      "     |      # (literal_text, field_name, format_spec, conversion)\n",
      "     |      # literal_text can be zero length\n",
      "     |      # field_name can be None, in which case there's no\n",
      "     |      #  object to format and output\n",
      "     |      # if field_name is not None, it is looked up, formatted\n",
      "     |      #  with format_spec and conversion and then used\n",
      "     |  \n",
      "     |  vformat(self, format_string, args, kwargs)\n",
      "     |  \n",
      "     |  ----------------------------------------------------------------------\n",
      "     |  Data descriptors defined here:\n",
      "     |  \n",
      "     |  __dict__\n",
      "     |      dictionary for instance variables\n",
      "     |  \n",
      "     |  __weakref__\n",
      "     |      list of weak references to the object\n",
      "    \n",
      "    class Template(builtins.object)\n",
      "     |  Template(template)\n",
      "     |  \n",
      "     |  A string class for supporting $-substitutions.\n",
      "     |  \n",
      "     |  Methods defined here:\n",
      "     |  \n",
      "     |  __init__(self, template)\n",
      "     |      Initialize self.  See help(type(self)) for accurate signature.\n",
      "     |  \n",
      "     |  get_identifiers(self)\n",
      "     |  \n",
      "     |  is_valid(self)\n",
      "     |  \n",
      "     |  safe_substitute(self, mapping={}, /, **kws)\n",
      "     |  \n",
      "     |  substitute(self, mapping={}, /, **kws)\n",
      "     |  \n",
      "     |  ----------------------------------------------------------------------\n",
      "     |  Class methods defined here:\n",
      "     |  \n",
      "     |  __init_subclass__() from builtins.type\n",
      "     |      This method is called when a class is subclassed.\n",
      "     |      \n",
      "     |      The default implementation does nothing. It may be\n",
      "     |      overridden to extend subclasses.\n",
      "     |  \n",
      "     |  ----------------------------------------------------------------------\n",
      "     |  Data descriptors defined here:\n",
      "     |  \n",
      "     |  __dict__\n",
      "     |      dictionary for instance variables\n",
      "     |  \n",
      "     |  __weakref__\n",
      "     |      list of weak references to the object\n",
      "     |  \n",
      "     |  ----------------------------------------------------------------------\n",
      "     |  Data and other attributes defined here:\n",
      "     |  \n",
      "     |  braceidpattern = None\n",
      "     |  \n",
      "     |  delimiter = '$'\n",
      "     |  \n",
      "     |  flags = re.IGNORECASE\n",
      "     |  \n",
      "     |  idpattern = '(?a:[_a-z][_a-z0-9]*)'\n",
      "     |  \n",
      "     |  pattern = re.compile('\\n            \\\\$(?:\\n              ...identifie...\n",
      "\n",
      "FUNCTIONS\n",
      "    capwords(s, sep=None)\n",
      "        capwords(s [,sep]) -> string\n",
      "        \n",
      "        Split the argument into words using split, capitalize each\n",
      "        word using capitalize, and join the capitalized words using\n",
      "        join.  If the optional second argument sep is absent or None,\n",
      "        runs of whitespace characters are replaced by a single space\n",
      "        and leading and trailing whitespace are removed, otherwise\n",
      "        sep is used to split and join the words.\n",
      "\n",
      "DATA\n",
      "    __all__ = ['ascii_letters', 'ascii_lowercase', 'ascii_uppercase', 'cap...\n",
      "    ascii_letters = 'abcdefghijklmnopqrstuvwxyzABCDEFGHIJKLMNOPQRSTUVWXYZ'\n",
      "    ascii_lowercase = 'abcdefghijklmnopqrstuvwxyz'\n",
      "    ascii_uppercase = 'ABCDEFGHIJKLMNOPQRSTUVWXYZ'\n",
      "    digits = '0123456789'\n",
      "    hexdigits = '0123456789abcdefABCDEF'\n",
      "    octdigits = '01234567'\n",
      "    printable = '0123456789abcdefghijklmnopqrstuvwxyzABCDEFGHIJKLMNOPQRSTU...\n",
      "    punctuation = '!\"#$%&\\'()*+,-./:;<=>?@[\\\\]^_`{|}~'\n",
      "    whitespace = ' \\t\\n\\r\\x0b\\x0c'\n",
      "\n",
      "FILE\n",
      "    c:\\programdata\\anaconda3\\lib\\string.py\n",
      "\n",
      "\n"
     ]
    },
    {
     "name": "stdin",
     "output_type": "stream",
     "text": [
      "help>  set\n"
     ]
    },
    {
     "name": "stdout",
     "output_type": "stream",
     "text": [
      "Help on class set in module builtins:\n",
      "\n",
      "class set(object)\n",
      " |  set() -> new empty set object\n",
      " |  set(iterable) -> new set object\n",
      " |  \n",
      " |  Build an unordered collection of unique elements.\n",
      " |  \n",
      " |  Methods defined here:\n",
      " |  \n",
      " |  __and__(self, value, /)\n",
      " |      Return self&value.\n",
      " |  \n",
      " |  __contains__(...)\n",
      " |      x.__contains__(y) <==> y in x.\n",
      " |  \n",
      " |  __eq__(self, value, /)\n",
      " |      Return self==value.\n",
      " |  \n",
      " |  __ge__(self, value, /)\n",
      " |      Return self>=value.\n",
      " |  \n",
      " |  __getattribute__(self, name, /)\n",
      " |      Return getattr(self, name).\n",
      " |  \n",
      " |  __gt__(self, value, /)\n",
      " |      Return self>value.\n",
      " |  \n",
      " |  __iand__(self, value, /)\n",
      " |      Return self&=value.\n",
      " |  \n",
      " |  __init__(self, /, *args, **kwargs)\n",
      " |      Initialize self.  See help(type(self)) for accurate signature.\n",
      " |  \n",
      " |  __ior__(self, value, /)\n",
      " |      Return self|=value.\n",
      " |  \n",
      " |  __isub__(self, value, /)\n",
      " |      Return self-=value.\n",
      " |  \n",
      " |  __iter__(self, /)\n",
      " |      Implement iter(self).\n",
      " |  \n",
      " |  __ixor__(self, value, /)\n",
      " |      Return self^=value.\n",
      " |  \n",
      " |  __le__(self, value, /)\n",
      " |      Return self<=value.\n",
      " |  \n",
      " |  __len__(self, /)\n",
      " |      Return len(self).\n",
      " |  \n",
      " |  __lt__(self, value, /)\n",
      " |      Return self<value.\n",
      " |  \n",
      " |  __ne__(self, value, /)\n",
      " |      Return self!=value.\n",
      " |  \n",
      " |  __or__(self, value, /)\n",
      " |      Return self|value.\n",
      " |  \n",
      " |  __rand__(self, value, /)\n",
      " |      Return value&self.\n",
      " |  \n",
      " |  __reduce__(...)\n",
      " |      Return state information for pickling.\n",
      " |  \n",
      " |  __repr__(self, /)\n",
      " |      Return repr(self).\n",
      " |  \n",
      " |  __ror__(self, value, /)\n",
      " |      Return value|self.\n",
      " |  \n",
      " |  __rsub__(self, value, /)\n",
      " |      Return value-self.\n",
      " |  \n",
      " |  __rxor__(self, value, /)\n",
      " |      Return value^self.\n",
      " |  \n",
      " |  __sizeof__(...)\n",
      " |      S.__sizeof__() -> size of S in memory, in bytes\n",
      " |  \n",
      " |  __sub__(self, value, /)\n",
      " |      Return self-value.\n",
      " |  \n",
      " |  __xor__(self, value, /)\n",
      " |      Return self^value.\n",
      " |  \n",
      " |  add(...)\n",
      " |      Add an element to a set.\n",
      " |      \n",
      " |      This has no effect if the element is already present.\n",
      " |  \n",
      " |  clear(...)\n",
      " |      Remove all elements from this set.\n",
      " |  \n",
      " |  copy(...)\n",
      " |      Return a shallow copy of a set.\n",
      " |  \n",
      " |  difference(...)\n",
      " |      Return the difference of two or more sets as a new set.\n",
      " |      \n",
      " |      (i.e. all elements that are in this set but not the others.)\n",
      " |  \n",
      " |  difference_update(...)\n",
      " |      Remove all elements of another set from this set.\n",
      " |  \n",
      " |  discard(...)\n",
      " |      Remove an element from a set if it is a member.\n",
      " |      \n",
      " |      Unlike set.remove(), the discard() method does not raise\n",
      " |      an exception when an element is missing from the set.\n",
      " |  \n",
      " |  intersection(...)\n",
      " |      Return the intersection of two sets as a new set.\n",
      " |      \n",
      " |      (i.e. all elements that are in both sets.)\n",
      " |  \n",
      " |  intersection_update(...)\n",
      " |      Update a set with the intersection of itself and another.\n",
      " |  \n",
      " |  isdisjoint(...)\n",
      " |      Return True if two sets have a null intersection.\n",
      " |  \n",
      " |  issubset(...)\n",
      " |      Report whether another set contains this set.\n",
      " |  \n",
      " |  issuperset(...)\n",
      " |      Report whether this set contains another set.\n",
      " |  \n",
      " |  pop(...)\n",
      " |      Remove and return an arbitrary set element.\n",
      " |      Raises KeyError if the set is empty.\n",
      " |  \n",
      " |  remove(...)\n",
      " |      Remove an element from a set; it must be a member.\n",
      " |      \n",
      " |      If the element is not a member, raise a KeyError.\n",
      " |  \n",
      " |  symmetric_difference(...)\n",
      " |      Return the symmetric difference of two sets as a new set.\n",
      " |      \n",
      " |      (i.e. all elements that are in exactly one of the sets.)\n",
      " |  \n",
      " |  symmetric_difference_update(...)\n",
      " |      Update a set with the symmetric difference of itself and another.\n",
      " |  \n",
      " |  union(...)\n",
      " |      Return the union of sets as a new set.\n",
      " |      \n",
      " |      (i.e. all elements that are in either set.)\n",
      " |  \n",
      " |  update(...)\n",
      " |      Update a set with the union of itself and others.\n",
      " |  \n",
      " |  ----------------------------------------------------------------------\n",
      " |  Class methods defined here:\n",
      " |  \n",
      " |  __class_getitem__(...) from builtins.type\n",
      " |      See PEP 585\n",
      " |  \n",
      " |  ----------------------------------------------------------------------\n",
      " |  Static methods defined here:\n",
      " |  \n",
      " |  __new__(*args, **kwargs) from builtins.type\n",
      " |      Create and return a new object.  See help(type) for accurate signature.\n",
      " |  \n",
      " |  ----------------------------------------------------------------------\n",
      " |  Data and other attributes defined here:\n",
      " |  \n",
      " |  __hash__ = None\n",
      "\n"
     ]
    },
    {
     "name": "stdin",
     "output_type": "stream",
     "text": [
      "help>  q\n"
     ]
    },
    {
     "name": "stdout",
     "output_type": "stream",
     "text": [
      "\n",
      "You are now leaving help and returning to the Python interpreter.\n",
      "If you want to ask for help on a particular object directly from the\n",
      "interpreter, you can type \"help(object)\".  Executing \"help('string')\"\n",
      "has the same effect as typing a particular string at the help> prompt.\n"
     ]
    }
   ],
   "source": [
    "help()"
   ]
  },
  {
   "cell_type": "code",
   "execution_count": null,
   "id": "dbc3d364-9d35-47c5-bb04-b01d6cad6f1a",
   "metadata": {},
   "outputs": [],
   "source": []
  },
  {
   "cell_type": "code",
   "execution_count": 11,
   "id": "cfb72b16-8df8-49f6-bd0f-3beeadc8f99a",
   "metadata": {},
   "outputs": [
    {
     "name": "stdin",
     "output_type": "stream",
     "text": [
      "enter a number here 2\n",
      "enter last range here 2\n"
     ]
    },
    {
     "name": "stdout",
     "output_type": "stream",
     "text": [
      "2\n",
      "4\n",
      "6\n",
      "8\n",
      "10\n",
      "12\n",
      "14\n",
      "16\n",
      "18\n",
      "20\n"
     ]
    }
   ],
   "source": [
    "n=int(input(\"enter a number here\"))\n",
    "r=int(input(\"enter last range here\"))\n",
    "for i in range(1,r*10+1):\n",
    "    if i%n==0:\n",
    "        print(i)"
   ]
  },
  {
   "cell_type": "code",
   "execution_count": 6,
   "id": "5436a1b9-7423-48a6-9b5a-e0ed4b0d27ca",
   "metadata": {},
   "outputs": [
    {
     "name": "stdout",
     "output_type": "stream",
     "text": [
      "113\n"
     ]
    }
   ],
   "source": [
    "n=\"q\"\n",
    "print(ord(n))"
   ]
  },
  {
   "cell_type": "code",
   "execution_count": 7,
   "id": "b29ea075-005a-4a36-bc0c-56305070d3e2",
   "metadata": {},
   "outputs": [
    {
     "ename": "IndexError",
     "evalue": "list assignment index out of range",
     "output_type": "error",
     "traceback": [
      "\u001b[1;31m---------------------------------------------------------------------------\u001b[0m",
      "\u001b[1;31mIndexError\u001b[0m                                Traceback (most recent call last)",
      "Cell \u001b[1;32mIn[7], line 15\u001b[0m\n\u001b[0;32m     13\u001b[0m \u001b[38;5;28;01mfor\u001b[39;00m i \u001b[38;5;129;01min\u001b[39;00m \u001b[38;5;28mrange\u001b[39m(\u001b[38;5;28mlen\u001b[39m(a)):\n\u001b[0;32m     14\u001b[0m     \u001b[38;5;28;01mfor\u001b[39;00m j \u001b[38;5;129;01min\u001b[39;00m \u001b[38;5;28mrange\u001b[39m(\u001b[38;5;28mlen\u001b[39m(a[\u001b[38;5;241m0\u001b[39m])):\n\u001b[1;32m---> 15\u001b[0m         result[i][j]\u001b[38;5;241m=\u001b[39ma[i][j]\u001b[38;5;241m+\u001b[39mb[i][j]\n\u001b[0;32m     16\u001b[0m \u001b[38;5;28mprint\u001b[39m(result)\n",
      "\u001b[1;31mIndexError\u001b[0m: list assignment index out of range"
     ]
    }
   ],
   "source": []
  },
  {
   "cell_type": "code",
   "execution_count": null,
   "id": "bec60f7b-bf8a-4112-b88d-1ad7b2e77e85",
   "metadata": {},
   "outputs": [],
   "source": []
  }
 ],
 "metadata": {
  "kernelspec": {
   "display_name": "Python 3 (ipykernel)",
   "language": "python",
   "name": "python3"
  },
  "language_info": {
   "codemirror_mode": {
    "name": "ipython",
    "version": 3
   },
   "file_extension": ".py",
   "mimetype": "text/x-python",
   "name": "python",
   "nbconvert_exporter": "python",
   "pygments_lexer": "ipython3",
   "version": "3.11.7"
  },
  "widgets": {
   "application/vnd.jupyter.widget-state+json": {
    "state": {},
    "version_major": 2,
    "version_minor": 0
   }
  }
 },
 "nbformat": 4,
 "nbformat_minor": 5
}
