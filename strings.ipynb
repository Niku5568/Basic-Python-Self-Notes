{
 "cells": [
  {
   "cell_type": "markdown",
   "id": "0ac79b15-eba8-485b-958a-126bfa4e7f84",
   "metadata": {},
   "source": [
    "# String /str"
   ]
  },
  {
   "cell_type": "markdown",
   "id": "5abec6c4-731e-44c2-b07d-956e68bd9f90",
   "metadata": {},
   "source": [
    "# Data cleaning & Prepration: \n",
    "\n",
    "pre-processing: string are used to clean and process text data. this include such as removing unwanted space, charcters, symbols \n",
    "and normalizing case(words) in upper and lower case and trimming white space from given string."
   ]
  },
  {
   "cell_type": "markdown",
   "id": "4dbb2ae1-c1fd-4b0e-b765-6c48de34db8d",
   "metadata": {},
   "source": [
    "# Methods of strings"
   ]
  },
  {
   "cell_type": "raw",
   "id": "ee2235ba-f51a-42f1-b693-3e60fa01287c",
   "metadata": {},
   "source": [
    "1. Multiline string print                                        : \"\"\" sentence/peragraph \"\"\"\n",
    "\n",
    "2. remove white space                                            : a.strip()\n",
    "\n",
    "3. upper case                                                    : a.upper()\n",
    "\n",
    "4. lower case                                                    : a.lower()\n",
    "\n",
    "5. reverse string                                                : (a[ : :-1])\n",
    "\n",
    "6. length of the string                                          : len(a)\n",
    "\n",
    "7. count the number of repetation of word                        : a.count(\"word\")\n",
    "\n",
    "8. word replace                                                  : .replace(\"word\", \"replaced word\")\n",
    "\n",
    "9. most used word                                                : max(a)\n",
    "\n",
    "10. less used word                                               : min(a)\n",
    "\n",
    "11. find word                                                    : a.find()\n",
    "\n",
    "12. reverse find (find value from backward)                      : a.rfind()\n",
    "\n",
    "13. index number of word                                         : a.index(\"word\")\n",
    "\n",
    "14. split word                                                   : a.split()\n",
    "\n",
    "15. string concenate                                             : str1 + str2  (Helloworld)\n",
    "\n",
    "16. allign all string in the form of (a-z)                       : a.sorted()\n",
    "\n",
    "17. Slicing word \"Hello\": a[0] : \"H\" | a[:-1] : o | a[::-1]      : \"olleh\"\n",
    "\n",
    "18. check string in the sentence or not                          : \"hello\" in a\n",
    "\n",
    "19. check string start with                                      : a.startswith(\"word\")\n",
    "\n",
    "20. check string end with                                        : a.endswith(\"word\")\n",
    "\n",
    "21. all items in an iterable and joins them into one string.     : \" \".join(a)  |  a=(\"hello\", \"world\") : hello world\n",
    "\n",
    "22. each word of sentence is in caps letter                      : print(a.title())\n",
    "\n",
    "23.  capitalize 1st character of the sentance                    :.capitalize\n",
    "\n"
   ]
  },
  {
   "cell_type": "code",
   "execution_count": 1,
   "id": "a6172719-3be8-4527-9dab-3675f9885568",
   "metadata": {},
   "outputs": [
    {
     "name": "stdout",
     "output_type": "stream",
     "text": [
      "Hello\n"
     ]
    }
   ],
   "source": [
    "a=\"Hello\"\n",
    "print(a)"
   ]
  },
  {
   "cell_type": "code",
   "execution_count": 2,
   "id": "2d3b1f86-25bb-4b36-b035-51a63ee02cca",
   "metadata": {},
   "outputs": [
    {
     "name": "stdout",
     "output_type": "stream",
     "text": [
      "Hello\n"
     ]
    }
   ],
   "source": [
    "b='Hello'\n",
    "print(b)"
   ]
  },
  {
   "cell_type": "code",
   "execution_count": 3,
   "id": "912e6bd8-344a-4471-899d-009b706e063f",
   "metadata": {},
   "outputs": [
    {
     "name": "stdout",
     "output_type": "stream",
     "text": [
      "Hello this is nishant. i'm a data analytics student at ducat.\n"
     ]
    }
   ],
   "source": [
    "c=\"Hello this is nishant. i'm a data analytics student at ducat.\"\n",
    "print(c)"
   ]
  },
  {
   "cell_type": "markdown",
   "id": "9c13e285-9e2f-42e4-81d5-94a62ac81432",
   "metadata": {},
   "source": [
    "# Multiline String:\n",
    "\n",
    "you can assign a multiline string to a variable by using three quotes:"
   ]
  },
  {
   "cell_type": "code",
   "execution_count": 5,
   "id": "4ec2c5f7-8215-4e16-a8e6-e8d6f3d5cd17",
   "metadata": {},
   "outputs": [
    {
     "name": "stdout",
     "output_type": "stream",
     "text": [
      "  Python is a high-level, general-purpose programming language. \n",
      "Its design philosophy emphasizes code readability with the use of significant indentation. \n",
      "Python is dynamically typed and garbage-collected. It supports multiple programming paradigms, \n",
      "including structured, object-oriented, and functional programming.\n",
      "Wikipedia\n",
      "\n",
      " \n"
     ]
    }
   ],
   "source": [
    "d=\"\"\"  Python is a high-level, general-purpose programming language. \n",
    "Its design philosophy emphasizes code readability with the use of significant indentation. \n",
    "Python is dynamically typed and garbage-collected. It supports multiple programming paradigms, \n",
    "including structured, object-oriented, and functional programming.\n",
    "Wikipedia\n",
    "\n",
    " \"\"\"\n",
    "print(d)\n"
   ]
  },
  {
   "cell_type": "markdown",
   "id": "5806dee6-ad99-42a2-89b4-241289abef3e",
   "metadata": {},
   "source": [
    "# Indexing of strings -----> (0 to n) and <------(-1 to -n)"
   ]
  },
  {
   "cell_type": "code",
   "execution_count": 7,
   "id": "63c14ab7-dd80-4d02-8822-98707e3b3b8c",
   "metadata": {},
   "outputs": [
    {
     "name": "stdout",
     "output_type": "stream",
     "text": [
      "n\n"
     ]
    }
   ],
   "source": [
    "a=\"hello nishant\"\n",
    "print(a[11])\n"
   ]
  },
  {
   "cell_type": "code",
   "execution_count": 3,
   "id": "87b2b8d7-e364-4645-8d4c-71752547b042",
   "metadata": {},
   "outputs": [
    {
     "name": "stdout",
     "output_type": "stream",
     "text": [
      "n\n"
     ]
    }
   ],
   "source": [
    "a=\"hello nishant\"\n",
    "print(a[-2])\n"
   ]
  },
  {
   "cell_type": "code",
   "execution_count": null,
   "id": "f8e397ee-e1d9-4ca4-aa6b-9125ba87447d",
   "metadata": {},
   "outputs": [],
   "source": []
  },
  {
   "cell_type": "markdown",
   "id": "c4b49536-f8cf-4783-9381-8d6885e9e347",
   "metadata": {},
   "source": [
    "# Slicing of strings"
   ]
  },
  {
   "cell_type": "code",
   "execution_count": 11,
   "id": "564c3523-e49b-4027-a545-a5927336b82d",
   "metadata": {},
   "outputs": [
    {
     "name": "stdout",
     "output_type": "stream",
     "text": [
      "Hello\n"
     ]
    }
   ],
   "source": [
    "a=\"Hello Nishant how are you, hope you are well and healthy\"\n",
    "print(a[0:5])"
   ]
  },
  {
   "cell_type": "code",
   "execution_count": 14,
   "id": "721ad729-0395-4367-9f52-9f43b5dea66d",
   "metadata": {},
   "outputs": [
    {
     "name": "stdout",
     "output_type": "stream",
     "text": [
      "Nishant how are\n"
     ]
    }
   ],
   "source": [
    "a=\"Hello Nishant how are you, hope you are well and healthy\"\n",
    "print(a[6:21])"
   ]
  },
  {
   "cell_type": "code",
   "execution_count": 17,
   "id": "9cfe17f7-106f-4da0-b323-a3f560ae214a",
   "metadata": {},
   "outputs": [
    {
     "name": "stdout",
     "output_type": "stream",
     "text": [
      "HloNsathwae\n"
     ]
    }
   ],
   "source": [
    "a=\"Hello Nishant how are you, hope you are well and healthy\"\n",
    "print(a[0:21:2])"
   ]
  },
  {
   "cell_type": "code",
   "execution_count": 20,
   "id": "53c7f57e-32c9-46bb-b0b1-a27433ea4128",
   "metadata": {},
   "outputs": [
    {
     "name": "stdout",
     "output_type": "stream",
     "text": [
      "Hl\n"
     ]
    }
   ],
   "source": [
    "#sting by using steps/gape print\n",
    "a=\"Hello\"\n",
    "#a=\"Hello Nishant how are you, hope you are well and healthy\"\n",
    "print(a[0:21:2+1])"
   ]
  },
  {
   "cell_type": "code",
   "execution_count": 19,
   "id": "9880cc1f-3798-47f3-913b-7be1548b3d22",
   "metadata": {},
   "outputs": [
    {
     "name": "stdout",
     "output_type": "stream",
     "text": [
      "olleh\n"
     ]
    }
   ],
   "source": [
    "a=\"hello\"\n",
    "print(a[::-1])"
   ]
  },
  {
   "cell_type": "markdown",
   "id": "8ac27edd-fc75-43ee-8de6-4995e1b96e5d",
   "metadata": {},
   "source": [
    "# reversing a string"
   ]
  },
  {
   "cell_type": "code",
   "execution_count": 21,
   "id": "0c96dc1b-a430-45dd-8a5f-79bbaee19d21",
   "metadata": {},
   "outputs": [
    {
     "name": "stdout",
     "output_type": "stream",
     "text": [
      "yhtlaeh dna llew era uoy epoh ,uoy era woh tnahsiN olleH\n"
     ]
    }
   ],
   "source": [
    "\n",
    "a=\"Hello Nishant how are you, hope you are well and healthy\"\n",
    "print(a[::-1])"
   ]
  },
  {
   "cell_type": "markdown",
   "id": "2840e35a-19ea-4f03-ba41-3b7e560a9688",
   "metadata": {},
   "source": [
    "# calculate or find length of strings"
   ]
  },
  {
   "cell_type": "code",
   "execution_count": 9,
   "id": "868a9446-b7c4-4c3f-8207-9fde0b2bc13a",
   "metadata": {},
   "outputs": [
    {
     "name": "stdout",
     "output_type": "stream",
     "text": [
      "56\n"
     ]
    }
   ],
   "source": [
    "a=\"Hello Nishant how are you, hope you are well and healthy\"\n",
    "print(len(a))"
   ]
  },
  {
   "cell_type": "code",
   "execution_count": 25,
   "id": "3091e172-c92d-40ee-a339-0149c999c704",
   "metadata": {},
   "outputs": [
    {
     "name": "stdout",
     "output_type": "stream",
     "text": [
      "<class 'str'>\n"
     ]
    }
   ],
   "source": [
    "a=\"Nishant\"\n",
    "print(type(a))"
   ]
  },
  {
   "cell_type": "markdown",
   "id": "27600dbf-b4b8-4c02-80d0-5f712ddec50c",
   "metadata": {
    "jp-MarkdownHeadingCollapsed": true
   },
   "source": [
    "# python - Modifying stings"
   ]
  },
  {
   "cell_type": "markdown",
   "id": "fbb18155-3da6-4991-91a4-489f1bd0285a",
   "metadata": {},
   "source": [
    "# upper method\n",
    "\n",
    "Upper() method are return the string in upper case"
   ]
  },
  {
   "cell_type": "code",
   "execution_count": 28,
   "id": "f5320f1f-c050-4824-a578-cddb94b73807",
   "metadata": {},
   "outputs": [
    {
     "name": "stdout",
     "output_type": "stream",
     "text": [
      "HELLO NISHANT HOW ARE YOU, HOPE YOU ARE WELL AND HEALTHY\n"
     ]
    }
   ],
   "source": [
    "a=\"Hello Nishant how are you, hope you are well and healthy\"\n",
    "print(a.upper())"
   ]
  },
  {
   "cell_type": "markdown",
   "id": "5b539713-cb87-4f40-a6eb-798b2283a30b",
   "metadata": {},
   "source": [
    "# lower method\n",
    "\n",
    "lower() method are return the string in lower case"
   ]
  },
  {
   "cell_type": "code",
   "execution_count": 29,
   "id": "721a366d-2328-4d2e-a8a7-7223a78c92ac",
   "metadata": {},
   "outputs": [
    {
     "name": "stdout",
     "output_type": "stream",
     "text": [
      "hello nishant how are you, hope you are well and healthy\n"
     ]
    }
   ],
   "source": [
    "a=\"Hello Nishant how are you, hope you are well and healthy\"\n",
    "print(a.lower())"
   ]
  },
  {
   "cell_type": "markdown",
   "id": "cf9e4d50-3455-4039-bb59-4e9ad207b9f8",
   "metadata": {},
   "source": [
    "# word Replace method\n",
    "\n",
    "the replace() method replacing a strings with another string."
   ]
  },
  {
   "cell_type": "code",
   "execution_count": 33,
   "id": "180d009e-941e-4035-afbb-27598e08d0ff",
   "metadata": {},
   "outputs": [
    {
     "name": "stdout",
     "output_type": "stream",
     "text": [
      "Hello Nishant Gupta how are you, hope you are well and healthy\n"
     ]
    }
   ],
   "source": [
    "a=\"Hello Nishant how are you, hope you are well and healthy\"\n",
    "print(a.replace(\"Nishant\", \"Nishant Gupta\"))\n",
    "              #   word        replace word in strings\n",
    "\n"
   ]
  },
  {
   "cell_type": "markdown",
   "id": "2c637097-2d31-4aa2-ad43-d6bb2b766898",
   "metadata": {},
   "source": [
    "# word find method "
   ]
  },
  {
   "cell_type": "code",
   "execution_count": 34,
   "id": "511aae18-c639-4136-a81d-5125f1a7e881",
   "metadata": {},
   "outputs": [
    {
     "name": "stdout",
     "output_type": "stream",
     "text": [
      "14\n"
     ]
    }
   ],
   "source": [
    "a=\"Hello Nishant how are you, hope you are well and healthy\"\n",
    "print(a.find(\"how\"))"
   ]
  },
  {
   "cell_type": "code",
   "execution_count": null,
   "id": "f53b34c2-575c-48a2-878b-fe822ea19954",
   "metadata": {},
   "outputs": [],
   "source": []
  },
  {
   "cell_type": "markdown",
   "id": "fe5219dd-63fc-4c5f-81cc-464ff7f7db4b",
   "metadata": {},
   "source": [
    "# Check Stings \n",
    "To check if a certain phrase or character is present in a string, we can use the keyword in."
   ]
  },
  {
   "cell_type": "code",
   "execution_count": 38,
   "id": "45835d75-4d8c-49f2-b752-e6e1361213c2",
   "metadata": {},
   "outputs": [
    {
     "name": "stdout",
     "output_type": "stream",
     "text": [
      "True\n"
     ]
    }
   ],
   "source": [
    "a=\"Hello Nishant how are you, hope you are well and healthy\"\n",
    "print(\"Nishant\" in a)"
   ]
  },
  {
   "cell_type": "code",
   "execution_count": 21,
   "id": "4e311626-d7cf-48a4-88f8-eb5fcc9cb409",
   "metadata": {},
   "outputs": [
    {
     "name": "stdout",
     "output_type": "stream",
     "text": [
      "Yes, Nishant present\n"
     ]
    }
   ],
   "source": [
    "a=\"Hello Nishant how are you, hope you are well and healthy\"\n",
    "if \"Nishant\" in a:\n",
    "    print(\"Yes, Nishant present\")"
   ]
  },
  {
   "cell_type": "code",
   "execution_count": 23,
   "id": "a5e54024-4f3d-45bd-82c2-f4f52ff889dc",
   "metadata": {},
   "outputs": [
    {
     "data": {
      "text/plain": [
       "True"
      ]
     },
     "execution_count": 23,
     "metadata": {},
     "output_type": "execute_result"
    }
   ],
   "source": [
    "a=\"Hello Nishant how are you, hope you are well and healthy\"\n",
    "\"Hello\" in a"
   ]
  },
  {
   "cell_type": "markdown",
   "id": "e19da051-0c20-46b5-854e-035e6e59301e",
   "metadata": {},
   "source": [
    "# check if not"
   ]
  },
  {
   "cell_type": "code",
   "execution_count": 42,
   "id": "e5139a0f-8060-4625-9116-11b89919047d",
   "metadata": {},
   "outputs": [
    {
     "name": "stdout",
     "output_type": "stream",
     "text": [
      "Not Present\n"
     ]
    }
   ],
   "source": [
    "a=\"Hello Nishant how are you, hope you are well and healthy\"\n",
    "if \"Gupta\" in a:\n",
    "    print(\"Yes, present\")\n",
    "else:\n",
    "    print(\"Not Present\")"
   ]
  },
  {
   "cell_type": "code",
   "execution_count": 43,
   "id": "8162a8fb-85a4-4841-b66e-00c54f0a2f75",
   "metadata": {},
   "outputs": [
    {
     "name": "stdout",
     "output_type": "stream",
     "text": [
      "False\n"
     ]
    }
   ],
   "source": [
    "a=\"Hello Nishant how are you, hope you are well and healthy\"\n",
    "print(\"gupta\" in a)"
   ]
  },
  {
   "cell_type": "markdown",
   "id": "c8dd2735-74a2-483c-8590-14a90402ec46",
   "metadata": {},
   "source": [
    "# String Concatenation:\n",
    "\n"
   ]
  },
  {
   "cell_type": "code",
   "execution_count": 48,
   "id": "c07bd679-9696-4251-87cf-72fa877e5928",
   "metadata": {},
   "outputs": [
    {
     "name": "stdout",
     "output_type": "stream",
     "text": [
      "Hello Nishant\n"
     ]
    }
   ],
   "source": [
    "a= \"Hello\"\n",
    "b= \"Nishant\"\n",
    "c= print(a+ \" \"+b)\n"
   ]
  },
  {
   "cell_type": "markdown",
   "id": "5717234f-3c40-47a5-8ba8-98fb767dbfc4",
   "metadata": {},
   "source": [
    "# python string index() method"
   ]
  },
  {
   "cell_type": "code",
   "execution_count": 13,
   "id": "af44c8be-96f1-4dd9-9fc7-48a2b03b3a37",
   "metadata": {},
   "outputs": [
    {
     "name": "stdout",
     "output_type": "stream",
     "text": [
      "6\n",
      "14\n"
     ]
    }
   ],
   "source": [
    "a=\"Hello Nishant how are you, hope you are well and healthy\"\n",
    "print(a.index(\"Nishant\"))\n",
    "b=a.index(\"how\")\n",
    "print(b)"
   ]
  },
  {
   "cell_type": "markdown",
   "id": "8697dd29-ac37-4ace-9b4e-912d162e0372",
   "metadata": {},
   "source": [
    "# Write a python program to insert a string in between two strings, find the length of the string "
   ]
  },
  {
   "cell_type": "code",
   "execution_count": 7,
   "id": "4e970588-8588-4f37-ba9e-bf34d158f3e4",
   "metadata": {},
   "outputs": [
    {
     "name": "stdout",
     "output_type": "stream",
     "text": [
      "DELHI IS A CAPITAL OF INDIA lal quilla is beautiful place in delhi\n",
      "66\n"
     ]
    }
   ],
   "source": [
    "a=\"Delhi is a capital of india\"\n",
    "b=\"Lal quilla is beautiful place in delhi\"\n",
    "c=a.upper()+\" \"+b.lower()\n",
    "print(c)\n",
    "print(len(c))\n"
   ]
  },
  {
   "cell_type": "markdown",
   "id": "f4852605-4dd4-44a8-b6e5-d48b6cadb3a5",
   "metadata": {},
   "source": [
    "# Write a program to split the string"
   ]
  },
  {
   "cell_type": "code",
   "execution_count": 9,
   "id": "6e0ae1b5-0c69-43f2-9a33-704c094a132f",
   "metadata": {},
   "outputs": [
    {
     "name": "stdout",
     "output_type": "stream",
     "text": [
      "['DELHI', 'IS', 'A', 'CAPITAL', 'OF', 'INDIA', 'lal', 'quilla', 'is', 'beautiful', 'place', 'in', 'delhi']\n"
     ]
    }
   ],
   "source": [
    "print(c.split())"
   ]
  },
  {
   "cell_type": "code",
   "execution_count": null,
   "id": "12ca6520-f1ca-43d3-94b9-587fd0739289",
   "metadata": {},
   "outputs": [],
   "source": [
    "chr(\"akjh\")"
   ]
  },
  {
   "cell_type": "markdown",
   "id": "1764d7c3-b2f6-44e7-a207-c581de383bec",
   "metadata": {},
   "source": [
    "# methods"
   ]
  },
  {
   "cell_type": "code",
   "execution_count": 7,
   "id": "ce980eb0-b0b3-4f61-b1ca-a0d3cb728be1",
   "metadata": {},
   "outputs": [
    {
     "name": "stdout",
     "output_type": "stream",
     "text": [
      "29\n",
      "!!!!!NISHANT !!!!! NIKU !!!!!\n",
      "!!!!!nishant !!!!! niku !!!!!\n",
      "!!!!!nishant !!!!! Niku \n",
      "!!!!!niku !!!!! Niku !!!!!\n",
      "['!!!!!nishant', '!!!!!', 'Niku', '!!!!!']\n"
     ]
    }
   ],
   "source": [
    "a=\"!!!!!nishant !!!!! Niku !!!!!\"\n",
    "print(len(a))\n",
    "print(a.upper())\n",
    "print(a.lower())\n",
    "print(a.rstrip(\"!\"))\n",
    "print(a.replace(\"nishant\",\"niku\"))\n",
    "print(a.split(\" \")) # split all sentance in gape of space.\n"
   ]
  },
  {
   "cell_type": "code",
   "execution_count": 35,
   "id": "1b01ec19-2f8a-47ae-b4dd-f3bd0514ee90",
   "metadata": {},
   "outputs": [
    {
     "name": "stdout",
     "output_type": "stream",
     "text": [
      "22\n",
      "Introduction of python\n",
      "50\n",
      "Repeation of word t in the sentance is : 3\n",
      "sentance are end with 'n' is true:  True\n",
      "sentance are Start with 'n' is true:  True\n",
      "will give first occurance and postion of the word in the sentance: 13\n",
      "will give first occurance and postion of the word in the sentance: -1\n",
      "will give first occurance and postion of the word in the sentance: 13\n"
     ]
    }
   ],
   "source": [
    "blogheading = \"introduction of Python\"\n",
    "print(len(blogheading))\n",
    "print(blogheading.capitalize()) # capitalize first word of the letter in the sentance.\n",
    "print(len(blogheading.center(50)))\n",
    "print(\"Repeation of word t in the sentance is :\",blogheading.count(\"t\")) # count repetation of the word in the sentance.\n",
    "print(\"sentance are end with 'n' is true: \",blogheading.endswith(\"n\"))\n",
    "print(\"sentance are Start with 'n' is true: \",blogheading.startswith(\"i\"))\n",
    "print(\"will give first occurance and postion of the word in the sentance:\",blogheading.find(\"of\")) # if value not found in the sentance will give -1.\n",
    "print(\"will give first occurance and postion of the word in the sentance:\",blogheading.find(\"off\")) # if value not found in the sentance will give -1.\n",
    "\n",
    "print(\"will give first occurance and postion of the word in the sentance:\",blogheading.index(\"of\")) # if value not found give error.\n",
    "#print(\"will give first occurance and postion of the word in the sentance:\",blogheading.index(\"off\")) # if value not found give error.\n",
    "\n",
    "\n"
   ]
  },
  {
   "cell_type": "markdown",
   "id": "d86719ec-a146-47a6-b902-16cb7982fef0",
   "metadata": {},
   "source": [
    "# isalnum : \n",
    "\n",
    "will check your string is alpha numeric or not."
   ]
  },
  {
   "cell_type": "code",
   "execution_count": 45,
   "id": "40511147-6cf1-4e76-a313-5d0582b1a4be",
   "metadata": {},
   "outputs": [
    {
     "name": "stdout",
     "output_type": "stream",
     "text": [
      "will give false if any other puncution present in the sentance like space or any other symbols:  False\n",
      "\n",
      "will give true when all character in the string is alpha numeric, A-Z, a-z, 0-9 True\n"
     ]
    }
   ],
   "source": [
    "a=\"Welcome TO The India\"\n",
    "print(\"will give false if any other puncution present in the sentance like space or any other symbols: \",a.isalnum())\n",
    "print()\n",
    "b=\"WelcomeTOTheIndia\"\n",
    "print(\"will give true when all character in the string is alpha numeric, A-Z, a-z, 0-9\",b.isalnum())\n"
   ]
  },
  {
   "cell_type": "markdown",
   "id": "721e9be9-939b-453a-af6c-d6b667a79a27",
   "metadata": {},
   "source": [
    "# isalpha(): \n",
    "check string are alphabets or not."
   ]
  },
  {
   "cell_type": "code",
   "execution_count": 51,
   "id": "8d60604a-7e43-43ee-848a-8284cf402a41",
   "metadata": {},
   "outputs": [
    {
     "name": "stdout",
     "output_type": "stream",
     "text": [
      "will give false if any other puncution present in the sentance like space or any other symbols, numeric values:  False\n",
      "\n",
      "will give true when all character in the string is alphabates or not, A-Z, a-z:  True\n"
     ]
    }
   ],
   "source": [
    "a=\"Welcome0-@\"\n",
    "print(\"will give false if any other puncution present in the sentance like space or any other symbols, numeric values: \",a.isalpha())\n",
    "print()\n",
    "b=\"WelcomeTOTheIndia\"\n",
    "print(\"will give true when all character in the string is alphabates or not, A-Z, a-z: \",b.isalpha())\n"
   ]
  },
  {
   "cell_type": "markdown",
   "id": "cb5691dc-b70f-4b85-96f6-9379432147f8",
   "metadata": {},
   "source": [
    "# islower(): \n",
    "check all sentance are lower or not"
   ]
  },
  {
   "cell_type": "code",
   "execution_count": 60,
   "id": "020720d5-076f-4712-8c99-d95a113e3e2f",
   "metadata": {},
   "outputs": [
    {
     "name": "stdout",
     "output_type": "stream",
     "text": [
      "will check all string are in lower letter  Welcome  :  False\n",
      "\n",
      "will check all string are in lower letter welcome  :  True\n"
     ]
    }
   ],
   "source": [
    "a=\"Welcome\"\n",
    "print(\"will check all string are in lower letter \",a,\" : \",a.islower())\n",
    "print()\n",
    "b=\"welcome\"\n",
    "print(\"will check all string are in lower letter\",b,\" : \",b.islower())"
   ]
  },
  {
   "cell_type": "markdown",
   "id": "3752fcdc-f3f1-4884-8740-7b55f3d4dfa4",
   "metadata": {},
   "source": [
    "# isupper(): \n",
    "check string are in upper case or not."
   ]
  },
  {
   "cell_type": "code",
   "execution_count": 62,
   "id": "40e163ff-48fd-428d-8f28-cd02388598b1",
   "metadata": {},
   "outputs": [
    {
     "name": "stdout",
     "output_type": "stream",
     "text": [
      "will check all string are in lower letter  WELCOME  :  True\n",
      "\n",
      "will check all string are in lower letter welcome  :  False\n"
     ]
    }
   ],
   "source": [
    "a=\"WELCOME\"\n",
    "print(\"will check all string are in upper letter \",a,\" : \",a.isupper())\n",
    "print()\n",
    "b=\"welcome\"\n",
    "print(\"will check all string are in upper letter\",b,\" : \",b.isupper())"
   ]
  },
  {
   "cell_type": "markdown",
   "id": "cedd1d74-bfc5-4e98-a2f1-09b6c7baf74f",
   "metadata": {},
   "source": [
    "# isprintable(): \n",
    "check string are printable or not like: \n",
    "\n",
    "printable is : string, list, tuple and dictionary etc.   \n",
    "non printable is: \\n, \\t etc."
   ]
  },
  {
   "cell_type": "code",
   "execution_count": 67,
   "id": "14b9f029-50eb-4395-ad29-ca6c2d41ed2a",
   "metadata": {},
   "outputs": [
    {
     "name": "stdout",
     "output_type": "stream",
     "text": [
      "will check all string are in printable or not  WELCOME  :  True\n",
      "\n",
      "will check all string are in printable or not  welcome'\n",
      "'  :  False\n"
     ]
    }
   ],
   "source": [
    "a=\"WELCOME\"\n",
    "print(\"will check all string are in printable or not \",a,\" : \",a.isprintable())\n",
    "print()\n",
    "b=\"welcome'\\n'\"\n",
    "print(\"will check all string are in printable or not \",b,\" : \",b.isprintable())"
   ]
  },
  {
   "cell_type": "markdown",
   "id": "e0e55762-6a55-4d51-9357-68a10f046eff",
   "metadata": {},
   "source": [
    "# isspace(): \n",
    "check string are contain whitespace or blank space not.\n"
   ]
  },
  {
   "cell_type": "code",
   "execution_count": 88,
   "id": "a02b735c-4987-40c3-b1d2-31b5d4cf294e",
   "metadata": {},
   "outputs": [
    {
     "name": "stdout",
     "output_type": "stream",
     "text": [
      "will check whitespace are available or not     :  True\n",
      "\n",
      "will check whitespace are available or not  welcome              :  False\n"
     ]
    }
   ],
   "source": [
    "a=\" \"\n",
    "print(\"will check whitespace are available or not \",a,\" : \",a.isspace())\n",
    "print()\n",
    "b=\"welcome            \"\n",
    "print(\"will check whitespace are available or not \",b,\" : \",b.isspace())"
   ]
  },
  {
   "cell_type": "markdown",
   "id": "2ab8eb48-9581-4811-bd25-206e9ef1c57d",
   "metadata": {},
   "source": [
    "# istitle(): \n",
    "\n",
    "if the first letter of each word of the string is capitalised else return false."
   ]
  },
  {
   "cell_type": "code",
   "execution_count": 80,
   "id": "d8c0e167-cedf-43ca-bfa7-2cdbd3d88337",
   "metadata": {},
   "outputs": [
    {
     "name": "stdout",
     "output_type": "stream",
     "text": [
      "True\n",
      "\n",
      "False\n"
     ]
    }
   ],
   "source": [
    "a=\"Hello My Name Is Nishant\"\n",
    "print(a.istitle())\n",
    "print()\n",
    "b=\"Hello my name is nishant\"\n",
    "print(b.istitle())\n"
   ]
  },
  {
   "cell_type": "markdown",
   "id": "3c21d352-6e91-4866-9978-a12cbc3d55e9",
   "metadata": {},
   "source": [
    "# swapecase():\n",
    "convert string lowercase to uppercse and uppercase to lowercase."
   ]
  },
  {
   "cell_type": "code",
   "execution_count": 83,
   "id": "5cbfefb5-e5d8-4fa0-9a49-bc454ecced45",
   "metadata": {},
   "outputs": [
    {
     "name": "stdout",
     "output_type": "stream",
     "text": [
      "HELLO NY NAME IS NISHANT\n",
      "\n",
      "HELLO MY NAME IS NISHANT pYTHON IS pROGRAMMING lENGAUGE\n"
     ]
    }
   ],
   "source": [
    "a=\"hello ny name is nishant\"\n",
    "print(a.swapcase())\n",
    "print()\n",
    "b,C=\"HELLO MY NAME IS NISHANT\",\"Python is Programming Lengauge\"\n",
    "print(b,C.swapcase())\n"
   ]
  },
  {
   "cell_type": "markdown",
   "id": "c18abecf-11db-4efe-8835-cade145349e2",
   "metadata": {},
   "source": [
    "# title():\n",
    "\n",
    "capatilizes each letter of the word within the string."
   ]
  },
  {
   "cell_type": "code",
   "execution_count": 86,
   "id": "b56bd2cf-ed9b-42ef-b67b-6eadcdfbc2fb",
   "metadata": {},
   "outputs": [
    {
     "name": "stdout",
     "output_type": "stream",
     "text": [
      "Hello My Name Is Nishant\n"
     ]
    }
   ],
   "source": [
    "a=\"hello my name is nishant\"\n",
    "print(a.title())\n"
   ]
  },
  {
   "cell_type": "markdown",
   "id": "ebede3ba-90a1-4136-a812-27b573ed3e22",
   "metadata": {},
   "source": [
    "# strip : \n",
    "it will remove the duplicate characters from the sentance. like: nishant : n is 2 times in the string and while using strip method it will remove n from last of the word.\n",
    "white space or any word from the string or sentance\n",
    "# rstrip: \n",
    "remove whitespace or any other value from the end of the word/sentance like: Niku!!!! = Niku\n",
    "# isstrip: \n",
    "check string have whitespace."
   ]
  },
  {
   "cell_type": "code",
   "execution_count": 144,
   "id": "10de0848-17be-4f49-bcdd-3de4b9f2c9c9",
   "metadata": {},
   "outputs": [
    {
     "name": "stdout",
     "output_type": "stream",
     "text": [
      " Hello this is nishant \n",
      "Hello this is nishant\n",
      "a\n",
      "nishant\n"
     ]
    }
   ],
   "source": [
    "s= \" Hello this is nishant \"\n",
    "print(s)\n",
    "r=s.strip()\n",
    "print(r)\n",
    "\n",
    "\n",
    "k= \" Hello this is nishant\"\n",
    "print(k.strip(\" Helothisn\"))\n",
    "\n",
    "\n",
    "k= \"nishant\"\n",
    "print(k.strip(\" \"))"
   ]
  },
  {
   "cell_type": "markdown",
   "id": "b757b4e0-9d85-4b5c-8157-854849fd5aed",
   "metadata": {},
   "source": [
    "# partition(sep): left partition\n",
    "after partition string will convert into tuple.\n",
    "sep = seprator (any word in the string which you want to seprate all sentance or word.)\n",
    "# rpartition(sep): right partition\n"
   ]
  },
  {
   "cell_type": "code",
   "execution_count": 150,
   "id": "2b15e51c-1e11-435b-999d-65e2fe86e6a8",
   "metadata": {},
   "outputs": [
    {
     "name": "stdout",
     "output_type": "stream",
     "text": [
      "Hello this is nishant\n",
      "('Hello', ' ', 'this is nishant')\n",
      "Hello this is nishant\n",
      "('Hello this is', ' ', 'nishant')\n"
     ]
    }
   ],
   "source": [
    "s= \"Hello this is nishant\"\n",
    "print(s)\n",
    "r=s.partition(\" \")\n",
    "print(r)\n",
    "\n",
    "s= \"Hello this is nishant\"\n",
    "print(s)\n",
    "r=s.rpartition(\" \")\n",
    "print(r)"
   ]
  },
  {
   "cell_type": "markdown",
   "id": "6e78d801-4132-42dc-8045-bfa514997de3",
   "metadata": {},
   "source": [
    "# split(maxsplit) :\n",
    "convert all strings in to tuple.\n",
    "# rsplit(maxsplit)\n",
    "# splitlines(keepends)"
   ]
  },
  {
   "cell_type": "code",
   "execution_count": 151,
   "id": "08b0fd52-12f0-4479-8aff-ede875b86012",
   "metadata": {},
   "outputs": [
    {
     "name": "stdout",
     "output_type": "stream",
     "text": [
      "['i', 'love', 'you', 'nishant']\n"
     ]
    }
   ],
   "source": [
    "s=\"i love you nishant\"\n",
    "r=s.split()\n",
    "print(r)"
   ]
  },
  {
   "cell_type": "code",
   "execution_count": 113,
   "id": "28fe705c-d5c6-431e-a4c5-b1b72a1aaae4",
   "metadata": {},
   "outputs": [
    {
     "name": "stdout",
     "output_type": "stream",
     "text": [
      "Happy \n",
      " new \n",
      " year\n",
      "['Happy ', ' new ', ' year']\n",
      "\n",
      "['Happy \\n', ' new \\n', ' year']\n"
     ]
    }
   ],
   "source": [
    "s=\"Happy \\n new \\n year\"\n",
    "r=s.splitlines()\n",
    "print(s)\n",
    "print(r)\n",
    "\n",
    "print()\n",
    "\n",
    "s=\"Happy \\n new \\n year\"\n",
    "r=s.splitlines(True) # true will give the seprator and display the result.\n",
    "print(r)"
   ]
  },
  {
   "cell_type": "code",
   "execution_count": 153,
   "id": "98bc8d6d-1b5e-4468-a4b2-3f71c4e06c5b",
   "metadata": {},
   "outputs": [
    {
     "name": "stdout",
     "output_type": "stream",
     "text": [
      "['i', 'love you nishant']\n"
     ]
    }
   ],
   "source": [
    "#here (\" \" are used as a seprator and 1 is used to control the seprator. if we didn't give control it will seprate the string on the basis of max strings.)\n",
    "s=\"i love you nishant\"\n",
    "r=s.split(\" \",1)\n",
    "print(r)"
   ]
  },
  {
   "cell_type": "raw",
   "id": "9c8e3dbf-d539-48c2-927f-a0196d1a6975",
   "metadata": {},
   "source": [
    "Write a program to split a given string on hyphens and display each substring. \n",
    "Jagdish -from-haldwani\n",
    "\n",
    "\n",
    "\n",
    "Output - Jagdish \n",
    "From\n",
    "Haldwani"
   ]
  },
  {
   "cell_type": "code",
   "execution_count": 156,
   "id": "aa62cf4b-9779-4368-b596-9051ab32e92b",
   "metadata": {},
   "outputs": [
    {
     "name": "stdout",
     "output_type": "stream",
     "text": [
      "Jagdish \n",
      "from\n",
      "haldwani\n"
     ]
    }
   ],
   "source": [
    "a=\"Jagdish -from-haldwani\"\n",
    "b=a.split(\"-\")\n",
    "for i in b:\n",
    "    print(i)"
   ]
  },
  {
   "cell_type": "markdown",
   "id": "ae5721d7-d4e2-40a4-bceb-2bc241c2001b",
   "metadata": {},
   "source": [
    "# capitalize()"
   ]
  },
  {
   "cell_type": "code",
   "execution_count": null,
   "id": "5996b1c7-9a74-45fd-878b-ab935b2318d2",
   "metadata": {},
   "outputs": [],
   "source": [
    "a= \"india has best cities\"\n",
    "b=a.capitalize()\n",
    "print(b)"
   ]
  },
  {
   "cell_type": "markdown",
   "id": "646484e8-abc0-4554-a6e9-87e7237460f0",
   "metadata": {},
   "source": [
    "# casefold()\n",
    "make small letter of each word of first letters. \n",
    "\n",
    "similar like lower() method."
   ]
  },
  {
   "cell_type": "code",
   "execution_count": 48,
   "id": "38bf3e15-2bbb-4634-aff8-cb6fa695ae11",
   "metadata": {},
   "outputs": [
    {
     "name": "stdout",
     "output_type": "stream",
     "text": [
      "india has best cities\n"
     ]
    }
   ],
   "source": [
    "a= \"India Has Best Cities\"\n",
    "b=a.casefold()\n",
    "print(b)"
   ]
  },
  {
   "cell_type": "markdown",
   "id": "ba4e8d31-ecd5-49ec-b54a-f40f71bf730b",
   "metadata": {},
   "source": [
    "# isdecimal()"
   ]
  },
  {
   "cell_type": "code",
   "execution_count": 68,
   "id": "b767707f-d254-48be-a382-514f824ee374",
   "metadata": {},
   "outputs": [
    {
     "name": "stdout",
     "output_type": "stream",
     "text": [
      "True\n"
     ]
    }
   ],
   "source": [
    "s1=\"3\"\n",
    "r=s1.isdecimal()\n",
    "print(r)"
   ]
  },
  {
   "cell_type": "markdown",
   "id": "5a9933db-260a-4c1e-a0d5-da4aa8b73181",
   "metadata": {},
   "source": [
    "# digit\n",
    "# isdigit()"
   ]
  },
  {
   "cell_type": "code",
   "execution_count": 75,
   "id": "9431b648-459d-42e4-bc7e-8e939273be01",
   "metadata": {},
   "outputs": [
    {
     "name": "stdout",
     "output_type": "stream",
     "text": [
      "True\n"
     ]
    }
   ],
   "source": [
    "s1=\"3\"\n",
    "r=s1.isdigit()\n",
    "print(r)"
   ]
  },
  {
   "cell_type": "markdown",
   "id": "689d2134-e9b6-4f29-8a71-edd78470422d",
   "metadata": {},
   "source": [
    "# isnumeric()"
   ]
  },
  {
   "cell_type": "code",
   "execution_count": 78,
   "id": "3c259ea0-cece-4125-aefd-9f72d9a4b958",
   "metadata": {},
   "outputs": [
    {
     "name": "stdout",
     "output_type": "stream",
     "text": [
      "True\n"
     ]
    }
   ],
   "source": [
    "s1=\"3\"\n",
    "r=s1.isnumeric()\n",
    "print(r)"
   ]
  },
  {
   "cell_type": "code",
   "execution_count": null,
   "id": "275b4c4e-4d55-4556-bf40-126ca0d9dc0b",
   "metadata": {},
   "outputs": [],
   "source": []
  },
  {
   "cell_type": "code",
   "execution_count": null,
   "id": "b653fd28-70d3-425d-9daf-e837ffe0a3c3",
   "metadata": {},
   "outputs": [],
   "source": [
    "Count all letters, digits, and special symbols from a given string\n",
    " \"P@#yn26at^&i5ve\""
   ]
  },
  {
   "cell_type": "code",
   "execution_count": null,
   "id": "9ebd0c14-18d5-480a-a60d-554a9b4cc491",
   "metadata": {},
   "outputs": [],
   "source": []
  },
  {
   "cell_type": "code",
   "execution_count": 8,
   "id": "e6af1263-17e6-46ac-850e-1a15bac2a6a2",
   "metadata": {},
   "outputs": [
    {
     "name": "stdout",
     "output_type": "stream",
     "text": [
      "hello \" Nishant\n"
     ]
    }
   ],
   "source": [
    "print(\"hello \\\" Nishant\")"
   ]
  },
  {
   "cell_type": "raw",
   "id": "a32df705-00c9-4797-bc7b-6726145f9e48",
   "metadata": {},
   "source": [
    "write a peragraph in multiple lines and show thier result in single lines."
   ]
  },
  {
   "cell_type": "raw",
   "id": "d671e066-3f45-40aa-852d-a9eb9dc1ba10",
   "metadata": {},
   "source": [
    "write a program to display below mentioned peragraph without using (\"\"\") triple quotes in python\n",
    "\n",
    "Johny Johny Yes Papa Nursery Rhyme\n",
    "\n",
    "Johny Johny yes papa.\n",
    "Eating sugar no papa.\n",
    "Telling lies no papa.\n",
    "Open your mouth.\n",
    "Ha!\n",
    "Ha!\n",
    "Ha!\n",
    "Johny Johny yes papa.\n",
    "Eating sugar no papa.\n",
    "Telling lies no papa.\n",
    "Open your mouth.\n",
    "Ha!\n",
    "Ha!\n",
    "Ha!"
   ]
  },
  {
   "cell_type": "raw",
   "id": "823a0c28-7022-435e-8329-dd547ea6ac16",
   "metadata": {},
   "source": [
    "Write a program to display the below path as it is.\n"
   ]
  },
  {
   "cell_type": "code",
   "execution_count": 6,
   "id": "6d185fae-59ac-41bb-ae1b-0b6b61a581b4",
   "metadata": {},
   "outputs": [
    {
     "name": "stdout",
     "output_type": "stream",
     "text": [
      "c:\\new folder\\text.txt\n"
     ]
    }
   ],
   "source": [
    "print(\"c:\\\\new folder\\\\text.txt\")"
   ]
  },
  {
   "cell_type": "code",
   "execution_count": 7,
   "id": "0cf63ef4-7f67-47f2-8060-f8279e363128",
   "metadata": {},
   "outputs": [
    {
     "name": "stdout",
     "output_type": "stream",
     "text": [
      "hello\u0007hii\n"
     ]
    }
   ],
   "source": [
    "print(\"hello\\ahii\")"
   ]
  },
  {
   "cell_type": "code",
   "execution_count": 8,
   "id": "105653b5-3dea-4f21-8409-2b7d1dfeb7e0",
   "metadata": {},
   "outputs": [
    {
     "name": "stdout",
     "output_type": "stream",
     "text": [
      "hello\"hi\"program\n"
     ]
    }
   ],
   "source": [
    "print(\"hello\\\"hi\\\"program\")"
   ]
  },
  {
   "cell_type": "code",
   "execution_count": null,
   "id": "da5e11d4-37ae-490b-85ed-8ab2f18f2ec7",
   "metadata": {},
   "outputs": [],
   "source": [
    "WAP to give proper spacing between the text and amount without using space.\n",
    "\n",
    "Name                          Amount\n",
    "nishant                       500\n",
    "aaradhya                      800\n",
    "niku                          400\n",
    "baban parsad gupta            400"
   ]
  },
  {
   "cell_type": "code",
   "execution_count": 20,
   "id": "ab946849-0288-44fe-a261-3865b8ebc4b0",
   "metadata": {},
   "outputs": [
    {
     "name": "stdout",
     "output_type": "stream",
     "text": [
      "name\tamount\n",
      "nishant \t500\n",
      "aaradhya\t800\n",
      "niku\t400\n",
      "baban parsad gupta\t400\n"
     ]
    }
   ],
   "source": [
    "print(\"name\\tamount\")\n",
    "print(\"nishant \\t500\")\n",
    "print(\"aaradhya\\t800\")\n",
    "print(\"niku\\t400\")\n",
    "print(\"baban parsad gupta\\t400\")\n"
   ]
  },
  {
   "cell_type": "code",
   "execution_count": 25,
   "id": "a3784ac3-820b-460d-bd7c-f28cc5ee2d57",
   "metadata": {},
   "outputs": [
    {
     "name": "stdout",
     "output_type": "stream",
     "text": [
      "Name                          Amount\n",
      "nishant                       500\n",
      "aaradhya                      800\n",
      "niku                          400\n",
      "baban parsad gupta            400\n"
     ]
    }
   ],
   "source": [
    "print(\"Name\\tAmount\".expandtabs(tabsize=30))\n",
    "print(\"nishant \\t500\".expandtabs(tabsize=30))\n",
    "print(\"aaradhya\\t800\".expandtabs(tabsize=30))\n",
    "print(\"niku\\t400\".expandtabs(tabsize=30))\n",
    "print(\"baban parsad gupta\\t400\".expandtabs(tabsize=30))\n"
   ]
  },
  {
   "cell_type": "markdown",
   "id": "def1f64a-67ea-4c62-926c-fcf6471aea36",
   "metadata": {},
   "source": [
    "# How to Input Multiple Values from users in One Line in Python."
   ]
  },
  {
   "cell_type": "code",
   "execution_count": 30,
   "id": "2ebd77b9-41d9-4714-9fb2-4f7da317a21e",
   "metadata": {},
   "outputs": [
    {
     "name": "stdin",
     "output_type": "stream",
     "text": [
      "enter your full name nik kumar gupta\n"
     ]
    },
    {
     "name": "stdout",
     "output_type": "stream",
     "text": [
      "customer name:  nik kumar gupta\n"
     ]
    }
   ],
   "source": [
    "fname,mname,lname=input(\"enter your full name\").split(\" \")\n",
    "print(\"customer name: \", fname,mname,lname)"
   ]
  },
  {
   "cell_type": "code",
   "execution_count": 29,
   "id": "db51ea32-c3bc-4de4-89a4-e32baa5a7d7a",
   "metadata": {},
   "outputs": [
    {
     "name": "stdin",
     "output_type": "stream",
     "text": [
      "enter your full name nishant,kumar, gupta\n"
     ]
    },
    {
     "name": "stdout",
     "output_type": "stream",
     "text": [
      "customer name nishant kumar  gupta\n"
     ]
    }
   ],
   "source": [
    "fname,mname,lname=input(\"enter your full name\").split(\",\")\n",
    "print(\"customer name: \", fname,mname,lname)"
   ]
  },
  {
   "cell_type": "code",
   "execution_count": 31,
   "id": "262e1c12-fb68-4489-a29e-14f8a58e7798",
   "metadata": {},
   "outputs": [
    {
     "name": "stdin",
     "output_type": "stream",
     "text": [
      "enter your full name nishant,kumar,gupta,delhi,patna,haridwar\n"
     ]
    },
    {
     "name": "stdout",
     "output_type": "stream",
     "text": [
      "customer name:  nishant kumar gupta\n",
      "address:  ['delhi', 'patna', 'haridwar']\n"
     ]
    }
   ],
   "source": [
    "fname,mname,lname,*address=input(\"enter your full name\").split(\",\")\n",
    "print(\"customer name: \", fname,mname,lname)\n",
    "print(\"address: \", address)"
   ]
  },
  {
   "cell_type": "code",
   "execution_count": 36,
   "id": "9d452a3c-ea58-429c-ba1d-7fe730056acc",
   "metadata": {},
   "outputs": [
    {
     "name": "stdin",
     "output_type": "stream",
     "text": [
      "enter visited cities name patna, delhi, jaipur\n"
     ]
    },
    {
     "name": "stdout",
     "output_type": "stream",
     "text": [
      "address:  patna\n",
      "cities [' delhi', ' jaipur']\n"
     ]
    }
   ],
   "source": [
    "#here * work as a expand and shift extra name, cities or string into list in cities.\n",
    "address,*cities=input(\"enter visited cities name\").split(\",\")\n",
    "print(\"address: \", address)\n",
    "print(\"cities\",cities)"
   ]
  },
  {
   "cell_type": "markdown",
   "id": "08008064-7aaa-4bc6-9b05-4ecadfb8f7a4",
   "metadata": {},
   "source": []
  },
  {
   "cell_type": "code",
   "execution_count": 42,
   "id": "bd7bded0-1f49-4c30-b31b-7a525a295c89",
   "metadata": {},
   "outputs": [
    {
     "name": "stdout",
     "output_type": "stream",
     "text": [
      "India has best cities\n"
     ]
    }
   ],
   "source": [
    "a= \"india has best cities\"\n",
    "b=a.capitalize()\n",
    "print(b)"
   ]
  },
  {
   "cell_type": "markdown",
   "id": "51c3c57c-683b-4fbe-8f6e-fbf61c708029",
   "metadata": {},
   "source": []
  },
  {
   "cell_type": "markdown",
   "id": "d3cf444f-07ef-43b1-9c72-456829470add",
   "metadata": {},
   "source": [
    "# string format\n",
    "\n",
    "># align:\n",
    "left allign : a.ljust(width,fill)  \n",
    "center allign : a.center(width,fill)   \n",
    "right allign : a.rjust(width,fill)   "
   ]
  },
  {
   "cell_type": "code",
   "execution_count": 83,
   "id": "b62dc98c-4a3d-4aec-bd95-998cc148d728",
   "metadata": {},
   "outputs": [
    {
     "name": "stdout",
     "output_type": "stream",
     "text": [
      "hello     \n",
      "hello*****\n"
     ]
    }
   ],
   "source": [
    "# ljust(width,fill(optional)) # here 10 is no of space on the left side of text. \n",
    "\n",
    "s=\"hello\"\n",
    "s2=s.ljust(10)\n",
    "print(s2)\n",
    "\n",
    "s=\"hello\"\n",
    "s2=s.ljust(10,\"*\")\n",
    "print(s2)"
   ]
  },
  {
   "cell_type": "code",
   "execution_count": 84,
   "id": "f33a5192-463b-40ed-905b-b33dd8f5553c",
   "metadata": {},
   "outputs": [
    {
     "name": "stdout",
     "output_type": "stream",
     "text": [
      "     hello\n",
      "*****hello\n"
     ]
    }
   ],
   "source": [
    "\n",
    "# rjust(width,fill(optional)) # here 10 is no of space on the right side of text. \n",
    "\n",
    "s=\"hello\"\n",
    "s2=s.rjust(10)\n",
    "print(s2)\n",
    "\n",
    "s=\"hello\"\n",
    "s2=s.rjust(10,\"*\")\n",
    "print(s2)"
   ]
  },
  {
   "cell_type": "code",
   "execution_count": 89,
   "id": "1507c333-8868-4834-9170-95891e2080b8",
   "metadata": {},
   "outputs": [
    {
     "name": "stdout",
     "output_type": "stream",
     "text": [
      "   hello   \n",
      "***hello***\n"
     ]
    }
   ],
   "source": [
    "# center(width,fill(optional)) # here 10 is no of space on the left and right side of text and text will showing in the center. \n",
    "s=\"hello\"\n",
    "s2=s.center(11)\n",
    "print(s2)\n",
    "\n",
    "s=\"hello\"\n",
    "s2=s.center(11,\"*\")\n",
    "print(s2)"
   ]
  },
  {
   "cell_type": "markdown",
   "id": "823082e9-0bff-45bb-b718-11b33702cb47",
   "metadata": {},
   "source": [
    "# expandtabs(tabsize=10) "
   ]
  },
  {
   "cell_type": "code",
   "execution_count": 90,
   "id": "382ea8fd-34a8-4565-8991-b78cb2864f8d",
   "metadata": {},
   "outputs": [
    {
     "name": "stdout",
     "output_type": "stream",
     "text": [
      "Name                          Amount\n",
      "nishant                       500\n",
      "aaradhya                      800\n",
      "niku                          400\n",
      "baban parsad gupta            400\n"
     ]
    }
   ],
   "source": [
    "print(\"Name\\tAmount\".expandtabs(tabsize=30))\n",
    "print(\"nishant \\t500\".expandtabs(tabsize=30))\n",
    "print(\"aaradhya\\t800\".expandtabs(tabsize=30))\n",
    "print(\"niku\\t400\".expandtabs(tabsize=30))\n",
    "print(\"baban parsad gupta\\t400\".expandtabs(tabsize=30))\n"
   ]
  },
  {
   "cell_type": "markdown",
   "id": "823f8e94-0c33-45ac-903d-49dfd4c8c9c8",
   "metadata": {},
   "source": [
    "# .format(fmtstr,*args, **kwargs)"
   ]
  },
  {
   "cell_type": "code",
   "execution_count": 106,
   "id": "fb8cf4a1-61ab-4f65-9dd5-22d69221fcec",
   "metadata": {},
   "outputs": [
    {
     "name": "stdout",
     "output_type": "stream",
     "text": [
      "1\n",
      "nishant love python programming\n",
      "2\n",
      "nishant love java programming\n",
      "3\n",
      "java love nishant programming\n",
      "4\n",
      "nishant love java programming\n",
      "5\n",
      "nishant love python programming\n",
      "6\n",
      "niku love python programming\n"
     ]
    }
   ],
   "source": [
    "print(1)\n",
    "print(\"nishant love python programming\")\n",
    "print(2)\n",
    "print(\"{} love {} programming\".format(\"nishant\",\"java\")) # curly bracket used to take data from the variable\n",
    "print(3)\n",
    "print(\"{1} love {0} programming\".format(\"nishant\",\"java\")) # 0 & 1 are the position of the variables.\n",
    "print(4)\n",
    "print(\"{name} love {language} programming\".format(name=\"nishant\",language=\"java\")) # 0 & 1 are the position of the variables.\n",
    "print(5)\n",
    "s1=\"nishant\"\n",
    "s2= \"python\"\n",
    "print(\"{0} love {1} programming\".format(s1,s2))\n",
    "s3=\"niku\"\n",
    "print(6)\n",
    "print(f\"{s3} love {s2} programming\")\n"
   ]
  },
  {
   "cell_type": "markdown",
   "id": "cf3f8ef8-f0df-45bc-ab14-85f614e729c5",
   "metadata": {},
   "source": [
    "# Encoding string methods:"
   ]
  },
  {
   "cell_type": "raw",
   "id": "1f39ff1a-42c0-4d08-a129-06c78c971476",
   "metadata": {},
   "source": [
    "s.encode(encoding,errors)\n",
    "s.zfill(width) : # z = zero\n",
    "s.join(iterable)\n",
    "s.maketrans(x[,y[,z]])\n",
    "s.translate(map)"
   ]
  },
  {
   "cell_type": "markdown",
   "id": "8f8308dc-7fdf-4781-b178-5aa1c83c8e9b",
   "metadata": {},
   "source": [
    "# Percent sign (%) formatting"
   ]
  },
  {
   "cell_type": "code",
   "execution_count": 1,
   "id": "9c9d0335-d49d-47c0-b570-7e31e484ac71",
   "metadata": {},
   "outputs": [
    {
     "name": "stdout",
     "output_type": "stream",
     "text": [
      "On the Moon, you would weigh about 1/6 of your weight on Earth.\n"
     ]
    }
   ],
   "source": [
    "mass_percentage = \"1/6\"\n",
    "print(\"On the Moon, you would weigh about %s of your weight on Earth.\" % mass_percentage)"
   ]
  },
  {
   "cell_type": "code",
   "execution_count": 2,
   "id": "88a3de89-7767-4fed-b2d7-17adf85efb16",
   "metadata": {},
   "outputs": [
    {
     "name": "stdout",
     "output_type": "stream",
     "text": [
      "Both sides of the Moon get the same amount of sunlight, but only one side is seen from Earth because the Moon rotates around its own axis when it orbits Earth.\n"
     ]
    }
   ],
   "source": [
    "print(\"\"\"Both sides of the %s get the same amount of sunlight, but only one side is seen from %s because the %s rotates around its own axis when it orbits %s.\"\"\" % (\"Moon\", \"Earth\", \"Moon\", \"Earth\"))\n"
   ]
  },
  {
   "cell_type": "code",
   "execution_count": 3,
   "id": "f192ee6b-e73b-4706-a7ba-f42f0f0d98df",
   "metadata": {},
   "outputs": [
    {
     "name": "stdout",
     "output_type": "stream",
     "text": [
      "Both sides of the Moon get the same amount of sunlight, but only one side is seen from Earth because the Moon rotates around its own axis when it orbits Earth\n"
     ]
    }
   ],
   "source": [
    "m=\"Moon\"\n",
    "e=\"Earth\" \n",
    "print(\"\"\"Both sides of the %s get the same amount of sunlight, but only one side is seen from %s because the %s rotates around its own axis when it orbits %s\"\"\" % (m,e,m,e))"
   ]
  },
  {
   "cell_type": "markdown",
   "id": "2b6ddfca-13d2-47c7-8b79-9141339250cb",
   "metadata": {},
   "source": [
    "# The format() method\n"
   ]
  },
  {
   "cell_type": "code",
   "execution_count": 4,
   "id": "652ed677-6162-43d3-872a-80a0bf1ae6bf",
   "metadata": {},
   "outputs": [
    {
     "name": "stdout",
     "output_type": "stream",
     "text": [
      "On the Moon, you would weigh about 1/6 of your weight on Earth.\n"
     ]
    }
   ],
   "source": [
    "mass_percentage = \"1/6\"\n",
    "print(\"On the Moon, you would weigh about {} of your weight on Earth.\".format(mass_percentage))"
   ]
  },
  {
   "cell_type": "code",
   "execution_count": 5,
   "id": "35f5f5b7-9c67-42a0-b4a8-0fb8c7cc2cda",
   "metadata": {},
   "outputs": [
    {
     "name": "stdout",
     "output_type": "stream",
     "text": [
      "You are lighter on the Moon, because on the Moon you would weigh about 1/6 of your weight on Earth.\n"
     ]
    }
   ],
   "source": [
    "mass_percentage = \"1/6\"\n",
    "print(\"\"\"You are lighter on the {0}, because on the {0} you would weigh about {1} of your weight on Earth.\"\"\".format(\"Moon\", mass_percentage))"
   ]
  },
  {
   "cell_type": "markdown",
   "id": "eb937e44-61b0-4b86-a797-118591fee173",
   "metadata": {},
   "source": [
    "# f-strings\n"
   ]
  },
  {
   "cell_type": "code",
   "execution_count": 7,
   "id": "da1f39d5-e1d6-4b24-b209-099f64126b40",
   "metadata": {},
   "outputs": [
    {
     "name": "stdout",
     "output_type": "stream",
     "text": [
      "On the Moon, you would weigh about 1/6 of your weight on Earth.\n"
     ]
    }
   ],
   "source": [
    "print(f\"On the Moon, you would weigh about {mass_percentage} of your weight on Earth.\")"
   ]
  },
  {
   "cell_type": "markdown",
   "id": "3b0fb11f-846f-405c-9472-1ff1db9748c5",
   "metadata": {},
   "source": [
    "# round"
   ]
  },
  {
   "cell_type": "code",
   "execution_count": 8,
   "id": "280ed8ec-0d56-41a3-a114-50be7bcf5fc8",
   "metadata": {},
   "outputs": [
    {
     "name": "stdout",
     "output_type": "stream",
     "text": [
      "16.7\n"
     ]
    }
   ],
   "source": [
    "print(round(100/6, 1))"
   ]
  },
  {
   "cell_type": "code",
   "execution_count": 9,
   "id": "856be239-de3d-49ce-98ef-907de5a8b8d8",
   "metadata": {},
   "outputs": [
    {
     "name": "stdout",
     "output_type": "stream",
     "text": [
      "On the Moon, you would weigh about 16.7% of your weight on Earth.\n"
     ]
    }
   ],
   "source": [
    "print(f\"On the Moon, you would weigh about {round(100/6, 1)}% of your weight on Earth.\")"
   ]
  },
  {
   "cell_type": "code",
   "execution_count": 10,
   "id": "5a2b2563-f671-43ca-ae0d-f99fc0d30348",
   "metadata": {},
   "outputs": [
    {
     "name": "stdout",
     "output_type": "stream",
     "text": [
      "Interesting Facts About The Moon\n"
     ]
    }
   ],
   "source": [
    "subject = \"interesting facts about the moon\"\n",
    "heading = f\"{subject.title()}\"\n",
    "print(heading)"
   ]
  },
  {
   "cell_type": "code",
   "execution_count": 17,
   "id": "2e243c9a-8deb-41c3-bf61-25a6e0ba09d2",
   "metadata": {},
   "outputs": [
    {
     "name": "stdout",
     "output_type": "stream",
     "text": [
      "Gravity Facts about Ganymede\n",
      "----------------------------------------\n",
      "Planet Name: Mars\n",
      "Gravity on Ganymede: 1.43 m/s2\n"
     ]
    }
   ],
   "source": [
    "name = 'Ganymede'\n",
    "planet = 'Mars'\n",
    "gravity = '1.43'\n",
    "\n",
    "template = \"\"\"Gravity Facts about {name}\n",
    "----------------------------------------\n",
    "Planet Name: {planet}\n",
    "Gravity on {name}: {gravity} m/s2\"\"\"\n",
    "\n",
    "print(template.format(name=name, planet=planet, gravity=gravity))"
   ]
  },
  {
   "cell_type": "code",
   "execution_count": null,
   "id": "ea3877e8-3ffd-46f3-8076-44b624f7ee3e",
   "metadata": {},
   "outputs": [],
   "source": []
  }
 ],
 "metadata": {
  "kernelspec": {
   "display_name": "Python 3 (ipykernel)",
   "language": "python",
   "name": "python3"
  },
  "language_info": {
   "codemirror_mode": {
    "name": "ipython",
    "version": 3
   },
   "file_extension": ".py",
   "mimetype": "text/x-python",
   "name": "python",
   "nbconvert_exporter": "python",
   "pygments_lexer": "ipython3",
   "version": "3.11.7"
  },
  "widgets": {
   "application/vnd.jupyter.widget-state+json": {
    "state": {},
    "version_major": 2,
    "version_minor": 0
   }
  }
 },
 "nbformat": 4,
 "nbformat_minor": 5
}
