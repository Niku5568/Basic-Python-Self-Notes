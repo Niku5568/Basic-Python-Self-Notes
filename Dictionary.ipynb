{
 "cells": [
  {
   "cell_type": "markdown",
   "id": "631ce2ae-4a79-4276-be7f-4d6c27a05eb3",
   "metadata": {},
   "source": [
    "# Dictionary/Dict():"
   ]
  },
  {
   "cell_type": "markdown",
   "id": "88da533d-b3b1-4704-a888-d9df0c9e1eae",
   "metadata": {},
   "source": [
    "-> Dictionary are used to store data values in key: value pairs.  \n",
    "-> Dictionary and list are shared the following charcterstics.  \n",
    "-> both are mutable.  \n",
    "-> both are dynamic.  \n",
    "-> They can grow and shrink as needed.  \n",
    "-> both can be nested.  \n",
    "-> a list can cantain another list and dictionary can cantain another dictionary.  \n",
    "-> a dictionary can cantain a list and vice versa.   \n",
    "-> Dictionary items are ordered, changeable.  \n",
    "-> Dictionary not allowed duplicates.  \n",
    "-> Dictionary items are presented as key:value pairs, and can be reffered to by using the key name.  "
   ]
  },
  {
   "cell_type": "markdown",
   "id": "de34a3e5-0d87-476f-b995-9de934d4bc3e",
   "metadata": {},
   "source": [
    "# 2 ways to Creating Dictionary \n",
    "\n",
    "1. dict()  \n",
    "a[\"name\"]=\"nishant\"  \n",
    "   \n",
    "2. a={   \n",
    "   \"ID\":\"123ab\",  \n",
    "   \"color\":\"black\",  \n",
    "   }  "
   ]
  },
  {
   "cell_type": "code",
   "execution_count": 2,
   "id": "e3e2ce77-ddea-4db9-8c11-8bf2a8a15aae",
   "metadata": {},
   "outputs": [
    {
     "name": "stdout",
     "output_type": "stream",
     "text": [
      "{'Name': 'Nishant', 'Age': 26, 'State': 'Delhi'} \n",
      "\n",
      "<class 'dict'>\n"
     ]
    }
   ],
   "source": [
    "a=dict()\n",
    "a[\"Name\"]=\"Nishant\"\n",
    "a[\"Age\"]=26\n",
    "a[\"State\"]=\"Delhi\"\n",
    "print(a,\"\\n\")\n",
    "print(type(a))"
   ]
  },
  {
   "cell_type": "code",
   "execution_count": 6,
   "id": "b66634e2-d928-4699-9638-6fa62240294b",
   "metadata": {},
   "outputs": [
    {
     "name": "stdout",
     "output_type": "stream",
     "text": [
      "{'ID': '123ab', 'Color': 'Black', 'Year': 1997}\n",
      "<class 'dict'>\n"
     ]
    }
   ],
   "source": [
    "a={ \"ID\":\"123ab\", \"Color\":\"Black\", \"Year\" : 1997,}\n",
    "print(a)\n",
    "print(type(a))"
   ]
  },
  {
   "cell_type": "markdown",
   "id": "e775e586-3985-4ba3-a20e-c367f4da4c86",
   "metadata": {},
   "source": [
    "# Dictionary Items are ordered"
   ]
  },
  {
   "cell_type": "code",
   "execution_count": 9,
   "id": "ae6376fc-65ee-4589-b961-2fef3789904e",
   "metadata": {},
   "outputs": [
    {
     "name": "stdout",
     "output_type": "stream",
     "text": [
      "Black\n"
     ]
    }
   ],
   "source": [
    "a={ \"ID\":\"123ab\", \"Color\":\"Black\", \"Year\" : 1997,}\n",
    "print(a[\"Color\"])"
   ]
  },
  {
   "cell_type": "markdown",
   "id": "47701bbc-a167-4868-a628-3df316a6abc2",
   "metadata": {},
   "source": [
    "# check address of items"
   ]
  },
  {
   "cell_type": "code",
   "execution_count": 11,
   "id": "47c3203f-f182-47ca-bb26-732da2032086",
   "metadata": {},
   "outputs": [
    {
     "name": "stdout",
     "output_type": "stream",
     "text": [
      "Dict: Delhi\n",
      "List: Delhi\n"
     ]
    }
   ],
   "source": [
    "a=dict()\n",
    "a[\"Name\"]=\"Nishant\"\n",
    "a[\"age\"]=26\n",
    "a[\"Mobile Number\"]=9654546020\n",
    "a[\"State\"]=\"Delhi\"\n",
    "\n",
    "b=[\"Nishant\", 26, 9654546020, \"Delhi\"]\n",
    "\n",
    "print(\"Dict:\",a[\"State\"]) # no need to index/address. \n",
    "print(\"List:\",b[3])  # need to count index number"
   ]
  },
  {
   "cell_type": "markdown",
   "id": "716c5246-15f8-486b-bc47-fda5e244ad2d",
   "metadata": {},
   "source": [
    "# Key : Values pair > key are unique and value can be duplicate."
   ]
  },
  {
   "cell_type": "code",
   "execution_count": 12,
   "id": "8ef897c8-8c66-4bcf-804c-3679e4d6b373",
   "metadata": {},
   "outputs": [
    {
     "name": "stdout",
     "output_type": "stream",
     "text": [
      "dict_keys(['Name', 'age', 'Mobile Number', 'State'])\n",
      "dict_values(['Nishant', 26, 9654546020, 'Delhi'])\n"
     ]
    }
   ],
   "source": [
    "a=dict()\n",
    "a[\"Name\"]=\"Nishant\"\n",
    "a[\"age\"]=26\n",
    "a[\"Mobile Number\"]=9654546020\n",
    "a[\"State\"]=\"Delhi\"\n",
    "print(a.keys()) # always unique and not duplicate\n",
    "print(a.values()) # more than one and duplicate"
   ]
  },
  {
   "cell_type": "code",
   "execution_count": 15,
   "id": "c0072db9-b040-4ebb-ba68-1418fa5c3866",
   "metadata": {},
   "outputs": [
    {
     "name": "stdout",
     "output_type": "stream",
     "text": [
      "{'ID': '123ab', 'Color': 'Black', 'Years': 2000}\n"
     ]
    }
   ],
   "source": [
    "# duplicate values are not allowed and if key are duplicate it will replace it new values.\n",
    "\n",
    "a={\n",
    "\"ID\":\"123ab\",\n",
    "\"Color\":\"Black\",\n",
    "\"Years\":1997,\n",
    "\"Years\":2000,  \n",
    "}\n",
    "\n",
    "print(a)"
   ]
  },
  {
   "cell_type": "markdown",
   "id": "9f12dff0-2923-4106-932d-1cc5702e3505",
   "metadata": {},
   "source": [
    "# Dictionary in loop"
   ]
  },
  {
   "cell_type": "code",
   "execution_count": 16,
   "id": "e9746196-c1c8-4be2-bc2d-9288cdc34152",
   "metadata": {},
   "outputs": [
    {
     "name": "stdout",
     "output_type": "stream",
     "text": [
      "Name\n",
      "age\n",
      "Mobile Number\n",
      "State\n"
     ]
    }
   ],
   "source": [
    "a=dict()\n",
    "a[\"Name\"]=\"Nishant\"\n",
    "a[\"age\"]=26\n",
    "a[\"Mobile Number\"]=9654546020\n",
    "a[\"State\"]=\"Delhi\"\n",
    "\n",
    "for i in a:\n",
    "    print(i)#always print key"
   ]
  },
  {
   "cell_type": "code",
   "execution_count": 17,
   "id": "61d57f5a-8d76-42c5-acc0-f12ae4b726d9",
   "metadata": {},
   "outputs": [
    {
     "name": "stdout",
     "output_type": "stream",
     "text": [
      "keys: Name \t Values: Nishant\n",
      "keys: age \t Values: 26\n",
      "keys: Mobile Number \t Values: 9654546020\n",
      "keys: State \t Values: Delhi\n"
     ]
    }
   ],
   "source": [
    "a=dict()\n",
    "a[\"Name\"]=\"Nishant\"\n",
    "a[\"age\"]=26\n",
    "a[\"Mobile Number\"]=9654546020\n",
    "a[\"State\"]=\"Delhi\"\n",
    "\n",
    "for i in a:\n",
    "    print(\"keys:\",i,\"\\t Values:\",a[i]) # to print value we need to print inside value of list \"a\" like: a[i] "
   ]
  },
  {
   "cell_type": "code",
   "execution_count": 20,
   "id": "1e28bf28-ed7b-49c7-831b-b749510648d0",
   "metadata": {},
   "outputs": [
    {
     "name": "stdout",
     "output_type": "stream",
     "text": [
      "keys: ID \tvalue:  123ab\n",
      "keys: Color \tvalue:  Black\n",
      "keys: Years \tvalue:  2000\n"
     ]
    }
   ],
   "source": [
    "a={\n",
    "\"ID\":\"123ab\",\n",
    "\"Color\":\"Black\",\n",
    "\"Years\":1997,\n",
    "\"Years\":2000,  \n",
    "}\n",
    "\n",
    "for i in a:\n",
    "    print(\"keys:\",i,\"\\tvalue: \",a[i])"
   ]
  },
  {
   "cell_type": "markdown",
   "id": "ee1c5fd3-f8f7-4b08-8886-fb3784f30678",
   "metadata": {},
   "source": [
    "# Using item() in dictionary\n",
    "\n",
    "item() help to print key and values together"
   ]
  },
  {
   "cell_type": "code",
   "execution_count": 26,
   "id": "a475f70d-62fc-47e5-8b6a-42f87551db86",
   "metadata": {},
   "outputs": [
    {
     "name": "stdout",
     "output_type": "stream",
     "text": [
      "keys: Name \t Values: Nishant\n",
      "keys: age \t Values: 26\n",
      "keys: Number \t Values: 9654546020\n",
      "keys: State \t Values: Delhi\n"
     ]
    }
   ],
   "source": [
    "a=dict()\n",
    "a[\"Name\"]=\"Nishant\"\n",
    "a[\"age\"]=26\n",
    "a[\"Number\"]=9654546020\n",
    "a[\"State\"]=\"Delhi\"\n",
    "\n",
    "for k,v in a.items():\n",
    "    print(\"keys:\",k,\"\\t Values:\",v) # to print value we need to print inside value of list \"a\" like: a[i] "
   ]
  },
  {
   "cell_type": "markdown",
   "id": "e0b4779b-7a10-404f-8578-03f8cfd2db30",
   "metadata": {},
   "source": [
    "# Type of data can dictionary store"
   ]
  },
  {
   "cell_type": "code",
   "execution_count": 33,
   "id": "ea6488dc-1f9d-4bfe-8c0d-dcf218d68a6c",
   "metadata": {},
   "outputs": [
    {
     "name": "stdout",
     "output_type": "stream",
     "text": [
      "{'Name': 'Nishant', 'age': 26, 'List': [10, 20, 'apple'], 'Tuple': (1, 2, 3, 4, 5), 'Boolean': True}\n",
      "<class 'dict'>\n"
     ]
    }
   ],
   "source": [
    "a=dict()\n",
    "a[\"Name\"]=\"Nishant\"\n",
    "a[\"age\"]=26\n",
    "a[\"List\"]=[10,20,\"apple\"]\n",
    "a[\"Tuple\"]=(1,2,3,4,5)\n",
    "a[\"Boolean\"]=True\n",
    "\n",
    "print(a)\n",
    "print(type(a))"
   ]
  },
  {
   "cell_type": "code",
   "execution_count": 32,
   "id": "378a68e2-7dee-4fcb-8d07-55e7f06bcc35",
   "metadata": {},
   "outputs": [
    {
     "name": "stdout",
     "output_type": "stream",
     "text": [
      "{'ID': '123ab', 'Color': 'Black', 'Years': 2000, 'a': [1, 2, 3, 4, 5, 6], 'b': (10, 20, 30), 'c': True}\n",
      "<class 'dict'>\n"
     ]
    }
   ],
   "source": [
    "a={\n",
    "\"ID\":\"123ab\",\n",
    "\"Color\":\"Black\", #String\n",
    "\"Years\":1997, # Integer\n",
    "\"Years\":2000,  \n",
    "\"a\":[1,2,3,4,5,6], # List\n",
    "\"b\":(10,20,30), # tuple\n",
    "\"c\":True, # Boolean\n",
    "}\n",
    "\n",
    "print(a)\n",
    "print(type(a))"
   ]
  },
  {
   "cell_type": "markdown",
   "id": "64f498a3-e9e1-4291-9ddd-67e76d01d57c",
   "metadata": {},
   "source": [
    "# Dictionary Constructor Dict(): used to convert any value into dictionary"
   ]
  },
  {
   "cell_type": "code",
   "execution_count": 46,
   "id": "89edcc17-42f1-4e74-8f88-029274f7efac",
   "metadata": {},
   "outputs": [
    {
     "name": "stdout",
     "output_type": "stream",
     "text": [
      "{'Name': 'nishant', 'Lname': 'kumar'}\n",
      "<class 'dict'>\n"
     ]
    }
   ],
   "source": [
    "a=dict(Name = \"nishant\",Lname = \"kumar\")\n",
    "print(a)\n",
    "print(type(a))\n"
   ]
  },
  {
   "cell_type": "markdown",
   "id": "32e683d7-ded4-40cc-b664-51c268aecea1",
   "metadata": {},
   "source": [
    "# Dictionary length"
   ]
  },
  {
   "cell_type": "code",
   "execution_count": 34,
   "id": "1d82b7c9-49ad-4711-87ed-3551c9e69736",
   "metadata": {},
   "outputs": [
    {
     "name": "stdout",
     "output_type": "stream",
     "text": [
      "length of dict: 4\n"
     ]
    }
   ],
   "source": [
    "a=dict()\n",
    "a[\"Name\"]=\"Nishant\"\n",
    "a[\"age\"]=26\n",
    "a[\"State\"]=\"Delhi\"\n",
    "a[\"Number\"]=9654546020\n",
    "\n",
    "print(\"length of dict:\", len(a))"
   ]
  },
  {
   "cell_type": "code",
   "execution_count": 36,
   "id": "afa2fa4c-b5d9-484c-97bc-c7a5d85d98cb",
   "metadata": {},
   "outputs": [
    {
     "name": "stdout",
     "output_type": "stream",
     "text": [
      "3\n"
     ]
    }
   ],
   "source": [
    "a={\n",
    "\"ID\":\"123ab\",\n",
    "\"Color\":\"Black\", #String\n",
    "\"Years\":1997, # Integer\n",
    "}\n",
    "\n",
    "print(len(a))"
   ]
  },
  {
   "cell_type": "markdown",
   "id": "f1e02930-b3b5-45ed-ac3a-5934a1f41f59",
   "metadata": {},
   "source": [
    "# check whether key age are in dic or not."
   ]
  },
  {
   "cell_type": "code",
   "execution_count": null,
   "id": "f747ef91-8ef6-4af2-aff5-d9764a267d88",
   "metadata": {},
   "outputs": [],
   "source": [
    "a=dict()\n",
    "a[\"Name\"]=\"Nishant\"\n",
    "a[\"age\"]=26\n",
    "a[\"State\"]=\"Delhi\"\n",
    "a[\"Number\"]=9654546020\n",
    "\n",
    "print(a[\"age\"] in a # check in keys\n",
    "print(\"age\" in a) # check in values"
   ]
  },
  {
   "cell_type": "code",
   "execution_count": 50,
   "id": "c4c59331-e496-4008-a1c5-bcbde987cade",
   "metadata": {},
   "outputs": [
    {
     "name": "stdout",
     "output_type": "stream",
     "text": [
      "26\n"
     ]
    }
   ],
   "source": [
    "a={\"Name\":\"Nishant\",\"Age\": 26,\"Country\":\"India\"}\n",
    "print(a['Age'])"
   ]
  },
  {
   "cell_type": "markdown",
   "id": "926b7cd6-022e-40ff-b0df-87b3c7315c1d",
   "metadata": {},
   "source": [
    "# .get()"
   ]
  },
  {
   "cell_type": "code",
   "execution_count": 52,
   "id": "17e18866-33f6-48aa-aa0e-be14e1292696",
   "metadata": {},
   "outputs": [
    {
     "name": "stdout",
     "output_type": "stream",
     "text": [
      "26\n"
     ]
    }
   ],
   "source": [
    "a={\"Name\":\"Nishant\",\"Age\": 26,\"Country\":\"India\"}\n",
    "print(a.get(\"Age\"))"
   ]
  },
  {
   "cell_type": "markdown",
   "id": "f5a7a699-dbb5-4af8-891d-6649e8bf47af",
   "metadata": {},
   "source": [
    "# Get keys"
   ]
  },
  {
   "cell_type": "code",
   "execution_count": 62,
   "id": "168650d2-2770-4bb3-b880-d6f1cc33718c",
   "metadata": {},
   "outputs": [
    {
     "data": {
      "text/plain": [
       "dict_keys(['Name', 'Age', 'Country'])"
      ]
     },
     "execution_count": 62,
     "metadata": {},
     "output_type": "execute_result"
    }
   ],
   "source": [
    "a={\"Name\":\"Nishant\",\"Age\": 26,\"Country\":\"India\"}\n",
    "x=a.keys()\n",
    "x"
   ]
  },
  {
   "cell_type": "markdown",
   "id": "bdb007e5-ef20-47e1-a7cd-c8adcecf2f09",
   "metadata": {},
   "source": [
    "# get values"
   ]
  },
  {
   "cell_type": "code",
   "execution_count": 63,
   "id": "2e36d1c4-f12e-491c-8f3c-8ab7caf37412",
   "metadata": {},
   "outputs": [
    {
     "data": {
      "text/plain": [
       "dict_values(['Nishant', 26, 'India'])"
      ]
     },
     "execution_count": 63,
     "metadata": {},
     "output_type": "execute_result"
    }
   ],
   "source": [
    "a={\"Name\":\"Nishant\",\"Age\": 26,\"Country\":\"India\"}\n",
    "y=a.values()\n",
    "y"
   ]
  },
  {
   "cell_type": "markdown",
   "id": "8d194384-1c96-4f4d-bcae-4255c91f5bdc",
   "metadata": {},
   "source": [
    "# key: values together"
   ]
  },
  {
   "cell_type": "code",
   "execution_count": 65,
   "id": "3e9aec8e-faa1-4067-a73b-69dc57e9d4c5",
   "metadata": {},
   "outputs": [
    {
     "data": {
      "text/plain": [
       "dict_values(['Nishant', 26, 'India'])"
      ]
     },
     "execution_count": 65,
     "metadata": {},
     "output_type": "execute_result"
    }
   ],
   "source": [
    "a={\"Name\":\"Nishant\",\"Age\": 26,\"Country\":\"India\"}\n",
    "x=a.keys()\n",
    "y=a.values()\n",
    "x\n",
    "y"
   ]
  },
  {
   "cell_type": "markdown",
   "id": "a74e2544-3488-415e-8aa6-18f1e6dcf55d",
   "metadata": {},
   "source": [
    "## check whether key age are in dic or not."
   ]
  },
  {
   "cell_type": "code",
   "execution_count": 67,
   "id": "99f70663-6066-4733-aae6-7e1a7256b72f",
   "metadata": {},
   "outputs": [
    {
     "name": "stdout",
     "output_type": "stream",
     "text": [
      "26\n",
      "True\n"
     ]
    }
   ],
   "source": [
    "a=dict()\n",
    "a[\"Name\"]=\"Nishant\"\n",
    "a[\"age\"]=26\n",
    "a[\"State\"]=\"Delhi\"\n",
    "a[\"Number\"]=9654546020\n",
    "\n",
    "print(a[\"age\"]) in a # check in keys\n",
    "print(\"age\" in a) # check in values"
   ]
  },
  {
   "cell_type": "markdown",
   "id": "58b3f668-4b34-4fec-8899-d72084fbedf3",
   "metadata": {},
   "source": [
    "# Delete"
   ]
  },
  {
   "cell_type": "code",
   "execution_count": 68,
   "id": "6edd43a1-a94c-425a-a150-ef02c1bc2da9",
   "metadata": {},
   "outputs": [
    {
     "name": "stdout",
     "output_type": "stream",
     "text": [
      "befor delete: {'Name': 'Nishant', 'age': 26, 'State': 'Delhi', 'Number': 9654546020}\n",
      "after delete:  {'Name': 'Nishant', 'State': 'Delhi', 'Number': 9654546020}\n"
     ]
    }
   ],
   "source": [
    "a=dict()\n",
    "a[\"Name\"]=\"Nishant\"\n",
    "a[\"age\"]=26\n",
    "a[\"State\"]=\"Delhi\"\n",
    "a[\"Number\"]=9654546020\n",
    "\n",
    "print(\"befor delete:\", a)\n",
    "\n",
    "del a[\"age\"]\n",
    "print(\"after delete: \",a)\n"
   ]
  },
  {
   "cell_type": "markdown",
   "id": "ea2ee126-0eba-4f3d-9d4c-1b8b322aacb7",
   "metadata": {},
   "source": [
    "# change Values"
   ]
  },
  {
   "cell_type": "code",
   "execution_count": 85,
   "id": "54719c4b-926f-4ee2-92c0-a1a499a5b7cf",
   "metadata": {},
   "outputs": [
    {
     "name": "stdout",
     "output_type": "stream",
     "text": [
      "Before update: {'name': 'nishant', 'age': 26, 'state': 'delhi'}\n",
      "after update: {'name': 'nishant', 'age': 28, 'state': 'delhi'}\n"
     ]
    }
   ],
   "source": [
    "a={\n",
    "    \"name\":\"nishant\",\n",
    "    \"age\":26,\n",
    "    \"state\":\"delhi\"   \n",
    "}\n",
    "print(\"Before update:\",a)\n",
    "a[\"age\"]=28\n",
    "print(\"after update:\",a)"
   ]
  },
  {
   "cell_type": "markdown",
   "id": "a3af0d8a-49a1-4763-85fb-7b9b628286bc",
   "metadata": {},
   "source": [
    "# Adding items"
   ]
  },
  {
   "cell_type": "code",
   "execution_count": 86,
   "id": "7975e311-0b30-40ef-8bda-aba1bc249289",
   "metadata": {},
   "outputs": [
    {
     "name": "stdout",
     "output_type": "stream",
     "text": [
      "{'name': 'nishant', 'age': 26, 'state': 'delhi', 'gender': 'male'}\n"
     ]
    }
   ],
   "source": [
    "a={\n",
    "    \"name\":\"nishant\",\n",
    "    \"age\":26,\n",
    "    \"state\":\"delhi\", \"gender\":\"male\"   \n",
    "}\n",
    "\n",
    "print(a)"
   ]
  },
  {
   "cell_type": "markdown",
   "id": "dc10bf9c-b897-4e2b-8b93-d0871c4e6da6",
   "metadata": {},
   "source": [
    "# Update new items in dictionary"
   ]
  },
  {
   "cell_type": "code",
   "execution_count": 87,
   "id": "3ade08e6-9c7a-4d43-8c58-71817c8cf35f",
   "metadata": {},
   "outputs": [
    {
     "name": "stdout",
     "output_type": "stream",
     "text": [
      "{'name': 'nishant', 'age': 26, 'state': 'delhi', 'gender': 'male', 'mail id': 'nishant575051@gmail.com'}\n"
     ]
    }
   ],
   "source": [
    "a={\n",
    "    \"name\":\"nishant\",\n",
    "    \"age\":26,\n",
    "    \"state\":\"delhi\", \"gender\":\"male\"   \n",
    "}\n",
    "a.update({\"mail id\": \"nishant575051@gmail.com\"})\n",
    "print(a)"
   ]
  },
  {
   "cell_type": "markdown",
   "id": "dfe2fb45-9428-46df-9cf3-0a79c64882e2",
   "metadata": {},
   "source": [
    "# Remove items from dictionary // .pop()"
   ]
  },
  {
   "cell_type": "code",
   "execution_count": 89,
   "id": "35478a77-a394-4d76-8b8f-4abd45197e51",
   "metadata": {},
   "outputs": [
    {
     "name": "stdout",
     "output_type": "stream",
     "text": [
      "{'name': 'nishant', 'state': 'delhi', 'gender': 'male'}\n"
     ]
    }
   ],
   "source": [
    "a={\n",
    "    \"name\":\"nishant\",\n",
    "    \"age\":26,\n",
    "    \"state\":\"delhi\", \"gender\":\"male\"   \n",
    "}\n",
    "a.pop(\"age\")\n",
    "print(a)"
   ]
  },
  {
   "cell_type": "markdown",
   "id": "916d79cc-b114-4ff0-9433-88af01449064",
   "metadata": {},
   "source": [
    "# del()\n",
    "\n",
    "Delete item from dictionary"
   ]
  },
  {
   "cell_type": "code",
   "execution_count": 93,
   "id": "bac55c02-f3bc-4114-a75e-09f367beae8c",
   "metadata": {},
   "outputs": [
    {
     "name": "stdout",
     "output_type": "stream",
     "text": [
      "{'name': 'nishant', 'age': 26, 'gender': 'male'}\n"
     ]
    }
   ],
   "source": [
    "a={\n",
    "    \"name\":\"nishant\",\n",
    "    \"age\":26,\n",
    "    \"state\":\"delhi\", \"gender\":\"male\"   \n",
    "}\n",
    "del a[\"state\"]\n",
    "print(a)"
   ]
  },
  {
   "cell_type": "code",
   "execution_count": 95,
   "id": "a850d8aa-8005-4d5a-9029-8e407f14c57b",
   "metadata": {},
   "outputs": [
    {
     "ename": "NameError",
     "evalue": "name 'a' is not defined",
     "output_type": "error",
     "traceback": [
      "\u001b[1;31m---------------------------------------------------------------------------\u001b[0m",
      "\u001b[1;31mNameError\u001b[0m                                 Traceback (most recent call last)",
      "Cell \u001b[1;32mIn[95], line 7\u001b[0m\n\u001b[0;32m      1\u001b[0m a\u001b[38;5;241m=\u001b[39m{\n\u001b[0;32m      2\u001b[0m     \u001b[38;5;124m\"\u001b[39m\u001b[38;5;124mname\u001b[39m\u001b[38;5;124m\"\u001b[39m:\u001b[38;5;124m\"\u001b[39m\u001b[38;5;124mnishant\u001b[39m\u001b[38;5;124m\"\u001b[39m,\n\u001b[0;32m      3\u001b[0m     \u001b[38;5;124m\"\u001b[39m\u001b[38;5;124mage\u001b[39m\u001b[38;5;124m\"\u001b[39m:\u001b[38;5;241m26\u001b[39m,\n\u001b[0;32m      4\u001b[0m     \u001b[38;5;124m\"\u001b[39m\u001b[38;5;124mstate\u001b[39m\u001b[38;5;124m\"\u001b[39m:\u001b[38;5;124m\"\u001b[39m\u001b[38;5;124mdelhi\u001b[39m\u001b[38;5;124m\"\u001b[39m, \u001b[38;5;124m\"\u001b[39m\u001b[38;5;124mgender\u001b[39m\u001b[38;5;124m\"\u001b[39m:\u001b[38;5;124m\"\u001b[39m\u001b[38;5;124mmale\u001b[39m\u001b[38;5;124m\"\u001b[39m   \n\u001b[0;32m      5\u001b[0m }\n\u001b[0;32m      6\u001b[0m \u001b[38;5;28;01mdel\u001b[39;00m a\n\u001b[1;32m----> 7\u001b[0m \u001b[38;5;28mprint\u001b[39m(a)\n",
      "\u001b[1;31mNameError\u001b[0m: name 'a' is not defined"
     ]
    }
   ],
   "source": [
    "a={\n",
    "    \"name\":\"nishant\",\n",
    "    \"age\":26,\n",
    "    \"state\":\"delhi\", \"gender\":\"male\"   \n",
    "}\n",
    "del a\n",
    "print(a)"
   ]
  },
  {
   "cell_type": "markdown",
   "id": "5103e13f-85af-43d1-93a3-7eb368b2c14f",
   "metadata": {},
   "source": [
    "# Clear() function empties the dictionary"
   ]
  },
  {
   "cell_type": "code",
   "execution_count": 97,
   "id": "f8bef63b-440e-46a5-811b-380750d61625",
   "metadata": {},
   "outputs": [
    {
     "name": "stdout",
     "output_type": "stream",
     "text": [
      "{}\n",
      "<class 'dict'>\n"
     ]
    }
   ],
   "source": [
    "a={\n",
    "    \"name\":\"nishant\",\n",
    "    \"age\":26,\n",
    "    \"state\":\"delhi\", \"gender\":\"male\"   \n",
    "}\n",
    "a.clear()\n",
    "print(a)\n",
    "print(type(a))"
   ]
  },
  {
   "cell_type": "markdown",
   "id": "d6e0d481-e9e4-4dc3-9465-3f5984fddb9e",
   "metadata": {},
   "source": [
    "# concatenate the dictionary"
   ]
  },
  {
   "cell_type": "code",
   "execution_count": 102,
   "id": "3f213a6f-e0bf-4fe4-b00f-8cc17a2d91e2",
   "metadata": {},
   "outputs": [
    {
     "name": "stdout",
     "output_type": "stream",
     "text": [
      "{1: 10, 2: 20, 3: 30, 4: 40, 5: 50, 6: 60}\n"
     ]
    }
   ],
   "source": [
    "a={1:10,2:20}\n",
    "b={3:30,4:40}\n",
    "c={5:50,6:60}\n",
    "d={}\n",
    "for k in (a,b,c): d.update(k)\n",
    "print(d)"
   ]
  },
  {
   "cell_type": "code",
   "execution_count": 103,
   "id": "acd6c321-47d8-4d4a-b5a5-2ede3f271863",
   "metadata": {},
   "outputs": [
    {
     "name": "stdout",
     "output_type": "stream",
     "text": [
      "{'Name': 'Nishant', 'Age': 26, 'State': 'Delhi', 'number': 9654546020, 'Gender': 'Male', 'Village': 'Bihar'}\n"
     ]
    }
   ],
   "source": [
    "\n",
    "a={\"Name\":\"Nishant\",\"Age\":26}\n",
    "b={\"State\":\"Delhi\",\"number\":9654546020}\n",
    "c={\"Gender\":\"Male\",\"Village\":\"Bihar\"}\n",
    "d={}\n",
    "for k in (a,b,c): d.update(k)\n",
    "print(d)"
   ]
  },
  {
   "cell_type": "code",
   "execution_count": null,
   "id": "6dedcd2b-568c-4132-bbff-763f52f5587d",
   "metadata": {},
   "outputs": [],
   "source": []
  },
  {
   "cell_type": "markdown",
   "id": "740577f4-d9d2-4698-86ff-1939311a216d",
   "metadata": {},
   "source": [
    "# Exercise:\n",
    "\n",
    "write a program to print dictionary where the key are numbers between 1 to 15 and the values are square of the keys.\n"
   ]
  },
  {
   "cell_type": "code",
   "execution_count": 112,
   "id": "ac83ab81-0cff-40e7-970e-ea3ffa808c05",
   "metadata": {},
   "outputs": [
    {
     "name": "stdout",
     "output_type": "stream",
     "text": [
      "{1: 1, 2: 2, 3: 3, 4: 4, 5: 5, 6: 6, 7: 7, 8: 8, 9: 9, 10: 10, 11: 11, 12: 12, 13: 13, 14: 14, 15: 15}\n"
     ]
    }
   ],
   "source": [
    "d=dict()\n",
    "for x in range(1,15+1):\n",
    "    d[x]=x\n",
    "print(d)\n",
    "    "
   ]
  },
  {
   "cell_type": "code",
   "execution_count": 110,
   "id": "00e21f89-2f24-4ab7-911f-06a4ff66e990",
   "metadata": {},
   "outputs": [
    {
     "name": "stdout",
     "output_type": "stream",
     "text": [
      "{1: 1}\n",
      "{1: 1, 2: 4}\n",
      "{1: 1, 2: 4, 3: 9}\n",
      "{1: 1, 2: 4, 3: 9, 4: 16}\n",
      "{1: 1, 2: 4, 3: 9, 4: 16, 5: 25}\n",
      "{1: 1, 2: 4, 3: 9, 4: 16, 5: 25, 6: 36}\n",
      "{1: 1, 2: 4, 3: 9, 4: 16, 5: 25, 6: 36, 7: 49}\n",
      "{1: 1, 2: 4, 3: 9, 4: 16, 5: 25, 6: 36, 7: 49, 8: 64}\n",
      "{1: 1, 2: 4, 3: 9, 4: 16, 5: 25, 6: 36, 7: 49, 8: 64, 9: 81}\n",
      "{1: 1, 2: 4, 3: 9, 4: 16, 5: 25, 6: 36, 7: 49, 8: 64, 9: 81, 10: 100}\n",
      "{1: 1, 2: 4, 3: 9, 4: 16, 5: 25, 6: 36, 7: 49, 8: 64, 9: 81, 10: 100, 11: 121}\n",
      "{1: 1, 2: 4, 3: 9, 4: 16, 5: 25, 6: 36, 7: 49, 8: 64, 9: 81, 10: 100, 11: 121, 12: 144}\n",
      "{1: 1, 2: 4, 3: 9, 4: 16, 5: 25, 6: 36, 7: 49, 8: 64, 9: 81, 10: 100, 11: 121, 12: 144, 13: 169}\n",
      "{1: 1, 2: 4, 3: 9, 4: 16, 5: 25, 6: 36, 7: 49, 8: 64, 9: 81, 10: 100, 11: 121, 12: 144, 13: 169, 14: 196}\n",
      "{1: 1, 2: 4, 3: 9, 4: 16, 5: 25, 6: 36, 7: 49, 8: 64, 9: 81, 10: 100, 11: 121, 12: 144, 13: 169, 14: 196, 15: 225}\n"
     ]
    }
   ],
   "source": [
    "d=dict()\n",
    "for x in range(1,15+1):\n",
    "    d[x]=x**2\n",
    "    print(d)\n",
    "    "
   ]
  },
  {
   "cell_type": "code",
   "execution_count": 111,
   "id": "586848b4-1746-4dd5-9f4d-48a82bcff7da",
   "metadata": {},
   "outputs": [
    {
     "name": "stdout",
     "output_type": "stream",
     "text": [
      "{1: 1, 2: 4, 3: 9, 4: 16, 5: 25, 6: 36, 7: 49, 8: 64, 9: 81, 10: 100, 11: 121, 12: 144, 13: 169, 14: 196, 15: 225}\n"
     ]
    }
   ],
   "source": [
    "d=dict()\n",
    "for x in range(1,15+1):\n",
    "    d[x]=x**2\n",
    "print(d)\n",
    "    "
   ]
  },
  {
   "cell_type": "code",
   "execution_count": null,
   "id": "7da2590d-be86-4d97-b449-34f00f6bbe24",
   "metadata": {},
   "outputs": [],
   "source": []
  },
  {
   "cell_type": "markdown",
   "id": "25f92d78-436d-4ba7-a20c-454bb29744aa",
   "metadata": {},
   "source": [
    "# Exercise:\n",
    "\n",
    "write a program to check wheter key already exist in a dictionary."
   ]
  },
  {
   "cell_type": "code",
   "execution_count": 126,
   "id": "5e550bc1-b900-4dba-a6b5-a75e5ba5aab7",
   "metadata": {},
   "outputs": [
    {
     "name": "stdout",
     "output_type": "stream",
     "text": [
      "25\n",
      "False\n"
     ]
    }
   ],
   "source": [
    "a={1: 1, 2: 4, 3: 9, 4: 16, 5: 25, 6: 36, 7: 49, 8: 64, 9: 81, 10: 100, 11: 121, 12: 144, 13: 169, 14: 196, 15: 225}\n",
    "print(a[5]) in a\n",
    "print(25 in a)"
   ]
  },
  {
   "cell_type": "code",
   "execution_count": null,
   "id": "ec8aec73-6c4c-44da-896b-cd5c9a173feb",
   "metadata": {},
   "outputs": [],
   "source": []
  },
  {
   "cell_type": "code",
   "execution_count": null,
   "id": "eb900d0d-3b96-4c7e-8fc2-7cb472efd766",
   "metadata": {},
   "outputs": [],
   "source": []
  },
  {
   "cell_type": "code",
   "execution_count": null,
   "id": "a32f05dc-0325-4df5-ae5a-d1e75db26078",
   "metadata": {},
   "outputs": [],
   "source": []
  },
  {
   "cell_type": "code",
   "execution_count": null,
   "id": "39118490-bfe4-41d8-8f05-db81a9cf747f",
   "metadata": {},
   "outputs": [],
   "source": []
  },
  {
   "cell_type": "markdown",
   "id": "6c0a506c-3164-48d4-9473-db7edacc1940",
   "metadata": {},
   "source": [
    "# 11 June 2024"
   ]
  },
  {
   "cell_type": "code",
   "execution_count": 70,
   "id": "8a85ca9c-feca-4b9b-a375-5c7cb390b85b",
   "metadata": {},
   "outputs": [],
   "source": [
    "student={\"fullname\": \"A B C D\".split(),\n",
    "         \"Age\":[11,12,13,14],\n",
    "         \"Fees\":[11.2,12.3,14.5,15.9]       \n",
    "                }"
   ]
  },
  {
   "cell_type": "code",
   "execution_count": 71,
   "id": "eda0237a-e7f9-466e-8572-c5c8ac203d3c",
   "metadata": {},
   "outputs": [
    {
     "data": {
      "text/plain": [
       "{'fullname': ['A', 'B', 'C', 'D'],\n",
       " 'Age': [11, 12, 13, 14],\n",
       " 'Fees': [11.2, 12.3, 14.5, 15.9]}"
      ]
     },
     "execution_count": 71,
     "metadata": {},
     "output_type": "execute_result"
    }
   ],
   "source": [
    "student"
   ]
  },
  {
   "cell_type": "code",
   "execution_count": 73,
   "id": "1c5e229f-2ada-40cb-8b89-fcc795202667",
   "metadata": {},
   "outputs": [
    {
     "data": {
      "text/plain": [
       "dict_keys(['fullname', 'Age', 'Fees'])"
      ]
     },
     "execution_count": 73,
     "metadata": {},
     "output_type": "execute_result"
    }
   ],
   "source": [
    "student.keys()"
   ]
  },
  {
   "cell_type": "code",
   "execution_count": 74,
   "id": "36b0b8f4-0b5c-4df4-85d1-891aa3606b17",
   "metadata": {},
   "outputs": [
    {
     "data": {
      "text/plain": [
       "dict_values([['A', 'B', 'C', 'D'], [11, 12, 13, 14], [11.2, 12.3, 14.5, 15.9]])"
      ]
     },
     "execution_count": 74,
     "metadata": {},
     "output_type": "execute_result"
    }
   ],
   "source": [
    "student.values()"
   ]
  },
  {
   "cell_type": "code",
   "execution_count": 78,
   "id": "8442426e-318f-420e-9df9-63ad4d8d99c4",
   "metadata": {},
   "outputs": [
    {
     "name": "stdout",
     "output_type": "stream",
     "text": [
      "{'fullname': ['A', 'B', 'C', 'D'], 'Age': [11, 12, 13, 14], 'Fees': [11.2, 12.3, 14.5, 15.9]}\n",
      "{'fullname': ['A', 'B', 'C', 'D'], 'Age': [11, 12, 13, 14], 'Fees': [11.2, 12.3, 14.5, 15.9]}\n",
      "{'fullname': ['A', 'B', 'C', 'D'], 'Age': [11, 12, 13, 14], 'Fees': [11.2, 12.3, 14.5, 15.9]}\n"
     ]
    }
   ],
   "source": [
    "for i in student.keys():\n",
    "    print(student)"
   ]
  },
  {
   "cell_type": "code",
   "execution_count": 79,
   "id": "272a8c58-f4bb-4aa8-a38d-e11775a0654e",
   "metadata": {},
   "outputs": [
    {
     "name": "stdout",
     "output_type": "stream",
     "text": [
      "['A', 'B', 'C', 'D']\n",
      "[11, 12, 13, 14]\n",
      "[11.2, 12.3, 14.5, 15.9]\n"
     ]
    }
   ],
   "source": [
    "for i in student.keys():\n",
    "    print(student[i])"
   ]
  },
  {
   "cell_type": "code",
   "execution_count": 80,
   "id": "a2c2f4f6-fdfa-4479-8857-a7f546123778",
   "metadata": {},
   "outputs": [
    {
     "name": "stdout",
     "output_type": "stream",
     "text": [
      "B\n",
      "12\n",
      "12.3\n"
     ]
    }
   ],
   "source": [
    "for i in student.keys():\n",
    "    print(student[i][1])"
   ]
  },
  {
   "cell_type": "code",
   "execution_count": null,
   "id": "7155f642-0ee8-4a6b-be88-0e73650f4ddb",
   "metadata": {},
   "outputs": [],
   "source": []
  }
 ],
 "metadata": {
  "kernelspec": {
   "display_name": "Python 3 (ipykernel)",
   "language": "python",
   "name": "python3"
  },
  "language_info": {
   "codemirror_mode": {
    "name": "ipython",
    "version": 3
   },
   "file_extension": ".py",
   "mimetype": "text/x-python",
   "name": "python",
   "nbconvert_exporter": "python",
   "pygments_lexer": "ipython3",
   "version": "3.11.7"
  },
  "widgets": {
   "application/vnd.jupyter.widget-state+json": {
    "state": {},
    "version_major": 2,
    "version_minor": 0
   }
  }
 },
 "nbformat": 4,
 "nbformat_minor": 5
}
