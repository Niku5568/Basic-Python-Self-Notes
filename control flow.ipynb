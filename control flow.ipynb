{
 "cells": [
  {
   "cell_type": "code",
   "execution_count": 1,
   "id": "259c02e2-8ebe-4b0e-b621-5e3c85469380",
   "metadata": {},
   "outputs": [],
   "source": [
    "#control flow statement"
   ]
  },
  {
   "cell_type": "code",
   "execution_count": 3,
   "id": "0f7f3828-e548-42b5-85d8-16f564b04e83",
   "metadata": {},
   "outputs": [],
   "source": [
    "#if Condition"
   ]
  },
  {
   "cell_type": "code",
   "execution_count": null,
   "id": "41123f7d-44f8-4794-b684-797c4d094e72",
   "metadata": {},
   "outputs": [],
   "source": [
    "#write a program to calculate the percantage in the sub math, science, english, social and Hindi."
   ]
  },
  {
   "cell_type": "code",
   "execution_count": 6,
   "id": "4cf122bc-7040-45a1-8f2c-555f0f2c4abe",
   "metadata": {},
   "outputs": [
    {
     "name": "stdin",
     "output_type": "stream",
     "text": [
      "Enter The Name of Student Nishant\n"
     ]
    },
    {
     "name": "stdout",
     "output_type": "stream",
     "text": [
      "\n"
     ]
    },
    {
     "name": "stdin",
     "output_type": "stream",
     "text": [
      "Enter the marks scored in English : 67\n",
      "Enter the marks scored in Math : 86\n",
      "Enter the marks scored in Hindi : 65\n",
      "Enter the marks scored in Science : 75\n",
      "Enter the marks scored in Social : 95\n"
     ]
    },
    {
     "name": "stdout",
     "output_type": "stream",
     "text": [
      "\n",
      "Nishant Scored 77.60000000000001 Percent\n"
     ]
    }
   ],
   "source": [
    "x = (input(\"Enter The Name of Student\"))\n",
    "print()\n",
    "a = int(input(\"Enter the marks scored in English :\"))\n",
    "b = int(input(\"Enter the marks scored in Math :\"))\n",
    "c = int(input(\"Enter the marks scored in Hindi :\"))\n",
    "d = int(input(\"Enter the marks scored in Science :\"))\n",
    "e = int(input(\"Enter the marks scored in Social :\"))\n",
    "total=(a+b+c+d+e)\n",
    "percentage= total/500*100\n",
    "print()\n",
    "print(x,\"Scored\",percentage, \"Percent\")\n"
   ]
  },
  {
   "cell_type": "code",
   "execution_count": 5,
   "id": "32e55fb0-9c97-43c2-9f48-b29cec828193",
   "metadata": {},
   "outputs": [
    {
     "name": "stdin",
     "output_type": "stream",
     "text": [
      "Enter The Percentage Of The Student 65\n"
     ]
    },
    {
     "name": "stdout",
     "output_type": "stream",
     "text": [
      "\n",
      "C Grade\n"
     ]
    }
   ],
   "source": [
    "grade=int(input(\"Enter The Percentage Of The Student\"))\n",
    "print()\n",
    "if grade>=90:\n",
    "    print(\"A Grade\")\n",
    "if grade>=75 and grade<90:\n",
    "    print(\"B Grade\")\n",
    "if grade>=45 and grade<75:\n",
    "    print(\"C Grade\")\n"
   ]
  },
  {
   "cell_type": "code",
   "execution_count": 1,
   "id": "3ce5d8de-0fda-4bb9-8de2-464317e2c29f",
   "metadata": {},
   "outputs": [],
   "source": [
    "# if else Statement"
   ]
  },
  {
   "cell_type": "code",
   "execution_count": 3,
   "id": "be6ced21-f7f4-4017-b3da-86457806876c",
   "metadata": {},
   "outputs": [],
   "source": [
    "#write a program to display hello if the number enter by a user is a multiple of 5 else print bye"
   ]
  },
  {
   "cell_type": "code",
   "execution_count": 5,
   "id": "eca1523e-abe3-40e0-a7be-d7335f988317",
   "metadata": {},
   "outputs": [
    {
     "name": "stdin",
     "output_type": "stream",
     "text": [
      "enter the number 46\n"
     ]
    },
    {
     "name": "stdout",
     "output_type": "stream",
     "text": [
      "Bye\n"
     ]
    }
   ],
   "source": [
    "a = int(input(\"enter the number\"))\n",
    "if a%5==0:\n",
    "    print(\"Hello\")\n",
    "else:\n",
    "    print(\"Bye\")"
   ]
  },
  {
   "cell_type": "code",
   "execution_count": 8,
   "id": "4e579342-1b08-41b9-a6de-ff5d2c4a02eb",
   "metadata": {},
   "outputs": [],
   "source": [
    "#Writa a program to display the enter number is +ve or -ve."
   ]
  },
  {
   "cell_type": "code",
   "execution_count": 7,
   "id": "36d05aa1-6999-4a47-a19a-36da08c09a2d",
   "metadata": {},
   "outputs": [
    {
     "name": "stdin",
     "output_type": "stream",
     "text": [
      "enter the number -10\n"
     ]
    },
    {
     "name": "stdout",
     "output_type": "stream",
     "text": [
      "-ve\n"
     ]
    }
   ],
   "source": [
    "a=int(input(\"Enter The Number\"))\n",
    "if a>=0:\n",
    "    print(\"+ve\")\n",
    "else:\n",
    "    print(\"-ve\")"
   ]
  },
  {
   "cell_type": "code",
   "execution_count": 8,
   "id": "5b2df439-d40d-40fe-ba26-77ddf01973ba",
   "metadata": {},
   "outputs": [],
   "source": [
    "#write a program to check eligiblity of vote as per user age. if voter are not eligible give the how many years are left to vote."
   ]
  },
  {
   "cell_type": "code",
   "execution_count": 11,
   "id": "95da665b-f053-455d-b283-8c9dd6fcd63e",
   "metadata": {},
   "outputs": [
    {
     "name": "stdin",
     "output_type": "stream",
     "text": [
      "Your Age is 15\n"
     ]
    },
    {
     "name": "stdout",
     "output_type": "stream",
     "text": [
      "You are eligible after 3 Years to cast your first vote\n"
     ]
    }
   ],
   "source": [
    "age=int(input(\"Your Age is\"))\n",
    "if age>=18:\n",
    "    print(\"Eligible for Vote\",)\n",
    "else:\n",
    "    print(\"You are eligible after\", 18-age, \"Years to cast your first vote\")"
   ]
  },
  {
   "cell_type": "code",
   "execution_count": 12,
   "id": "5e011831-673f-4852-b2da-ead2f3e3855d",
   "metadata": {},
   "outputs": [],
   "source": [
    "# if - elif - else"
   ]
  },
  {
   "cell_type": "code",
   "execution_count": 13,
   "id": "8bcbd773-97bc-4c52-b4d4-6edca5ba2d06",
   "metadata": {},
   "outputs": [],
   "source": [
    "#accept the city and print it's monument.\n",
    "#Delhi - Red Fort\n",
    "#Agra - Tajmahal\n",
    "#jaipur - Jalmahal\n",
    "#Mumbai - Gateway of india\n",
    "#Odissa - Konak Temple\n",
    "#Hyderabad - Charminar\n",
    "#Other - Record Not Found"
   ]
  },
  {
   "cell_type": "code",
   "execution_count": 2,
   "id": "9e18efa3-d094-4ea9-97fe-5256d9692ae0",
   "metadata": {},
   "outputs": [
    {
     "name": "stdin",
     "output_type": "stream",
     "text": [
      "Enter your City Delhi\n"
     ]
    },
    {
     "name": "stdout",
     "output_type": "stream",
     "text": [
      "Delhi\n",
      "The Monument of the Delhi is Redfort\n",
      "The Monument of the Delhi is Qutub Minar\n",
      "The Monument of the Delhi is Akshardham\n",
      "The Monument of the Delhi is Lotus temple\n"
     ]
    }
   ],
   "source": [
    "city=input(\"Enter your City\")\n",
    "if city==\"Delhi\":\n",
    "    print(city)\n",
    "    print(\"The Monument of the Delhi is Redfort\")\n",
    "    print(\"The Monument of the Delhi is Qutub Minar\")\n",
    "    print(\"The Monument of the Delhi is Akshardham\")\n",
    "    print(\"The Monument of the Delhi is Lotus temple\")\n",
    "elif city==\"Agra\":\n",
    "    print(\"The Monument of the Agra is TajMahal\")\n",
    "elif city==\"Jaipur\":\n",
    "    print(\"The Monument of the Jaipur is Jalmahal\")\n",
    "elif city==\"Mumbai\":\n",
    "    print(\"The Monument of the Mumbai is Gateway of India\")\n",
    "elif city==\"Odissa\":\n",
    "    print(\"The Monument of the Delhi is Konak Temple\")\n",
    "elif city==\"Hyderabad\":\n",
    "    print(\"The Monument of the Hyderabad is Charminar\")\n",
    "else:\n",
    "    print(\"Record Not Found\")"
   ]
  },
  {
   "cell_type": "markdown",
   "id": "466910af-b5ad-4e2d-bf55-b36ede5edcd0",
   "metadata": {},
   "source": [
    "write a program to accept the number of day from user and calculate the charges of the library as the below following.\n",
    "\n",
    "0 - 5 day - 2 Rs per day\n",
    "\n",
    "6 - 10 day - 3 Rs per day\n",
    "\n",
    "11 - 15 day - 4 Rs per day\n",
    "\n",
    "After 15 Day - 5 Rs per day"
   ]
  },
  {
   "cell_type": "code",
   "execution_count": 21,
   "id": "407ad899-6a4e-4461-b3ce-94be3c181f41",
   "metadata": {},
   "outputs": [
    {
     "name": "stdin",
     "output_type": "stream",
     "text": [
      "Enter the Number of Day you want to keep the book 16\n"
     ]
    },
    {
     "name": "stdout",
     "output_type": "stream",
     "text": [
      "80\n"
     ]
    }
   ],
   "source": [
    "m=int(input(\"Enter the Number of Day you want to keep the book\"))\n",
    "if m<=5:\n",
    "    print(m*2)\n",
    "elif m>=6 and m<=10:\n",
    "    print(m*3)\n",
    "elif m>=11 and m<=15:\n",
    "    print(m*4)\n",
    "elif m>15:\n",
    "    print(m*5)"
   ]
  },
  {
   "cell_type": "code",
   "execution_count": 22,
   "id": "4968c2b2-83a7-4be8-8fe7-2d4263eb14e1",
   "metadata": {},
   "outputs": [
    {
     "data": {
      "text/plain": [
       "80"
      ]
     },
     "execution_count": 22,
     "metadata": {},
     "output_type": "execute_result"
    }
   ],
   "source": [
    "16*5"
   ]
  },
  {
   "cell_type": "code",
   "execution_count": null,
   "id": "d0ed4831-cdce-4051-92f4-cb1e07b5893f",
   "metadata": {},
   "outputs": [],
   "source": []
  }
 ],
 "metadata": {
  "kernelspec": {
   "display_name": "Python 3 (ipykernel)",
   "language": "python",
   "name": "python3"
  },
  "language_info": {
   "codemirror_mode": {
    "name": "ipython",
    "version": 3
   },
   "file_extension": ".py",
   "mimetype": "text/x-python",
   "name": "python",
   "nbconvert_exporter": "python",
   "pygments_lexer": "ipython3",
   "version": "3.11.7"
  },
  "widgets": {
   "application/vnd.jupyter.widget-state+json": {
    "state": {},
    "version_major": 2,
    "version_minor": 0
   }
  }
 },
 "nbformat": 4,
 "nbformat_minor": 5
}
