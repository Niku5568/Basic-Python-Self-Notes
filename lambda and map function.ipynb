{
 "cells": [
  {
   "cell_type": "markdown",
   "id": "8acd85f5-a6fc-4590-88e4-2a610e7d2ab2",
   "metadata": {},
   "source": [
    "# syntax: \n",
    "lambda var1, var2 : var1 + var2 (math operation)"
   ]
  },
  {
   "cell_type": "code",
   "execution_count": 1,
   "id": "2c593c7c-1722-4e58-99e6-9a250c81d524",
   "metadata": {},
   "outputs": [
    {
     "data": {
      "text/plain": [
       "4"
      ]
     },
     "execution_count": 1,
     "metadata": {},
     "output_type": "execute_result"
    }
   ],
   "source": [
    "#length of string\n",
    "l=lambda y:len(y)\n",
    "l(\"nish\")"
   ]
  },
  {
   "cell_type": "code",
   "execution_count": 2,
   "id": "487a827b-2521-4e78-8450-9260cd76d97d",
   "metadata": {},
   "outputs": [
    {
     "data": {
      "text/plain": [
       "complex"
      ]
     },
     "execution_count": 2,
     "metadata": {},
     "output_type": "execute_result"
    }
   ],
   "source": [
    "# type of values\n",
    "t=lambda t:type(t)\n",
    "t(5+6j)"
   ]
  },
  {
   "cell_type": "markdown",
   "id": "a112795c-6d1e-4a1f-8edd-0fde2c4f26b0",
   "metadata": {},
   "source": [
    "# mathmatic operation"
   ]
  },
  {
   "cell_type": "code",
   "execution_count": 3,
   "id": "5b3c26cc-2f32-4ba1-9d48-b20686e4ecb0",
   "metadata": {},
   "outputs": [
    {
     "data": {
      "text/plain": [
       "7"
      ]
     },
     "execution_count": 3,
     "metadata": {},
     "output_type": "execute_result"
    }
   ],
   "source": [
    "add=lambda x,y:x+y\n",
    "add(2,5)"
   ]
  },
  {
   "cell_type": "code",
   "execution_count": 4,
   "id": "1e475cee-9e00-434e-8a08-bf2fef56f2e5",
   "metadata": {},
   "outputs": [
    {
     "data": {
      "text/plain": [
       "0.4"
      ]
     },
     "execution_count": 4,
     "metadata": {},
     "output_type": "execute_result"
    }
   ],
   "source": [
    "div=lambda x,y:x/y\n",
    "div(2,5)"
   ]
  },
  {
   "cell_type": "code",
   "execution_count": 5,
   "id": "2b7cc81f-92f4-4800-896d-e59ed3df72ae",
   "metadata": {},
   "outputs": [
    {
     "data": {
      "text/plain": [
       "3"
      ]
     },
     "execution_count": 5,
     "metadata": {},
     "output_type": "execute_result"
    }
   ],
   "source": [
    "sub=lambda x,y:x-y\n",
    "sub(5,2)"
   ]
  },
  {
   "cell_type": "code",
   "execution_count": 6,
   "id": "bf2dccd4-7716-41cd-861e-790254af2e80",
   "metadata": {},
   "outputs": [
    {
     "data": {
      "text/plain": [
       "18"
      ]
     },
     "execution_count": 6,
     "metadata": {},
     "output_type": "execute_result"
    }
   ],
   "source": [
    "multiple=lambda x,y:x*y\n",
    "multiple(3,6)"
   ]
  },
  {
   "cell_type": "code",
   "execution_count": 7,
   "id": "5ba02ad5-5fac-4d9b-8c72-8252bbbadf64",
   "metadata": {},
   "outputs": [
    {
     "data": {
      "text/plain": [
       "6"
      ]
     },
     "execution_count": 7,
     "metadata": {},
     "output_type": "execute_result"
    }
   ],
   "source": [
    "square=lambda x:x*2\n",
    "square(3)"
   ]
  },
  {
   "cell_type": "code",
   "execution_count": 8,
   "id": "7643b7e4-02d7-4af6-b0ba-0702aced432b",
   "metadata": {},
   "outputs": [
    {
     "data": {
      "text/plain": [
       "9"
      ]
     },
     "execution_count": 8,
     "metadata": {},
     "output_type": "execute_result"
    }
   ],
   "source": [
    "cube=lambda x:x*3\n",
    "cube(3)"
   ]
  },
  {
   "cell_type": "code",
   "execution_count": 9,
   "id": "2ef0cc89-b6a1-4e8c-9b71-123d02c715b5",
   "metadata": {},
   "outputs": [
    {
     "data": {
      "text/plain": [
       "[1, 2, 3, 4, 5, 1, 2, 3, 4, 5]"
      ]
     },
     "execution_count": 9,
     "metadata": {},
     "output_type": "execute_result"
    }
   ],
   "source": [
    "# square of the all items in list.\n",
    "list=[1,2,3,4,5]\n",
    "square=lambda x:x*2\n",
    "square(list)"
   ]
  },
  {
   "cell_type": "code",
   "execution_count": 11,
   "id": "6c1369f8-e98b-45f3-bc10-a5879e4515eb",
   "metadata": {},
   "outputs": [
    {
     "ename": "TypeError",
     "evalue": "'list' object is not callable",
     "output_type": "error",
     "traceback": [
      "\u001b[1;31m---------------------------------------------------------------------------\u001b[0m",
      "\u001b[1;31mTypeError\u001b[0m                                 Traceback (most recent call last)",
      "Cell \u001b[1;32mIn[11], line 2\u001b[0m\n\u001b[0;32m      1\u001b[0m list1\u001b[38;5;241m=\u001b[39m[\u001b[38;5;241m1\u001b[39m,\u001b[38;5;241m2\u001b[39m,\u001b[38;5;241m3\u001b[39m,\u001b[38;5;241m4\u001b[39m,\u001b[38;5;241m5\u001b[39m]\n\u001b[1;32m----> 2\u001b[0m sqt\u001b[38;5;241m=\u001b[39m\u001b[38;5;28mlist\u001b[39m(\u001b[38;5;28mmap\u001b[39m(\u001b[38;5;28;01mlambda\u001b[39;00m x:x\u001b[38;5;241m*\u001b[39m\u001b[38;5;241m*\u001b[39m\u001b[38;5;241m2\u001b[39m,list1))\n\u001b[0;32m      3\u001b[0m \u001b[38;5;28mprint\u001b[39m(sqt)\n",
      "\u001b[1;31mTypeError\u001b[0m: 'list' object is not callable"
     ]
    }
   ],
   "source": [
    "list1=[1,2,3,4,5]\n",
    "sqt=list(map(lambda x:x**2,list1))\n",
    "print(sqt)"
   ]
  },
  {
   "cell_type": "code",
   "execution_count": null,
   "id": "43c9cb30-23a4-4b2f-8b35-f9215c0dd7ea",
   "metadata": {},
   "outputs": [],
   "source": []
  },
  {
   "cell_type": "code",
   "execution_count": 13,
   "id": "2549113c-e904-48d4-afb1-b3aa8e12a7e8",
   "metadata": {},
   "outputs": [
    {
     "ename": "TypeError",
     "evalue": "'list' object is not callable",
     "output_type": "error",
     "traceback": [
      "\u001b[1;31m---------------------------------------------------------------------------\u001b[0m",
      "\u001b[1;31mTypeError\u001b[0m                                 Traceback (most recent call last)",
      "Cell \u001b[1;32mIn[13], line 2\u001b[0m\n\u001b[0;32m      1\u001b[0m l\u001b[38;5;241m=\u001b[39m[\u001b[38;5;241m1\u001b[39m,\u001b[38;5;241m2\u001b[39m,\u001b[38;5;241m3\u001b[39m,\u001b[38;5;241m4\u001b[39m,\u001b[38;5;241m5\u001b[39m]\n\u001b[1;32m----> 2\u001b[0m sq\u001b[38;5;241m=\u001b[39m\u001b[38;5;28mlist\u001b[39m(\u001b[38;5;28mmap\u001b[39m(\u001b[38;5;28;01mlambda\u001b[39;00m x:x\u001b[38;5;241m*\u001b[39m\u001b[38;5;241m*\u001b[39m\u001b[38;5;241m2\u001b[39m,l)) \n\u001b[0;32m      3\u001b[0m sq\n",
      "\u001b[1;31mTypeError\u001b[0m: 'list' object is not callable"
     ]
    }
   ],
   "source": [
    "l=[1,2,3,4,5]\n",
    "sq=list(map(lambda x:x**2,l)) \n",
    "sq"
   ]
  },
  {
   "cell_type": "code",
   "execution_count": null,
   "id": "2e688f7c-dd10-44f9-a305-ce5a840a693e",
   "metadata": {},
   "outputs": [],
   "source": []
  }
 ],
 "metadata": {
  "kernelspec": {
   "display_name": "Python 3 (ipykernel)",
   "language": "python",
   "name": "python3"
  },
  "language_info": {
   "codemirror_mode": {
    "name": "ipython",
    "version": 3
   },
   "file_extension": ".py",
   "mimetype": "text/x-python",
   "name": "python",
   "nbconvert_exporter": "python",
   "pygments_lexer": "ipython3",
   "version": "3.11.7"
  },
  "widgets": {
   "application/vnd.jupyter.widget-state+json": {
    "state": {},
    "version_major": 2,
    "version_minor": 0
   }
  }
 },
 "nbformat": 4,
 "nbformat_minor": 5
}
