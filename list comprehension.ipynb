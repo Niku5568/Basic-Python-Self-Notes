{
 "cells": [
  {
   "cell_type": "code",
   "execution_count": 2,
   "id": "f7ac087a-75d1-45f7-917c-d6934c93e83e",
   "metadata": {},
   "outputs": [
    {
     "name": "stdout",
     "output_type": "stream",
     "text": [
      "[0, 1, 2, 3, 4, 5, 6, 7, 8, 9]\n"
     ]
    }
   ],
   "source": [
    "integer=[]\n",
    "for i in range(0,10):\n",
    "    integer.append(i)\n",
    "print(integer)"
   ]
  },
  {
   "cell_type": "code",
   "execution_count": 8,
   "id": "9396658a-0b89-4d47-b9b5-22859b49ab27",
   "metadata": {},
   "outputs": [
    {
     "data": {
      "text/plain": [
       "[0, 1, 2, 3, 4, 5, 6, 7, 8, 9]"
      ]
     },
     "execution_count": 8,
     "metadata": {},
     "output_type": "execute_result"
    }
   ],
   "source": [
    "[ i for i in range(0,10)]"
   ]
  },
  {
   "cell_type": "code",
   "execution_count": 1,
   "id": "0cdbe717-0ff3-4c6b-8266-ef678d8d3839",
   "metadata": {},
   "outputs": [
    {
     "name": "stdout",
     "output_type": "stream",
     "text": [
      "\n",
      "[0, 1, 2, 3, 4, 5, 6, 7, 8, 9]\n"
     ]
    }
   ],
   "source": [
    "print()\n",
    "integer=[ i for i in range(0,10)]\n",
    "print(integer)"
   ]
  },
  {
   "cell_type": "code",
   "execution_count": 5,
   "id": "b2e5db5e-4add-40d9-b8cd-eec67e42b02a",
   "metadata": {},
   "outputs": [
    {
     "name": "stdout",
     "output_type": "stream",
     "text": [
      "even\n"
     ]
    }
   ],
   "source": [
    "n=19\n",
    "if n % 2==0:\n",
    "    print(\"odd\")\n",
    "else:\n",
    "    print(\"even\")"
   ]
  },
  {
   "cell_type": "code",
   "execution_count": 38,
   "id": "dff2c6ce-bb40-4db7-a9b6-d2e46b011337",
   "metadata": {},
   "outputs": [
    {
     "ename": "SyntaxError",
     "evalue": "invalid syntax (3945223357.py, line 1)",
     "output_type": "error",
     "traceback": [
      "\u001b[1;36m  Cell \u001b[1;32mIn[38], line 1\u001b[1;36m\u001b[0m\n\u001b[1;33m    [for i in range(0,21) if i%2!=0 else:= \"odd\"]\u001b[0m\n\u001b[1;37m     ^\u001b[0m\n\u001b[1;31mSyntaxError\u001b[0m\u001b[1;31m:\u001b[0m invalid syntax\n"
     ]
    }
   ],
   "source": [
    "[for i in range(0,21) if i%2!=0 else:= \"odd\"]"
   ]
  },
  {
   "cell_type": "markdown",
   "id": "ecb649f4-d531-43ee-9795-0fa9acf50006",
   "metadata": {},
   "source": [
    "# find the sum of all elements in the given list"
   ]
  },
  {
   "cell_type": "code",
   "execution_count": 15,
   "id": "fef410c0-99f4-4700-8b48-c5ccbfef3002",
   "metadata": {},
   "outputs": [
    {
     "data": {
      "text/plain": [
       "150"
      ]
     },
     "execution_count": 15,
     "metadata": {},
     "output_type": "execute_result"
    }
   ],
   "source": [
    "ip=[2,4,6,1,7,5,10]\n",
    "l=[10,20,30,40,50]\n",
    "sum(l)"
   ]
  },
  {
   "cell_type": "code",
   "execution_count": 21,
   "id": "57b255b9-0c2f-4d2b-b8b0-12ca0d61b5f5",
   "metadata": {},
   "outputs": [
    {
     "name": "stdout",
     "output_type": "stream",
     "text": [
      "150\n"
     ]
    }
   ],
   "source": [
    "sum=0\n",
    "for i in l:\n",
    "    sum+=i\n",
    "print(sum)"
   ]
  },
  {
   "cell_type": "code",
   "execution_count": 37,
   "id": "e3f1972d-b031-41ff-b80d-b06f8d0eae91",
   "metadata": {},
   "outputs": [
    {
     "name": "stdout",
     "output_type": "stream",
     "text": [
      "[10, 30, 60, 100, 150]\n",
      "150\n"
     ]
    }
   ],
   "source": [
    "s=0\n",
    "p=[s:=s+i for i in l]\n",
    "print(p)\n",
    "print(s)"
   ]
  },
  {
   "cell_type": "markdown",
   "id": "eba1fcb8-6f49-4592-bfd1-f419be464c55",
   "metadata": {},
   "source": [
    "# square root of the list items"
   ]
  },
  {
   "cell_type": "code",
   "execution_count": 64,
   "id": "b20a8520-0b0b-46b4-9ad6-7e952911f0d6",
   "metadata": {},
   "outputs": [
    {
     "data": {
      "text/plain": [
       "[2, 4, 6, 8, 10, 12]"
      ]
     },
     "execution_count": 64,
     "metadata": {},
     "output_type": "execute_result"
    }
   ],
   "source": [
    "l=[1,2,3,4,5,6]\n",
    "l2=[]\n",
    "for i in l:\n",
    "    l2.append(i*2)\n",
    "l2"
   ]
  },
  {
   "cell_type": "code",
   "execution_count": 66,
   "id": "6eb5439b-6e50-4296-a366-117692134f43",
   "metadata": {},
   "outputs": [
    {
     "data": {
      "text/plain": [
       "[2, 4, 6, 8, 10, 12]"
      ]
     },
     "execution_count": 66,
     "metadata": {},
     "output_type": "execute_result"
    }
   ],
   "source": [
    "l=[1,2,3,4,5,6]\n",
    "l2=[i*2 for i in l ]\n",
    "l2"
   ]
  },
  {
   "cell_type": "markdown",
   "id": "578d162a-45f0-479a-aa64-f7540df23090",
   "metadata": {},
   "source": [
    "# cube of the list items"
   ]
  },
  {
   "cell_type": "code",
   "execution_count": 67,
   "id": "2876e5ea-1d7b-4a3d-85f2-de5aa0962bc1",
   "metadata": {},
   "outputs": [
    {
     "data": {
      "text/plain": [
       "[1, 4, 9, 16, 25, 36]"
      ]
     },
     "execution_count": 67,
     "metadata": {},
     "output_type": "execute_result"
    }
   ],
   "source": [
    "l=[1,2,3,4,5,6]\n",
    "l2=[i**2 for i in l ]\n",
    "l2"
   ]
  },
  {
   "cell_type": "code",
   "execution_count": 73,
   "id": "2a14358d-541d-446c-bd09-c5ea2026bf2e",
   "metadata": {},
   "outputs": [
    {
     "name": "stdout",
     "output_type": "stream",
     "text": [
      "[2, 4, 6, 8, 10]\n",
      "[1, 3, 5, 7, 9]\n"
     ]
    }
   ],
   "source": []
  },
  {
   "cell_type": "markdown",
   "id": "d2d301d7-cdf6-462a-8ab1-47fcc03a6662",
   "metadata": {},
   "source": [
    "# remove all vowels in given strings"
   ]
  },
  {
   "cell_type": "code",
   "execution_count": 40,
   "id": "6dcbf279-26bd-4133-8572-66cb97198d5d",
   "metadata": {},
   "outputs": [
    {
     "name": "stdin",
     "output_type": "stream",
     "text": [
      "enter your string nishant\n"
     ]
    },
    {
     "name": "stdout",
     "output_type": "stream",
     "text": [
      "nshnt"
     ]
    }
   ],
   "source": [
    "str=input(\"enter your string\")\n",
    "\n",
    "for i in str:\n",
    "    if i not in \"aeiou\":\n",
    "        print(i,end=\"\")"
   ]
  },
  {
   "cell_type": "code",
   "execution_count": 43,
   "id": "b48c4b5a-905f-4f5f-8db8-9982fc21aaf5",
   "metadata": {},
   "outputs": [
    {
     "name": "stdin",
     "output_type": "stream",
     "text": [
      "enter your string anita\n"
     ]
    },
    {
     "data": {
      "text/plain": [
       "'nt'"
      ]
     },
     "execution_count": 43,
     "metadata": {},
     "output_type": "execute_result"
    }
   ],
   "source": [
    "str=input(\"enter your string\")\n",
    "\n",
    "res=\"\".join([i for i  in str if i not in \"aeiou\"])\n",
    "res"
   ]
  },
  {
   "cell_type": "markdown",
   "id": "6df745ae-b5c2-41ec-8af3-12b79aedf89f",
   "metadata": {},
   "source": [
    "# factorial of number"
   ]
  },
  {
   "cell_type": "code",
   "execution_count": 47,
   "id": "bc52fa31-1c71-4ca3-8b71-1c35dd046d03",
   "metadata": {},
   "outputs": [
    {
     "data": {
      "text/plain": [
       "120"
      ]
     },
     "execution_count": 47,
     "metadata": {},
     "output_type": "execute_result"
    }
   ],
   "source": [
    "n=5\n",
    "fact=1\n",
    "for i in range(1,n+1):\n",
    "    fact=i*fact\n",
    "fact"
   ]
  },
  {
   "cell_type": "code",
   "execution_count": 63,
   "id": "d2638efd-7057-46fc-a81f-b4be8e475515",
   "metadata": {},
   "outputs": [
    {
     "name": "stdin",
     "output_type": "stream",
     "text": [
      "enter number 5\n"
     ]
    },
    {
     "name": "stdout",
     "output_type": "stream",
     "text": [
      "120\n"
     ]
    }
   ],
   "source": [
    "n=int(input(\"enter number\"))\n",
    "fact=1\n",
    "[fact:=fact*i  for i in range(1,n+1)]\n",
    "print(fact)"
   ]
  },
  {
   "cell_type": "markdown",
   "id": "37196d1d-5494-45ec-9728-76558890ba7f",
   "metadata": {},
   "source": [
    "# odd even number filter"
   ]
  },
  {
   "cell_type": "code",
   "execution_count": 77,
   "id": "a5350852-0efb-4f59-a609-23f224938be8",
   "metadata": {},
   "outputs": [
    {
     "name": "stdout",
     "output_type": "stream",
     "text": [
      "[2, 4, 6, 8, 10]\n",
      "[1, 3, 5, 7, 9, 11]\n"
     ]
    }
   ],
   "source": [
    "l=[1,2,3,4,5,6,7,8,9,10,11]\n",
    "od=[]\n",
    "ev=[]\n",
    "for i in l:\n",
    "    if i%2==0:\n",
    "        od.append(i)\n",
    "    else:\n",
    "        ev.append(i)\n",
    "\n",
    "print(od)\n",
    "print(ev)"
   ]
  },
  {
   "cell_type": "code",
   "execution_count": 117,
   "id": "239cd196-3072-4b1c-b277-de6e3125c329",
   "metadata": {},
   "outputs": [
    {
     "name": "stdout",
     "output_type": "stream",
     "text": [
      "[2, 4, 6, 8, 10]\n",
      "[1, 3, 5, 7, 9]\n"
     ]
    }
   ],
   "source": [
    "l=[1,2,3,4,5,6,7,8,9,10]\n",
    "ev=[i  for i in l if i%2==0]\n",
    "od=[i for i in l if i%2!=0]\n",
    "print(ev)\n",
    "print(od)\n"
   ]
  },
  {
   "cell_type": "code",
   "execution_count": null,
   "id": "4f0f351e-e7ca-47b9-b835-f0dadd554441",
   "metadata": {},
   "outputs": [],
   "source": []
  },
  {
   "cell_type": "markdown",
   "id": "de12b2e0-5b55-404f-8925-eea451ff5104",
   "metadata": {},
   "source": [
    "# flatten a list of list"
   ]
  },
  {
   "cell_type": "code",
   "execution_count": 87,
   "id": "91183c96-3017-4dee-bdf3-62f446408917",
   "metadata": {},
   "outputs": [
    {
     "name": "stdout",
     "output_type": "stream",
     "text": [
      "[[1, 2, 3], [4, 5, 6], [7, 8, 9]]\n",
      "[1, 2, 3, 4, 5, 6, 7, 8, 9]\n"
     ]
    }
   ],
   "source": [
    "l=[ [1,2,3],[4,5,6],[7,8,9] ]\n",
    "print(l)\n",
    "l2=[]\n",
    "for i in l:\n",
    "    for k in i:\n",
    "        l2.append(k)\n",
    "print(l2)"
   ]
  },
  {
   "cell_type": "code",
   "execution_count": 92,
   "id": "596a8355-dc92-4dd3-a1d3-4a777f633980",
   "metadata": {},
   "outputs": [
    {
     "name": "stdout",
     "output_type": "stream",
     "text": [
      "list of list:  [[1, 2, 3], [4, 5, 6], [7, 8, 9]]\n",
      "\n",
      "flatten of list:  [1, 2, 3, 4, 5, 6, 7, 8, 9]\n"
     ]
    }
   ],
   "source": [
    "l=[ [1,2,3],[4,5,6],[7,8,9] ]\n",
    "print(\"list of list: \",l)\n",
    "print()\n",
    "l2=[ k for i in l for k in i ]\n",
    "print(\"flatten of list: \",l2)\n"
   ]
  },
  {
   "cell_type": "code",
   "execution_count": 89,
   "id": "95fcf803-90af-442f-b549-f937836612a0",
   "metadata": {},
   "outputs": [
    {
     "data": {
      "text/plain": [
       "[1, 2, 3, 4, 5, 6, 7, 8, 9]"
      ]
     },
     "execution_count": 89,
     "metadata": {},
     "output_type": "execute_result"
    }
   ],
   "source": [
    "l2"
   ]
  },
  {
   "cell_type": "markdown",
   "id": "75608ad1-8649-413a-9654-73199fd5bd09",
   "metadata": {},
   "source": [
    "# Generating a list of the first latters of words in a list."
   ]
  },
  {
   "cell_type": "code",
   "execution_count": 105,
   "id": "93de8932-1f9a-4cf0-96e9-9f04370d5962",
   "metadata": {},
   "outputs": [
    {
     "name": "stdout",
     "output_type": "stream",
     "text": [
      "a,b,o,d,"
     ]
    }
   ],
   "source": [
    "word=[\"apple\", \"banana\",\"orange\",\"dates\"]\n",
    "\n",
    "for i in word:\n",
    "    print(i[0],end=\",\")"
   ]
  },
  {
   "cell_type": "code",
   "execution_count": 106,
   "id": "3b713816-9181-4245-9133-fb9f5ae46cdd",
   "metadata": {},
   "outputs": [
    {
     "data": {
      "text/plain": [
       "['a', 'b', 'o', 'd']"
      ]
     },
     "execution_count": 106,
     "metadata": {},
     "output_type": "execute_result"
    }
   ],
   "source": [
    "word=[\"apple\", \"banana\",\"orange\",\"dates\"]\n",
    "new=[i[0] for i in word]\n",
    "new"
   ]
  },
  {
   "cell_type": "markdown",
   "id": "173c9a2b-1268-4c24-9721-fe20e343e937",
   "metadata": {},
   "source": [
    "# genrerating a list of the square numbers of even numbers"
   ]
  },
  {
   "cell_type": "code",
   "execution_count": 121,
   "id": "9c9ef7dc-3225-4889-9289-b0e0c94e40fb",
   "metadata": {},
   "outputs": [
    {
     "name": "stdout",
     "output_type": "stream",
     "text": [
      "[4, 8, 12, 16, 20]\n"
     ]
    }
   ],
   "source": [
    "l=[1,2,3,4,5,6,7,8,9,10,11]\n",
    "ev=[]\n",
    "for i in l:\n",
    "    if i%2==0:\n",
    "        ev.append(i*2)\n",
    "print(ev)"
   ]
  },
  {
   "cell_type": "code",
   "execution_count": 122,
   "id": "a6818b75-2866-4496-b697-0a634aa36e29",
   "metadata": {},
   "outputs": [
    {
     "data": {
      "text/plain": [
       "[4, 8, 12, 16, 20]"
      ]
     },
     "execution_count": 122,
     "metadata": {},
     "output_type": "execute_result"
    }
   ],
   "source": [
    "l=[1,2,3,4,5,6,7,8,9,10,11]\n",
    "ev=[ i*2 for i in l if i%2==0]\n",
    "ev"
   ]
  },
  {
   "cell_type": "markdown",
   "id": "ba9953e3-51c2-41bc-959c-47d0b176ff98",
   "metadata": {},
   "source": [
    "# converting list of string to a list of integer "
   ]
  },
  {
   "cell_type": "code",
   "execution_count": 129,
   "id": "afa6a752-8611-457e-8325-f43e3757b68c",
   "metadata": {},
   "outputs": [
    {
     "name": "stdout",
     "output_type": "stream",
     "text": [
      "[1, 2, 3, 4, 5, 6]\n"
     ]
    },
    {
     "data": {
      "text/plain": [
       "int"
      ]
     },
     "execution_count": 129,
     "metadata": {},
     "output_type": "execute_result"
    }
   ],
   "source": [
    "l=[\"1\",\"2\",\"3\",\"4\",\"5\",\"6\"]\n",
    "l2=[]\n",
    "for i in l:\n",
    "    l2.append(int(i))\n",
    "\n",
    "print(l2)\n",
    "type(l2[0])"
   ]
  },
  {
   "cell_type": "code",
   "execution_count": 134,
   "id": "95a38b30-4d0c-4f4a-920d-98b432ca7580",
   "metadata": {},
   "outputs": [
    {
     "name": "stdout",
     "output_type": "stream",
     "text": [
      "[1, 2, 3, 4, 5, 6] <class 'int'>\n"
     ]
    }
   ],
   "source": [
    "l=[\"1\",\"2\",\"3\",\"4\",\"5\",\"6\"]\n",
    "l3=[ int(i) for i in l ]\n",
    "print(l3,type(l3[0]))"
   ]
  },
  {
   "cell_type": "markdown",
   "id": "a7295717-4fc0-4423-afb8-d74aeb8e29b2",
   "metadata": {},
   "source": [
    "# generating a list of the fibannacci sequence using a list comprehension"
   ]
  },
  {
   "cell_type": "code",
   "execution_count": 212,
   "id": "a8e9efab-5335-4556-9ead-9151aa901f1f",
   "metadata": {},
   "outputs": [
    {
     "name": "stdout",
     "output_type": "stream",
     "text": [
      "1,1,2,3,5,8,13,21,34,55,89,144,233,377,610,987,1597,2584,4181,6765,10946,17711,28657,46368,75025,"
     ]
    }
   ],
   "source": [
    "a=0\n",
    "b=1\n",
    "for i in range(0,25):\n",
    "    a,b=a+b,a\n",
    "    print(a,end=\",\")\n"
   ]
  },
  {
   "cell_type": "code",
   "execution_count": 206,
   "id": "21353ac8-32b0-4fac-afcf-fe3a63d45395",
   "metadata": {},
   "outputs": [
    {
     "ename": "SyntaxError",
     "evalue": "assignment expression cannot rebind comprehension iteration variable 'b' (905722989.py, line 5)",
     "output_type": "error",
     "traceback": [
      "\u001b[1;36m  Cell \u001b[1;32mIn[206], line 5\u001b[1;36m\u001b[0m\n\u001b[1;33m    [a for i in range(0, 10) for a, b in [(a + b, a)] if (a, b := a + b, a)]\u001b[0m\n\u001b[1;37m                                                             ^\u001b[0m\n\u001b[1;31mSyntaxError\u001b[0m\u001b[1;31m:\u001b[0m assignment expression cannot rebind comprehension iteration variable 'b'\n"
     ]
    }
   ],
   "source": [
    "a=0\n",
    "b=1\n",
    "# [a for i in range(0,10) if (a:=a+b & b=a) ]\n",
    "\n",
    "[a for i in range(0, 10) for a, b in [(a + b, a)] if (a, b := a + b, a)]\n"
   ]
  },
  {
   "cell_type": "code",
   "execution_count": 184,
   "id": "01e53610-bf77-4f96-80a6-180ad3f59440",
   "metadata": {},
   "outputs": [
    {
     "data": {
      "text/plain": [
       "[1, 1, 1, 1, 1, 1, 1, 1, 1, 1, 1, 1, 1, 1, 1, 1, 1, 1, 1, 1, 1, 1, 1, 1, 1]"
      ]
     },
     "execution_count": 184,
     "metadata": {},
     "output_type": "execute_result"
    }
   ],
   "source": [
    "a,b=0,1\n",
    "\n",
    "[a for i, (a, b) in enumerate([(a + b, a) for a, b in [(0, 1)] * 25])]\n",
    "[a for a, b in [(a + b, a) for a, b in [(0, 1)] * 25]]\n"
   ]
  },
  {
   "cell_type": "code",
   "execution_count": 146,
   "id": "5aa498ee-65a0-4095-9eef-22598f414a75",
   "metadata": {},
   "outputs": [
    {
     "data": {
      "text/plain": [
       "[2,\n",
       " 3,\n",
       " 5,\n",
       " 8,\n",
       " 13,\n",
       " 21,\n",
       " 34,\n",
       " 55,\n",
       " 89,\n",
       " 144,\n",
       " 233,\n",
       " 377,\n",
       " 610,\n",
       " 987,\n",
       " 1597,\n",
       " 2584,\n",
       " 4181,\n",
       " 6765]"
      ]
     },
     "execution_count": 146,
     "metadata": {},
     "output_type": "execute_result"
    }
   ],
   "source": [
    "fib=[1,1,2,3,5,8,13,21,34,55,89,144,233,377,610,987,1597,2584,4181,6765]\n",
    "\n",
    "[ fib[i-1]+fib[i-2]  for i in range (2,len(fib)) ]"
   ]
  },
  {
   "cell_type": "markdown",
   "id": "b63915a0-0632-48a2-9d0b-aa24328447eb",
   "metadata": {},
   "source": [
    "# genrate the list of all the divisor of the number"
   ]
  },
  {
   "cell_type": "code",
   "execution_count": 147,
   "id": "7e01a45d-1c19-4f0b-be9d-78cd128f8b51",
   "metadata": {},
   "outputs": [
    {
     "name": "stdout",
     "output_type": "stream",
     "text": [
      "1\n",
      "2\n",
      "3\n",
      "4\n",
      "6\n",
      "9\n",
      "12\n",
      "18\n",
      "36\n"
     ]
    }
   ],
   "source": [
    "number=36\n",
    "\n",
    "for i in range(1,number+1):\n",
    "    if number%i==0:\n",
    "        print(i)\n"
   ]
  },
  {
   "cell_type": "code",
   "execution_count": 151,
   "id": "a4f6256b-3cf9-4ff9-b08f-d23a24a50acd",
   "metadata": {},
   "outputs": [
    {
     "name": "stdin",
     "output_type": "stream",
     "text": [
      "enter number 36\n"
     ]
    },
    {
     "name": "stdout",
     "output_type": "stream",
     "text": [
      "36 number is divisor by:  [1, 2, 3, 4, 6, 9, 12, 18, 36]\n"
     ]
    }
   ],
   "source": [
    "number=int(input(\"enter number\"))\n",
    "print(number ,\"number is divisor by: \",[i for i in range(1,number+1) if number%i==0])"
   ]
  },
  {
   "cell_type": "markdown",
   "id": "bdb69024-c61c-426a-bb89-417bd32da603",
   "metadata": {},
   "source": [
    "# genrate a list of all the prime number less than a given number: "
   ]
  },
  {
   "cell_type": "code",
   "execution_count": 214,
   "id": "0128feba-eccd-4c97-ab8f-5ebdbd052588",
   "metadata": {},
   "outputs": [
    {
     "name": "stdin",
     "output_type": "stream",
     "text": [
      "enter number 20\n"
     ]
    },
    {
     "name": "stdout",
     "output_type": "stream",
     "text": [
      "3, 5, 7, 11, 13, 17, 19, "
     ]
    }
   ],
   "source": [
    "n=int(input(\"enter number\"))\n",
    "for i in range(0,n):\n",
    "    for k in range(2,i):\n",
    "        b=1\n",
    "        if i%k==0:\n",
    "            b=0\n",
    "            break           \n",
    "    if b==1:\n",
    "        print(i,end=\", \")\n"
   ]
  },
  {
   "cell_type": "code",
   "execution_count": 180,
   "id": "0da6405c-79ff-4f10-ae87-cfbee0fa236d",
   "metadata": {},
   "outputs": [
    {
     "data": {
      "text/plain": [
       "[2, 3, 5, 7, 11, 13, 17, 19]"
      ]
     },
     "execution_count": 180,
     "metadata": {},
     "output_type": "execute_result"
    }
   ],
   "source": [
    "# n=int(input(\"enter number\"))\n",
    "n=20\n",
    "[ i for i in range(2,n) if all (i%k!=0 for k in range(2,i)) ]\n"
   ]
  },
  {
   "cell_type": "markdown",
   "id": "9161b53c-b678-44a6-88bb-6e20550305f3",
   "metadata": {},
   "source": [
    "# find word which start with letter p"
   ]
  },
  {
   "cell_type": "code",
   "execution_count": 248,
   "id": "7974c0f3-5731-4d98-9e5c-5467bc42ab6f",
   "metadata": {},
   "outputs": [
    {
     "name": "stdout",
     "output_type": "stream",
     "text": [
      "python\n",
      "php\n"
     ]
    }
   ],
   "source": [
    "word=[\"java\",\"python\",\"php\",\"c\",\"javascript\"]\n",
    "\n",
    "\n",
    "for i in word:\n",
    "    if i.startswith(\"p\"):\n",
    "        print(i)"
   ]
  },
  {
   "cell_type": "code",
   "execution_count": 213,
   "id": "4c17a713-d852-4a92-83aa-f0b51fab80b1",
   "metadata": {},
   "outputs": [
    {
     "data": {
      "text/plain": [
       "['python', 'php']"
      ]
     },
     "execution_count": 213,
     "metadata": {},
     "output_type": "execute_result"
    }
   ],
   "source": [
    "word=[\"java\",\"python\",\"php\",\"c\",\"javascript\"]\n",
    "\n",
    "[i for i in word if i.startswith(\"p\")]"
   ]
  },
  {
   "cell_type": "markdown",
   "id": "cd698e5f-56e1-4b61-9aef-3e8f1d3d21ea",
   "metadata": {},
   "source": [
    "> # nested if with list comprehension\n",
    "\n",
    "basket=[\"apple\", \"guava\", \"cherry\", \"banana\"] <br>\n",
    "my_fruit=[\"apple\", \"kiwi\", \"grapes\", \"banana\"]\n",
    "\n",
    "># add new list from my_fruit and items if the fruit exist in basket and also start with p"
   ]
  },
  {
   "cell_type": "code",
   "execution_count": 247,
   "id": "dc8ce18e-bb1a-4007-a852-a6332e820356",
   "metadata": {},
   "outputs": [
    {
     "name": "stdout",
     "output_type": "stream",
     "text": [
      "apple avacado "
     ]
    }
   ],
   "source": [
    "basket=[\"apple\", \"guava\", \"cherry\", \"banana\",\"avacado\"]\n",
    "my_fruit=[\"apple\", \"kiwi\", \"grapes\", \"banana\",\"avacado\"]\n",
    "\n",
    "\n",
    "for i in my_fruit:\n",
    "    if i in basket:\n",
    "        if i.startswith(\"a\"):\n",
    "            print(i,end=\" \")"
   ]
  },
  {
   "cell_type": "code",
   "execution_count": 215,
   "id": "beddc403-c4a6-40fb-bf39-3aa5034eb618",
   "metadata": {},
   "outputs": [
    {
     "name": "stdout",
     "output_type": "stream",
     "text": [
      "['apple', 'kiwi', 'grapes', 'banana']\n",
      "['apple', 'banana']\n",
      "['apple']\n"
     ]
    }
   ],
   "source": [
    "basket=[\"apple\", \"guava\", \"cherry\", \"banana\"]\n",
    "my_fruit=[\"apple\", \"kiwi\", \"grapes\", \"banana\"]\n",
    "\n",
    "k=[i for i in my_fruit] # show  all fruits list in my_fuits\n",
    "l=[i for i in my_fruit if i in basket] # check existing fruits in basket \n",
    "m=[i for i in my_fruit if i in basket if i.startswith(\"a\")] # check existing fruits starts with \"a\"\n",
    "print(k)\n",
    "print(l)\n",
    "print(m)"
   ]
  },
  {
   "cell_type": "markdown",
   "id": "07e02694-19b6-4375-8ddf-0594c8799cd9",
   "metadata": {},
   "source": [
    "# print(3.3) matrix using the list comprehension | nested list comprehension "
   ]
  },
  {
   "cell_type": "code",
   "execution_count": 238,
   "id": "f4b42848-0d7a-4c65-897e-cf0312efd521",
   "metadata": {},
   "outputs": [
    {
     "data": {
      "text/plain": [
       "[[1, 2, 3], [2, 4, 6], [3, 6, 9]]"
      ]
     },
     "execution_count": 238,
     "metadata": {},
     "output_type": "execute_result"
    }
   ],
   "source": [
    "l4=[]\n",
    "for i in range(1,4):\n",
    "    l2=[]\n",
    "    for k in range(1,4):\n",
    "        l2.append(i*k)\n",
    "    l4.append(l2)\n",
    "l4"
   ]
  },
  {
   "cell_type": "code",
   "execution_count": 216,
   "id": "6bf744e7-ef39-48a2-a19d-80c0a9c40cbb",
   "metadata": {},
   "outputs": [
    {
     "data": {
      "text/plain": [
       "[[1, 2, 3], [2, 4, 6], [3, 6, 9]]"
      ]
     },
     "execution_count": 216,
     "metadata": {},
     "output_type": "execute_result"
    }
   ],
   "source": [
    "[[i*k for i in range(1,4)] for k in range(1,4) ]"
   ]
  },
  {
   "cell_type": "markdown",
   "id": "aef2b50f-a38e-4d3a-8d9a-1382f944ea9a",
   "metadata": {},
   "source": [
    "# multiplication of 2 list"
   ]
  },
  {
   "cell_type": "code",
   "execution_count": 223,
   "id": "786c1a09-15c0-4ca4-9f78-415bd5550087",
   "metadata": {},
   "outputs": [
    {
     "name": "stdout",
     "output_type": "stream",
     "text": [
      "5 6 7 8 10 12 14 16 15 18 21 24 20 24 28 32 \n",
      "[5, 6, 7, 8, 10, 12, 14, 16, 15, 18, 21, 24, 20, 24, 28, 32]\n"
     ]
    }
   ],
   "source": [
    "l1=[1,2,3,4]\n",
    "l2=[5,6,7,8]\n",
    "l3=[]\n",
    "for i in l1:\n",
    "    for k in l2:\n",
    "        print(i*k,end=\" \")\n",
    "        l3.append(i*k)\n",
    "print()\n",
    "\n",
    "print(l3)"
   ]
  },
  {
   "cell_type": "code",
   "execution_count": 217,
   "id": "9dc7bebb-e41d-4cea-bb5a-7b02e8a889f6",
   "metadata": {},
   "outputs": [
    {
     "name": "stdout",
     "output_type": "stream",
     "text": [
      "[5, 6, 7, 8, 10, 12, 14, 16, 15, 18, 21, 24, 20, 24, 28, 32]\n"
     ]
    }
   ],
   "source": [
    "l1=[1,2,3,4]\n",
    "l2=[5,6,7,8]\n",
    "\n",
    "k=[i*j for i in l1 for j in l2]\n",
    "print(k)"
   ]
  },
  {
   "cell_type": "markdown",
   "id": "1cef1968-f90e-4680-aa2f-089d31aa7038",
   "metadata": {},
   "source": [
    "# print table using list & dict comprehension"
   ]
  },
  {
   "cell_type": "code",
   "execution_count": 270,
   "id": "a28b8712-c355-4991-a2f3-7ce0e1e7caa7",
   "metadata": {},
   "outputs": [
    {
     "name": "stdin",
     "output_type": "stream",
     "text": [
      "enter number 2\n",
      "enter number 5\n"
     ]
    },
    {
     "name": "stdout",
     "output_type": "stream",
     "text": [
      "2 4 6 8 10 12 14 16 18 20 \n",
      "3 6 9 12 15 18 21 24 27 30 \n",
      "4 8 12 16 20 24 28 32 36 40 \n",
      "5 10 15 20 25 30 35 40 45 50 \n"
     ]
    }
   ],
   "source": [
    "s=int(input(\"enter number\"))\n",
    "e=int(input(\"enter number\"))\n",
    "for i in range(s,e+1):\n",
    "    for k in range(i,i*10+1,i):\n",
    "        print(k,end=\" \")\n",
    "    print()\n"
   ]
  },
  {
   "cell_type": "code",
   "execution_count": 286,
   "id": "f4eb9a52-7de3-438b-ab52-1a64e5a7ebbd",
   "metadata": {},
   "outputs": [
    {
     "name": "stdout",
     "output_type": "stream",
     "text": [
      "[1, 2, 3, 4, 5, 6, 7, 8, 9, 10, 2, 4, 6, 8, 10, 12, 14, 16, 18, 20, 3, 6, 9, 12, 15, 18, 21, 24, 27, 30]\n"
     ]
    }
   ],
   "source": [
    "s=2\n",
    "n=3\n",
    "print([k for i in range(1,n+1) for k in range(i,i*10+1,i) ])"
   ]
  },
  {
   "cell_type": "code",
   "execution_count": 287,
   "id": "485dd04e-6b2f-44bc-968c-5852fae2090c",
   "metadata": {},
   "outputs": [
    {
     "data": {
      "text/plain": [
       "[1,\n",
       " 2,\n",
       " 3,\n",
       " 4,\n",
       " 5,\n",
       " 6,\n",
       " 7,\n",
       " 8,\n",
       " 9,\n",
       " 10,\n",
       " 2,\n",
       " 4,\n",
       " 6,\n",
       " 8,\n",
       " 10,\n",
       " 12,\n",
       " 14,\n",
       " 16,\n",
       " 18,\n",
       " 20,\n",
       " 3,\n",
       " 6,\n",
       " 9,\n",
       " 12,\n",
       " 15,\n",
       " 18,\n",
       " 21,\n",
       " 24,\n",
       " 27,\n",
       " 30]"
      ]
     },
     "execution_count": 287,
     "metadata": {},
     "output_type": "execute_result"
    }
   ],
   "source": [
    "[k for i in range(1,n+1) for k in range(i,i*10+1,i) ]"
   ]
  },
  {
   "cell_type": "code",
   "execution_count": 306,
   "id": "b4364def-0df0-4cc5-bda6-624b0c774b50",
   "metadata": {},
   "outputs": [
    {
     "name": "stdout",
     "output_type": "stream",
     "text": [
      "2 \t 3 \t 4 \t 5 \t \n",
      "4 \t 6 \t 8 \t 10 \t \n",
      "6 \t 9 \t 12 \t 15 \t \n",
      "8 \t 12 \t 16 \t 20 \t \n",
      "10 \t 15 \t 20 \t 25 \t \n",
      "12 \t 18 \t 24 \t 30 \t \n",
      "14 \t 21 \t 28 \t 35 \t \n",
      "16 \t 24 \t 32 \t 40 \t \n",
      "18 \t 27 \t 36 \t 45 \t \n",
      "20 \t 30 \t 40 \t 50 \t \n"
     ]
    }
   ],
   "source": [
    "for i in range(1,11):\n",
    "    for k in range(2,6):\n",
    "        print(i*k,\"\\t\",end=\" \")\n",
    "    print()\n"
   ]
  },
  {
   "cell_type": "code",
   "execution_count": 292,
   "id": "3607eba0-893d-4104-b1af-4b548a0b7fb2",
   "metadata": {},
   "outputs": [
    {
     "data": {
      "text/plain": [
       "{1: {1, 2, 3, 4, 5, 6, 7, 8, 9, 10},\n",
       " 2: {2, 4, 6, 8, 10, 12, 14, 16, 18, 20},\n",
       " 3: {3, 6, 9, 12, 15, 18, 21, 24, 27, 30},\n",
       " 4: {4, 8, 12, 16, 20, 24, 28, 32, 36, 40}}"
      ]
     },
     "execution_count": 292,
     "metadata": {},
     "output_type": "execute_result"
    }
   ],
   "source": [
    "{k:{i*k for i in range(1,11)} for k in range(1,5) }"
   ]
  },
  {
   "cell_type": "markdown",
   "id": "a57a6417-e454-49db-8898-49c3df641bbe",
   "metadata": {},
   "source": [
    "# cube of 2 - 5 using dict comprehension"
   ]
  },
  {
   "cell_type": "code",
   "execution_count": 387,
   "id": "7667698d-00c1-46a0-85f9-a96249d1f4bc",
   "metadata": {},
   "outputs": [
    {
     "data": {
      "text/plain": [
       "{1: {1: 1, 2: 2, 3: 3, 4: 4, 5: 5, 6: 6, 7: 7, 8: 8, 9: 9, 10: 10},\n",
       " 2: {1: 2, 2: 4, 3: 6, 4: 8, 5: 10, 6: 12, 7: 14, 8: 16, 9: 18, 10: 20},\n",
       " 3: {1: 3, 2: 6, 3: 9, 4: 12, 5: 15, 6: 18, 7: 21, 8: 24, 9: 27, 10: 30},\n",
       " 4: {1: 4, 2: 8, 3: 12, 4: 16, 5: 20, 6: 24, 7: 28, 8: 32, 9: 36, 10: 40},\n",
       " 5: {1: 5, 2: 10, 3: 15, 4: 20, 5: 25, 6: 30, 7: 35, 8: 40, 9: 45, 10: 50}}"
      ]
     },
     "execution_count": 387,
     "metadata": {},
     "output_type": "execute_result"
    }
   ],
   "source": [
    "cube={}\n",
    "for i in range(1,6):\n",
    "    cube[i]={}\n",
    "    for k in range(1,11):\n",
    "        cube[i][k]=i*k \n",
    "    \n",
    "cube"
   ]
  },
  {
   "cell_type": "code",
   "execution_count": 307,
   "id": "6e832621-ec36-4592-a00b-3b296145cc0d",
   "metadata": {},
   "outputs": [
    {
     "data": {
      "text/plain": [
       "{2: {2, 4, 8, 16, 32, 64, 128, 256, 512, 1024},\n",
       " 3: {3, 9, 27, 81, 243, 729, 2187, 6561, 19683, 59049},\n",
       " 4: {4, 16, 64, 256, 1024, 4096, 16384, 65536, 262144, 1048576}}"
      ]
     },
     "execution_count": 307,
     "metadata": {},
     "output_type": "execute_result"
    }
   ],
   "source": [
    "{i:{i**j for j in range(1,11)} for i in range(2,5)}"
   ]
  },
  {
   "cell_type": "code",
   "execution_count": 389,
   "id": "3a6e90a2-760d-4698-9d4d-471106a76b2f",
   "metadata": {},
   "outputs": [
    {
     "data": {
      "text/plain": [
       "{1: {1, 2, 3, 4, 5, 6, 7, 8, 9, 10},\n",
       " 2: {2, 4, 6, 8, 10, 12, 14, 16, 18, 20},\n",
       " 3: {3, 6, 9, 12, 15, 18, 21, 24, 27, 30},\n",
       " 4: {4, 8, 12, 16, 20, 24, 28, 32, 36, 40},\n",
       " 5: {5, 10, 15, 20, 25, 30, 35, 40, 45, 50}}"
      ]
     },
     "execution_count": 389,
     "metadata": {},
     "output_type": "execute_result"
    }
   ],
   "source": [
    "result = {}\n",
    "for i in range(1, 6):\n",
    "    inner_set = set()\n",
    "    for j in range(1, 11):\n",
    "        inner_set.add(i * j)\n",
    "    result[i] = inner_set\n",
    "\n",
    "result\n"
   ]
  },
  {
   "cell_type": "markdown",
   "id": "457680ec-1c47-46da-aaf1-0453b1ba461c",
   "metadata": {},
   "source": [
    "# square root of all items in the list"
   ]
  },
  {
   "cell_type": "code",
   "execution_count": 1,
   "id": "1195cb1e-b48b-4fbd-b00d-61b29636179d",
   "metadata": {},
   "outputs": [
    {
     "name": "stdout",
     "output_type": "stream",
     "text": [
      "[1, 4, 9, 16, 25]\n"
     ]
    }
   ],
   "source": [
    "list1=[1,2,3,4,5]\n",
    "sqt = [x**2 for x in list1]\n",
    "print(sqt)"
   ]
  },
  {
   "cell_type": "code",
   "execution_count": 2,
   "id": "916ab5a9-b4fc-4042-9fc7-f2cbaa0d203a",
   "metadata": {},
   "outputs": [
    {
     "name": "stdout",
     "output_type": "stream",
     "text": [
      "[1, 4, 9, 16, 25]\n"
     ]
    }
   ],
   "source": []
  },
  {
   "cell_type": "code",
   "execution_count": null,
   "id": "1baf4949-3da8-4242-bb84-01c1b8351f0f",
   "metadata": {},
   "outputs": [],
   "source": []
  }
 ],
 "metadata": {
  "kernelspec": {
   "display_name": "Python 3 (ipykernel)",
   "language": "python",
   "name": "python3"
  },
  "language_info": {
   "codemirror_mode": {
    "name": "ipython",
    "version": 3
   },
   "file_extension": ".py",
   "mimetype": "text/x-python",
   "name": "python",
   "nbconvert_exporter": "python",
   "pygments_lexer": "ipython3",
   "version": "3.11.7"
  },
  "widgets": {
   "application/vnd.jupyter.widget-state+json": {
    "state": {},
    "version_major": 2,
    "version_minor": 0
   }
  }
 },
 "nbformat": 4,
 "nbformat_minor": 5
}
