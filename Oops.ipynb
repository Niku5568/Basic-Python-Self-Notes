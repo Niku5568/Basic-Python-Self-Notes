{
 "cells": [
  {
   "cell_type": "markdown",
   "id": "f179612e-65b7-4f33-9f92-e8548b7512ff",
   "metadata": {},
   "source": [
    "# creating ATM"
   ]
  },
  {
   "cell_type": "code",
   "execution_count": 2,
   "id": "a50ab17c-a4dd-492b-b972-a5e916c9d4a9",
   "metadata": {},
   "outputs": [
    {
     "name": "stdout",
     "output_type": "stream",
     "text": [
      "Welcome to SBI ATM\n"
     ]
    },
    {
     "name": "stdin",
     "output_type": "stream",
     "text": [
      "\n",
      "        Hii How can i help you?\n",
      "        1. Press 1 for Create Pin\n",
      "        2. Press 2 for Change Pin\n",
      "        3. Press 3 for Withdraw Amount\n",
      "        4. press 4 for Check Balance\n",
      "        5. Anything else for Exit\n",
      "         5\n"
     ]
    },
    {
     "name": "stdout",
     "output_type": "stream",
     "text": [
      "Exit.............\n"
     ]
    }
   ],
   "source": [
    "class ATM: # ATM is class function\n",
    "    def __init__(self): # this is consturctor\n",
    "        print(\"Welcome to SBI ATM\")\n",
    "        self.balance=0 # variable under the constructor\n",
    "        self.PIN=0\n",
    "        self.menu()\n",
    "\n",
    "    def menu(self): # menu is method as it is inside the class\n",
    "        user_input=input(\"\"\"\n",
    "        Hii How can i help you?\n",
    "        1. Press 1 for Create Pin\n",
    "        2. Press 2 for Change Pin\n",
    "        3. Press 3 for Withdraw Amount\n",
    "        4. press 4 for Check Balance\n",
    "        5. Anything else for Exit\n",
    "        \"\"\")\n",
    "        if user_input==\"1\":\n",
    "            self.Create_pin()\n",
    "        elif user_input==\"2\":\n",
    "            self.Pin_change()\n",
    "        elif user_input==\"3\":\n",
    "            self.withdraw()\n",
    "        elif user_input==\"4\":\n",
    "            self.check_balance()\n",
    "        else:\n",
    "            print(\"Exit.............\")\n",
    "\n",
    "    def Create_pin(self):\n",
    "        pin=int(input(\"enter your pin\"))\n",
    "        self.PIN=pin\n",
    "        self.balance=int(input(\"enter balance on your account\"))\n",
    "        print(\"Pin created successfully\")\n",
    "        self.menu()\n",
    "\n",
    "    def Pin_change(self):\n",
    "        old_pin=int(input(\"enter your old pin\"))\n",
    "        if old_pin==self.PIN:\n",
    "            new_pin=int(input(\"enter your new pin\"))\n",
    "            self.PIN=new_pin\n",
    "            print(\"PIN changed successfully\")\n",
    "            self.menu()\n",
    "        else:\n",
    "            print(\"Pin not matched\")\n",
    "            self.menu()\n",
    "       \n",
    "    def withdraw(self):\n",
    "        pin=int(input(\"enter your pin again\"))\n",
    "        if pin==self.PIN:\n",
    "            amount=int(input(\"enter withdraw amount\"))\n",
    "            if self.balance<0:\n",
    "                print(\"insufficent amaount\")\n",
    "                self.menu()\n",
    "            elif self.balance<amount:\n",
    "                print(self.balance,\"Rs. low balance\")\n",
    "                self.menu()\n",
    "            else:         \n",
    "                self.balance= self.balance-amount\n",
    "                print(\"Withdraw amount\", amount, \"\\ncurrent balance: \", self.balance,\"Rs.\")\n",
    "                self.menu()\n",
    "        else:\n",
    "            print(\"Pin not matched\")\n",
    "            self.menu()\n",
    "       \n",
    "    def check_balance(self):\n",
    "        pin=int(input(\"enter your pin again\"))\n",
    "        if pin==self.PIN:\n",
    "            print(\"current balace:\", self.balance,\"Rs.\")\n",
    "            self.menu()\n",
    "        else:\n",
    "            print(\"Pin not matched\")\n",
    "            self.menu()\n",
    "\n",
    "\n",
    "SBI=ATM()"
   ]
  },
  {
   "cell_type": "markdown",
   "id": "e0fc1487-c123-4656-8dc7-dbd53cac5cbd",
   "metadata": {},
   "source": [
    "# ***magic methods***\n",
    "># create own data type (fraction) "
   ]
  },
  {
   "cell_type": "code",
   "execution_count": 53,
   "id": "81da0022-0461-4fe9-98d8-9d31b262a4b0",
   "metadata": {},
   "outputs": [],
   "source": [
    "class Fraction:\n",
    "    def __init__(self,x,y):\n",
    "        self.numerator=x\n",
    "        self.denominator=y\n",
    "\n",
    "    def __str__(self): # Magic Constructor\n",
    "        return '{}/{}'.format(self.numerator,self.denominator)\n",
    "\n",
    "    def __add__(self,other): # addition\n",
    "        new_num=self.numerator*other.denominator + other.numerator*self.denominator\n",
    "        new_den=self.denominator*other.denominator\n",
    "        return '{}/{}'.format(new_num,new_den)\n",
    "\n",
    "    def __sub__ (self,other): # subtraction\n",
    "        new_num=self.numerator*other.denominator - other.numerator*self.denominator\n",
    "        new_den=self.denominator*other.denominator\n",
    "        return '{}/{}'.format(new_num,new_den)\n",
    "\n",
    "    def __mul__ (self,other): # multiplication\n",
    "        new_num=self.numerator* other.numerator\n",
    "        new_den=self.denominator*other.denominator\n",
    "        return '{}/{}'.format(new_num,new_den)\n",
    "\n",
    "    def __truediv__ (self,other): # division\n",
    "        new_num=self.numerator* other.denominator\n",
    "        new_den=self.denominator*other.numerator\n",
    "        return '{}/{}'.format(new_num,new_den)\n",
    "\n",
    "    def convert_to_decimal(self): # convert decimal value\n",
    "        return self.numerator/self.denominator\n",
    "    "
   ]
  },
  {
   "cell_type": "code",
   "execution_count": 55,
   "id": "47917804-8754-408f-a18c-f5fb9a7d7242",
   "metadata": {},
   "outputs": [
    {
     "name": "stdout",
     "output_type": "stream",
     "text": [
      "10/2\n",
      "14/2\n",
      "\n",
      "sum 48/4\n",
      "subtraction -8/4\n",
      "multiplication 140/4\n",
      "division 20/28\n",
      "decimal value 7.0\n"
     ]
    }
   ],
   "source": [
    "f1=Fraction(10,2)\n",
    "f2=Fraction(14,2)\n",
    "\n",
    "print(f1)\n",
    "print(f2)\n",
    "print()\n",
    "print(\"sum\",f1+f2)\n",
    "print(\"subtraction\",f1-f2)\n",
    "print(\"multiplication\",f1*f2)\n",
    "print(\"division\",f1/f2)\n",
    "print(\"decimal value\",f2.convert_to_decimal())"
   ]
  },
  {
   "cell_type": "markdown",
   "id": "0ca31260-d834-4c49-a973-d736df61e7e0",
   "metadata": {},
   "source": [
    "### Write OOP classes to handle the following scenarios:\n",
    "\n",
    "- A user can create and view 2D coordinates (show 2 point of cordinate like: <x,y> )\n",
    "- A user can find out the distance between 2 coordinates (euclidean_distance - #square root = 0.5 ((x1 -x2)**2 + (y1-y2)**2)**0.5)\n",
    "- A user can find find the distance of a coordinate from origin: origin distance ((x**2 + y**2)**0.5)\n",
    "- A user can check if a point lies on a given line (a*x + b*y + c == 0)\n",
    "- A user can find the distance between a given 2D point and a given line (calculate shortest distance) d = |Ax1 + By1 + C| / (A2 + B2)½\n",
    "\n"
   ]
  },
  {
   "cell_type": "code",
   "execution_count": 48,
   "id": "51480d6b-1f48-4448-8dd9-00ea2275050a",
   "metadata": {},
   "outputs": [],
   "source": [
    "class Point:\n",
    "    def __init__(self,x,y):\n",
    "        print(\"Running Mode...\")\n",
    "        self.x_cod=x\n",
    "        self.y_cod=y\n",
    "     \n",
    "    def __str__(self):\n",
    "        return \"<{},{}>\".format(self.x_cod,self.y_cod)\n",
    "\n",
    "    def euclidean_distance(self,other):\n",
    "        #square root = 0.5 ((x1 -x2)**2 + (y1-y2)**2)**0.5 \n",
    "        return ((self.x_cod-other.x_cod)**2+(self.y_cod-other.y_cod)**2)**0.5\n",
    "\n",
    "    def distance_from_origin(self):\n",
    "        return (self.x_cod**2+self.y_cod**2)**0.5 #-> used instead of self.euclidean_distance in function\n",
    "        # return self.euclidean_distance(Point(0,0))\n",
    "\n",
    "\n",
    "class Line:\n",
    "    def __init__(self,A,B,C):\n",
    "        self.A=A\n",
    "        self.B=B\n",
    "        self.C=C\n",
    "    \n",
    "    def __str__(self):\n",
    "        return \"{}x + {}y + {} = 0\".format(self.A,self.B,self.C)\n",
    "\n",
    "    def point_on_line(Line,Point):\n",
    "        #(a*x + b*y + c == 0)\n",
    "        if Line.A*Point.x_cod + Line.B*Point.y_cod + Line.C == 0:\n",
    "            return \"lies on the line\"\n",
    "        else:\n",
    "            return \"does not lies on the line\"\n",
    "\n",
    "    def shortest_distance(self,line,p):\n",
    "        return abs(Line.*Point.x_cod + Line.B*Point.y_cod + Line.C)/(Line.A**2 + Line.B**2)**0.5\n",
    "        "
   ]
  },
  {
   "cell_type": "code",
   "execution_count": 53,
   "id": "1e3088b9-059d-4216-b551-65ec3dd1d4cb",
   "metadata": {},
   "outputs": [
    {
     "name": "stdout",
     "output_type": "stream",
     "text": [
      "Running Mode...\n",
      "1x + 1y + -2 = 0\n",
      "<1,2>\n",
      "\n",
      " does not lies on the line\n"
     ]
    }
   ],
   "source": [
    "l1=Line(1,1,-2)\n",
    "p1=Point(1,2)\n",
    "print(l1)\n",
    "print(p1)\n",
    "print(\"\\n\",l1.point_on_line(p1))\n"
   ]
  },
  {
   "cell_type": "code",
   "execution_count": 60,
   "id": "0579a97b-1a51-4e3e-9e76-6e0f6420e5d2",
   "metadata": {},
   "outputs": [
    {
     "ename": "TypeError",
     "evalue": "Line.shortest_distance() takes 1 positional argument but 2 were given",
     "output_type": "error",
     "traceback": [
      "\u001b[1;31m---------------------------------------------------------------------------\u001b[0m",
      "\u001b[1;31mTypeError\u001b[0m                                 Traceback (most recent call last)",
      "Cell \u001b[1;32mIn[60], line 1\u001b[0m\n\u001b[1;32m----> 1\u001b[0m l1\u001b[38;5;241m.\u001b[39mshortest_distance(p1)\n",
      "\u001b[1;31mTypeError\u001b[0m: Line.shortest_distance() takes 1 positional argument but 2 were given"
     ]
    }
   ],
   "source": [
    "l1.shortest_distance(p1)"
   ]
  },
  {
   "cell_type": "code",
   "execution_count": 32,
   "id": "3130eb37-5155-4640-a495-03b43a1c127e",
   "metadata": {},
   "outputs": [
    {
     "name": "stdout",
     "output_type": "stream",
     "text": [
      "3x + 4y + 5 = 0\n"
     ]
    }
   ],
   "source": [
    "l1=Line(3,4,5)\n",
    "print(l1)"
   ]
  },
  {
   "cell_type": "code",
   "execution_count": 24,
   "id": "058324e2-5485-406f-ad2c-1f67fcc23647",
   "metadata": {},
   "outputs": [
    {
     "name": "stdout",
     "output_type": "stream",
     "text": [
      "Running Mode...\n",
      "<2,12>\n",
      "Running Mode...\n",
      "<1,1>\n",
      "\n",
      "euclidean_distance is:  11.045361017187261\n",
      "distance from the origin:  12.165525060596439\n"
     ]
    }
   ],
   "source": [
    "p=Point(2,12)\n",
    "print(p)\n",
    "p1=Point(1,1)\n",
    "print(p1)\n",
    "print()\n",
    "print(\"euclidean_distance is: \",p.euclidean_distance(p1))\n",
    "print(\"distance from the origin: \",p.distance_from_origin())\n",
    "\n",
    "        "
   ]
  },
  {
   "cell_type": "code",
   "execution_count": null,
   "id": "6cc28da8-ea10-4f02-9905-28907100eae2",
   "metadata": {},
   "outputs": [],
   "source": []
  },
  {
   "cell_type": "code",
   "execution_count": 27,
   "id": "a0f43242-7c47-4f9b-bb00-921d6451709d",
   "metadata": {},
   "outputs": [
    {
     "name": "stdout",
     "output_type": "stream",
     "text": [
      "Nishant Male\n",
      "Nikita female\n",
      "Nidhi female\n",
      "chandan Male\n"
     ]
    }
   ],
   "source": [
    "class Person:\n",
    "    def __init__(self,name,gender):\n",
    "        self.name=name\n",
    "        self.gender=gender\n",
    "\n",
    "\n",
    "p1=Person(\"Nishant\",\"Male\")\n",
    "p2=Person(\"Nikita\",\"female\")\n",
    "p3=Person(\"Nidhi\",\"female\")\n",
    "p4=Person(\"chandan\",\"Male\")\n",
    "\n",
    "L=[p1,p2,p3,p4]\n",
    "for i in L:\n",
    "    print(i.name,i.gender)\n"
   ]
  },
  {
   "cell_type": "code",
   "execution_count": 35,
   "id": "de454bbd-e0f4-4096-9d40-6ea686f684be",
   "metadata": {},
   "outputs": [
    {
     "name": "stdout",
     "output_type": "stream",
     "text": [
      "Nidhi female\n",
      "Nishant Male\n",
      "chandan Male\n",
      "Nikita female\n"
     ]
    }
   ],
   "source": [
    "class Person:\n",
    "    def __init__(self,name,gender):\n",
    "        self.name=name\n",
    "        self.gender=gender\n",
    "\n",
    "\n",
    "p1=Person(\"Nishant\",\"Male\")\n",
    "p2=Person(\"Nikita\",\"female\")\n",
    "p3=Person(\"Nidhi\",\"female\")\n",
    "p4=Person(\"chandan\",\"Male\")\n",
    "\n",
    "d={p1,p2,p3,p4}\n",
    "for k in d:\n",
    "    print(k.name,k.gender)"
   ]
  },
  {
   "cell_type": "code",
   "execution_count": null,
   "id": "3e0d0091-de81-4be3-9c01-6b1bd6d119ec",
   "metadata": {},
   "outputs": [],
   "source": []
  },
  {
   "cell_type": "code",
   "execution_count": 44,
   "id": "1150a5e8-2837-4781-ada0-25a22d40bd3c",
   "metadata": {},
   "outputs": [],
   "source": [
    "class ATM: # ATM is class function\n",
    "    counter=1\n",
    "    \n",
    "    def __init__(self): # this is consturctor\n",
    "        print(\"Welcome to SBI ATM\")\n",
    "        self.balance=0 # variable under the constructor\n",
    "        self.PIN=0\n",
    "        self.cid=ATM.counter\n",
    "        ATM.counter+=1\n",
    "        # self.menu()\n",
    "\n",
    "    def menu(self): # menu is method as it is inside the class\n",
    "        user_input=input(\"\"\"\n",
    "        Hii How can i help you?\n",
    "        1. Press 1 for Create Pin\n",
    "        2. Press 2 for Change Pin\n",
    "        3. Press 3 for Withdraw Amount\n",
    "        4. press 4 for Check Balance\n",
    "        5. Anything else for Exit\n",
    "        \"\"\")\n",
    "        if user_input==\"1\":\n",
    "            self.Create_pin()\n",
    "        elif user_input==\"2\":\n",
    "            self.Pin_change()\n",
    "        elif user_input==\"3\":\n",
    "            self.withdraw()\n",
    "        elif user_input==\"4\":\n",
    "            self.check_balance()\n",
    "        else:\n",
    "            print(\"Exit.............\")\n",
    "\n",
    "    def Create_pin(self):\n",
    "        pin=int(input(\"enter your pin\"))\n",
    "        self.PIN=pin\n",
    "        self.balance=int(input(\"enter balance on your account\"))\n",
    "        print(\"Pin created successfully\")\n",
    "        self.menu()\n",
    "\n",
    "    def Pin_change(self):\n",
    "        old_pin=int(input(\"enter your old pin\"))\n",
    "        if old_pin==self.PIN:\n",
    "            new_pin=int(input(\"enter your new pin\"))\n",
    "            self.PIN=new_pin\n",
    "            print(\"PIN changed successfully\")\n",
    "            self.menu()\n",
    "        else:\n",
    "            print(\"Pin not matched\")\n",
    "            self.menu()\n",
    "       \n",
    "    def withdraw(self):\n",
    "        pin=int(input(\"enter your pin again\"))\n",
    "        if pin==self.PIN:\n",
    "            amount=int(input(\"enter withdraw amount\"))\n",
    "            if self.balance<0:\n",
    "                print(\"insufficent amaount\")\n",
    "                self.menu()\n",
    "            elif self.balance<amount:\n",
    "                print(self.balance,\"Rs. low balance\")\n",
    "                self.menu()\n",
    "            else:         \n",
    "                self.balance= self.balance-amount\n",
    "                print(\"Withdraw amount\", amount, \"\\ncurrent balance: \", self.balance,\"Rs.\")\n",
    "                self.menu()\n",
    "        else:\n",
    "            print(\"Pin not matched\")\n",
    "            self.menu()\n",
    "       \n",
    "    def check_balance(self):\n",
    "        pin=int(input(\"enter your pin again\"))\n",
    "        if pin==self.PIN:\n",
    "            print(\"current balace:\", self.balance,\"Rs.\")\n",
    "            self.menu()\n",
    "        else:\n",
    "            print(\"Pin not matched\")\n",
    "            self.menu()\n"
   ]
  },
  {
   "cell_type": "code",
   "execution_count": 45,
   "id": "039b94b2-feb1-4b6e-9b8b-1e2957e754c9",
   "metadata": {},
   "outputs": [
    {
     "name": "stdout",
     "output_type": "stream",
     "text": [
      "Welcome to SBI ATM\n"
     ]
    },
    {
     "data": {
      "text/plain": [
       "1"
      ]
     },
     "execution_count": 45,
     "metadata": {},
     "output_type": "execute_result"
    }
   ],
   "source": [
    "c1=ATM()\n",
    "c1.cid"
   ]
  },
  {
   "cell_type": "code",
   "execution_count": 46,
   "id": "d51e61ec-1159-4445-bf75-3e4ee63c5810",
   "metadata": {},
   "outputs": [
    {
     "name": "stdout",
     "output_type": "stream",
     "text": [
      "Welcome to SBI ATM\n"
     ]
    },
    {
     "data": {
      "text/plain": [
       "2"
      ]
     },
     "execution_count": 46,
     "metadata": {},
     "output_type": "execute_result"
    }
   ],
   "source": [
    "c2=ATM()\n",
    "c2.cid"
   ]
  },
  {
   "cell_type": "code",
   "execution_count": 47,
   "id": "e6234440-966a-4a2a-8dda-20b57e506e38",
   "metadata": {},
   "outputs": [
    {
     "name": "stdout",
     "output_type": "stream",
     "text": [
      "Welcome to SBI ATM\n"
     ]
    },
    {
     "data": {
      "text/plain": [
       "3"
      ]
     },
     "execution_count": 47,
     "metadata": {},
     "output_type": "execute_result"
    }
   ],
   "source": [
    "c3=ATM()\n",
    "c3.cid"
   ]
  },
  {
   "cell_type": "code",
   "execution_count": 49,
   "id": "b26bbb57-0f18-4c2e-9ad9-067ca6beb0a9",
   "metadata": {},
   "outputs": [
    {
     "name": "stdout",
     "output_type": "stream",
     "text": [
      "Welcome to SBI ATM\n"
     ]
    },
    {
     "data": {
      "text/plain": [
       "4"
      ]
     },
     "execution_count": 49,
     "metadata": {},
     "output_type": "execute_result"
    }
   ],
   "source": [
    "c4=ATM()\n",
    "c4.cid"
   ]
  },
  {
   "cell_type": "code",
   "execution_count": 50,
   "id": "153769a5-0b42-4b47-8264-2a4a0777b569",
   "metadata": {},
   "outputs": [
    {
     "data": {
      "text/plain": [
       "5"
      ]
     },
     "execution_count": 50,
     "metadata": {},
     "output_type": "execute_result"
    }
   ],
   "source": [
    "ATM.counter"
   ]
  },
  {
   "cell_type": "markdown",
   "id": "fc323c08-e3fd-439b-b352-393d91631e83",
   "metadata": {},
   "source": [
    "# agreegation (has a relationship)"
   ]
  },
  {
   "cell_type": "code",
   "execution_count": 67,
   "id": "23d70623-7d97-4a57-9af2-8a0fe3bd16a9",
   "metadata": {},
   "outputs": [
    {
     "name": "stdout",
     "output_type": "stream",
     "text": [
      "delhi 110042 delhi\n",
      "delhi 111111 maharastra\n"
     ]
    },
    {
     "data": {
      "text/plain": [
       "'delhi'"
      ]
     },
     "execution_count": 67,
     "metadata": {},
     "output_type": "execute_result"
    }
   ],
   "source": [
    "class Customer:\n",
    "    def __init__(self,name,gender,address):\n",
    "        self.name=name\n",
    "        self.gender=gender\n",
    "        self.address=address\n",
    "    \n",
    "    def print_address(self):\n",
    "        print(self.address.get_city(),self.address.pin,self.address.state)\n",
    "\n",
    "    def edit_profile(self,new_name,new_city,new_pin,new_state):\n",
    "        self.name = new_name\n",
    "        self.address.edit_address(new_city,new_pin,new_state)\n",
    "\n",
    "class Address:\n",
    "    def __init__(self,city,pin,state):\n",
    "        self.city=city\n",
    "        self.pin=pin\n",
    "        self.state=state\n",
    "\n",
    "    def get_city(self):\n",
    "        return self.city\n",
    "\n",
    "    def edit_address(self,new_city,new_pin,new_state):\n",
    "        self.__city = new_city\n",
    "        self.pin = new_pin\n",
    "        self.state = new_state\n",
    "\n",
    "\n",
    "ad1=Address(\"delhi\",110042,\"delhi\")\n",
    "cust=Customer(\"nishant\",\"male\",ad1)\n",
    "cust.print_address()\n",
    "\n",
    "cust.edit_profile('ankit','mumbai',111111,'maharastra')\n",
    "cust.print_address()\n",
    "\n",
    "ad1.get_city()"
   ]
  },
  {
   "cell_type": "code",
   "execution_count": 73,
   "id": "b09e354e-2893-4629-bfea-df9a32faf861",
   "metadata": {},
   "outputs": [],
   "source": [
    "class parent:\n",
    "    def __init__(self):\n",
    "        self.num=100\n",
    "\n",
    "class child(parent):\n",
    "    def __init__(self):\n",
    "        super().__init__()\n",
    "        self.var=200\n",
    "\n",
    "    def show(self):\n",
    "        print(self.num)\n",
    "        print(self.var)\n",
    "        "
   ]
  },
  {
   "cell_type": "code",
   "execution_count": 74,
   "id": "6e7fec28-392e-458b-982f-616ecc55274e",
   "metadata": {},
   "outputs": [],
   "source": [
    "c=child()"
   ]
  },
  {
   "cell_type": "code",
   "execution_count": 75,
   "id": "6a33d1a6-f26d-4d56-8ea1-87e5ef27fb98",
   "metadata": {},
   "outputs": [
    {
     "name": "stdout",
     "output_type": "stream",
     "text": [
      "100\n",
      "200\n"
     ]
    }
   ],
   "source": [
    "c.show()"
   ]
  },
  {
   "cell_type": "code",
   "execution_count": 76,
   "id": "13d36dd8-7444-4002-a6f1-f63b1afa5761",
   "metadata": {},
   "outputs": [
    {
     "name": "stdout",
     "output_type": "stream",
     "text": [
      "200\n"
     ]
    }
   ],
   "source": [
    "class parent:\n",
    "    def __init__(self):\n",
    "        self.num=100\n",
    "\n",
    "    def show(self):\n",
    "        print(\"parent:\", self.num)\n",
    "\n",
    "    \n",
    "class child(parent):\n",
    "    def __init__(self):\n",
    "        super().__init__()\n",
    "        self.var=200\n",
    "\n",
    "    def show(self):\n",
    "        print(self.var)\n",
    "\n",
    "obj=child()\n",
    "obj.show()"
   ]
  },
  {
   "cell_type": "code",
   "execution_count": 82,
   "id": "3ab83dd0-be6a-4566-be8a-ff4bfaf16043",
   "metadata": {},
   "outputs": [],
   "source": [
    "class A:\n",
    "    def m1(self):\n",
    "        return 20\n",
    "class B(A):\n",
    "    def m1(self):\n",
    "        return 30\n",
    "    def m2(self):\n",
    "        return 40\n",
    "class C(B):\n",
    "    def m2(self):\n",
    "        return 20"
   ]
  },
  {
   "cell_type": "code",
   "execution_count": 84,
   "id": "3e424359-9080-4ad5-b670-4ae94a35ff18",
   "metadata": {},
   "outputs": [
    {
     "name": "stdout",
     "output_type": "stream",
     "text": [
      "70\n"
     ]
    }
   ],
   "source": [
    "obj1=A()\n",
    "obj2=B()\n",
    "obj3=C()\n",
    "print(obj1.m1() + obj3.m1() + obj3.m2())\n",
    "# print(obj1.m1() + obj3.m1()+ obj3.m2())\n"
   ]
  },
  {
   "cell_type": "code",
   "execution_count": 1,
   "id": "6e5cd18b-f5f2-4726-a852-169f2851e8a5",
   "metadata": {},
   "outputs": [],
   "source": [
    "class A:\n",
    "    def m1(self):\n",
    "        return 20\n",
    "class B(A):\n",
    "    def m1(self):\n",
    "        val=super().m1()+30\n",
    "        return val\n",
    "class C(B):\n",
    "    def m1(self):\n",
    "        val=self.m1()+20\n",
    "        return val\n"
   ]
  },
  {
   "cell_type": "code",
   "execution_count": 2,
   "id": "a076a034-d698-476a-bd3b-866f13876c5e",
   "metadata": {},
   "outputs": [
    {
     "ename": "RecursionError",
     "evalue": "maximum recursion depth exceeded",
     "output_type": "error",
     "traceback": [
      "\u001b[1;31m---------------------------------------------------------------------------\u001b[0m",
      "\u001b[1;31mRecursionError\u001b[0m                            Traceback (most recent call last)",
      "Cell \u001b[1;32mIn[2], line 2\u001b[0m\n\u001b[0;32m      1\u001b[0m ob\u001b[38;5;241m=\u001b[39mC()\n\u001b[1;32m----> 2\u001b[0m \u001b[38;5;28mprint\u001b[39m(ob\u001b[38;5;241m.\u001b[39mm1())\n",
      "Cell \u001b[1;32mIn[1], line 10\u001b[0m, in \u001b[0;36mC.m1\u001b[1;34m(self)\u001b[0m\n\u001b[0;32m      9\u001b[0m \u001b[38;5;28;01mdef\u001b[39;00m \u001b[38;5;21mm1\u001b[39m(\u001b[38;5;28mself\u001b[39m):\n\u001b[1;32m---> 10\u001b[0m     val\u001b[38;5;241m=\u001b[39m\u001b[38;5;28mself\u001b[39m\u001b[38;5;241m.\u001b[39mm1()\u001b[38;5;241m+\u001b[39m\u001b[38;5;241m20\u001b[39m\n\u001b[0;32m     11\u001b[0m     \u001b[38;5;28;01mreturn\u001b[39;00m val\n",
      "Cell \u001b[1;32mIn[1], line 10\u001b[0m, in \u001b[0;36mC.m1\u001b[1;34m(self)\u001b[0m\n\u001b[0;32m      9\u001b[0m \u001b[38;5;28;01mdef\u001b[39;00m \u001b[38;5;21mm1\u001b[39m(\u001b[38;5;28mself\u001b[39m):\n\u001b[1;32m---> 10\u001b[0m     val\u001b[38;5;241m=\u001b[39m\u001b[38;5;28mself\u001b[39m\u001b[38;5;241m.\u001b[39mm1()\u001b[38;5;241m+\u001b[39m\u001b[38;5;241m20\u001b[39m\n\u001b[0;32m     11\u001b[0m     \u001b[38;5;28;01mreturn\u001b[39;00m val\n",
      "    \u001b[1;31m[... skipping similar frames: C.m1 at line 10 (2969 times)]\u001b[0m\n",
      "Cell \u001b[1;32mIn[1], line 10\u001b[0m, in \u001b[0;36mC.m1\u001b[1;34m(self)\u001b[0m\n\u001b[0;32m      9\u001b[0m \u001b[38;5;28;01mdef\u001b[39;00m \u001b[38;5;21mm1\u001b[39m(\u001b[38;5;28mself\u001b[39m):\n\u001b[1;32m---> 10\u001b[0m     val\u001b[38;5;241m=\u001b[39m\u001b[38;5;28mself\u001b[39m\u001b[38;5;241m.\u001b[39mm1()\u001b[38;5;241m+\u001b[39m\u001b[38;5;241m20\u001b[39m\n\u001b[0;32m     11\u001b[0m     \u001b[38;5;28;01mreturn\u001b[39;00m val\n",
      "\u001b[1;31mRecursionError\u001b[0m: maximum recursion depth exceeded"
     ]
    }
   ],
   "source": [
    "ob=C()\n",
    "print(ob.m1())"
   ]
  },
  {
   "cell_type": "code",
   "execution_count": 4,
   "id": "73b4fe6c-78f7-48be-b62e-8d457a264366",
   "metadata": {},
   "outputs": [
    {
     "name": "stdout",
     "output_type": "stream",
     "text": [
      "12.56\n",
      "12\n"
     ]
    }
   ],
   "source": [
    "class shape:\n",
    "    def area(self,a,b=0):\n",
    "        if b==0:\n",
    "            return 3.14*a*a\n",
    "        else:\n",
    "            return a*b\n",
    "\n",
    "s=shape()\n",
    "print(s.area(2))\n",
    "print(s.area(3,4))"
   ]
  },
  {
   "cell_type": "markdown",
   "id": "48b46387-c9a9-4855-b892-a6b5796090ab",
   "metadata": {},
   "source": [
    "# abstraction"
   ]
  },
  {
   "cell_type": "code",
   "execution_count": 5,
   "id": "6786c8b7-a7de-4299-ad62-fbf963472813",
   "metadata": {},
   "outputs": [],
   "source": [
    "from abc import ABC,abstractmethod"
   ]
  },
  {
   "cell_type": "code",
   "execution_count": 6,
   "id": "d466b112-8f99-4d65-88bc-6bd324910a39",
   "metadata": {},
   "outputs": [],
   "source": [
    "class bankapp(ABC):\n",
    "\n",
    "    def database(self):\n",
    "        print(\"connected to data base\")\n",
    "\n",
    "    @abstractmethod\n",
    "    def sercurity(self):\n",
    "        pass"
   ]
  },
  {
   "cell_type": "code",
   "execution_count": null,
   "id": "3cf09bd2-f646-450a-9e12-946c4e4f6126",
   "metadata": {},
   "outputs": [],
   "source": [
    "class "
   ]
  },
  {
   "cell_type": "code",
   "execution_count": null,
   "id": "00fd4e39-466a-4c44-b026-2f0b50fdf439",
   "metadata": {},
   "outputs": [],
   "source": []
  },
  {
   "cell_type": "code",
   "execution_count": null,
   "id": "806db02d-03d0-4c67-93ca-cf197ba2b096",
   "metadata": {},
   "outputs": [],
   "source": []
  },
  {
   "cell_type": "code",
   "execution_count": null,
   "id": "f2db2395-8614-4d65-b746-3c10ffd9039d",
   "metadata": {},
   "outputs": [],
   "source": []
  },
  {
   "cell_type": "code",
   "execution_count": null,
   "id": "242b8c03-29c3-46a5-8764-f409aebef76e",
   "metadata": {},
   "outputs": [],
   "source": []
  },
  {
   "cell_type": "code",
   "execution_count": null,
   "id": "6988a9b6-6edb-47b2-9318-323f65fe4aa8",
   "metadata": {},
   "outputs": [],
   "source": []
  },
  {
   "cell_type": "code",
   "execution_count": null,
   "id": "a20ba1b0-fed1-4654-8d7c-c1ce0d4f61b1",
   "metadata": {},
   "outputs": [],
   "source": []
  },
  {
   "cell_type": "code",
   "execution_count": null,
   "id": "75288152-e8dc-42a8-be21-ead441e2e212",
   "metadata": {},
   "outputs": [],
   "source": []
  },
  {
   "cell_type": "code",
   "execution_count": 1,
   "id": "4489e0f5-ec83-4538-9b03-8429ace67f43",
   "metadata": {},
   "outputs": [
    {
     "name": "stdout",
     "output_type": "stream",
     "text": [
      "Hello Welocome to NISHANT_BANK\n"
     ]
    },
    {
     "name": "stdin",
     "output_type": "stream",
     "text": [
      "Please Enter your Name=== nishant\n"
     ]
    },
    {
     "name": "stdout",
     "output_type": "stream",
     "text": [
      "***************Hello nishant Welcome********************\n",
      "Press-----\n",
      "D for Deposit   \n",
      "W for Withdraw \n",
      "E for Exit\n"
     ]
    },
    {
     "name": "stdin",
     "output_type": "stream",
     "text": [
      "Please Select  d\n",
      "please enter any amount to deposit== 12000\n"
     ]
    },
    {
     "name": "stdout",
     "output_type": "stream",
     "text": [
      "Now Your Balance is === 12000.0\n",
      "Press-----\n",
      "D for Deposit   \n",
      "W for Withdraw \n",
      "E for Exit\n"
     ]
    },
    {
     "name": "stdin",
     "output_type": "stream",
     "text": [
      "Please Select  w\n",
      "please enter any amount to whitdraw== 2000\n"
     ]
    },
    {
     "name": "stdout",
     "output_type": "stream",
     "text": [
      "Your withdrawal=== 2000.0 , Your Current Balance is== 10000.0\n",
      "Press-----\n",
      "D for Deposit   \n",
      "W for Withdraw \n",
      "E for Exit\n"
     ]
    },
    {
     "name": "stdin",
     "output_type": "stream",
     "text": [
      "Please Select  e\n"
     ]
    },
    {
     "name": "stdout",
     "output_type": "stream",
     "text": [
      "GoodBye Thanks for using this\n"
     ]
    },
    {
     "ename": "SystemExit",
     "evalue": "",
     "output_type": "error",
     "traceback": [
      "An exception has occurred, use %tb to see the full traceback.\n",
      "\u001b[1;31mSystemExit\u001b[0m\n"
     ]
    },
    {
     "name": "stderr",
     "output_type": "stream",
     "text": [
      "C:\\ProgramData\\anaconda3\\Lib\\site-packages\\IPython\\core\\interactiveshell.py:3561: UserWarning: To exit: use 'exit', 'quit', or Ctrl-D.\n",
      "  warn(\"To exit: use 'exit', 'quit', or Ctrl-D.\", stacklevel=1)\n"
     ]
    }
   ],
   "source": [
    "import sys\n",
    "class Bank:\n",
    "    \"\"\"------------------BANK---------------------\"\"\"\n",
    "    b_n = \"Nishant_Bank\"\n",
    "    def __init__(self,name,amnt=0.0):\n",
    "        self.name = name\n",
    "        self.amnt = amnt\n",
    "    def deposit(self,mny):\n",
    "        self.amnt = self.amnt+mny\n",
    "        print(\"Now Your Balance is ===\",self.amnt)\n",
    "    def collect(self,mny):\n",
    "        if mny>=self.amnt:\n",
    "            print(\"You Don't have money at all\")\n",
    "            sys.exit()\n",
    "        self.amnt = self.amnt - mny\n",
    "        print(\"Your withdrawal===\",mny,\",\",\"Your Current Balance is==\",self.amnt)\n",
    "print(\"Hello Welocome to NISHANT_BANK\")\n",
    "\n",
    "\n",
    "\n",
    "\n",
    "name = input(\"Please Enter your Name===\")\n",
    "\n",
    "my = Bank(name)\n",
    "print(\"***************Hello\",my.name,\"Welcome********************\")\n",
    "while True:\n",
    "    print(\"Press-----\\n\"\"D for Deposit   \\nW for Withdraw \\nE for Exit\" )\n",
    "    choose = input(\"Please Select \")\n",
    "    if choose ==\"d\" or choose == \"D\":\n",
    "        mny = float(input(\"please enter any amount to deposit==\"))\n",
    "        my.deposit(mny)\n",
    "    elif choose ==\"w\" or choose == \"W\":\n",
    "        mny = float(input(\"please enter any amount to whitdraw==\"))\n",
    "        my.collect(mny)\n",
    "    elif choose ==\"e\" or choose == \"E\":\n",
    "        \n",
    "        print(\"GoodBye Thanks for using this\")\n",
    "        sys.exit()\n",
    "    else:\n",
    "        print('Invalid option..Plz choose valid option')\n",
    "        \n"
   ]
  },
  {
   "cell_type": "code",
   "execution_count": null,
   "id": "55c54ee6-98b7-47ac-a98d-90e911050ce0",
   "metadata": {},
   "outputs": [],
   "source": []
  }
 ],
 "metadata": {
  "kernelspec": {
   "display_name": "Python 3 (ipykernel)",
   "language": "python",
   "name": "python3"
  },
  "language_info": {
   "codemirror_mode": {
    "name": "ipython",
    "version": 3
   },
   "file_extension": ".py",
   "mimetype": "text/x-python",
   "name": "python",
   "nbconvert_exporter": "python",
   "pygments_lexer": "ipython3",
   "version": "3.11.7"
  },
  "widgets": {
   "application/vnd.jupyter.widget-state+json": {
    "state": {},
    "version_major": 2,
    "version_minor": 0
   }
  }
 },
 "nbformat": 4,
 "nbformat_minor": 5
}
